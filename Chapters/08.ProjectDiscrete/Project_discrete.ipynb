{
 "cells": [
  {
   "cell_type": "markdown",
   "metadata": {},
   "source": [
    "# Project discrete optimization: transportation problem\n",
    "\n",
    "*Selected Topics in Mathematical Optimization*\n",
    "\n",
    "**Michiel Stock** ([email](michiel.stock@ugent.be))\n",
    "\n",
    "![](Figures/logo.png)"
   ]
  },
  {
   "cell_type": "markdown",
   "metadata": {},
   "source": [
    "YOUR NAME(S) HERE"
   ]
  },
  {
   "cell_type": "code",
   "execution_count": null,
   "metadata": {},
   "outputs": [],
   "source": [
    "import numpy as np\n",
    "import matplotlib.pyplot as plt\n",
    "from allocation import check_solution, generate_drunken_solution\n",
    "import json\n",
    "\n",
    "%matplotlib inline"
   ]
  },
  {
   "cell_type": "markdown",
   "metadata": {},
   "source": [
    "In this project we will study an allocation problem on a graphs, shown below.\n",
    "\n",
    "![A graph with source nodes with sources in green and sinks in red.](Figures/city_map.png)\n",
    "\n",
    "Every vertex has an integer identifier and is associated with an $(x,y)$ coordinate. Edges between the vertices are shown in grey. The weight of the edges is given by the Euclidean distance between the two points. In green, there are 1000 **sources** and in red there are 100 **sinks**. Every source contains one person who needs to travel to a sink. Every sink has room for ten persons. (You can think of this in terms of garbage collection, every sink has room for the garbage of ten persons.)\n",
    "\n",
    "The goal of this project is to find a transportation scheme that brings every person to a sink, such that no more than ten persons are at the same sink. **The total transportation cost, i.e. the total distance traveled by all persons has to be as low as possible.**"
   ]
  },
  {
   "cell_type": "code",
   "execution_count": null,
   "metadata": {},
   "outputs": [],
   "source": [
    "with open('Data/city.json', 'r') as fh:\n",
    "    data = json.load(fh)\n",
    "    \n",
    "coordinates = data['coordinates']\n",
    "edges = data['edges']\n",
    "vertices = set(data['vertices'])\n",
    "sources = set(data['sources'])\n",
    "sinks = set(data['sinks'])"
   ]
  },
  {
   "cell_type": "markdown",
   "metadata": {},
   "source": [
    "The main goal of this project is:\n",
    "\n",
    "> Find a transportation scheme for every source to a sink, such that only ten sources are linked to a given sink. The total transportation cost has to be as low as possible.\n",
    "\n",
    "Note that this is a constrained discrete optimization problem. There is (as far as I know) **no** algorithm to find the optimal solution efficiently. You will have to try some heuristics!"
   ]
  },
  {
   "cell_type": "markdown",
   "metadata": {},
   "source": [
    "Your solution is a `dict` object with (only) the sources as keys and the path from the source to a sink. Each path starts with the next vertex after the source (i.e. the starting vertex is not included) and ends in a source. There is function `checksolution` provided which check if 1) the solution is valid and 2) returns the total cost."
   ]
  },
  {
   "cell_type": "markdown",
   "metadata": {},
   "source": [
    "By means of an example, I have implemented a 'drunken walk' which provides a correct, though very suboptimal solution."
   ]
  },
  {
   "cell_type": "code",
   "execution_count": null,
   "metadata": {
    "scrolled": false
   },
   "outputs": [],
   "source": [
    "solution, cost = generate_drunken_solution()"
   ]
  },
  {
   "cell_type": "code",
   "execution_count": null,
   "metadata": {},
   "outputs": [],
   "source": [
    "solution"
   ]
  },
  {
   "cell_type": "code",
   "execution_count": null,
   "metadata": {
    "scrolled": true
   },
   "outputs": [],
   "source": [
    "check_solution(solution)"
   ]
  },
  {
   "cell_type": "markdown",
   "metadata": {},
   "source": [
    "You can use the code block below to save a solution in a json file."
   ]
  },
  {
   "cell_type": "code",
   "execution_count": null,
   "metadata": {
    "scrolled": true
   },
   "outputs": [],
   "source": [
    "with open(\"Data/my_crappy_initial_solition.json\", \"w\") as fh:\n",
    "    json.dump(solution, fh)"
   ]
  },
  {
   "cell_type": "markdown",
   "metadata": {},
   "source": [
    "**ASSIGNMENTS**\n",
    "\n",
    "Write code that generates a *good* solution. You have to use basic python code (using Numpy is fine).\n",
    "\n",
    "Visualize your solution!\n",
    "\n",
    "Hand in both the notebook with the code as well as the solution in JSON format. Better quality solutions will receive higher grades!"
   ]
  },
  {
   "cell_type": "markdown",
   "metadata": {},
   "source": [
    "Some guidelines for completing this project:\n",
    "\n",
    "- Write clear code with human-readable names and comments where needed. Add a (basic) docstring to all your functions.\n",
    "- Make clear figures with ax labels, titles etc.\n",
    "- Always provide some interpretation of the results.\n",
    "- You **can** recycle and modify code from earlier chapters or other sources. Clearly indicate where you obtained this code from (you can add a hyperlink to the original source)."
   ]
  },
  {
   "cell_type": "markdown",
   "metadata": {},
   "source": [
    "Finally, some hints that can help you do this project efficiently:\n",
    "\n",
    "- This is basically the Monge problem, which is NP hard...\n",
    "- Finding the shorted path from all sinks to all sources can be done in one step using a modification of Dijkstra's algorithm.\n",
    "- Working on a MST might simplify things...\n",
    "- The Sinkhorn algorithm can provide a solution where the discrete nature is relaxed.\n",
    "- Greedy approach might work well, metaheuristics will be needed for a really good solution."
   ]
  },
  {
   "cell_type": "markdown",
   "metadata": {},
   "source": [
    "## Project"
   ]
  },
  {
   "cell_type": "code",
   "execution_count": null,
   "metadata": {},
   "outputs": [],
   "source": [
    "# YOUR CODE, PLOTS AND NOTES GO HERE"
   ]
  },
  {
   "cell_type": "code",
   "execution_count": null,
   "metadata": {},
   "outputs": [],
   "source": []
  },
  {
   "cell_type": "code",
   "execution_count": null,
   "metadata": {},
   "outputs": [],
   "source": []
  },
  {
   "cell_type": "code",
   "execution_count": null,
   "metadata": {},
   "outputs": [],
   "source": []
  }
 ],
 "metadata": {
  "anaconda-cloud": {},
  "kernelspec": {
   "display_name": "Python 3",
   "language": "python",
   "name": "python3"
  },
  "language_info": {
   "codemirror_mode": {
    "name": "ipython",
    "version": 3
   },
   "file_extension": ".py",
   "mimetype": "text/x-python",
   "name": "python",
   "nbconvert_exporter": "python",
   "pygments_lexer": "ipython3",
   "version": "3.6.5"
  },
  "latex_envs": {
   "bibliofile": "biblio.bib",
   "cite_by": "apalike",
   "current_citInitial": 1,
   "eqLabelWithNumbers": true,
   "eqNumInitial": 0
  }
 },
 "nbformat": 4,
 "nbformat_minor": 1
}
