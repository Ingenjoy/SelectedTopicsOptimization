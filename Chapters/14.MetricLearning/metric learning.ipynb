{
 "cells": [
  {
   "cell_type": "markdown",
   "metadata": {
    "slideshow": {
     "slide_type": "slide"
    }
   },
   "source": [
    "# Metric learning\n",
    "\n",
    "*Selected Topics in Mathematical Optimization*\n",
    "\n",
    "**Bac Nguyen Cong** ([email](bac.nguyencong@ugent.be))"
   ]
  },
  {
   "cell_type": "code",
   "execution_count": null,
   "metadata": {
    "slideshow": {
     "slide_type": "skip"
    }
   },
   "outputs": [],
   "source": [
    "import matplotlib.pyplot as plt\n",
    "import pandas as pd\n",
    "import numpy as np\n",
    "import seaborn as sns\n",
    "from sklearn.datasets import load_wine\n",
    "from sklearn.decomposition import PCA\n",
    "from sklearn.model_selection import StratifiedKFold, cross_val_score\n",
    "from sklearn.neighbors import KNeighborsClassifier\n",
    "from sklearn.pipeline import Pipeline\n",
    "from collections import Counter\n",
    "from scipy.spatial.distance import mahalanobis\n",
    "\n",
    "\n",
    "from solution import NCA"
   ]
  },
  {
   "cell_type": "markdown",
   "metadata": {
    "slideshow": {
     "slide_type": "slide"
    }
   },
   "source": [
    "## 1. Exercise\n",
    "Implement a function that returns the objective function value and the corresponding gradient for NCA"
   ]
  },
  {
   "cell_type": "raw",
   "metadata": {},
   "source": [
    "from solution import NCA"
   ]
  },
  {
   "cell_type": "code",
   "execution_count": null,
   "metadata": {},
   "outputs": [],
   "source": [
    "class MyModel(NCA):\n",
    "    r\"\"\"Neighborhood Components Analysis(NCA).\n",
    "\n",
    "    NCA is a distance metric learning algorithm which aims to improve the\n",
    "    accuracy of nearest neighbors classification compared to the standard\n",
    "    Euclidean distance. The algorithm directly maximizes a stochastic variant\n",
    "    of the leave-one-out k-nearest neighbors(KNN) score on the training set.\n",
    "    It can also learn a low-dimensional linear transformation of data that can\n",
    "    be used for data visualization and fast classification.\n",
    "\n",
    "    \"\"\"    \n",
    "    def compute_gradient(self, A, X, y):\n",
    "        \"\"\"Compute the objective function value and gradients.\n",
    "\n",
    "        Args:\n",
    "            A (array-like, shape=[n_features * n_projected]):\n",
    "                The linear transformation matrix.\n",
    "            X (array-like, shape=[n_examples, n_features]): Training data.\n",
    "            y (array-like, shape=[n_examples]): Class labels\n",
    "                for each data sample.\n",
    "\n",
    "        Returns:\n",
    "            value (float): The objective function value.\n",
    "            grads (array-like, shape=[n_features * n_projected]): The\n",
    "                gradients.\n",
    "\n",
    "        \"\"\"\n",
    "        pass"
   ]
  },
  {
   "cell_type": "markdown",
   "metadata": {
    "slideshow": {
     "slide_type": "skip"
    }
   },
   "source": [
    "### Helper functions"
   ]
  },
  {
   "cell_type": "code",
   "execution_count": null,
   "metadata": {
    "scrolled": true,
    "slideshow": {
     "slide_type": "skip"
    }
   },
   "outputs": [],
   "source": [
    "def load_data():\n",
    "    data = load_wine()\n",
    "    X, y = data.data, data.target\n",
    "    return X, y\n",
    "\n",
    "\n",
    "def get_pipeline(ml_model):\n",
    "    \"\"\"Build a pipeline for testing the ml_model.\"\"\"\n",
    "    pipeline = Pipeline([\n",
    "        ('Feature', ml_model),\n",
    "        ('Classifer', KNeighborsClassifier(n_neighbors=3))\n",
    "    ])\n",
    "    return pipeline\n",
    "\n",
    "\n",
    "def score_solution(ml_model):\n",
    "    # load data\n",
    "    X, y = load_data()\n",
    "    \n",
    "    # build the pipeline\n",
    "    model = get_pipeline(ml_model)\n",
    "    \n",
    "    # compute cross validation\n",
    "    cv = StratifiedKFold(n_splits=10, random_state=123456789)\n",
    "    scores = cross_val_score(model, X, y, cv=cv)\n",
    "    print('Accuracy %2.2f%c' % (scores.mean()*100, '%'))\n",
    "    \n",
    "    return scores\n",
    "\n",
    "\n",
    "def visualize(ml_model):\n",
    "    X, y = load_data()\n",
    "    \n",
    "    # visualize the data in 2D\n",
    "    X_embedded = ml_model.fit_transform(X, y)\n",
    "    data_map = pd.DataFrame({'x': X_embedded[:, 0], 'y': X_embedded[:, 1], 'Class': y})\n",
    "    sns.scatterplot(x=\"x\", y=\"y\", hue=\"Class\", data=data_map)\n",
    "\n",
    "    plt.show()"
   ]
  },
  {
   "cell_type": "markdown",
   "metadata": {
    "slideshow": {
     "slide_type": "slide"
    }
   },
   "source": [
    "## 2. Test your solution"
   ]
  },
  {
   "cell_type": "markdown",
   "metadata": {
    "slideshow": {
     "slide_type": "subslide"
    }
   },
   "source": [
    "Print the accuracy"
   ]
  },
  {
   "cell_type": "code",
   "execution_count": null,
   "metadata": {
    "scrolled": true,
    "slideshow": {
     "slide_type": "subslide"
    }
   },
   "outputs": [],
   "source": [
    "nca_model = NCA(n_components=2, verbose=False)\n",
    "score = score_solution(nca_model)"
   ]
  },
  {
   "cell_type": "markdown",
   "metadata": {},
   "source": [
    "Compare the result using PCA"
   ]
  },
  {
   "cell_type": "code",
   "execution_count": null,
   "metadata": {},
   "outputs": [],
   "source": [
    "pca_model = PCA(n_components=2)\n",
    "score = score_solution(pca_model)"
   ]
  },
  {
   "cell_type": "markdown",
   "metadata": {
    "slideshow": {
     "slide_type": "subslide"
    }
   },
   "source": [
    "Visualize the outputs"
   ]
  },
  {
   "cell_type": "code",
   "execution_count": null,
   "metadata": {
    "scrolled": true,
    "slideshow": {
     "slide_type": "subslide"
    }
   },
   "outputs": [],
   "source": [
    "nca_model = NCA(n_components=2)\n",
    "pca_model = PCA(n_components=2)\n",
    "\n",
    "visualize(nca_model)\n",
    "visualize(pca_model)"
   ]
  },
  {
   "cell_type": "markdown",
   "metadata": {},
   "source": [
    "## 3. Recipe dataset\n",
    "\n",
    "We will illustrate metric learning on the [recipes dataset](https://www.nature.com/articles/srep00196). This is a collection of recipes (set of ingredients used) annotated with the country of origin. We will build a distance function to measure if two collections of recipes likely have a similar country of origin or not.\n",
    "\n",
    "For an illustration of a machine learning project using this data, see our [paper](https://www.sciencedirect.com/science/article/abs/pii/S0924224415002873)."
   ]
  },
  {
   "cell_type": "code",
   "execution_count": null,
   "metadata": {
    "scrolled": false
   },
   "outputs": [],
   "source": [
    "recipes = pd.read_csv(\"recipe_data.csv\", sep=';')\n",
    "recipes.head()"
   ]
  },
  {
   "cell_type": "markdown",
   "metadata": {},
   "source": [
    "Let us separate the ingredients."
   ]
  },
  {
   "cell_type": "code",
   "execution_count": null,
   "metadata": {
    "scrolled": false
   },
   "outputs": [],
   "source": [
    "ingredients = recipes.columns[1:]\n",
    "\n",
    "X = recipes.values[:,1:]\n",
    "X = np.array(X, dtype=int)\n",
    "\n",
    "for ingredient in ingredients:\n",
    "    print(ingredient)"
   ]
  },
  {
   "cell_type": "markdown",
   "metadata": {},
   "source": [
    "We define two useful functions:\n",
    "\n",
    "- `ingr2vec` maps a set of ingredients to a binary vector\n",
    "- `vec2ingr` maps a binary vector to a set of ingedients"
   ]
  },
  {
   "cell_type": "code",
   "execution_count": null,
   "metadata": {},
   "outputs": [],
   "source": [
    "ingr2vec = lambda ingr_set : np.array([1 if ingr in ingr_set else 0 for ingr in ingredients])\n",
    "vec2ingr = lambda vec : set(ingredients[vec>0])"
   ]
  },
  {
   "cell_type": "code",
   "execution_count": null,
   "metadata": {
    "scrolled": true
   },
   "outputs": [],
   "source": [
    "v = ingr2vec((\"coriander\", \"fish\", \"garlic\"))\n",
    "v"
   ]
  },
  {
   "cell_type": "code",
   "execution_count": null,
   "metadata": {
    "scrolled": true
   },
   "outputs": [],
   "source": [
    "vec2ingr(v)"
   ]
  },
  {
   "cell_type": "markdown",
   "metadata": {},
   "source": [
    "We also separate the countries!"
   ]
  },
  {
   "cell_type": "code",
   "execution_count": null,
   "metadata": {
    "scrolled": true
   },
   "outputs": [],
   "source": [
    "countries = recipes[\"Country\"]\n",
    "Counter(countries)"
   ]
  },
  {
   "cell_type": "markdown",
   "metadata": {},
   "source": [
    "Now fit the model!"
   ]
  },
  {
   "cell_type": "code",
   "execution_count": null,
   "metadata": {},
   "outputs": [],
   "source": [
    "nca = NCA(n_components=...)\n",
    "nca.fit(...)"
   ]
  },
  {
   "cell_type": "code",
   "execution_count": null,
   "metadata": {
    "scrolled": true
   },
   "outputs": [],
   "source": [
    "M = pd.DataFrame(nca.return_M(), index=ingredients, columns=ingredients)\n",
    "M"
   ]
  },
  {
   "cell_type": "code",
   "execution_count": null,
   "metadata": {},
   "outputs": [],
   "source": [
    "L = pd.DataFrame(nca.return_L(), index=ingredients)\n",
    "L"
   ]
  },
  {
   "cell_type": "code",
   "execution_count": null,
   "metadata": {},
   "outputs": [],
   "source": [
    "recipedist = lambda recipe1, recipe2 : mahalanobis(ingr2vec(recipe1), ingr2vec(recipe2), M)"
   ]
  },
  {
   "cell_type": "code",
   "execution_count": null,
   "metadata": {},
   "outputs": [],
   "source": [
    "recipedist((\"fish\", \"musterd\", \"shallot\"), (\"chicken\", \"musterd\", \"vinegar\"))"
   ]
  },
  {
   "cell_type": "code",
   "execution_count": null,
   "metadata": {
    "scrolled": true
   },
   "outputs": [],
   "source": [
    "recipedist((\"fish\", \"musterd\", \"shallot\"), (\"chicken\", \"coconut\", \"coriander\"))"
   ]
  },
  {
   "cell_type": "code",
   "execution_count": null,
   "metadata": {
    "scrolled": true
   },
   "outputs": [],
   "source": [
    "recipedist((\"fish\", \"musterd\", \"shallot\"), (\"vanilla\", \"coconut\", \"cream\"))"
   ]
  },
  {
   "cell_type": "markdown",
   "metadata": {},
   "source": [
    "**Assignments**\n",
    "\n",
    "1. Fit an NCA model to the recipes data.\n",
    "2. Perform an interpretation of $L$ and $M$, which ingredients are (dis)similar?\n",
    "3. Make a biplot of the ingredients and make a scatter plot of the recipes based on the learned space.\n",
    "4. Find two recipes which differ with only one ingredient, but have an *as large as possible* Mahalanobis distance between them.\n",
    "5. Find two recipes which differ with *two* ingredient, but have an *as small as possible* Mahalanobis distance between them."
   ]
  },
  {
   "cell_type": "code",
   "execution_count": null,
   "metadata": {},
   "outputs": [],
   "source": []
  }
 ],
 "metadata": {
  "@webio": {
   "lastCommId": null,
   "lastKernelId": null
  },
  "kernelspec": {
   "display_name": "Python 3",
   "language": "python",
   "name": "python3"
  },
  "language_info": {
   "codemirror_mode": {
    "name": "ipython",
    "version": 3
   },
   "file_extension": ".py",
   "mimetype": "text/x-python",
   "name": "python",
   "nbconvert_exporter": "python",
   "pygments_lexer": "ipython3",
   "version": "3.6.7"
  }
 },
 "nbformat": 4,
 "nbformat_minor": 2
}
