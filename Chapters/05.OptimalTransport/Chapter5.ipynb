{
 "cells": [
  {
   "cell_type": "markdown",
   "metadata": {},
   "source": [
    "# Optimal transport\n",
    "\n",
    "*Selected Topics in Mathematical Optimization*\n",
    "\n",
    "**Michiel Stock** ([email](michiel.stock@ugent.be))\n",
    "\n",
    "![](Figures/logo.png)"
   ]
  },
  {
   "cell_type": "code",
   "execution_count": null,
   "metadata": {},
   "outputs": [],
   "source": [
    "from optimal_transport import red, green, orange, yellow, blue, black\n",
    "import matplotlib.pyplot as plt\n",
    "import numpy as np\n",
    "from optimal_transport import pairwise_distances\n",
    "%matplotlib inline"
   ]
  },
  {
   "cell_type": "markdown",
   "metadata": {},
   "source": [
    "## Cell tracking\n",
    "\n",
    "In a microscopy imaging experiment we monitor ten moving cells at time $t_1$ and some time later at time $t_2$. Between these times, the cells have moved. An image processing algorithm determined the coordinates of every cell in the two images. We want to know which cell in the first corresponds to the second image. To this end, search the assignment that minimizes the sum of the squared Euclidian distances between cells from the first image versus the corresponding cell of the second image.\n",
    "\n",
    "1. `X1` and `X2` contain the $x,y$ coordinates of the cells for the two images. Compute the matrix $C$ containing the pairwise squared Euclidean distance. You can use the function `pairwise_distances` from `sklearn`.\n",
    "2. Complete the function `monge_brute_force` to use brute-force search for the best permutation.\n",
    "3. Make a plot connecting the cells."
   ]
  },
  {
   "cell_type": "code",
   "execution_count": null,
   "metadata": {},
   "outputs": [],
   "source": [
    "from cell_tracking import X1, X2, plot_cells"
   ]
  },
  {
   "cell_type": "code",
   "execution_count": null,
   "metadata": {},
   "outputs": [],
   "source": [
    "# all permutations can easily be generated in python\n",
    "from itertools import permutations\n",
    "\n",
    "for perm in permutations([1, 2, 3]):\n",
    "    print(perm)"
   ]
  },
  {
   "cell_type": "code",
   "execution_count": null,
   "metadata": {},
   "outputs": [],
   "source": [
    "fig, ax = plot_cells(X1, X2)"
   ]
  },
  {
   "cell_type": "code",
   "execution_count": null,
   "metadata": {},
   "outputs": [],
   "source": [
    "def monge_brute_force(C):\n",
    "    \"\"\"\n",
    "    Solves the Monge assignment problem using\n",
    "    brute force.\n",
    "\n",
    "    Inputs:\n",
    "        - C: cost matrix (square, size n x n)\n",
    "\n",
    "    Outputs:\n",
    "        - best_perm: optimal assigments (list of n indices matching the rows\n",
    "                to the columns)\n",
    "        - best_cost: optimal cost corresponding to the best permutation\n",
    "\n",
    "    DO NOT USE FOR PROBLEMS OF A SIZE LARGER THAN 12!!!\n",
    "    \"\"\"\n",
    "    n, m = C.shape\n",
    "    assert n==m  # C should be square\n",
    "    best_perm = None\n",
    "    best_cost = np.inf\n",
    "    # loop over all permutations and to find the\n",
    "    # matching with the lowest cost\n",
    "    return best_perm, best_cost"
   ]
  },
  {
   "cell_type": "code",
   "execution_count": null,
   "metadata": {},
   "outputs": [],
   "source": [
    "from optimal_transport import monge_brute_force"
   ]
  },
  {
   "cell_type": "code",
   "execution_count": null,
   "metadata": {},
   "outputs": [],
   "source": [
    "# get the cost matrix (i.e. pairwise squared\n",
    "# Euclidean distances between the cells at the different times)\n",
    "\n",
    "C = ..."
   ]
  },
  {
   "cell_type": "code",
   "execution_count": null,
   "metadata": {},
   "outputs": [],
   "source": [
    "# get matching\n",
    "\n",
    "best_perm, best_cost = monge_brute_force(C)"
   ]
  },
  {
   "cell_type": "code",
   "execution_count": null,
   "metadata": {},
   "outputs": [],
   "source": [
    "# make a plot with the connections of the cells"
   ]
  },
  {
   "cell_type": "markdown",
   "metadata": {},
   "source": [
    "## Cell differentiation\n",
    "\n",
    "Three types of cells are cultured together. At $t_1$ we know the expression of some cells of every type (two genes). After some time $t_2$, the cells have multiplied are have differentiated somewhat. A new gene expression analysis is done for a set of cells from the culture (without information about the type). How did the expression change for every type?\n",
    "\n",
    "1. Link the cells from the two time points using OT. Use Sinkhorn with $\\lambda=10$ and squared Euclidean distance for cost.\n",
    "2. Plot the mapping (use the \\texttt{alpha} argument to set the shade of a color).\n",
    "3. Compute the `drift' (difference in average gene expression) in gene expression for every cell type. "
   ]
  },
  {
   "cell_type": "code",
   "execution_count": null,
   "metadata": {},
   "outputs": [],
   "source": [
    "# X1 and X2 are gene expressions for the cells at time 1 and 2\n",
    "# y1 is the indicator of the type of cells, only known at t1\n",
    "from cell_differentiation import X1, X2, y1, plot_cells"
   ]
  },
  {
   "cell_type": "code",
   "execution_count": null,
   "metadata": {},
   "outputs": [],
   "source": [
    "fig, ax = plt.subplots()\n",
    "plot_cells(ax)"
   ]
  },
  {
   "cell_type": "code",
   "execution_count": null,
   "metadata": {},
   "outputs": [],
   "source": [
    "def compute_optimal_transport(C, a, b, lam, epsilon=1e-8,\n",
    "                verbose=False, return_iterations=False):\n",
    "    \"\"\"\n",
    "    Computes the optimal transport matrix and Slinkhorn distance using the\n",
    "    Sinkhorn-Knopp algorithm\n",
    "\n",
    "    Inputs:\n",
    "        - C : cost matrix (n x m)\n",
    "        - a : vector of marginals (n, )\n",
    "        - b : vector of marginals (m, )\n",
    "        - lam : strength of the entropic regularization\n",
    "        - epsilon : convergence parameter\n",
    "        - verbose : report number of steps while running\n",
    "        - return_iterations : report number of iterations till convergence,\n",
    "                default False\n",
    "\n",
    "    Output:\n",
    "        - P : optimal transport matrix (n x m)\n",
    "        - dist : Sinkhorn distance\n",
    "        - n_iterations : number of iterations, if `return_iterations` is set to\n",
    "                        True\n",
    "    \"\"\"\n",
    "    n, m = C.shape\n",
    "    P = np.exp(- lam * C)\n",
    "    iteration = 0\n",
    "    while True:\n",
    "        iteration += 1\n",
    "        u = P.sum(1)  # marginals of rows\n",
    "        max_deviation = np.max(np.abs(u - a))\n",
    "        if verbose: print('Iteration {}: max deviation={}'.format(\n",
    "                            iteration, max_deviation\n",
    "                        ))\n",
    "        if max_deviation < epsilon:\n",
    "            break\n",
    "        # scale rows\n",
    "        ...\n",
    "        # scale columns\n",
    "        ...\n",
    "    if return_iterations:\n",
    "        return P, np.sum(P * C), iteration\n",
    "    else:\n",
    "        return P, np.sum(P * C)"
   ]
  },
  {
   "cell_type": "code",
   "execution_count": null,
   "metadata": {},
   "outputs": [],
   "source": [
    "from optimal_transport import compute_optimal_transport"
   ]
  },
  {
   "cell_type": "code",
   "execution_count": null,
   "metadata": {},
   "outputs": [],
   "source": [
    "# get the cost matrix (i.e. pairwise squared\n",
    "# Euclidean distances of the expression vectors\n",
    "# of the cells at the different times)\n",
    "\n",
    "C = ..."
   ]
  },
  {
   "cell_type": "code",
   "execution_count": null,
   "metadata": {},
   "outputs": [],
   "source": [
    "# get matching\n",
    "P, _ = compute_optimal_transport(..."
   ]
  },
  {
   "cell_type": "code",
   "execution_count": null,
   "metadata": {},
   "outputs": [],
   "source": [
    "# plot the cells with the mapping between the times"
   ]
  },
  {
   "cell_type": "code",
   "execution_count": null,
   "metadata": {},
   "outputs": [],
   "source": [
    "# compute the drift (average change in gene expression\n",
    "# for different classes between the two time points)"
   ]
  },
  {
   "cell_type": "markdown",
   "metadata": {},
   "source": [
    "## Illustration: color transfer\n",
    "\n",
    "This is a demonstration of a simple color transfer using optimal transport."
   ]
  },
  {
   "cell_type": "code",
   "execution_count": null,
   "metadata": {},
   "outputs": [],
   "source": [
    "from optimal_transport import compute_optimal_transport\n",
    "from skimage import io\n",
    "from sklearn.cluster import MiniBatchKMeans as KMeans\n",
    "from sklearn.preprocessing import StandardScaler\n",
    "from collections import Counter\n",
    "from sklearn.metrics.pairwise import pairwise_distances\n",
    "import seaborn as sns\n",
    "sns.set_style('white')"
   ]
  },
  {
   "cell_type": "code",
   "execution_count": null,
   "metadata": {},
   "outputs": [],
   "source": [
    "# change as you see fit!\n",
    "image_name1 = 'Figures/butterfly3.jpg'\n",
    "image_name2 = 'Figures/butterfly2.jpg'\n",
    "\n",
    "n_clusters = 400"
   ]
  },
  {
   "cell_type": "code",
   "execution_count": null,
   "metadata": {},
   "outputs": [],
   "source": [
    "def clip_image(im):\n",
    "    \"\"\"\n",
    "    Clips an image such that its values are between 0 and 255\n",
    "    \"\"\"\n",
    "    return np.maximum(0, np.minimum(im, 255))\n",
    "\n",
    "class Image():\n",
    "    \"\"\"simple class to work with an image\"\"\"\n",
    "    def __init__(self, image_name, n_clusters=100, use_location=True):\n",
    "        super(Image, self).__init__()\n",
    "        self.image = io.imread(image_name) + 0.0\n",
    "        self.shape = self.image.shape\n",
    "        n, m, _ = self.shape\n",
    "        X = self.image.reshape(-1, 3)\n",
    "        if use_location:\n",
    "            col_indices = np.repeat(np.arange(n), m).reshape(-1,1)\n",
    "            row_indices = np.tile(np.arange(m), n).reshape(-1,1)\n",
    "        #self.standardizer = StandardScaler()\n",
    "        #self.standardizer.fit_transform(\n",
    "            self.X = np.concatenate([X, row_indices, col_indices], axis=1)\n",
    "        else: self.X = X\n",
    "        self.kmeans = KMeans(n_clusters=n_clusters)\n",
    "        self.kmeans.fit(self.X)\n",
    "\n",
    "    def compute_clusted_image(self, center_colors=None):\n",
    "        \"\"\"\n",
    "        Returns the image with the pixels changes by their cluster center\n",
    "\n",
    "        If center_colors is provided, uses these for the clusters, otherwise use\n",
    "        centers computed by K-means.\n",
    "        \"\"\"\n",
    "        clusters = self.kmeans.predict(self.X)\n",
    "        if center_colors is None:\n",
    "            X_transformed = self.kmeans.cluster_centers_[clusters,:3]\n",
    "        else:\n",
    "            X_transformed = center_colors[clusters,:3]\n",
    "        return clip_image(X_transformed).reshape(self.shape)\n",
    "\n",
    "    def get_color_distribution(self):\n",
    "        \"\"\"\n",
    "        Returns the distribution of the colored pixels\n",
    "\n",
    "        Returns:\n",
    "            - counts : number of pixels in each cluster\n",
    "            - centers : colors of every cluster center\n",
    "        \"\"\"\n",
    "        clusters = self.kmeans.predict(self.X)\n",
    "        count_dict = Counter(clusters)\n",
    "        counts = np.array([count_dict[i] for i in range(len(count_dict))],\n",
    "                        dtype=float)\n",
    "        centers = self.kmeans.cluster_centers_\n",
    "        return counts, clip_image(centers[:,:3])\n",
    "\n",
    "print('loading and clustering images...')\n",
    "image1 = Image(image_name1, n_clusters=n_clusters)\n",
    "image2 = Image(image_name2, n_clusters=n_clusters)\n",
    "\n",
    "r, X1 = image1.get_color_distribution()\n",
    "c, X2 = image2.get_color_distribution()\n"
   ]
  },
  {
   "cell_type": "code",
   "execution_count": null,
   "metadata": {},
   "outputs": [],
   "source": [
    "print('loading and clustering images...')\n",
    "image1 = Image(image_name1, n_clusters=n_clusters)\n",
    "image2 = Image(image_name2, n_clusters=n_clusters)\n",
    "\n",
    "r, X1 = image1.get_color_distribution()\n",
    "c, X2 = image2.get_color_distribution()\n",
    "\n",
    "C = pairwise_distances(X1, X2, metric=\"sqeuclidean\")"
   ]
  },
  {
   "cell_type": "code",
   "execution_count": null,
   "metadata": {},
   "outputs": [],
   "source": [
    "print('performing optimal transport...')\n",
    "P, d = compute_optimal_transport(C, r/r.sum(), c/c.sum(), 1e-2)\n",
    "\n",
    "sns.clustermap(P, row_colors=X1/255, col_colors=X2/255,\n",
    "        yticklabels=[], xticklabels=[])\n",
    "plt.savefig('Figures/color_mapping.png')"
   ]
  },
  {
   "cell_type": "code",
   "execution_count": null,
   "metadata": {},
   "outputs": [],
   "source": [
    "print('computing and plotting color distributions...')\n",
    "X1to2 = P.sum(1)**-1 * P @ X2\n",
    "X2to1 = P.sum(0)**-1 * P.T @ X1\n",
    "\n",
    "fig, axes = plt.subplots(nrows=2, ncols=2, figsize=(10, 10))\n",
    "axes[0, 0].imshow(image1.image/255)\n",
    "axes[0, 1].imshow(image2.image/255)\n",
    "\n",
    "axes[1, 0].imshow(image1.compute_clusted_image(X1to2)/255)\n",
    "axes[1, 1].imshow(image2.compute_clusted_image(X2to1)/255)\n",
    "\n",
    "for ax in axes.flatten():\n",
    "    ax.set_xticks([])\n",
    "    ax.set_yticks([])"
   ]
  },
  {
   "cell_type": "code",
   "execution_count": null,
   "metadata": {},
   "outputs": [],
   "source": []
  }
 ],
 "metadata": {
  "anaconda-cloud": {},
  "kernelspec": {
   "display_name": "Python 3",
   "language": "python",
   "name": "python3"
  },
  "language_info": {
   "codemirror_mode": {
    "name": "ipython",
    "version": 3
   },
   "file_extension": ".py",
   "mimetype": "text/x-python",
   "name": "python",
   "nbconvert_exporter": "python",
   "pygments_lexer": "ipython3",
   "version": "3.6.5"
  }
 },
 "nbformat": 4,
 "nbformat_minor": 2
}
