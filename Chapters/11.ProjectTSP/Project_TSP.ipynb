{
 "cells": [
  {
   "cell_type": "markdown",
   "metadata": {},
   "source": [
    "# Project 'hard problems': traveling salesman problem\n",
    "\n",
    "*Selected Topics in Mathematical Optimization*\n",
    "\n",
    "**Michiel Stock** ([email](michiel.stock@ugent.be))\n",
    "\n",
    "![](Figures/logo.png)"
   ]
  },
  {
   "cell_type": "markdown",
   "metadata": {},
   "source": [
    "YOUR NAME(S) HERE"
   ]
  },
  {
   "cell_type": "code",
   "execution_count": null,
   "metadata": {},
   "outputs": [],
   "source": [
    "# everything you need for the TSP!\n",
    "from tsp_utils import *\n",
    "\n",
    "%matplotlib inline"
   ]
  },
  {
   "cell_type": "markdown",
   "metadata": {},
   "source": [
    "## The traveling salesman problem\n",
    "\n",
    "> **Traveling salesman problem (TSP)**: Given a list of cities and the distances between each pair of cities, find\n",
    "the *tour* with the lowest possible total cost that visits each city exactly once and returns to\n",
    "the origin city.\n",
    "\n",
    "- $n$ cities $x_1,\\ldots,x_n$.\n",
    "- Cost matrix $C[x_i, x_j]$ (possibly symmetric and/or triangle inequality).\n",
    "- Search space is all permutations of cities: size of $(n-1)!$.\n",
    "- Objective function: sum of costs of the paths."
   ]
  },
  {
   "cell_type": "markdown",
   "metadata": {},
   "source": [
    "For this problem, the 'cities' are represented as points on the 2D plane. The $x,y$-coordinates are stored in the Numpy array `coordinates` and the distances between two cities are found in the Numpy array `distances`."
   ]
  },
  {
   "cell_type": "code",
   "execution_count": null,
   "metadata": {
    "scrolled": true
   },
   "outputs": [],
   "source": [
    "coordinates[:10]"
   ]
  },
  {
   "cell_type": "code",
   "execution_count": null,
   "metadata": {},
   "outputs": [],
   "source": [
    "n = len(coordinates)\n",
    "print('There are {} cities.'.format(n))"
   ]
  },
  {
   "cell_type": "code",
   "execution_count": null,
   "metadata": {
    "scrolled": true
   },
   "outputs": [],
   "source": [
    "distances[:10,:10]"
   ]
  },
  {
   "cell_type": "markdown",
   "metadata": {},
   "source": [
    "Cities are referred by their respective index.  A tour is implemented as a list of the permutation of the indices of $n$ cities, e.g. `[0, 1, 2, ..., n-1]`. Note that the cost is invariant w.r.t. cyclic permutations, i.e. the cost is the same independent from which city the tour starts."
   ]
  },
  {
   "cell_type": "code",
   "execution_count": null,
   "metadata": {},
   "outputs": [],
   "source": [
    "tour = list(range(n))\n",
    "\n",
    "tour"
   ]
  },
  {
   "cell_type": "markdown",
   "metadata": {},
   "source": [
    "Some simple function are provided to compute the length of a given tour and to plot the cities and a tour."
   ]
  },
  {
   "cell_type": "code",
   "execution_count": null,
   "metadata": {},
   "outputs": [],
   "source": [
    "cost = compute_tour_cost(tour, distances)\n",
    "print('Cost of tour is {:.3f}'.format(cost))\n",
    "\n",
    "fig, ax = plt.subplots(figsize=(8, 8))\n",
    "plot_cities(ax, coordinates, color=blue)  # plot cities as a scatter plot\n",
    "plot_tour(ax, tour, coordinates, distances, color=red, title=True)  # add the tour"
   ]
  },
  {
   "cell_type": "markdown",
   "metadata": {},
   "source": [
    "A tour can be saved and loaded in a JSON file. You have to hand in your best tour!"
   ]
  },
  {
   "cell_type": "code",
   "execution_count": null,
   "metadata": {},
   "outputs": [],
   "source": [
    "save_tour('Data/my_tour.json', tour)\n",
    "\n",
    "loaded_tour = load_tour('Data/my_tour.json')"
   ]
  },
  {
   "cell_type": "code",
   "execution_count": null,
   "metadata": {},
   "outputs": [],
   "source": [
    "!rm Data/my_tour.json"
   ]
  },
  {
   "cell_type": "markdown",
   "metadata": {},
   "source": [
    "## Assignments\n",
    "\n",
    "Implement *two* heuristic algorithms for finding a low-cost tour:\n",
    "\n",
    "- write a report in the notebook discussing your strategy and the final results;\n",
    "- embed the code with sufficient documentation;\n",
    "- plot your final best tour in your notebook with the total cost."
   ]
  },
  {
   "cell_type": "markdown",
   "metadata": {},
   "source": [
    "## Project"
   ]
  },
  {
   "cell_type": "markdown",
   "metadata": {},
   "source": [
    "DESCRIBE YOUR STRATEGY"
   ]
  },
  {
   "cell_type": "code",
   "execution_count": null,
   "metadata": {},
   "outputs": [],
   "source": [
    "# CELLS FOR CODE!\n",
    "# TINY EXAMPLE FROM MICHIEL\n",
    "\n",
    "import itertools as it\n",
    "\n",
    "def yield_some_permutations(tour, mtry):\n",
    "    \"\"\"\n",
    "    Yields mtry permutations of a tour.\n",
    "    \"\"\"\n",
    "    count = 0\n",
    "    for perm in it.permutations(tour):\n",
    "        yield perm\n",
    "        count += 1\n",
    "        if count > mtry:\n",
    "            break\n",
    "\n",
    "def lazy_brute_force(distances, mtry=10000):\n",
    "    n, _ = distances.shape\n",
    "    return min(yield_some_permutations(list(range(n)), mtry),\n",
    "                key=lambda t : compute_tour_cost(t, distances))"
   ]
  },
  {
   "cell_type": "code",
   "execution_count": null,
   "metadata": {},
   "outputs": [],
   "source": [
    "%%time\n",
    "\n",
    "best_tour = lazy_brute_force(distances, mtry=10000)"
   ]
  },
  {
   "cell_type": "code",
   "execution_count": null,
   "metadata": {},
   "outputs": [],
   "source": [
    "cost = compute_tour_cost(best_tour, distances)\n",
    "print('Cost of tour is {:.3f}'.format(cost))  # improvement!\n",
    "\n",
    "fig, ax = plt.subplots(figsize=(8, 8))\n",
    "plot_cities(ax, coordinates, color=blue)  # plot cities as a scatter plot\n",
    "plot_tour(ax, best_tour, coordinates, distances, color=orange, title=True)  # add the tour"
   ]
  },
  {
   "cell_type": "markdown",
   "metadata": {},
   "source": [
    "DESCRIBE YOUR RESULTS"
   ]
  }
 ],
 "metadata": {
  "anaconda-cloud": {},
  "kernelspec": {
   "display_name": "Python 3",
   "language": "python",
   "name": "python3"
  },
  "language_info": {
   "codemirror_mode": {
    "name": "ipython",
    "version": 3
   },
   "file_extension": ".py",
   "mimetype": "text/x-python",
   "name": "python",
   "nbconvert_exporter": "python",
   "pygments_lexer": "ipython3",
   "version": "3.6.5"
  },
  "latex_envs": {
   "bibliofile": "biblio.bib",
   "cite_by": "apalike",
   "current_citInitial": 1,
   "eqLabelWithNumbers": true,
   "eqNumInitial": 0
  }
 },
 "nbformat": 4,
 "nbformat_minor": 1
}
