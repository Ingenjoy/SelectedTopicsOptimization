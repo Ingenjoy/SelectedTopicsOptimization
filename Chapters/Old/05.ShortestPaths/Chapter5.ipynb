{
 "cells": [
  {
   "cell_type": "markdown",
   "metadata": {},
   "source": [
    "# Chapter 5: Shortest path algorithms\n",
    "\n",
    "\n",
    "*Selected Topics in Mathematical Optimization*\n",
    "\n",
    "*2016-2017*\n",
    "\n",
    "**Bernard De Baets**\n",
    "\n",
    "**Michiel Stock**\n",
    "\n",
    "**Raúl Pérez-Fernández**"
   ]
  },
  {
   "cell_type": "code",
   "execution_count": null,
   "metadata": {
    "collapsed": true
   },
   "outputs": [],
   "source": [
    "import matplotlib.pyplot as plt\n",
    "%matplotlib inline\n",
    "import numpy as np"
   ]
  },
  {
   "cell_type": "markdown",
   "metadata": {},
   "source": [
    "## Representing graphs in Python\n",
    "\n",
    "Graphs are discrete mathematical objects, represented as a tuple $G=(V, E)$ with $V$ the set of vertices (nodes, points) and $E$ the set of edges (links, arcs, lines) that connect the vertices.\n",
    "\n",
    "Consider for example the graph below.\n",
    "\n",
    "![A directed unweighted graph](Figures/unweighted_graph.png)\n",
    "\n",
    "This graph contains five edges: A, B, C, D and E and nine vertices. Since each of the vertices has a direction from one node to another so we call this a **directed graph**.\n",
    "\n",
    "Like most programming languages, Python does not provide direct support for graphs a data types. Graphs can however be represented by [**dictionaries**](https://docs.python.org/2/tutorial/datastructures.html#dictionaries). Dictionaries in Python store key-value pairs in a way such that accessing, insertion and deletion of new elements can be done very efficiently. The keys will represent the edges, while its associated values is the set of vertices to which depart from this node.\n",
    "\n",
    "For example, the unweighted graph above is represented bij the following code."
   ]
  },
  {
   "cell_type": "code",
   "execution_count": null,
   "metadata": {
    "collapsed": true
   },
   "outputs": [],
   "source": [
    "unweighted_graph = {'A' : set(['B']),\n",
    "                   'B' : set(['C']),\n",
    "                   'C' : set(['A', 'B', 'E']),\n",
    "                   'D' : set(['A']),\n",
    "                   'E' : set(['D', 'D'])  # set data structure only contains unique elements\n",
    "                   }                     # only one node will be retained"
   ]
  },
  {
   "cell_type": "markdown",
   "metadata": {},
   "source": [
    "Note that we store the outgoing vertices in a [**set**](https://docs.python.org/2/tutorial/datastructures.html#sets) data structure. This will allow us to perform certain operations faster. Note that of the two vertices starting for E only one is retained. "
   ]
  },
  {
   "cell_type": "code",
   "execution_count": null,
   "metadata": {
    "collapsed": false
   },
   "outputs": [],
   "source": [
    "unweighted_graph['E']"
   ]
  },
  {
   "cell_type": "markdown",
   "metadata": {},
   "source": [
    "In this chapter, we will focus on algorithms that process **weighted graphs**, i.e. graphs on which the vertices have a weight. For example:\n",
    "![A weighted directed graph](Figures/weighted_graph.png)\n",
    "We will store each vertex now as a tuple containing the weight and the edge it is connected to. For this example:"
   ]
  },
  {
   "cell_type": "code",
   "execution_count": null,
   "metadata": {
    "collapsed": false
   },
   "outputs": [],
   "source": [
    "weighted_graph = {'A' : set([(3, 'B')]),\n",
    "                   'B' : set([(2, 'C')]),\n",
    "                   'C' : set([(6, 'A'), (1, 'B'), (0.3, 'E')]),\n",
    "                   'D' : set([(9, 'A')]),\n",
    "                   'E' : set([(2.8, 'D'), (4.1, 'D'), (4.2, 'E')])  # two paths from E -> D\n",
    "                    }"
   ]
  },
  {
   "cell_type": "markdown",
   "metadata": {},
   "source": [
    "Storing a weighted vertex as `(weight, outgoing node)` has the advantage that the native `sort()` function in Python can be used to order vertices by weight, something which will be useful in the algorithms we will implement."
   ]
  },
  {
   "cell_type": "markdown",
   "metadata": {},
   "source": [
    "## Priority queues using heapq\n",
    "\n",
    "In order to efficiently implement the algorithms from this chapter, we will need to make use of a **priority queue**. A priority queue is a data structure which is perhaps most easily explained using a small example.\n",
    "\n",
    "A professor receives an enormous number of e-mails during the day. Because he cannot respond to them all into detail, the professor witholds only the 50 most important mails and processes them in the evening. Consider the following algorithm the prof might use to mananage his set of important mails during the day."
   ]
  },
  {
   "cell_type": "code",
   "execution_count": null,
   "metadata": {
    "collapsed": false
   },
   "outputs": [],
   "source": [
    "from random import random\n",
    "\n",
    "# simulate 10000 e-mails\n",
    "# each e-mail is represented by an 'importance' and \n",
    "# an indice (the number of the mail)\n",
    "emails = [(random(), i) for i in range(10000)]\n",
    "\n",
    "# first five mails\n",
    "emails[:5]"
   ]
  },
  {
   "cell_type": "code",
   "execution_count": null,
   "metadata": {
    "collapsed": false
   },
   "outputs": [],
   "source": [
    "# retain the 50 most important mails using sort\n",
    "\n",
    "def top_k_sorted(k=50):\n",
    "    top_set = [(-1e10, -1) for i in range(k)]  # initialize the to respond list\n",
    "    for importance, id in emails:\n",
    "        # assume that the least important mail is on position 0\n",
    "        if top_set[0][0] < importance:\n",
    "            top_set[0] = (importance, id)  # replace least important mail\n",
    "            top_set.sort()  # sort\n",
    "    return top_set\n",
    "\n",
    "top_k_sorted()"
   ]
  },
  {
   "cell_type": "markdown",
   "metadata": {},
   "source": [
    "Taking a closer look, this routine is very wasteful of the time of the poor professor! Each time he updates his list of to-respond mails, he has to completely sort it so that he can easily access his least important mail. Sorting a list has a time complexity of $\\mathcal{O}(n\\log(n))$ for a list of $n$ elements. Sorting the complete list is overkill, as the professor wants the most important mails of the list.\n",
    "\n",
    "A more clever data structure for these types of tasks is a [**heap**](https://docs.python.org/2/library/heapq.html). A heap is a partially sorted list such that `heap[k] <= heap[2*k+1]` and `heap[k] <= heap[2*k+2]` for all `k`."
   ]
  },
  {
   "cell_type": "markdown",
   "metadata": {},
   "source": [
    "A heap is based on the idea of a tournament, as represented below (number represent indices, not values). \n",
    "\n",
    "```\n",
    "                               0\n",
    "\n",
    "              1                                 2\n",
    "\n",
    "      3               4                5               6\n",
    "\n",
    "  7       8       9       10      11      12      13      14\n",
    "\n",
    "15 16   17 18   19 20   21 22   23 24   25 26   27 28   29 30\n",
    "```\n",
    "A list `a` that satisfies the heap property always has that `a[0] < a[1]` and `a[0] < a[2]`, while `a[1] < a[3]` and `a[1] < a[4]` etc.\n",
    "\n",
    "The following operations can be done using a heap:\n",
    "- `heappush`: adding an item to the heap while maintaining the heap property ($\\mathcal{O}(\\log(n))$)\n",
    "- `heapop`: removing the item with the lowest value while maintaining the heap property ($\\mathcal{O}(\\log(n))$)\n",
    "- `heappushpop`: replacing the item with the lowest value by another item while maintaining the heap property ($\\mathcal{O}(\\log(n))$)\n",
    "- peeking: looking the item at position 0, which has the lowest value ($\\mathcal{O}(1)$)\n",
    "\n",
    "Heaps are implemented in `heapq` in Python. Consider our example."
   ]
  },
  {
   "cell_type": "code",
   "execution_count": null,
   "metadata": {
    "collapsed": false
   },
   "outputs": [],
   "source": [
    "from heapq import heappop, heappush, heappushpop\n",
    "\n",
    "def top_k_heaped(k=50):\n",
    "    top_set = [(-1e10, -1) for i in range(k)]  # initialize the to respond list\n",
    "    for importance, id in emails:\n",
    "        # assume that the least important mail is on position 0\n",
    "        if top_set[0][0] < importance:\n",
    "            # replace least important mail while maintaining the heap property\n",
    "            heappushpop(top_set, (importance, id))  \n",
    "    return top_set\n",
    "\n",
    "top_k_heaped()"
   ]
  },
  {
   "cell_type": "markdown",
   "metadata": {},
   "source": [
    "Both algorithms return the same list of e-mails, though using a heap to implement a priority queue is more efficient in resources."
   ]
  },
  {
   "cell_type": "code",
   "execution_count": null,
   "metadata": {
    "collapsed": false
   },
   "outputs": [],
   "source": [
    "%timeit top_k_sorted()"
   ]
  },
  {
   "cell_type": "code",
   "execution_count": null,
   "metadata": {
    "collapsed": false
   },
   "outputs": [],
   "source": [
    "%timeit top_k_heaped()"
   ]
  },
  {
   "cell_type": "markdown",
   "metadata": {},
   "source": [
    "## Dijkstra's shortest path algorithm"
   ]
  },
  {
   "cell_type": "markdown",
   "metadata": {},
   "source": [
    "Dijkstra's algorithm is a popular algorithm to find the shortest path between the nodes of a graph. The algorithm can be used in two ways:\n",
    "\n",
    "- when both a source and a sink node are provided, the algorithm gives the list of nodes of the shortest path, together with the length (distance of the path).\n",
    "- when only a source is given, the shortest distance between the source and all (accessable) nodes is returned together with a dictionary representing the tree of the shortest paths between the source and other nodes.\n",
    "\n",
    "The pseudocode can be found below."
   ]
  },
  {
   "cell_type": "markdown",
   "metadata": {},
   "source": [
    "### Pseudocode of Dijkstra's shortest path algorithm\n",
    "Source: Wikipedia.org\n",
    "```\n",
    "1  function Dijkstra(Graph, source, sink (optional)):\n",
    "2      distance[source] := 0  // initialize a dictionary with distance\n",
    "3                             // to source\n",
    "4      for each vertex V in Graph: \n",
    "5          if V ≠ source\n",
    "6              distance[V] := infinity\n",
    "7      previous := empty dict   // stores the previous node in path\n",
    "8\n",
    "10     make empty priority queue Q for vertices to check\n",
    "11     Q.add_with_priority(source, 0)  # first check the source\n",
    "12\n",
    "13\n",
    "14     while Q is not empty:                     // The main loop\n",
    "15         get node U with smallest distance from Q\n",
    "16         if U is the sink (if provided) \n",
    "17              break the loop\n",
    "17         for every neighbor V of U:\n",
    "18             alternative := distance[U] + dist(U, V)\n",
    "18             if alternative < distance[V]\n",
    "19                 distance[V] := alternative\n",
    "20                 previous[V] := U\n",
    "21                 Q.add_with_priority(V, alternative)\n",
    "22\n",
    "23     if sink is given\n",
    "24         reconstruct shortest path\n",
    "25         return shortest path and length of path\n",
    "26     else\n",
    "27         return distance, previous\n",
    "```"
   ]
  },
  {
   "cell_type": "markdown",
   "metadata": {},
   "source": [
    "### Pseudocode of path reconstruction  algorithm\n",
    "```\n",
    "1 function reconstruct_path(previous, source, sink)\n",
    "2    if the source is not in previous\n",
    "3          return empty path\n",
    "4    V := sink   \\\\ path is reconstructed backwards\n",
    "5    path := [V]  \\\\ path is a list of nodes\n",
    "6    while V is not source\n",
    "7         V := previous node in path\n",
    "8         add V in beginning of the path\n",
    "9    return the path\n",
    "```"
   ]
  },
  {
   "cell_type": "code",
   "execution_count": null,
   "metadata": {
    "collapsed": true
   },
   "outputs": [],
   "source": [
    "from numpy import inf\n",
    "\n",
    "def dijkstra(graph, source, sink=None):\n",
    "    \"\"\"\n",
    "    Implementation of Dijkstra's shortest path algorithm\n",
    "    Inputs:\n",
    "        - graph : dict representing the weighted graph\n",
    "        - source : the source node\n",
    "        - sink : the sink node (optional)\n",
    "    Ouput:\n",
    "        - distance : dict with the distances of the nodes to the source\n",
    "        - came_from : dict with for each node the came_from node in the shortest\n",
    "                    path from the source\n",
    "    \"\"\"\n",
    "    # COMPLETE THIS\n",
    "    \n",
    "    if sink is None:\n",
    "        return distance, came_from\n",
    "    else:\n",
    "        return reconstruct_path(came_from, source, sink), distance[sink]"
   ]
  },
  {
   "cell_type": "code",
   "execution_count": null,
   "metadata": {
    "collapsed": true
   },
   "outputs": [],
   "source": [
    "def reconstruct_path(came_from, source, sink):\n",
    "    \"\"\"\n",
    "    Reconstruct the path from the output of the Dijkstra algorithm\n",
    "    Inputs:\n",
    "            - came_from : a dict with the came_from node in the path\n",
    "            - source : the source node\n",
    "            - sink : the sink node\n",
    "    Ouput:\n",
    "            - the shortest path from source to sink (list)\n",
    "    \"\"\"\n",
    "    if sink not in came_from:\n",
    "        return []\n",
    "    # COMPLETE THIS\n",
    "    return path"
   ]
  },
  {
   "cell_type": "markdown",
   "metadata": {},
   "source": [
    "**Assignment 1: Dijkstra**\n",
    "\n",
    "1. Complete the implementation for Dijstra's algorithm and the path reconstruction function\n",
    "2. Find the shortest path from node A to I in the example graph below. Calculate the shortest distance from A to any other node. Compare both running times with `%timeit`.\n",
    "\n",
    "![Example network](Figures/example_graph.png)"
   ]
  },
  {
   "cell_type": "code",
   "execution_count": null,
   "metadata": {
    "collapsed": true
   },
   "outputs": [],
   "source": [
    "# the above graph as an adjacency list\n",
    "graph = {'A' : set([(2, 'B'), (3, 'D')]),\n",
    "        'B' : set([(1, 'C'), (5, 'E')]),\n",
    "        'C' : set([(2, 'D'), (1, 'E')]),\n",
    "        'D' : set([(3, 'E')]),\n",
    "        'E' : set([(2, 'B'), (3, 'F')]),\n",
    "        'F' : set([(5, 'G'), (8, 'I')]),\n",
    "        'G' : set([(2, 'H'), (5, 'I')]),\n",
    "        'H' : set([(3, 'I')]),\n",
    "        'I' : []}"
   ]
  },
  {
   "cell_type": "code",
   "execution_count": null,
   "metadata": {
    "collapsed": false
   },
   "outputs": [],
   "source": [
    "dijkstra(graph, 'A', 'I')"
   ]
  },
  {
   "cell_type": "code",
   "execution_count": null,
   "metadata": {
    "collapsed": false
   },
   "outputs": [],
   "source": [
    "dijkstra(graph, 'A')"
   ]
  },
  {
   "cell_type": "code",
   "execution_count": null,
   "metadata": {
    "collapsed": false
   },
   "outputs": [],
   "source": [
    "%timeit dijkstra(graph, 'A', 'I')"
   ]
  },
  {
   "cell_type": "code",
   "execution_count": null,
   "metadata": {
    "collapsed": false
   },
   "outputs": [],
   "source": [
    "%timeit dijkstra(graph, 'A')"
   ]
  },
  {
   "cell_type": "markdown",
   "metadata": {},
   "source": [
    "## A* shortest path algorithm"
   ]
  },
  {
   "cell_type": "markdown",
   "metadata": {},
   "source": [
    "It is hard to explain the algorithm into more depth than [here](http://theory.stanford.edu/~amitp/GameProgramming/) and [here](http://www.redblobgames.com/pathfinding/a-star/introduction.html)."
   ]
  },
  {
   "cell_type": "markdown",
   "metadata": {},
   "source": [
    "Dijkstra's algorithm is guaranteed to find a shortest path on any (positively weighted) graph. But because no assumptions are made of the nature of the graph, Dijkstra's algorithm cannot exploit prior knowledge to speed up its search. Consider the problem of finding a shortest path on a grid using Dijkstra.\n",
    "\n",
    "![Dijkstra's algorithm for grid with no obstacles.](Figures/Dijkstra.png)\n",
    "\n",
    "In the figure above, it is clear that Dijkstra searches very inefficient: it tries to expand its seach horizon around the starting point in order to find the shortest path. Consider a 'greedy' algorithm which always tries to move as close to the goal as possible.\n",
    "\n",
    "![Greedy search for grid with no obstacles.](Figures/best-first-search.png)\n",
    "\n",
    "Much better! The algorithm always moves in the right direction. What happens when a direct path between the starting position and the goal is not possible?\n",
    "\n",
    "![Dijkstra's algorithm for grid with an obstacle.](Figures/dijkstra-trap.png)\n",
    "\n",
    "Dijkstra is guaranteed to find the optimal path, but again only after much exploring! Let us see of the greedy algorithm again fares better.\n",
    "\n",
    "![Greedy search for grid with an obstacle.](Figures/best-first-search-trap.png)\n",
    "\n",
    "We see again that the greedy algorithm does much less searching, but this time the path that is returned is not the shortest!"
   ]
  },
  {
   "cell_type": "markdown",
   "metadata": {},
   "source": [
    "The A\\* algorithm lets us have the best of both worlds: it is exact (like Dijkstra's algorithm), but it can also use a **heuristic** to speed up the search. In each iteration, the next neighbor $n$ of the current node that the algorithm considers is chosen based on the heuristic\n",
    "\n",
    "$$\n",
    "f(n) = g(n) + h(n)\n",
    "$$\n",
    "\n",
    "with $g(n)$ the cost of the path so far and $h(n)$ a heuristic that estimates the cost of the cost of the shortest path from $n$ to the goal. The heuristic $h(n)$ should satify two properties:\n",
    "1. To guaranty that a shortest path is found, the heuristic should be **admissible**, i.e. it should never overestimate the true distance to goal.\n",
    "2. Evaluating the heuristic should be cheap (it is either pre-computed or is a function).\n",
    "\n",
    "So the A\\* algorithm is basically the same as Dijkstra's algorithm, but with the main difference that the the latter chooses nodes to explore based on the distance from the starting node, while the latter chooses nodes **based on an estimate of distance to the goal**."
   ]
  },
  {
   "cell_type": "markdown",
   "metadata": {},
   "source": [
    "When using A\\* to find the shortest path between two physical locations, each node corresponds to a point in space. A good heuristic is the (Euclidian) distance between the nodes, as this will always be a lower bound for the actual distance to travel to the goal.\n",
    "\n",
    "Consider the following example of finding the path from node $a$ to node $h$.\n",
    "\n",
    "![Example how A\\* uses the heuristics](Figures/astarexample.png)\n",
    "\n",
    "The shortest path so far is $[a, e]$ and the algorithm needs to choose to explore node $d$ or node $g$. Since the path of $ed$ is shorter than the path $eg$, Dijkstra will choose this node, even though it is farther removed from the goal $h$ (Dijkstra chooses a neighbor $n$ only based on the current path length form the starting node $g(n)$. The A\\* algorithm will chose node $g$ to explore, because the estimated path length $f(e) = g(e) + h(e) > f(d)$ and hence will approach the goal. "
   ]
  },
  {
   "cell_type": "markdown",
   "metadata": {},
   "source": [
    "### Pseudocode of A\\* shortest path algorithm\n",
    "Source from Wikipedia (modified)\n",
    "```\n",
    "1  function Astar(Graph, source, sink, heuristic):\n",
    "2      make empty priority queue Q for vertices to check\n",
    "3      \n",
    "4      add source to Q with priority f(source)\n",
    "5          // use the estimated path length for priority\n",
    "6              \n",
    "7      distance[V] := 0   // initialize a dictionary with distance\n",
    "8                           // to source\n",
    "9      previous := empty dict   // stores the previous node in path\n",
    "10\n",
    "11     while Q is not empty:                     // The main loop\n",
    "12         pop node U with lowest estimated path length to sink\n",
    "13         if U is the sink\n",
    "14              break the loop\n",
    "15         for every neighbor V of U:\n",
    "16             distance_source_U := distance[U] + dist(U, V)\n",
    "17             if V not in distance or distance_source_U < distance[V]\n",
    "18                 distance[V] := distance_source_U\n",
    "19                 previous[V] := U\n",
    "20                 heuristic_V_sink := distance[V] + g(V)\n",
    "21                 Q.add_with_priority(V, heuristic_V_sink)\n",
    "22\n",
    "23     reconstruct shortest path\n",
    "24     return shortest path and length of path\n",
    "```"
   ]
  },
  {
   "cell_type": "markdown",
   "metadata": {},
   "source": [
    "#### Representation of the graphs for physical locations\n",
    "\n",
    "For the assignments above, we will work with graphs representing paths on a two-dimensional plane. \n",
    "\n",
    "Each node or location is a point on this plane, e.g. $(x_i, y_i)$. An edge or link between two locations is a tuple of two points: $((x_i, y_i),(x_j, y_j))$. In the link representation, the network is represented as just a list of these links. For example:"
   ]
  },
  {
   "cell_type": "code",
   "execution_count": null,
   "metadata": {
    "collapsed": false
   },
   "outputs": [],
   "source": [
    "from parcour_tools import add_path, load_links, plot_parcour, links_to_graph\n",
    "\n",
    "links_example = [((1, 1), (1, 3)), ((1, 1), (2, 2)), ((1,3), (2, 2)),\n",
    "                ((2, 2), (3, 1)), ((2, 2), (3, 3)), ((3, 1), (3, 3))]"
   ]
  },
  {
   "cell_type": "markdown",
   "metadata": {},
   "source": [
    "Using the function ```links_to_graph``` we can change these links in the more familiar dictionary-based representation."
   ]
  },
  {
   "cell_type": "code",
   "execution_count": null,
   "metadata": {
    "collapsed": false
   },
   "outputs": [],
   "source": [
    "graph_example = links_to_graph(links_example)\n",
    "print(graph_example)"
   ]
  },
  {
   "cell_type": "markdown",
   "metadata": {},
   "source": [
    "Which can be visualized using ```plot_parcour``` and we can use the function ```add_path``` to draw a path."
   ]
  },
  {
   "cell_type": "code",
   "execution_count": null,
   "metadata": {
    "collapsed": false
   },
   "outputs": [],
   "source": [
    "fig, ax = plt.subplots()\n",
    "plot_parcour(links_example, ax, line_width=20)  # uses the links representation as an input!\n",
    "ax.set_ylim([0.5, 3.5])\n",
    "ax.set_xlim([0.5, 3.5])\n",
    "\n",
    "path_example = [(1, 1), (1, 3), (2, 2), (3, 1), (3, 3)]\n",
    "add_path(path_example, ax, color='green')"
   ]
  },
  {
   "cell_type": "markdown",
   "metadata": {},
   "source": [
    "**Assignment 2: A\\***\n",
    "\n",
    "1. Complete the implementation for the A\\* algorithm.\n",
    "2. Some parcours and mazes are given. Use A\\* and Dijkstra to find the shortest paths between the lower left corner to the upper right corner. Use the function ```add_path``` to add the path to the figure.\n",
    "3. Compare running time of the two shortest path algorithms using ```%timeit```."
   ]
  },
  {
   "cell_type": "code",
   "execution_count": null,
   "metadata": {
    "collapsed": true
   },
   "outputs": [],
   "source": [
    "# functions for computing distances\n",
    "manhattan_distance = lambda x, y : sum([abs(xi - yi) for xi, yi in zip(x, y)])\n",
    "euclidian_distance = lambda x, y : sum([(xi - yi)**2 for xi, yi in zip(x, y)])**0.5"
   ]
  },
  {
   "cell_type": "code",
   "execution_count": null,
   "metadata": {
    "collapsed": true
   },
   "outputs": [],
   "source": [
    "def a_star(graph, source, sink, heuristic):\n",
    "    \"\"\"\n",
    "    Implementation of the A* shortest path algorithm\n",
    "    Inputs:\n",
    "        - graph : dict representing the graph\n",
    "        - source : the source node\n",
    "        - sink : the sink node (optional)\n",
    "        - heuristic : a function with the heuristic for the shortest path between two nodes\n",
    "    Ouput:\n",
    "        - distance : dict with the distances of the nodes to the source\n",
    "        - came_from : dict with for each node the previous node in the shortest\n",
    "                    path from the source\n",
    "    \"\"\"\n",
    "    # COMPLETE THIS\n",
    "    return"
   ]
  },
  {
   "cell_type": "code",
   "execution_count": null,
   "metadata": {
    "collapsed": false
   },
   "outputs": [],
   "source": [
    "# a parcour, white lines are the routes that can be followed\n",
    "# find the shortest path from (0, 0) to (99, 99)\n",
    "parcour = load_links('Data/large_parcour.csv')\n",
    "\n",
    "fig, ax = plt.subplots(figsize=(15, 15))\n",
    "\n",
    "plot_parcour(parcour, ax)\n",
    "parcour_graph = links_to_graph(parcour)\n",
    "\n",
    "path_dijkstra, length_dijstra = dijkstra(parcour_graph, (0, 0), (99, 99))\n",
    "add_path(path_dijkstra, ax, 'red')\n",
    "\n",
    "path_astar, length_astar = a_star #...\n",
    "add_path(path_astar, ax, 'blue')"
   ]
  },
  {
   "cell_type": "code",
   "execution_count": null,
   "metadata": {
    "collapsed": false
   },
   "outputs": [],
   "source": [
    "%timeit path_dijkstra, length_dijstra = dijkstra(parcour_graph, (0, 0), (99, 99))"
   ]
  },
  {
   "cell_type": "code",
   "execution_count": null,
   "metadata": {
    "collapsed": false
   },
   "outputs": [],
   "source": [
    "%timeit path_astar, length_astar = a_star(parcour_graph, (0, 0), (99, 99), manhattan_distance)"
   ]
  },
  {
   "cell_type": "code",
   "execution_count": null,
   "metadata": {
    "collapsed": false
   },
   "outputs": [],
   "source": [
    "# a small maze, white lines are the routes that can be followed\n",
    "# find the shortest path from (0, 0) to (99, 99)\n",
    "small_maze = load_links('Data/small_maze.csv')\n",
    "\n",
    "fig, ax = plt.subplots(figsize=(10, 10))\n",
    "\n",
    "plot_parcour(small_maze, ax, line_width=15)\n",
    "maze_graph = links_to_graph(small_maze)\n",
    "\n",
    "path_dijkstra, length_dijstra = dijkstra(maze_graph, (0, 0), (19, 19))\n",
    "add_path(path_dijkstra, ax, 'red')\n",
    "\n",
    "path_astar, length_astar = a_star #...\n",
    "add_path(path_astar, ax, 'blue')"
   ]
  },
  {
   "cell_type": "code",
   "execution_count": null,
   "metadata": {
    "collapsed": false
   },
   "outputs": [],
   "source": [
    "%timeit path_dijkstra, length_dijstra = dijkstra(maze_graph, (0, 0), (19, 19))"
   ]
  },
  {
   "cell_type": "code",
   "execution_count": null,
   "metadata": {
    "collapsed": false
   },
   "outputs": [],
   "source": [
    "%timeit path_astar, length_astar = a_star(maze_graph, (0, 0), (19, 19), manhattan_distance)"
   ]
  },
  {
   "cell_type": "code",
   "execution_count": null,
   "metadata": {
    "collapsed": false
   },
   "outputs": [],
   "source": [
    "# a small maze, white lines are the routes that can be followed\n",
    "# find the shortest path from (0, 0) to (99, 99)\n",
    "large_maze = load_links('Data/large_maze.csv')\n",
    "\n",
    "fig, ax = plt.subplots(figsize=(15, 15))\n",
    "\n",
    "plot_parcour(large_maze, ax)\n",
    "maze_graph = links_to_graph(large_maze)\n",
    "\n",
    "path_dijkstra, length_dijstra = dijkstra(maze_graph, (0, 0), (99, 99))\n",
    "add_path(path_dijkstra, ax, 'red')\n",
    "\n",
    "path_astar, length_astar = a_star#...\n",
    "add_path(path_astar, ax, 'blue')"
   ]
  },
  {
   "cell_type": "code",
   "execution_count": null,
   "metadata": {
    "collapsed": false
   },
   "outputs": [],
   "source": [
    "%timeit path_dijkstra, length_dijstra = dijkstra(maze_graph, (0, 0), (99, 99))"
   ]
  },
  {
   "cell_type": "code",
   "execution_count": null,
   "metadata": {
    "collapsed": false
   },
   "outputs": [],
   "source": [
    "%timeit path_astar, length_astar = a_star(maze_graph, (0, 0), (99, 99), manhattan_distance)"
   ]
  },
  {
   "cell_type": "markdown",
   "metadata": {
    "collapsed": true
   },
   "source": [
    "## Project: the green city of Ghent\n",
    "\n",
    "![Citadelpark.](Figures/citadel.jpg)"
   ]
  },
  {
   "cell_type": "markdown",
   "metadata": {},
   "source": [
    "Ghent is a very pleasant city to live in, a bit of green is never far away. In this small project we will compute the shortest distance to the closest park for every street crossing in Ghent, a problem with tens of thousands of vertices.\n",
    "\n",
    "Let us take a look at the data."
   ]
  },
  {
   "cell_type": "code",
   "execution_count": null,
   "metadata": {
    "collapsed": true
   },
   "outputs": [],
   "source": [
    "import json\n",
    "ghent_data = json.load(fp=open('Data/graph_parks_ghent.json', 'r'))"
   ]
  },
  {
   "cell_type": "code",
   "execution_count": null,
   "metadata": {
    "collapsed": false,
    "scrolled": true
   },
   "outputs": [],
   "source": [
    "ghent_data.keys()"
   ]
  },
  {
   "cell_type": "markdown",
   "metadata": {},
   "source": [
    "Below is the graph of streets of Ghent. The vertices correspons to street crossings, the edges to street (segments). The edges are weighted by the length of the street, in km."
   ]
  },
  {
   "cell_type": "code",
   "execution_count": null,
   "metadata": {
    "collapsed": false
   },
   "outputs": [],
   "source": [
    "graph_ghent = {k : set(map(tuple, v)) for k, v in ghent_data['adjacency_list'].items()}"
   ]
  },
  {
   "cell_type": "code",
   "execution_count": null,
   "metadata": {
    "collapsed": false
   },
   "outputs": [],
   "source": [
    "min([min(v) for v in graph_ghent.values()])"
   ]
  },
  {
   "cell_type": "markdown",
   "metadata": {},
   "source": [
    "Every vertex has an xy-coordinate."
   ]
  },
  {
   "cell_type": "code",
   "execution_count": null,
   "metadata": {
    "collapsed": true
   },
   "outputs": [],
   "source": [
    "coordinates = {k : tuple(v) for k, v in ghent_data['coordinates'].items()}"
   ]
  },
  {
   "cell_type": "markdown",
   "metadata": {},
   "source": [
    "Finally, you receive a set of the the vertices that are in a park!"
   ]
  },
  {
   "cell_type": "code",
   "execution_count": null,
   "metadata": {
    "collapsed": true
   },
   "outputs": [],
   "source": [
    "park_vertices = set(ghent_data['park vertices'])"
   ]
  },
  {
   "cell_type": "markdown",
   "metadata": {},
   "source": [
    "You can plot the data below (at own risk, this is a HUGE graph!):"
   ]
  },
  {
   "cell_type": "raw",
   "metadata": {},
   "source": [
    "fig, ax = plt.subplots(figsize=(10, 10))\n",
    "\n",
    "fraction_to_plot = 0.1\n",
    "\n",
    "for v, neighbours in graph_ghent.items():\n",
    "    x1, y1 = coordinates[v]\n",
    "    for length, n in neighbours:\n",
    "        x2, y2 = coordinates[n]\n",
    "        ax.plot([x1, x2], [y1, y2], color='gray', lw=0.2, alpha=0.5)\n",
    "    if v in park_vertices:  # parks vertices in green\n",
    "        ax.scatter(x1, y1, color='green')\n",
    "    elif fraction_to_plot < np.random.rand():\n",
    "        ax.scatter(x1, y1, color='black')\n",
    "\n",
    "ax.set_aspect('equal')"
   ]
  },
  {
   "cell_type": "markdown",
   "metadata": {},
   "source": [
    "**Assignment 3**\n",
    "\n",
    "1. Complete the code for finding the distances to the park. This is a modified version of Dijkstra. You are expected to 'design' this algorithm yourself. It returns a dictonary with the distance to the nearest park and a dictionary containing the tree of these paths.\n",
    "2. Compute and plot these distances."
   ]
  },
  {
   "cell_type": "code",
   "execution_count": null,
   "metadata": {
    "collapsed": true
   },
   "outputs": [],
   "source": [
    "def compute_distances_to_park(city_graph, park_vertices):\n",
    "    \"\"\"\n",
    "    Modification of Dijkstra to find the tree with all shortest paths\n",
    "    to the nearest park\n",
    "    \n",
    "    Inputs:\n",
    "        - city_graph : dict representing the weighted graph of the city\n",
    "        - park_vertices : the set of vertices laying in a park\n",
    "\n",
    "    Ouput:\n",
    "        - distances_to_park : dict with the distances of the nodes to nearest park\n",
    "        - paths : dict containing for every vertex (key) the next vertex (value) in the \n",
    "                path to the closest park\n",
    "    \"\"\"\n",
    "    # COMPLETE THIS\n",
    "    return distances_to_park, paths\n",
    "        \n",
    "    "
   ]
  },
  {
   "cell_type": "code",
   "execution_count": null,
   "metadata": {
    "collapsed": false
   },
   "outputs": [],
   "source": [
    "dist_to_park, paths = compute_distances_to_park(graph_ghent, park_vertices)\n",
    "dist_to_park = {k : v for k, v in dist_to_park.items() if v < inf}"
   ]
  },
  {
   "cell_type": "code",
   "execution_count": null,
   "metadata": {
    "collapsed": true
   },
   "outputs": [],
   "source": [
    "# plot the results"
   ]
  },
  {
   "cell_type": "code",
   "execution_count": null,
   "metadata": {
    "collapsed": true
   },
   "outputs": [],
   "source": []
  }
 ],
 "metadata": {
  "anaconda-cloud": {},
  "kernelspec": {
   "display_name": "Python [default]",
   "language": "python",
   "name": "python3"
  },
  "language_info": {
   "codemirror_mode": {
    "name": "ipython",
    "version": 3
   },
   "file_extension": ".py",
   "mimetype": "text/x-python",
   "name": "python",
   "nbconvert_exporter": "python",
   "pygments_lexer": "ipython3",
   "version": "3.5.2"
  },
  "latex_envs": {
   "bibliofile": "biblio.bib",
   "cite_by": "apalike",
   "current_citInitial": 1,
   "eqLabelWithNumbers": true,
   "eqNumInitial": 0
  }
 },
 "nbformat": 4,
 "nbformat_minor": 0
}
