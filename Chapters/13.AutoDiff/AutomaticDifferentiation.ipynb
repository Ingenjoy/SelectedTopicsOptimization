{
 "cells": [
  {
   "cell_type": "markdown",
   "metadata": {
    "slideshow": {
     "slide_type": "slide"
    }
   },
   "source": [
    "# Automatic differentiation\n",
    "\n",
    "*Selected Topics in Mathematical Optimization*\n",
    "\n",
    "**Michiel Stock** ([email](michiel.stock@ugent.be))\n",
    "\n",
    "![](Figures/logo.png)"
   ]
  },
  {
   "cell_type": "code",
   "execution_count": 1,
   "metadata": {
    "slideshow": {
     "slide_type": "skip"
    }
   },
   "outputs": [],
   "source": [
    "using Plots, BenchmarkTools"
   ]
  },
  {
   "cell_type": "code",
   "execution_count": 2,
   "metadata": {
    "slideshow": {
     "slide_type": "slide"
    }
   },
   "outputs": [
    {
     "data": {
      "text/plain": [
       "f (generic function with 1 method)"
      ]
     },
     "execution_count": 2,
     "metadata": {},
     "output_type": "execute_result"
    }
   ],
   "source": [
    "f(x) = log(x) + sin(x) / x"
   ]
  },
  {
   "cell_type": "markdown",
   "metadata": {
    "slideshow": {
     "slide_type": "slide"
    }
   },
   "source": [
    "## Symbolic differentiation\n",
    "\n",
    "Computing derivatives as you have seen in basic calculus courses. \n",
    "\n",
    "By hand or automatically:\n",
    "- Maple\n",
    "- Sympy (python)\n",
    "- Mathematica\n",
    "- Maxima"
   ]
  },
  {
   "cell_type": "markdown",
   "metadata": {
    "slideshow": {
     "slide_type": "fragment"
    }
   },
   "source": [
    "Differentiation is *easy* compared to *integration* or *sampling*."
   ]
  },
  {
   "cell_type": "markdown",
   "metadata": {
    "slideshow": {
     "slide_type": "subslide"
    }
   },
   "source": [
    "Advantages:\n",
    "- exact derivatives!\n",
    "- gives the formula for different evaluations.\n",
    "- no hyperparameters or tweaking: just works!"
   ]
  },
  {
   "cell_type": "markdown",
   "metadata": {
    "slideshow": {
     "slide_type": "fragment"
    }
   },
   "source": [
    "Disadvantages:\n",
    "- some software not flexible enough (gradients, arrays, for-loops...)\n",
    "- sometimes explosion of terms: *expression swell*\n",
    "- not always numerically optimal!"
   ]
  },
  {
   "cell_type": "code",
   "execution_count": 3,
   "metadata": {
    "slideshow": {
     "slide_type": "subslide"
    }
   },
   "outputs": [],
   "source": [
    "using SymEngine"
   ]
  },
  {
   "cell_type": "code",
   "execution_count": 4,
   "metadata": {
    "slideshow": {
     "slide_type": "fragment"
    }
   },
   "outputs": [
    {
     "data": {
      "text/plain": [
       "(x,)"
      ]
     },
     "execution_count": 4,
     "metadata": {},
     "output_type": "execute_result"
    }
   ],
   "source": [
    "@vars x  # define variable"
   ]
  },
  {
   "cell_type": "code",
   "execution_count": 5,
   "metadata": {
    "slideshow": {
     "slide_type": "fragment"
    }
   },
   "outputs": [
    {
     "data": {
      "text/plain": [
       "-sin(x)/x^2 + cos(x)/x + x^(-1)"
      ]
     },
     "execution_count": 5,
     "metadata": {},
     "output_type": "execute_result"
    }
   ],
   "source": [
    "df = diff(f(x), x)"
   ]
  },
  {
   "cell_type": "code",
   "execution_count": 6,
   "metadata": {
    "slideshow": {
     "slide_type": "fragment"
    }
   },
   "outputs": [
    {
     "data": {
      "text/plain": [
       "0.0646022250200084"
      ]
     },
     "execution_count": 6,
     "metadata": {},
     "output_type": "execute_result"
    }
   ],
   "source": [
    "df(2.0)"
   ]
  },
  {
   "cell_type": "markdown",
   "metadata": {
    "slideshow": {
     "slide_type": "slide"
    }
   },
   "source": [
    "## Numerical differentiation\n",
    "\n",
    "Finite difference approximation of the derivative/gradient based on a number of function evaluations."
   ]
  },
  {
   "cell_type": "markdown",
   "metadata": {
    "slideshow": {
     "slide_type": "fragment"
    }
   },
   "source": [
    "Often based on the limit definition of a derivative. Theoretical analysis using Taylor approximation:\n",
    "\n",
    "$$\n",
    "f(x + h) = f(x) + \\frac{h}{1!} + \\frac{h^2}{2!}f''(x) + \\frac{h^3}{3!}f^{(3)}(x)+\\ldots\n",
    "$$"
   ]
  },
  {
   "cell_type": "markdown",
   "metadata": {
    "slideshow": {
     "slide_type": "subslide"
    }
   },
   "source": [
    "**Divided difference**\n",
    "\n",
    "$$\n",
    "f'(x)\\approx \\frac{f(x+h) - f(x)}{h}\n",
    "$$\n"
   ]
  },
  {
   "cell_type": "markdown",
   "metadata": {
    "slideshow": {
     "slide_type": "fragment"
    }
   },
   "source": [
    "**Center difference**\n",
    "\n",
    "$$\n",
    "f'(x)\\approx \\frac{f(x+h) - f(x-h)}{2h}\n",
    "$$\n"
   ]
  },
  {
   "cell_type": "markdown",
   "metadata": {
    "slideshow": {
     "slide_type": "fragment"
    }
   },
   "source": [
    "**Complex step method**\n",
    "\n",
    "$$\n",
    "f'(x)\\approx \\frac{\\text{Im} (f(x +ih))}{h}\n",
    "$$"
   ]
  },
  {
   "cell_type": "markdown",
   "metadata": {
    "slideshow": {
     "slide_type": "subslide"
    }
   },
   "source": [
    "Some simple implementations:"
   ]
  },
  {
   "cell_type": "code",
   "execution_count": 7,
   "metadata": {
    "slideshow": {
     "slide_type": "fragment"
    }
   },
   "outputs": [
    {
     "data": {
      "text/plain": [
       "diff_complstep (generic function with 1 method)"
      ]
     },
     "execution_count": 7,
     "metadata": {},
     "output_type": "execute_result"
    }
   ],
   "source": [
    "diff_divdiff(f, x; h=1e-10) = (f(x + h) - f(x)) / h\n",
    "diff_centdiff(f, x; h=1e-10) = (f(x + h) - f(x - h)) / 2h \n",
    "diff_complstep(f, x; h=1e-10) = imag(f(x + im * h)) / h"
   ]
  },
  {
   "cell_type": "code",
   "execution_count": 8,
   "metadata": {
    "slideshow": {
     "slide_type": "fragment"
    }
   },
   "outputs": [
    {
     "name": "stdout",
     "output_type": "stream",
     "text": [
      "  6.011 ns (0 allocations: 0 bytes)\n"
     ]
    },
    {
     "data": {
      "text/plain": [
       "0.06460165735688861"
      ]
     },
     "execution_count": 8,
     "metadata": {},
     "output_type": "execute_result"
    }
   ],
   "source": [
    "@btime diff_divdiff($f, 2.0)"
   ]
  },
  {
   "cell_type": "code",
   "execution_count": 9,
   "metadata": {
    "slideshow": {
     "slide_type": "fragment"
    }
   },
   "outputs": [
    {
     "name": "stdout",
     "output_type": "stream",
     "text": [
      "  6.151 ns (0 allocations: 0 bytes)\n"
     ]
    },
    {
     "data": {
      "text/plain": [
       "0.06460165735688861"
      ]
     },
     "execution_count": 9,
     "metadata": {},
     "output_type": "execute_result"
    }
   ],
   "source": [
    "@btime diff_centdiff($f, 2.0)"
   ]
  },
  {
   "cell_type": "code",
   "execution_count": 10,
   "metadata": {
    "slideshow": {
     "slide_type": "fragment"
    }
   },
   "outputs": [
    {
     "name": "stdout",
     "output_type": "stream",
     "text": [
      "  72.690 ns (0 allocations: 0 bytes)\n"
     ]
    },
    {
     "data": {
      "text/plain": [
       "0.06460222502000833"
      ]
     },
     "execution_count": 10,
     "metadata": {},
     "output_type": "execute_result"
    }
   ],
   "source": [
    "@btime diff_complstep($f, 2.0)"
   ]
  },
  {
   "cell_type": "code",
   "execution_count": 11,
   "metadata": {
    "slideshow": {
     "slide_type": "skip"
    }
   },
   "outputs": [],
   "source": [
    "error(diff, h; x=2.0) = max(abs(Float64(df(x)) - diff(f, x, h=h)), 1e-30);\n",
    "stepsizes = map(t->10.0^t, -20:0.5:-1);"
   ]
  },
  {
   "cell_type": "code",
   "execution_count": 12,
   "metadata": {
    "scrolled": true,
    "slideshow": {
     "slide_type": "subslide"
    }
   },
   "outputs": [
    {
     "data": {
      "image/svg+xml": [
       "<?xml version=\"1.0\" encoding=\"utf-8\"?>\n",
       "<svg xmlns=\"http://www.w3.org/2000/svg\" xmlns:xlink=\"http://www.w3.org/1999/xlink\" width=\"600\" height=\"400\" viewBox=\"0 0 2400 1600\">\n",
       "<defs>\n",
       "  <clipPath id=\"clip0600\">\n",
       "    <rect x=\"0\" y=\"0\" width=\"2400\" height=\"1600\"/>\n",
       "  </clipPath>\n",
       "</defs>\n",
       "<polygon clip-path=\"url(#clip0600)\" points=\"\n",
       "0,1600 2400,1600 2400,0 0,0 \n",
       "  \" fill=\"#ffffff\" fill-rule=\"evenodd\" fill-opacity=\"1\"/>\n",
       "<defs>\n",
       "  <clipPath id=\"clip0601\">\n",
       "    <rect x=\"480\" y=\"0\" width=\"1681\" height=\"1600\"/>\n",
       "  </clipPath>\n",
       "</defs>\n",
       "<polygon clip-path=\"url(#clip0600)\" points=\"\n",
       "315.214,1440.48 2321.26,1440.48 2321.26,47.2441 315.214,47.2441 \n",
       "  \" fill=\"#ffffff\" fill-rule=\"evenodd\" fill-opacity=\"1\"/>\n",
       "<defs>\n",
       "  <clipPath id=\"clip0602\">\n",
       "    <rect x=\"315\" y=\"47\" width=\"2007\" height=\"1394\"/>\n",
       "  </clipPath>\n",
       "</defs>\n",
       "<polyline clip-path=\"url(#clip0602)\" style=\"stroke:#000000; stroke-width:2; stroke-opacity:0.1; fill:none\" points=\"\n",
       "  371.989,1440.48 371.989,47.2441 \n",
       "  \"/>\n",
       "<polyline clip-path=\"url(#clip0602)\" style=\"stroke:#000000; stroke-width:2; stroke-opacity:0.1; fill:none\" points=\"\n",
       "  870.015,1440.48 870.015,47.2441 \n",
       "  \"/>\n",
       "<polyline clip-path=\"url(#clip0602)\" style=\"stroke:#000000; stroke-width:2; stroke-opacity:0.1; fill:none\" points=\"\n",
       "  1368.04,1440.48 1368.04,47.2441 \n",
       "  \"/>\n",
       "<polyline clip-path=\"url(#clip0602)\" style=\"stroke:#000000; stroke-width:2; stroke-opacity:0.1; fill:none\" points=\"\n",
       "  1866.06,1440.48 1866.06,47.2441 \n",
       "  \"/>\n",
       "<polyline clip-path=\"url(#clip0602)\" style=\"stroke:#000000; stroke-width:2; stroke-opacity:0.1; fill:none\" points=\"\n",
       "  315.214,1401.05 2321.26,1401.05 \n",
       "  \"/>\n",
       "<polyline clip-path=\"url(#clip0602)\" style=\"stroke:#000000; stroke-width:2; stroke-opacity:0.1; fill:none\" points=\"\n",
       "  315.214,1172.94 2321.26,1172.94 \n",
       "  \"/>\n",
       "<polyline clip-path=\"url(#clip0602)\" style=\"stroke:#000000; stroke-width:2; stroke-opacity:0.1; fill:none\" points=\"\n",
       "  315.214,944.833 2321.26,944.833 \n",
       "  \"/>\n",
       "<polyline clip-path=\"url(#clip0602)\" style=\"stroke:#000000; stroke-width:2; stroke-opacity:0.1; fill:none\" points=\"\n",
       "  315.214,716.724 2321.26,716.724 \n",
       "  \"/>\n",
       "<polyline clip-path=\"url(#clip0602)\" style=\"stroke:#000000; stroke-width:2; stroke-opacity:0.1; fill:none\" points=\"\n",
       "  315.214,488.615 2321.26,488.615 \n",
       "  \"/>\n",
       "<polyline clip-path=\"url(#clip0602)\" style=\"stroke:#000000; stroke-width:2; stroke-opacity:0.1; fill:none\" points=\"\n",
       "  315.214,260.506 2321.26,260.506 \n",
       "  \"/>\n",
       "<polyline clip-path=\"url(#clip0600)\" style=\"stroke:#000000; stroke-width:4; stroke-opacity:1; fill:none\" points=\"\n",
       "  315.214,1440.48 2321.26,1440.48 \n",
       "  \"/>\n",
       "<polyline clip-path=\"url(#clip0600)\" style=\"stroke:#000000; stroke-width:4; stroke-opacity:1; fill:none\" points=\"\n",
       "  315.214,1440.48 315.214,47.2441 \n",
       "  \"/>\n",
       "<polyline clip-path=\"url(#clip0600)\" style=\"stroke:#000000; stroke-width:4; stroke-opacity:1; fill:none\" points=\"\n",
       "  371.989,1440.48 371.989,1419.58 \n",
       "  \"/>\n",
       "<polyline clip-path=\"url(#clip0600)\" style=\"stroke:#000000; stroke-width:4; stroke-opacity:1; fill:none\" points=\"\n",
       "  870.015,1440.48 870.015,1419.58 \n",
       "  \"/>\n",
       "<polyline clip-path=\"url(#clip0600)\" style=\"stroke:#000000; stroke-width:4; stroke-opacity:1; fill:none\" points=\"\n",
       "  1368.04,1440.48 1368.04,1419.58 \n",
       "  \"/>\n",
       "<polyline clip-path=\"url(#clip0600)\" style=\"stroke:#000000; stroke-width:4; stroke-opacity:1; fill:none\" points=\"\n",
       "  1866.06,1440.48 1866.06,1419.58 \n",
       "  \"/>\n",
       "<polyline clip-path=\"url(#clip0600)\" style=\"stroke:#000000; stroke-width:4; stroke-opacity:1; fill:none\" points=\"\n",
       "  315.214,1401.05 345.305,1401.05 \n",
       "  \"/>\n",
       "<polyline clip-path=\"url(#clip0600)\" style=\"stroke:#000000; stroke-width:4; stroke-opacity:1; fill:none\" points=\"\n",
       "  315.214,1172.94 345.305,1172.94 \n",
       "  \"/>\n",
       "<polyline clip-path=\"url(#clip0600)\" style=\"stroke:#000000; stroke-width:4; stroke-opacity:1; fill:none\" points=\"\n",
       "  315.214,944.833 345.305,944.833 \n",
       "  \"/>\n",
       "<polyline clip-path=\"url(#clip0600)\" style=\"stroke:#000000; stroke-width:4; stroke-opacity:1; fill:none\" points=\"\n",
       "  315.214,716.724 345.305,716.724 \n",
       "  \"/>\n",
       "<polyline clip-path=\"url(#clip0600)\" style=\"stroke:#000000; stroke-width:4; stroke-opacity:1; fill:none\" points=\"\n",
       "  315.214,488.615 345.305,488.615 \n",
       "  \"/>\n",
       "<polyline clip-path=\"url(#clip0600)\" style=\"stroke:#000000; stroke-width:4; stroke-opacity:1; fill:none\" points=\"\n",
       "  315.214,260.506 345.305,260.506 \n",
       "  \"/>\n",
       "<g clip-path=\"url(#clip0600)\">\n",
       "<text style=\"fill:#000000; fill-opacity:1; font-family:Arial,Helvetica Neue,Helvetica,sans-serif; font-size:48px; text-anchor:start;\" transform=\"rotate(0, 306.627, 1515.49)\" x=\"306.627\" y=\"1515.49\">10</text>\n",
       "</g>\n",
       "<g clip-path=\"url(#clip0600)\">\n",
       "<text style=\"fill:#000000; fill-opacity:1; font-family:Arial,Helvetica Neue,Helvetica,sans-serif; font-size:38px; text-anchor:start;\" transform=\"rotate(0, 360.151, 1488.08)\" x=\"360.151\" y=\"1488.08\">-</text>\n",
       "</g>\n",
       "<g clip-path=\"url(#clip0600)\">\n",
       "<text style=\"fill:#000000; fill-opacity:1; font-family:Arial,Helvetica Neue,Helvetica,sans-serif; font-size:38px; text-anchor:start;\" transform=\"rotate(0, 382.991, 1488.08)\" x=\"382.991\" y=\"1488.08\">20 </text>\n",
       "</g>\n",
       "<g clip-path=\"url(#clip0600)\">\n",
       "<text style=\"fill:#000000; fill-opacity:1; font-family:Arial,Helvetica Neue,Helvetica,sans-serif; font-size:48px; text-anchor:start;\" transform=\"rotate(0, 804.652, 1515.49)\" x=\"804.652\" y=\"1515.49\">10</text>\n",
       "</g>\n",
       "<g clip-path=\"url(#clip0600)\">\n",
       "<text style=\"fill:#000000; fill-opacity:1; font-family:Arial,Helvetica Neue,Helvetica,sans-serif; font-size:38px; text-anchor:start;\" transform=\"rotate(0, 858.177, 1488.08)\" x=\"858.177\" y=\"1488.08\">-</text>\n",
       "</g>\n",
       "<g clip-path=\"url(#clip0600)\">\n",
       "<text style=\"fill:#000000; fill-opacity:1; font-family:Arial,Helvetica Neue,Helvetica,sans-serif; font-size:38px; text-anchor:start;\" transform=\"rotate(0, 881.016, 1488.08)\" x=\"881.016\" y=\"1488.08\">15 </text>\n",
       "</g>\n",
       "<g clip-path=\"url(#clip0600)\">\n",
       "<text style=\"fill:#000000; fill-opacity:1; font-family:Arial,Helvetica Neue,Helvetica,sans-serif; font-size:48px; text-anchor:start;\" transform=\"rotate(0, 1302.68, 1515.49)\" x=\"1302.68\" y=\"1515.49\">10</text>\n",
       "</g>\n",
       "<g clip-path=\"url(#clip0600)\">\n",
       "<text style=\"fill:#000000; fill-opacity:1; font-family:Arial,Helvetica Neue,Helvetica,sans-serif; font-size:38px; text-anchor:start;\" transform=\"rotate(0, 1356.2, 1488.08)\" x=\"1356.2\" y=\"1488.08\">-</text>\n",
       "</g>\n",
       "<g clip-path=\"url(#clip0600)\">\n",
       "<text style=\"fill:#000000; fill-opacity:1; font-family:Arial,Helvetica Neue,Helvetica,sans-serif; font-size:38px; text-anchor:start;\" transform=\"rotate(0, 1379.04, 1488.08)\" x=\"1379.04\" y=\"1488.08\">10 </text>\n",
       "</g>\n",
       "<g clip-path=\"url(#clip0600)\">\n",
       "<text style=\"fill:#000000; fill-opacity:1; font-family:Arial,Helvetica Neue,Helvetica,sans-serif; font-size:48px; text-anchor:start;\" transform=\"rotate(0, 1811.57, 1515.49)\" x=\"1811.57\" y=\"1515.49\">10</text>\n",
       "</g>\n",
       "<g clip-path=\"url(#clip0600)\">\n",
       "<text style=\"fill:#000000; fill-opacity:1; font-family:Arial,Helvetica Neue,Helvetica,sans-serif; font-size:38px; text-anchor:start;\" transform=\"rotate(0, 1865.1, 1488.08)\" x=\"1865.1\" y=\"1488.08\">-</text>\n",
       "</g>\n",
       "<g clip-path=\"url(#clip0600)\">\n",
       "<text style=\"fill:#000000; fill-opacity:1; font-family:Arial,Helvetica Neue,Helvetica,sans-serif; font-size:38px; text-anchor:start;\" transform=\"rotate(0, 1887.94, 1488.08)\" x=\"1887.94\" y=\"1488.08\">5 </text>\n",
       "</g>\n",
       "<g clip-path=\"url(#clip0600)\">\n",
       "<text style=\"fill:#000000; fill-opacity:1; font-family:Arial,Helvetica Neue,Helvetica,sans-serif; font-size:48px; text-anchor:start;\" transform=\"rotate(0, 160.489, 1424.78)\" x=\"160.489\" y=\"1424.78\">10</text>\n",
       "</g>\n",
       "<g clip-path=\"url(#clip0600)\">\n",
       "<text style=\"fill:#000000; fill-opacity:1; font-family:Arial,Helvetica Neue,Helvetica,sans-serif; font-size:38px; text-anchor:start;\" transform=\"rotate(0, 214.014, 1397.37)\" x=\"214.014\" y=\"1397.37\">-</text>\n",
       "</g>\n",
       "<g clip-path=\"url(#clip0600)\">\n",
       "<text style=\"fill:#000000; fill-opacity:1; font-family:Arial,Helvetica Neue,Helvetica,sans-serif; font-size:38px; text-anchor:start;\" transform=\"rotate(0, 236.853, 1397.37)\" x=\"236.853\" y=\"1397.37\">30 </text>\n",
       "</g>\n",
       "<g clip-path=\"url(#clip0600)\">\n",
       "<text style=\"fill:#000000; fill-opacity:1; font-family:Arial,Helvetica Neue,Helvetica,sans-serif; font-size:48px; text-anchor:start;\" transform=\"rotate(0, 160.489, 1196.67)\" x=\"160.489\" y=\"1196.67\">10</text>\n",
       "</g>\n",
       "<g clip-path=\"url(#clip0600)\">\n",
       "<text style=\"fill:#000000; fill-opacity:1; font-family:Arial,Helvetica Neue,Helvetica,sans-serif; font-size:38px; text-anchor:start;\" transform=\"rotate(0, 214.014, 1169.26)\" x=\"214.014\" y=\"1169.26\">-</text>\n",
       "</g>\n",
       "<g clip-path=\"url(#clip0600)\">\n",
       "<text style=\"fill:#000000; fill-opacity:1; font-family:Arial,Helvetica Neue,Helvetica,sans-serif; font-size:38px; text-anchor:start;\" transform=\"rotate(0, 236.853, 1169.26)\" x=\"236.853\" y=\"1169.26\">25 </text>\n",
       "</g>\n",
       "<g clip-path=\"url(#clip0600)\">\n",
       "<text style=\"fill:#000000; fill-opacity:1; font-family:Arial,Helvetica Neue,Helvetica,sans-serif; font-size:48px; text-anchor:start;\" transform=\"rotate(0, 160.489, 968.561)\" x=\"160.489\" y=\"968.561\">10</text>\n",
       "</g>\n",
       "<g clip-path=\"url(#clip0600)\">\n",
       "<text style=\"fill:#000000; fill-opacity:1; font-family:Arial,Helvetica Neue,Helvetica,sans-serif; font-size:38px; text-anchor:start;\" transform=\"rotate(0, 214.014, 941.15)\" x=\"214.014\" y=\"941.15\">-</text>\n",
       "</g>\n",
       "<g clip-path=\"url(#clip0600)\">\n",
       "<text style=\"fill:#000000; fill-opacity:1; font-family:Arial,Helvetica Neue,Helvetica,sans-serif; font-size:38px; text-anchor:start;\" transform=\"rotate(0, 236.853, 941.15)\" x=\"236.853\" y=\"941.15\">20 </text>\n",
       "</g>\n",
       "<g clip-path=\"url(#clip0600)\">\n",
       "<text style=\"fill:#000000; fill-opacity:1; font-family:Arial,Helvetica Neue,Helvetica,sans-serif; font-size:48px; text-anchor:start;\" transform=\"rotate(0, 160.489, 740.452)\" x=\"160.489\" y=\"740.452\">10</text>\n",
       "</g>\n",
       "<g clip-path=\"url(#clip0600)\">\n",
       "<text style=\"fill:#000000; fill-opacity:1; font-family:Arial,Helvetica Neue,Helvetica,sans-serif; font-size:38px; text-anchor:start;\" transform=\"rotate(0, 214.014, 713.041)\" x=\"214.014\" y=\"713.041\">-</text>\n",
       "</g>\n",
       "<g clip-path=\"url(#clip0600)\">\n",
       "<text style=\"fill:#000000; fill-opacity:1; font-family:Arial,Helvetica Neue,Helvetica,sans-serif; font-size:38px; text-anchor:start;\" transform=\"rotate(0, 236.853, 713.041)\" x=\"236.853\" y=\"713.041\">15 </text>\n",
       "</g>\n",
       "<g clip-path=\"url(#clip0600)\">\n",
       "<text style=\"fill:#000000; fill-opacity:1; font-family:Arial,Helvetica Neue,Helvetica,sans-serif; font-size:48px; text-anchor:start;\" transform=\"rotate(0, 160.489, 512.343)\" x=\"160.489\" y=\"512.343\">10</text>\n",
       "</g>\n",
       "<g clip-path=\"url(#clip0600)\">\n",
       "<text style=\"fill:#000000; fill-opacity:1; font-family:Arial,Helvetica Neue,Helvetica,sans-serif; font-size:38px; text-anchor:start;\" transform=\"rotate(0, 214.014, 484.932)\" x=\"214.014\" y=\"484.932\">-</text>\n",
       "</g>\n",
       "<g clip-path=\"url(#clip0600)\">\n",
       "<text style=\"fill:#000000; fill-opacity:1; font-family:Arial,Helvetica Neue,Helvetica,sans-serif; font-size:38px; text-anchor:start;\" transform=\"rotate(0, 236.853, 484.932)\" x=\"236.853\" y=\"484.932\">10 </text>\n",
       "</g>\n",
       "<g clip-path=\"url(#clip0600)\">\n",
       "<text style=\"fill:#000000; fill-opacity:1; font-family:Arial,Helvetica Neue,Helvetica,sans-serif; font-size:48px; text-anchor:start;\" transform=\"rotate(0, 182.234, 284.233)\" x=\"182.234\" y=\"284.233\">10</text>\n",
       "</g>\n",
       "<g clip-path=\"url(#clip0600)\">\n",
       "<text style=\"fill:#000000; fill-opacity:1; font-family:Arial,Helvetica Neue,Helvetica,sans-serif; font-size:38px; text-anchor:start;\" transform=\"rotate(0, 235.758, 256.823)\" x=\"235.758\" y=\"256.823\">-</text>\n",
       "</g>\n",
       "<g clip-path=\"url(#clip0600)\">\n",
       "<text style=\"fill:#000000; fill-opacity:1; font-family:Arial,Helvetica Neue,Helvetica,sans-serif; font-size:38px; text-anchor:start;\" transform=\"rotate(0, 258.598, 256.823)\" x=\"258.598\" y=\"256.823\">5 </text>\n",
       "</g>\n",
       "<g clip-path=\"url(#clip0600)\">\n",
       "<text style=\"fill:#000000; fill-opacity:1; font-family:Arial,Helvetica Neue,Helvetica,sans-serif; font-size:66px; text-anchor:middle;\" transform=\"rotate(0, 1318.24, 1590.4)\" x=\"1318.24\" y=\"1590.4\">stepsize h</text>\n",
       "</g>\n",
       "<g clip-path=\"url(#clip0600)\">\n",
       "<text style=\"fill:#000000; fill-opacity:1; font-family:Arial,Helvetica Neue,Helvetica,sans-serif; font-size:66px; text-anchor:middle;\" transform=\"rotate(-90, 192.814, 743.863)\" x=\"192.814\" y=\"743.863\">absolute error</text>\n",
       "</g>\n",
       "<polyline clip-path=\"url(#clip0602)\" style=\"stroke:#009af9; stroke-width:4; stroke-opacity:1; fill:none\" points=\"\n",
       "  371.989,86.6754 421.792,86.6754 471.594,86.6754 521.397,86.6754 571.199,86.6754 621.002,86.6754 670.804,86.6754 720.607,86.6754 770.409,86.6754 820.212,86.6754 \n",
       "  870.015,86.6754 919.817,135.077 969.62,155.418 1019.42,162.494 1069.22,200.251 1119.03,285.106 1168.83,255.684 1218.63,285.106 1268.43,261.628 1318.24,285.106 \n",
       "  1368.04,317.346 1417.84,356.039 1467.64,352.055 1517.45,396.757 1567.25,392.868 1617.05,419.379 1666.85,392.868 1716.66,368.979 1766.46,345.851 1816.26,323.048 \n",
       "  1866.06,300.237 1915.87,277.426 1965.67,254.616 2015.47,231.808 2065.27,209.005 2115.08,186.22 2164.88,163.491 2214.68,140.939 2264.48,118.956 \n",
       "  \"/>\n",
       "<polyline clip-path=\"url(#clip0602)\" style=\"stroke:#e26f46; stroke-width:4; stroke-opacity:1; fill:none\" points=\"\n",
       "  371.989,86.6754 421.792,86.6754 471.594,86.6754 521.397,86.6754 571.199,86.6754 621.002,86.6754 670.804,86.6754 720.607,86.6754 770.409,86.6754 820.212,86.6754 \n",
       "  870.015,86.6754 919.817,135.077 969.62,155.418 1019.42,162.494 1069.22,200.251 1119.03,285.106 1168.83,255.684 1218.63,285.106 1268.43,261.628 1318.24,285.106 \n",
       "  1368.04,317.346 1417.84,356.039 1467.64,352.055 1517.45,396.757 1567.25,392.868 1617.05,473.197 1666.85,464.417 1716.66,473.197 1766.46,544.072 1816.26,541.029 \n",
       "  1866.06,547.911 1915.87,492.833 1965.67,447.143 2015.47,401.508 2065.27,355.886 2115.08,310.264 2164.88,264.642 2214.68,219.019 2264.48,173.387 \n",
       "  \"/>\n",
       "<polyline clip-path=\"url(#clip0602)\" style=\"stroke:#3da44d; stroke-width:4; stroke-opacity:1; fill:none\" points=\"\n",
       "  371.989,787.741 421.792,1401.05 471.594,787.741 521.397,801.475 571.199,1401.05 621.002,1401.05 670.804,801.475 720.607,779.708 770.409,774.008 820.212,801.475 \n",
       "  870.015,1401.05 919.817,1401.05 969.62,779.708 1019.42,801.475 1069.22,779.708 1119.03,801.475 1168.83,801.475 1218.63,779.708 1268.43,787.741 1318.24,801.475 \n",
       "  1368.04,779.708 1417.84,1401.05 1467.64,801.475 1517.45,779.708 1567.25,801.475 1617.05,765.974 1666.85,719.703 1716.66,675.471 1766.46,629.6 1816.26,583.995 \n",
       "  1866.06,538.373 1915.87,492.751 1965.67,447.129 2015.47,401.508 2065.27,355.886 2115.08,310.264 2164.88,264.642 2214.68,219.022 2264.48,173.411 \n",
       "  \"/>\n",
       "<polygon clip-path=\"url(#clip0600)\" points=\"\n",
       "1632.04,372.684 2249.26,372.684 2249.26,130.764 1632.04,130.764 \n",
       "  \" fill=\"#ffffff\" fill-rule=\"evenodd\" fill-opacity=\"1\"/>\n",
       "<polyline clip-path=\"url(#clip0600)\" style=\"stroke:#000000; stroke-width:4; stroke-opacity:1; fill:none\" points=\"\n",
       "  1632.04,372.684 2249.26,372.684 2249.26,130.764 1632.04,130.764 1632.04,372.684 \n",
       "  \"/>\n",
       "<polyline clip-path=\"url(#clip0600)\" style=\"stroke:#009af9; stroke-width:4; stroke-opacity:1; fill:none\" points=\"\n",
       "  1656.04,191.244 1800.04,191.244 \n",
       "  \"/>\n",
       "<g clip-path=\"url(#clip0600)\">\n",
       "<text style=\"fill:#000000; fill-opacity:1; font-family:Arial,Helvetica Neue,Helvetica,sans-serif; font-size:48px; text-anchor:start;\" transform=\"rotate(0, 1824.04, 208.744)\" x=\"1824.04\" y=\"208.744\">divided difference</text>\n",
       "</g>\n",
       "<polyline clip-path=\"url(#clip0600)\" style=\"stroke:#e26f46; stroke-width:4; stroke-opacity:1; fill:none\" points=\"\n",
       "  1656.04,251.724 1800.04,251.724 \n",
       "  \"/>\n",
       "<g clip-path=\"url(#clip0600)\">\n",
       "<text style=\"fill:#000000; fill-opacity:1; font-family:Arial,Helvetica Neue,Helvetica,sans-serif; font-size:48px; text-anchor:start;\" transform=\"rotate(0, 1824.04, 269.224)\" x=\"1824.04\" y=\"269.224\">center difference</text>\n",
       "</g>\n",
       "<polyline clip-path=\"url(#clip0600)\" style=\"stroke:#3da44d; stroke-width:4; stroke-opacity:1; fill:none\" points=\"\n",
       "  1656.04,312.204 1800.04,312.204 \n",
       "  \"/>\n",
       "<g clip-path=\"url(#clip0600)\">\n",
       "<text style=\"fill:#000000; fill-opacity:1; font-family:Arial,Helvetica Neue,Helvetica,sans-serif; font-size:48px; text-anchor:start;\" transform=\"rotate(0, 1824.04, 329.704)\" x=\"1824.04\" y=\"329.704\">complex step</text>\n",
       "</g>\n",
       "</svg>\n"
      ]
     },
     "execution_count": 12,
     "metadata": {},
     "output_type": "execute_result"
    }
   ],
   "source": [
    "plot(stepsizes, error.(diff_divdiff, stepsizes), label=\"divided difference\",\n",
    "    xscale=:log10, yscale=:log10)\n",
    "plot!(stepsizes, error.(diff_centdiff, stepsizes), label=\"center difference\")\n",
    "plot!(stepsizes, error.(diff_complstep, stepsizes), label=\"complex step\")\n",
    "#xlims!(1e-15, 1e-1)\n",
    "xlabel!(\"stepsize h\")\n",
    "ylabel!(\"absolute error\")"
   ]
  },
  {
   "cell_type": "markdown",
   "metadata": {
    "slideshow": {
     "slide_type": "subslide"
    }
   },
   "source": [
    "Advantages of numerical differentiation:\n",
    "- easy to implement\n",
    "- general, no assumptions needed"
   ]
  },
  {
   "cell_type": "markdown",
   "metadata": {
    "slideshow": {
     "slide_type": "fragment"
    }
   },
   "source": [
    "Disadvantages:\n",
    "- not numerically stable (round-off errors)\n",
    "- not efficient for gradients ($\\mathcal{O}(n)$ evaluations for $n$-dimensional vectors)"
   ]
  },
  {
   "cell_type": "markdown",
   "metadata": {
    "slideshow": {
     "slide_type": "subslide"
    }
   },
   "source": [
    "**First sin of numerical analysis**:\n",
    "\n",
    "> *thou shalt not add small numbers to big numbers*"
   ]
  },
  {
   "cell_type": "markdown",
   "metadata": {
    "slideshow": {
     "slide_type": "fragment"
    }
   },
   "source": [
    "**second sin of numerical analysis**:\n",
    "\n",
    "> *thou shalt not subtract numbers which are approximately equal*"
   ]
  },
  {
   "cell_type": "markdown",
   "metadata": {
    "slideshow": {
     "slide_type": "subslide"
    }
   },
   "source": [
    "### Stein's lemma\n",
    "\n",
    "$$\n",
    "E_{X\\sim N(\\mu, \\sigma)}[f(X)(X-\\mu)] = \\sigma^2 E_{X\\sim N(\\mu, \\sigma)}[f'(X)]\n",
    "$$\n",
    "\n",
    "and thus, using $X = x + \\sigma\\epsilon$ with $\\epsilon\\sim N(0, 1)$:\n",
    "\n",
    "$$\n",
    "E_{\\epsilon\\sim N(0, 1)}[f'(x + \\sigma\\epsilon)] = \\frac{1}{\\sigma} E_{\\epsilon\\sim N(0, 1)}[f(x+\\sigma \\epsilon)\\epsilon]\n",
    "$$"
   ]
  },
  {
   "cell_type": "code",
   "execution_count": 13,
   "metadata": {
    "slideshow": {
     "slide_type": "fragment"
    }
   },
   "outputs": [
    {
     "data": {
      "text/plain": [
       "diff_stein (generic function with 1 method)"
      ]
     },
     "execution_count": 13,
     "metadata": {},
     "output_type": "execute_result"
    }
   ],
   "source": [
    "diff_stein(f, x; σ=1e-1, n=10_000) = 1 / σ * sum(map(e -> f(x + σ * e) * e, randn(n))) / n"
   ]
  },
  {
   "cell_type": "code",
   "execution_count": 14,
   "metadata": {
    "scrolled": false,
    "slideshow": {
     "slide_type": "fragment"
    }
   },
   "outputs": [
    {
     "data": {
      "text/plain": [
       "0.11048031671838421"
      ]
     },
     "execution_count": 14,
     "metadata": {},
     "output_type": "execute_result"
    }
   ],
   "source": [
    "diff_stein(f, 2.0)"
   ]
  },
  {
   "cell_type": "markdown",
   "metadata": {
    "slideshow": {
     "slide_type": "subslide"
    }
   },
   "source": [
    "### Approximations of multiplications with gradients\n",
    "\n",
    "**Gradient-vector approximation**\n",
    "\n",
    "$$\n",
    "\\nabla f(\\mathbf{x})^\\intercal \\mathbf{d} \\approx \\frac{f(\\mathbf{x}+h\\cdot\\mathbf{d}) - f(\\mathbf{x}-h\\cdot\\mathbf{d})}{2h}\n",
    "$$"
   ]
  },
  {
   "cell_type": "markdown",
   "metadata": {
    "slideshow": {
     "slide_type": "fragment"
    }
   },
   "source": [
    "**Hessian-vector approximation**\n",
    "\n",
    "$$\n",
    "\\nabla^2 f(\\mathbf{x}) \\mathbf{d} \\approx \\frac{\\nabla f(\\mathbf{x}+h\\cdot\\mathbf{d}) - \\nabla f(\\mathbf{x}-h\\cdot\\mathbf{d})}{2h}\n",
    "$$"
   ]
  },
  {
   "cell_type": "code",
   "execution_count": 15,
   "metadata": {
    "slideshow": {
     "slide_type": "fragment"
    }
   },
   "outputs": [
    {
     "data": {
      "text/plain": [
       "grad_vect (generic function with 1 method)"
      ]
     },
     "execution_count": 15,
     "metadata": {},
     "output_type": "execute_result"
    }
   ],
   "source": [
    "grad_vect(f, x, d; h=1e-10) = (f(x + h * d) - f(x - h * d)) / (2h)"
   ]
  },
  {
   "cell_type": "code",
   "execution_count": 16,
   "metadata": {
    "scrolled": true,
    "slideshow": {
     "slide_type": "subslide"
    }
   },
   "outputs": [
    {
     "data": {
      "text/plain": [
       "∇²g (generic function with 1 method)"
      ]
     },
     "execution_count": 16,
     "metadata": {},
     "output_type": "execute_result"
    }
   ],
   "source": [
    "dvect = randn(10) / 10\n",
    "xvect = 2rand(10)\n",
    "\n",
    "A = randn(10, 10)\n",
    "A = A * A' / 100\n",
    "\n",
    "#g(x) = exp(- x' * A * x)  # adjoint does not play with Zygote\n",
    "g(x) = exp(- sum(x .* (A * x)))\n",
    "\n",
    "∇g(x) = -2g(x) * A * x\n",
    "∇²g(x) = -2g(x) * A - 2A * x * ∇g(x)'"
   ]
  },
  {
   "cell_type": "code",
   "execution_count": 17,
   "metadata": {
    "slideshow": {
     "slide_type": "subslide"
    }
   },
   "outputs": [
    {
     "data": {
      "text/plain": [
       "0.17605890056079007"
      ]
     },
     "execution_count": 17,
     "metadata": {},
     "output_type": "execute_result"
    }
   ],
   "source": [
    "g(xvect)"
   ]
  },
  {
   "cell_type": "code",
   "execution_count": 18,
   "metadata": {
    "slideshow": {
     "slide_type": "fragment"
    }
   },
   "outputs": [
    {
     "data": {
      "text/plain": [
       "10-element Array{Float64,1}:\n",
       " -0.07889103418685746 \n",
       " -0.11727424527271423 \n",
       " -0.03646415709564342 \n",
       " -0.08370474631809703 \n",
       " -0.0520344325626753  \n",
       "  0.03537380270542239 \n",
       " -0.009685727670876396\n",
       " -0.0416051044148403  \n",
       " -0.016487541816571562\n",
       " -0.0676796264500312  "
      ]
     },
     "execution_count": 18,
     "metadata": {},
     "output_type": "execute_result"
    }
   ],
   "source": [
    "∇g(xvect)"
   ]
  },
  {
   "cell_type": "code",
   "execution_count": 19,
   "metadata": {
    "slideshow": {
     "slide_type": "fragment"
    }
   },
   "outputs": [
    {
     "data": {
      "text/plain": [
       "0.0033515581868264702"
      ]
     },
     "execution_count": 19,
     "metadata": {},
     "output_type": "execute_result"
    }
   ],
   "source": [
    "∇g(xvect)' * dvect"
   ]
  },
  {
   "cell_type": "code",
   "execution_count": 20,
   "metadata": {
    "slideshow": {
     "slide_type": "fragment"
    }
   },
   "outputs": [
    {
     "data": {
      "text/plain": [
       "0.0033516245334652695"
      ]
     },
     "execution_count": 20,
     "metadata": {},
     "output_type": "execute_result"
    }
   ],
   "source": [
    "grad_vect(g, xvect, dvect)"
   ]
  },
  {
   "cell_type": "code",
   "execution_count": 21,
   "metadata": {
    "slideshow": {
     "slide_type": "subslide"
    }
   },
   "outputs": [
    {
     "data": {
      "text/plain": [
       "10-element Array{Float64,1}:\n",
       "  0.004889366184115081 \n",
       " -0.00418744730530694  \n",
       " -0.01514748199714479  \n",
       " -0.0013721949134907682\n",
       " -0.0012343244847557704\n",
       " -0.0015340501116507675\n",
       "  0.00424268000758112  \n",
       " -0.004156626708216924 \n",
       "  0.012662368519419613 \n",
       " -0.011918165704029537 "
      ]
     },
     "execution_count": 21,
     "metadata": {},
     "output_type": "execute_result"
    }
   ],
   "source": [
    "∇²g(xvect) * dvect"
   ]
  },
  {
   "cell_type": "code",
   "execution_count": 22,
   "metadata": {
    "scrolled": true,
    "slideshow": {
     "slide_type": "fragment"
    }
   },
   "outputs": [
    {
     "data": {
      "text/plain": [
       "10-element Array{Float64,1}:\n",
       "  0.004889283422571111 \n",
       " -0.004187691859947051 \n",
       " -0.015147466614351401 \n",
       " -0.0013722356584366935\n",
       " -0.0012343945310355764\n",
       " -0.00153405066427581  \n",
       "  0.004242647899665997 \n",
       " -0.004156675004196586 \n",
       "  0.012662284415432268 \n",
       " -0.011918105391472977 "
      ]
     },
     "execution_count": 22,
     "metadata": {},
     "output_type": "execute_result"
    }
   ],
   "source": [
    "h = 1e-10\n",
    "(∇g(xvect + h * dvect) - ∇g(xvect - h * dvect)) / (2h)"
   ]
  },
  {
   "cell_type": "markdown",
   "metadata": {
    "slideshow": {
     "slide_type": "slide"
    }
   },
   "source": [
    "## Forward differentiation\n",
    "\n",
    "Accumulation of the gradients along the *computational graph*. \n",
    "\n",
    "<img src=\"Figures/compgraph.png\" alt=\"drawing\" width=\"400\"/>"
   ]
  },
  {
   "cell_type": "markdown",
   "metadata": {
    "slideshow": {
     "slide_type": "fragment"
    }
   },
   "source": [
    "Forward differentiation computes the gradient from the inputs to the outputs."
   ]
  },
  {
   "cell_type": "markdown",
   "metadata": {
    "slideshow": {
     "slide_type": "subslide"
    }
   },
   "source": [
    "### Differentiation rules"
   ]
  },
  {
   "cell_type": "markdown",
   "metadata": {
    "slideshow": {
     "slide_type": "fragment"
    }
   },
   "source": [
    "**Sum rule**:\n",
    "\n",
    "$$\n",
    "\\frac{\\partial (f(x)+g(x))}{\\partial x} =  \\frac{\\partial f(x)}{\\partial x} + \\frac{\\partial f(x)}{\\partial x} \n",
    "$$"
   ]
  },
  {
   "cell_type": "markdown",
   "metadata": {
    "slideshow": {
     "slide_type": "fragment"
    }
   },
   "source": [
    "**Product rule**:\n",
    "\n",
    "$$\n",
    "\\frac{\\partial (f(x)g(x))}{\\partial x} =  f(x)\\frac{\\partial g(x)}{\\partial x} + g(x)\\frac{\\partial f(x)}{\\partial x} \n",
    "$$"
   ]
  },
  {
   "cell_type": "markdown",
   "metadata": {
    "slideshow": {
     "slide_type": "fragment"
    }
   },
   "source": [
    "**Chain rule**:\n",
    "\n",
    "$$\n",
    "\\frac{\\partial (g(g(x))}{\\partial x} =  \\frac{\\partial g(u)}{\\partial u}\\mid_{u=f(x)} \\frac{\\partial f(x)}{\\partial x} \n",
    "$$"
   ]
  },
  {
   "cell_type": "markdown",
   "metadata": {},
   "source": [
    "### Example of the forward differentiation\n",
    "\n",
    "<img src=\"Figures/forwarddiff.png\" alt=\"drawing\" width=\"600\"/>"
   ]
  },
  {
   "cell_type": "markdown",
   "metadata": {
    "slideshow": {
     "slide_type": "subslide"
    }
   },
   "source": [
    "### Dual numbers\n",
    "\n",
    "Forward differentiation can be viewed as evaluating function using *dual numbers*, which can be viewed as truncated Taylor series:\n",
    "\n",
    "$$\n",
    "v + \\dot{v}\\epsilon\\,,\n",
    "$$\n",
    "\n",
    "where $v,\\dot{v}\\in\\mathbb{R}$ and $\\epsilon$ a nilpotent number, i.e. $\\epsilon^2=0$. For example, we have\n",
    "\n",
    "$$\n",
    "(v + \\dot{v}\\epsilon) + (u + \\dot{u}\\epsilon) = (v+u) + (\\dot{v} +\\dot{u})\\epsilon\n",
    "$$\n",
    "\n",
    "\n",
    "$$\n",
    "(v + \\dot{v}\\epsilon)(u + \\dot{u}\\epsilon) = (vu) + (v\\dot{u} +\\dot{v}u)\\epsilon\\,.\n",
    "$$\n",
    "\n"
   ]
  },
  {
   "cell_type": "markdown",
   "metadata": {
    "slideshow": {
     "slide_type": "fragment"
    }
   },
   "source": [
    "These dual numbers can be used as\n",
    "\n",
    "$$\n",
    "f(v+\\dot{v}) = f(v) + f'(v)\\dot{v}\\epsilon\\,.\n",
    "$$"
   ]
  },
  {
   "cell_type": "code",
   "execution_count": 23,
   "metadata": {
    "slideshow": {
     "slide_type": "subslide"
    }
   },
   "outputs": [],
   "source": [
    "struct Dual\n",
    "    v\n",
    "    v̇\n",
    "end"
   ]
  },
  {
   "cell_type": "code",
   "execution_count": 24,
   "metadata": {
    "slideshow": {
     "slide_type": "fragment"
    }
   },
   "outputs": [],
   "source": [
    "Base.:+(a::Dual, b::Dual) = Dual(a.v + b.v, a.v̇ + b.v̇)\n",
    "Base.:*(a::Dual, b::Dual) = Dual(a.v * b.v, a.v * b.v̇ + b.v * a.v̇)\n",
    "Base.:*(v::Real, b::Dual) = Dual(v, 0.0) * b\n",
    "Base.:sin(a::Dual) = Dual(sin(a.v), cos(a.v) * a.v̇)\n",
    "Base.:log(a::Dual) = Dual(log(a.v), 1.0 / a.v * a.v̇)\n",
    "Base.:/(a::Dual, b::Dual) = Dual(a.v / b.v, (a.v̇ * b.v - a.v * b.v̇) / b.v^2)"
   ]
  },
  {
   "cell_type": "code",
   "execution_count": 25,
   "metadata": {
    "scrolled": false,
    "slideshow": {
     "slide_type": "fragment"
    }
   },
   "outputs": [
    {
     "name": "stdout",
     "output_type": "stream",
     "text": [
      "  57.520 ns (6 allocations: 144 bytes)\n"
     ]
    },
    {
     "data": {
      "text/plain": [
       "Dual(1.1477958939727861, 0.06460222502000834)"
      ]
     },
     "execution_count": 25,
     "metadata": {},
     "output_type": "execute_result"
    }
   ],
   "source": [
    "@btime f(Dual(2.0, 1.0))"
   ]
  },
  {
   "cell_type": "code",
   "execution_count": 26,
   "metadata": {
    "slideshow": {
     "slide_type": "fragment"
    }
   },
   "outputs": [
    {
     "name": "stdout",
     "output_type": "stream",
     "text": [
      "  57.060 ns (6 allocations: 144 bytes)\n"
     ]
    },
    {
     "data": {
      "text/plain": [
       "0.06460222502000834"
      ]
     },
     "execution_count": 26,
     "metadata": {},
     "output_type": "execute_result"
    }
   ],
   "source": [
    "myforwarddiff(f, x) = f(Dual(x, 1.0)).v̇\n",
    "\n",
    "@btime myforwarddiff($f, 2.0)"
   ]
  },
  {
   "cell_type": "markdown",
   "metadata": {
    "slideshow": {
     "slide_type": "subslide"
    }
   },
   "source": [
    "This directly works for vectors!"
   ]
  },
  {
   "cell_type": "code",
   "execution_count": 27,
   "metadata": {
    "slideshow": {
     "slide_type": "fragment"
    }
   },
   "outputs": [
    {
     "data": {
      "text/plain": [
       "q (generic function with 1 method)"
      ]
     },
     "execution_count": 27,
     "metadata": {},
     "output_type": "execute_result"
    }
   ],
   "source": [
    "q(x) = 10.0 * x[1] * x[2] + x[1] * x[1] + sin(x[1]) / x[2]"
   ]
  },
  {
   "cell_type": "code",
   "execution_count": 28,
   "metadata": {
    "scrolled": true,
    "slideshow": {
     "slide_type": "fragment"
    }
   },
   "outputs": [
    {
     "data": {
      "text/plain": [
       "21.42073549240395"
      ]
     },
     "execution_count": 28,
     "metadata": {},
     "output_type": "execute_result"
    }
   ],
   "source": [
    "q([1, 2])"
   ]
  },
  {
   "cell_type": "code",
   "execution_count": 29,
   "metadata": {
    "slideshow": {
     "slide_type": "fragment"
    }
   },
   "outputs": [
    {
     "data": {
      "text/plain": [
       "Dual(21.42073549240395, 22.27015115293407)"
      ]
     },
     "execution_count": 29,
     "metadata": {},
     "output_type": "execute_result"
    }
   ],
   "source": [
    "q(Dual.([1, 2], [1, 0]))  # partial wrt x1"
   ]
  },
  {
   "cell_type": "code",
   "execution_count": 30,
   "metadata": {
    "slideshow": {
     "slide_type": "fragment"
    }
   },
   "outputs": [
    {
     "data": {
      "text/plain": [
       "Dual(21.42073549240395, 9.789632253798025)"
      ]
     },
     "execution_count": 30,
     "metadata": {},
     "output_type": "execute_result"
    }
   ],
   "source": [
    "q(Dual.([1, 2], [0, 1]))  # partial wrt x2"
   ]
  },
  {
   "cell_type": "code",
   "execution_count": 31,
   "metadata": {
    "slideshow": {
     "slide_type": "subslide"
    }
   },
   "outputs": [],
   "source": [
    "using ForwardDiff"
   ]
  },
  {
   "cell_type": "code",
   "execution_count": 32,
   "metadata": {
    "slideshow": {
     "slide_type": "fragment"
    }
   },
   "outputs": [
    {
     "name": "stdout",
     "output_type": "stream",
     "text": [
      "  2.661 ns (0 allocations: 0 bytes)\n"
     ]
    },
    {
     "data": {
      "text/plain": [
       "0.06460222502000834"
      ]
     },
     "execution_count": 32,
     "metadata": {},
     "output_type": "execute_result"
    }
   ],
   "source": [
    "@btime ForwardDiff.derivative($f, 2.0)"
   ]
  },
  {
   "cell_type": "code",
   "execution_count": 33,
   "metadata": {
    "slideshow": {
     "slide_type": "fragment"
    }
   },
   "outputs": [
    {
     "name": "stdout",
     "output_type": "stream",
     "text": [
      "  2.220 μs (10 allocations: 4.23 KiB)\n"
     ]
    },
    {
     "data": {
      "text/plain": [
       "10-element Array{Float64,1}:\n",
       " -0.07889103418685744 \n",
       " -0.11727424527271425 \n",
       " -0.036464157095643435\n",
       " -0.08370474631809703 \n",
       " -0.052034432562675294\n",
       "  0.03537380270542239 \n",
       " -0.009685727670876396\n",
       " -0.04160510441484029 \n",
       " -0.016487541816571548\n",
       " -0.06767962645003121 "
      ]
     },
     "execution_count": 33,
     "metadata": {},
     "output_type": "execute_result"
    }
   ],
   "source": [
    "@btime ForwardDiff.gradient($g, $xvect)"
   ]
  },
  {
   "cell_type": "code",
   "execution_count": 34,
   "metadata": {
    "scrolled": true,
    "slideshow": {
     "slide_type": "fragment"
    }
   },
   "outputs": [
    {
     "data": {
      "text/plain": [
       "2-element Array{Float64,1}:\n",
       " 22.27015115293407 \n",
       "  9.789632253798025"
      ]
     },
     "execution_count": 34,
     "metadata": {},
     "output_type": "execute_result"
    }
   ],
   "source": [
    "ForwardDiff.gradient(q, [1, 2])"
   ]
  },
  {
   "cell_type": "markdown",
   "metadata": {
    "slideshow": {
     "slide_type": "subslide"
    }
   },
   "source": [
    "Forward differentiation:\n",
    "\n",
    "- exact gradients!\n",
    "- computational complexity scales with **number of inputs**\n",
    "- used when you have more outputs than inputs"
   ]
  },
  {
   "cell_type": "markdown",
   "metadata": {
    "slideshow": {
     "slide_type": "slide"
    }
   },
   "source": [
    "## Reverse differentiation\n",
    "\n",
    "Compute the gradient from the output toward the inputs using the chain rule.\n",
    "\n",
    "<img src=\"Figures/reversediff.png\" alt=\"drawing\" width=\"600\"/>"
   ]
  },
  {
   "cell_type": "markdown",
   "metadata": {
    "slideshow": {
     "slide_type": "subslide"
    }
   },
   "source": [
    "Reverse differentiation:\n",
    "\n",
    "- also exact!\n",
    "- main workhorse for training artificial neural networks!\n",
    "- efficient when more inputs than outputs (machine learning: thousands of parameters vs. one loss)"
   ]
  },
  {
   "cell_type": "code",
   "execution_count": 35,
   "metadata": {
    "slideshow": {
     "slide_type": "subslide"
    }
   },
   "outputs": [],
   "source": [
    "using Zygote"
   ]
  },
  {
   "cell_type": "code",
   "execution_count": 36,
   "metadata": {
    "slideshow": {
     "slide_type": "fragment"
    }
   },
   "outputs": [
    {
     "name": "stdout",
     "output_type": "stream",
     "text": [
      "  2.666 ns (0 allocations: 0 bytes)\n"
     ]
    },
    {
     "data": {
      "text/plain": [
       "0.06460222502000834"
      ]
     },
     "execution_count": 36,
     "metadata": {},
     "output_type": "execute_result"
    }
   ],
   "source": [
    "@btime f'(2.0)"
   ]
  },
  {
   "cell_type": "code",
   "execution_count": 37,
   "metadata": {
    "scrolled": false,
    "slideshow": {
     "slide_type": "fragment"
    }
   },
   "outputs": [
    {
     "name": "stdout",
     "output_type": "stream",
     "text": [
      "  5.961 μs (46 allocations: 3.52 KiB)\n"
     ]
    },
    {
     "data": {
      "text/plain": [
       "10-element Array{Float64,1}:\n",
       " -0.07889103418685747 \n",
       " -0.11727424527271424 \n",
       " -0.03646415709564342 \n",
       " -0.08370474631809705 \n",
       " -0.0520344325626753  \n",
       "  0.0353738027054224  \n",
       " -0.009685727670876401\n",
       " -0.04160510441484029 \n",
       " -0.01648754181657155 \n",
       " -0.0676796264500312  "
      ]
     },
     "execution_count": 37,
     "metadata": {},
     "output_type": "execute_result"
    }
   ],
   "source": [
    "@btime g'(xvect)"
   ]
  },
  {
   "cell_type": "markdown",
   "metadata": {
    "slideshow": {
     "slide_type": "slide"
    }
   },
   "source": [
    "## Application: deep learning"
   ]
  },
  {
   "cell_type": "markdown",
   "metadata": {
    "slideshow": {
     "slide_type": "fragment"
    }
   },
   "source": [
    "Multi-layer perceptron.\n",
    "\n",
    "<img src=\"Figures/ANN_example.png\" alt=\"drawing\" width=\"200\"/>"
   ]
  },
  {
   "cell_type": "markdown",
   "metadata": {
    "slideshow": {
     "slide_type": "subslide"
    }
   },
   "source": [
    "Reverse differentation or backpropagation.\n",
    "\n",
    "<img src=\"Figures/Forwardprop.png\" alt=\"drawing\" width=\"500\"/>"
   ]
  },
  {
   "cell_type": "markdown",
   "metadata": {
    "slideshow": {
     "slide_type": "subslide"
    }
   },
   "source": [
    "Reverse differentation or backpropagation.\n",
    "\n",
    "<img src=\"Figures/Backprop.png\" alt=\"drawing\" width=\"500\"/>"
   ]
  },
  {
   "cell_type": "markdown",
   "metadata": {
    "slideshow": {
     "slide_type": "slide"
    }
   },
   "source": [
    "## Exercise: logistic regression\n",
    "\n",
    "Recall logistic regression on a training set $S=\\{(\\mathbf{x}_i, y_i)\\mid i=1,\\ldots,n\\}$ with $y\\in\\{0,1\\}$.\n",
    "\n",
    "Prediction:\n",
    "\n",
    "$$\n",
    "f(\\mathbf{x}) = \\sigma(\\mathbf{w}^\\intercal\\mathbf{x})\\,,\n",
    "$$\n",
    "\n",
    "with $\\sigma(t) = 1 /(1+exp(t))$.\n",
    "\n",
    "To find the parameter vector $\\mathbf{w}$, we minimize the cross-entropy:\n",
    "\n",
    "$$\n",
    "L(\\mathbf{w};S)= \\sum_{i=1}^n = - y_i \\log(f(\\mathbf{x})) - (1-y_i)\\log(1-f(\\mathbf{x}))\\,.\n",
    "$$"
   ]
  },
  {
   "cell_type": "code",
   "execution_count": 38,
   "metadata": {
    "slideshow": {
     "slide_type": "subslide"
    }
   },
   "outputs": [
    {
     "data": {
      "image/svg+xml": [
       "<?xml version=\"1.0\" encoding=\"utf-8\"?>\n",
       "<svg xmlns=\"http://www.w3.org/2000/svg\" xmlns:xlink=\"http://www.w3.org/1999/xlink\" width=\"600\" height=\"400\" viewBox=\"0 0 2400 1600\">\n",
       "<defs>\n",
       "  <clipPath id=\"clip1000\">\n",
       "    <rect x=\"0\" y=\"0\" width=\"2400\" height=\"1600\"/>\n",
       "  </clipPath>\n",
       "</defs>\n",
       "<polygon clip-path=\"url(#clip1000)\" points=\"\n",
       "0,1600 2400,1600 2400,0 0,0 \n",
       "  \" fill=\"#ffffff\" fill-rule=\"evenodd\" fill-opacity=\"1\"/>\n",
       "<defs>\n",
       "  <clipPath id=\"clip1001\">\n",
       "    <rect x=\"480\" y=\"0\" width=\"1681\" height=\"1600\"/>\n",
       "  </clipPath>\n",
       "</defs>\n",
       "<polygon clip-path=\"url(#clip1000)\" points=\"\n",
       "149.361,1503.47 2321.26,1503.47 2321.26,47.2441 149.361,47.2441 \n",
       "  \" fill=\"#ffffff\" fill-rule=\"evenodd\" fill-opacity=\"1\"/>\n",
       "<defs>\n",
       "  <clipPath id=\"clip1002\">\n",
       "    <rect x=\"149\" y=\"47\" width=\"2173\" height=\"1457\"/>\n",
       "  </clipPath>\n",
       "</defs>\n",
       "<polyline clip-path=\"url(#clip1002)\" style=\"stroke:#000000; stroke-width:2; stroke-opacity:0.1; fill:none\" points=\"\n",
       "  304.496,1503.47 304.496,47.2441 \n",
       "  \"/>\n",
       "<polyline clip-path=\"url(#clip1002)\" style=\"stroke:#000000; stroke-width:2; stroke-opacity:0.1; fill:none\" points=\"\n",
       "  644.829,1503.47 644.829,47.2441 \n",
       "  \"/>\n",
       "<polyline clip-path=\"url(#clip1002)\" style=\"stroke:#000000; stroke-width:2; stroke-opacity:0.1; fill:none\" points=\"\n",
       "  985.163,1503.47 985.163,47.2441 \n",
       "  \"/>\n",
       "<polyline clip-path=\"url(#clip1002)\" style=\"stroke:#000000; stroke-width:2; stroke-opacity:0.1; fill:none\" points=\"\n",
       "  1325.5,1503.47 1325.5,47.2441 \n",
       "  \"/>\n",
       "<polyline clip-path=\"url(#clip1002)\" style=\"stroke:#000000; stroke-width:2; stroke-opacity:0.1; fill:none\" points=\"\n",
       "  1665.83,1503.47 1665.83,47.2441 \n",
       "  \"/>\n",
       "<polyline clip-path=\"url(#clip1002)\" style=\"stroke:#000000; stroke-width:2; stroke-opacity:0.1; fill:none\" points=\"\n",
       "  2006.16,1503.47 2006.16,47.2441 \n",
       "  \"/>\n",
       "<polyline clip-path=\"url(#clip1002)\" style=\"stroke:#000000; stroke-width:2; stroke-opacity:0.1; fill:none\" points=\"\n",
       "  149.361,1312.33 2321.26,1312.33 \n",
       "  \"/>\n",
       "<polyline clip-path=\"url(#clip1002)\" style=\"stroke:#000000; stroke-width:2; stroke-opacity:0.1; fill:none\" points=\"\n",
       "  149.361,1110.99 2321.26,1110.99 \n",
       "  \"/>\n",
       "<polyline clip-path=\"url(#clip1002)\" style=\"stroke:#000000; stroke-width:2; stroke-opacity:0.1; fill:none\" points=\"\n",
       "  149.361,909.649 2321.26,909.649 \n",
       "  \"/>\n",
       "<polyline clip-path=\"url(#clip1002)\" style=\"stroke:#000000; stroke-width:2; stroke-opacity:0.1; fill:none\" points=\"\n",
       "  149.361,708.307 2321.26,708.307 \n",
       "  \"/>\n",
       "<polyline clip-path=\"url(#clip1002)\" style=\"stroke:#000000; stroke-width:2; stroke-opacity:0.1; fill:none\" points=\"\n",
       "  149.361,506.965 2321.26,506.965 \n",
       "  \"/>\n",
       "<polyline clip-path=\"url(#clip1002)\" style=\"stroke:#000000; stroke-width:2; stroke-opacity:0.1; fill:none\" points=\"\n",
       "  149.361,305.623 2321.26,305.623 \n",
       "  \"/>\n",
       "<polyline clip-path=\"url(#clip1002)\" style=\"stroke:#000000; stroke-width:2; stroke-opacity:0.1; fill:none\" points=\"\n",
       "  149.361,104.281 2321.26,104.281 \n",
       "  \"/>\n",
       "<polyline clip-path=\"url(#clip1000)\" style=\"stroke:#000000; stroke-width:4; stroke-opacity:1; fill:none\" points=\"\n",
       "  149.361,1503.47 2321.26,1503.47 \n",
       "  \"/>\n",
       "<polyline clip-path=\"url(#clip1000)\" style=\"stroke:#000000; stroke-width:4; stroke-opacity:1; fill:none\" points=\"\n",
       "  149.361,1503.47 149.361,47.2441 \n",
       "  \"/>\n",
       "<polyline clip-path=\"url(#clip1000)\" style=\"stroke:#000000; stroke-width:4; stroke-opacity:1; fill:none\" points=\"\n",
       "  304.496,1503.47 304.496,1481.63 \n",
       "  \"/>\n",
       "<polyline clip-path=\"url(#clip1000)\" style=\"stroke:#000000; stroke-width:4; stroke-opacity:1; fill:none\" points=\"\n",
       "  644.829,1503.47 644.829,1481.63 \n",
       "  \"/>\n",
       "<polyline clip-path=\"url(#clip1000)\" style=\"stroke:#000000; stroke-width:4; stroke-opacity:1; fill:none\" points=\"\n",
       "  985.163,1503.47 985.163,1481.63 \n",
       "  \"/>\n",
       "<polyline clip-path=\"url(#clip1000)\" style=\"stroke:#000000; stroke-width:4; stroke-opacity:1; fill:none\" points=\"\n",
       "  1325.5,1503.47 1325.5,1481.63 \n",
       "  \"/>\n",
       "<polyline clip-path=\"url(#clip1000)\" style=\"stroke:#000000; stroke-width:4; stroke-opacity:1; fill:none\" points=\"\n",
       "  1665.83,1503.47 1665.83,1481.63 \n",
       "  \"/>\n",
       "<polyline clip-path=\"url(#clip1000)\" style=\"stroke:#000000; stroke-width:4; stroke-opacity:1; fill:none\" points=\"\n",
       "  2006.16,1503.47 2006.16,1481.63 \n",
       "  \"/>\n",
       "<polyline clip-path=\"url(#clip1000)\" style=\"stroke:#000000; stroke-width:4; stroke-opacity:1; fill:none\" points=\"\n",
       "  149.361,1312.33 181.939,1312.33 \n",
       "  \"/>\n",
       "<polyline clip-path=\"url(#clip1000)\" style=\"stroke:#000000; stroke-width:4; stroke-opacity:1; fill:none\" points=\"\n",
       "  149.361,1110.99 181.939,1110.99 \n",
       "  \"/>\n",
       "<polyline clip-path=\"url(#clip1000)\" style=\"stroke:#000000; stroke-width:4; stroke-opacity:1; fill:none\" points=\"\n",
       "  149.361,909.649 181.939,909.649 \n",
       "  \"/>\n",
       "<polyline clip-path=\"url(#clip1000)\" style=\"stroke:#000000; stroke-width:4; stroke-opacity:1; fill:none\" points=\"\n",
       "  149.361,708.307 181.939,708.307 \n",
       "  \"/>\n",
       "<polyline clip-path=\"url(#clip1000)\" style=\"stroke:#000000; stroke-width:4; stroke-opacity:1; fill:none\" points=\"\n",
       "  149.361,506.965 181.939,506.965 \n",
       "  \"/>\n",
       "<polyline clip-path=\"url(#clip1000)\" style=\"stroke:#000000; stroke-width:4; stroke-opacity:1; fill:none\" points=\"\n",
       "  149.361,305.623 181.939,305.623 \n",
       "  \"/>\n",
       "<polyline clip-path=\"url(#clip1000)\" style=\"stroke:#000000; stroke-width:4; stroke-opacity:1; fill:none\" points=\"\n",
       "  149.361,104.281 181.939,104.281 \n",
       "  \"/>\n",
       "<g clip-path=\"url(#clip1000)\">\n",
       "<text style=\"fill:#000000; fill-opacity:1; font-family:Arial,Helvetica Neue,Helvetica,sans-serif; font-size:48px; text-anchor:middle;\" transform=\"rotate(0, 304.496, 1557.47)\" x=\"304.496\" y=\"1557.47\">-3</text>\n",
       "</g>\n",
       "<g clip-path=\"url(#clip1000)\">\n",
       "<text style=\"fill:#000000; fill-opacity:1; font-family:Arial,Helvetica Neue,Helvetica,sans-serif; font-size:48px; text-anchor:middle;\" transform=\"rotate(0, 644.829, 1557.47)\" x=\"644.829\" y=\"1557.47\">-2</text>\n",
       "</g>\n",
       "<g clip-path=\"url(#clip1000)\">\n",
       "<text style=\"fill:#000000; fill-opacity:1; font-family:Arial,Helvetica Neue,Helvetica,sans-serif; font-size:48px; text-anchor:middle;\" transform=\"rotate(0, 985.163, 1557.47)\" x=\"985.163\" y=\"1557.47\">-1</text>\n",
       "</g>\n",
       "<g clip-path=\"url(#clip1000)\">\n",
       "<text style=\"fill:#000000; fill-opacity:1; font-family:Arial,Helvetica Neue,Helvetica,sans-serif; font-size:48px; text-anchor:middle;\" transform=\"rotate(0, 1325.5, 1557.47)\" x=\"1325.5\" y=\"1557.47\">0</text>\n",
       "</g>\n",
       "<g clip-path=\"url(#clip1000)\">\n",
       "<text style=\"fill:#000000; fill-opacity:1; font-family:Arial,Helvetica Neue,Helvetica,sans-serif; font-size:48px; text-anchor:middle;\" transform=\"rotate(0, 1665.83, 1557.47)\" x=\"1665.83\" y=\"1557.47\">1</text>\n",
       "</g>\n",
       "<g clip-path=\"url(#clip1000)\">\n",
       "<text style=\"fill:#000000; fill-opacity:1; font-family:Arial,Helvetica Neue,Helvetica,sans-serif; font-size:48px; text-anchor:middle;\" transform=\"rotate(0, 2006.16, 1557.47)\" x=\"2006.16\" y=\"1557.47\">2</text>\n",
       "</g>\n",
       "<g clip-path=\"url(#clip1000)\">\n",
       "<text style=\"fill:#000000; fill-opacity:1; font-family:Arial,Helvetica Neue,Helvetica,sans-serif; font-size:48px; text-anchor:end;\" transform=\"rotate(0, 125.361, 1329.83)\" x=\"125.361\" y=\"1329.83\">-1</text>\n",
       "</g>\n",
       "<g clip-path=\"url(#clip1000)\">\n",
       "<text style=\"fill:#000000; fill-opacity:1; font-family:Arial,Helvetica Neue,Helvetica,sans-serif; font-size:48px; text-anchor:end;\" transform=\"rotate(0, 125.361, 1128.49)\" x=\"125.361\" y=\"1128.49\">0</text>\n",
       "</g>\n",
       "<g clip-path=\"url(#clip1000)\">\n",
       "<text style=\"fill:#000000; fill-opacity:1; font-family:Arial,Helvetica Neue,Helvetica,sans-serif; font-size:48px; text-anchor:end;\" transform=\"rotate(0, 125.361, 927.149)\" x=\"125.361\" y=\"927.149\">1</text>\n",
       "</g>\n",
       "<g clip-path=\"url(#clip1000)\">\n",
       "<text style=\"fill:#000000; fill-opacity:1; font-family:Arial,Helvetica Neue,Helvetica,sans-serif; font-size:48px; text-anchor:end;\" transform=\"rotate(0, 125.361, 725.807)\" x=\"125.361\" y=\"725.807\">2</text>\n",
       "</g>\n",
       "<g clip-path=\"url(#clip1000)\">\n",
       "<text style=\"fill:#000000; fill-opacity:1; font-family:Arial,Helvetica Neue,Helvetica,sans-serif; font-size:48px; text-anchor:end;\" transform=\"rotate(0, 125.361, 524.465)\" x=\"125.361\" y=\"524.465\">3</text>\n",
       "</g>\n",
       "<g clip-path=\"url(#clip1000)\">\n",
       "<text style=\"fill:#000000; fill-opacity:1; font-family:Arial,Helvetica Neue,Helvetica,sans-serif; font-size:48px; text-anchor:end;\" transform=\"rotate(0, 125.361, 323.123)\" x=\"125.361\" y=\"323.123\">4</text>\n",
       "</g>\n",
       "<g clip-path=\"url(#clip1000)\">\n",
       "<text style=\"fill:#000000; fill-opacity:1; font-family:Arial,Helvetica Neue,Helvetica,sans-serif; font-size:48px; text-anchor:end;\" transform=\"rotate(0, 125.361, 121.781)\" x=\"125.361\" y=\"121.781\">5</text>\n",
       "</g>\n",
       "<circle clip-path=\"url(#clip1002)\" style=\"fill:#000000; stroke:none; fill-opacity:1\" cx=\"1814.99\" cy=\"1366.26\" r=\"18\"/>\n",
       "<circle clip-path=\"url(#clip1002)\" style=\"fill:#d968a2; stroke:none; fill-opacity:1\" cx=\"1814.99\" cy=\"1366.26\" r=\"14\"/>\n",
       "<circle clip-path=\"url(#clip1002)\" style=\"fill:#000000; stroke:none; fill-opacity:1\" cx=\"1305.92\" cy=\"760.107\" r=\"18\"/>\n",
       "<circle clip-path=\"url(#clip1002)\" style=\"fill:#d968a2; stroke:none; fill-opacity:1\" cx=\"1305.92\" cy=\"760.107\" r=\"14\"/>\n",
       "<circle clip-path=\"url(#clip1002)\" style=\"fill:#000000; stroke:none; fill-opacity:1\" cx=\"1711.17\" cy=\"978.234\" r=\"18\"/>\n",
       "<circle clip-path=\"url(#clip1002)\" style=\"fill:#d968a2; stroke:none; fill-opacity:1\" cx=\"1711.17\" cy=\"978.234\" r=\"14\"/>\n",
       "<circle clip-path=\"url(#clip1002)\" style=\"fill:#000000; stroke:none; fill-opacity:1\" cx=\"1409.73\" cy=\"1064.68\" r=\"18\"/>\n",
       "<circle clip-path=\"url(#clip1002)\" style=\"fill:#d968a2; stroke:none; fill-opacity:1\" cx=\"1409.73\" cy=\"1064.68\" r=\"14\"/>\n",
       "<circle clip-path=\"url(#clip1002)\" style=\"fill:#000000; stroke:none; fill-opacity:1\" cx=\"1867.6\" cy=\"1061.96\" r=\"18\"/>\n",
       "<circle clip-path=\"url(#clip1002)\" style=\"fill:#d968a2; stroke:none; fill-opacity:1\" cx=\"1867.6\" cy=\"1061.96\" r=\"14\"/>\n",
       "<circle clip-path=\"url(#clip1002)\" style=\"fill:#000000; stroke:none; fill-opacity:1\" cx=\"1430.82\" cy=\"859.048\" r=\"18\"/>\n",
       "<circle clip-path=\"url(#clip1002)\" style=\"fill:#d968a2; stroke:none; fill-opacity:1\" cx=\"1430.82\" cy=\"859.048\" r=\"14\"/>\n",
       "<circle clip-path=\"url(#clip1002)\" style=\"fill:#000000; stroke:none; fill-opacity:1\" cx=\"1493.72\" cy=\"1203.17\" r=\"18\"/>\n",
       "<circle clip-path=\"url(#clip1002)\" style=\"fill:#d968a2; stroke:none; fill-opacity:1\" cx=\"1493.72\" cy=\"1203.17\" r=\"14\"/>\n",
       "<circle clip-path=\"url(#clip1002)\" style=\"fill:#000000; stroke:none; fill-opacity:1\" cx=\"1029.56\" cy=\"891.736\" r=\"18\"/>\n",
       "<circle clip-path=\"url(#clip1002)\" style=\"fill:#d968a2; stroke:none; fill-opacity:1\" cx=\"1029.56\" cy=\"891.736\" r=\"14\"/>\n",
       "<circle clip-path=\"url(#clip1002)\" style=\"fill:#000000; stroke:none; fill-opacity:1\" cx=\"1230.55\" cy=\"1183.81\" r=\"18\"/>\n",
       "<circle clip-path=\"url(#clip1002)\" style=\"fill:#d968a2; stroke:none; fill-opacity:1\" cx=\"1230.55\" cy=\"1183.81\" r=\"14\"/>\n",
       "<circle clip-path=\"url(#clip1002)\" style=\"fill:#000000; stroke:none; fill-opacity:1\" cx=\"863.893\" cy=\"1236.14\" r=\"18\"/>\n",
       "<circle clip-path=\"url(#clip1002)\" style=\"fill:#d968a2; stroke:none; fill-opacity:1\" cx=\"863.893\" cy=\"1236.14\" r=\"14\"/>\n",
       "<circle clip-path=\"url(#clip1002)\" style=\"fill:#000000; stroke:none; fill-opacity:1\" cx=\"1602.66\" cy=\"1006.89\" r=\"18\"/>\n",
       "<circle clip-path=\"url(#clip1002)\" style=\"fill:#d968a2; stroke:none; fill-opacity:1\" cx=\"1602.66\" cy=\"1006.89\" r=\"14\"/>\n",
       "<circle clip-path=\"url(#clip1002)\" style=\"fill:#000000; stroke:none; fill-opacity:1\" cx=\"1148.06\" cy=\"1047.39\" r=\"18\"/>\n",
       "<circle clip-path=\"url(#clip1002)\" style=\"fill:#d968a2; stroke:none; fill-opacity:1\" cx=\"1148.06\" cy=\"1047.39\" r=\"14\"/>\n",
       "<circle clip-path=\"url(#clip1002)\" style=\"fill:#000000; stroke:none; fill-opacity:1\" cx=\"2048.04\" cy=\"1389.91\" r=\"18\"/>\n",
       "<circle clip-path=\"url(#clip1002)\" style=\"fill:#d968a2; stroke:none; fill-opacity:1\" cx=\"2048.04\" cy=\"1389.91\" r=\"14\"/>\n",
       "<circle clip-path=\"url(#clip1002)\" style=\"fill:#000000; stroke:none; fill-opacity:1\" cx=\"912.895\" cy=\"864.8\" r=\"18\"/>\n",
       "<circle clip-path=\"url(#clip1002)\" style=\"fill:#d968a2; stroke:none; fill-opacity:1\" cx=\"912.895\" cy=\"864.8\" r=\"14\"/>\n",
       "<circle clip-path=\"url(#clip1002)\" style=\"fill:#000000; stroke:none; fill-opacity:1\" cx=\"1392.45\" cy=\"1072.26\" r=\"18\"/>\n",
       "<circle clip-path=\"url(#clip1002)\" style=\"fill:#d968a2; stroke:none; fill-opacity:1\" cx=\"1392.45\" cy=\"1072.26\" r=\"14\"/>\n",
       "<circle clip-path=\"url(#clip1002)\" style=\"fill:#000000; stroke:none; fill-opacity:1\" cx=\"1349.6\" cy=\"935.086\" r=\"18\"/>\n",
       "<circle clip-path=\"url(#clip1002)\" style=\"fill:#d968a2; stroke:none; fill-opacity:1\" cx=\"1349.6\" cy=\"935.086\" r=\"14\"/>\n",
       "<circle clip-path=\"url(#clip1002)\" style=\"fill:#000000; stroke:none; fill-opacity:1\" cx=\"1464.5\" cy=\"939.151\" r=\"18\"/>\n",
       "<circle clip-path=\"url(#clip1002)\" style=\"fill:#d968a2; stroke:none; fill-opacity:1\" cx=\"1464.5\" cy=\"939.151\" r=\"14\"/>\n",
       "<circle clip-path=\"url(#clip1002)\" style=\"fill:#000000; stroke:none; fill-opacity:1\" cx=\"1574.46\" cy=\"826.009\" r=\"18\"/>\n",
       "<circle clip-path=\"url(#clip1002)\" style=\"fill:#d968a2; stroke:none; fill-opacity:1\" cx=\"1574.46\" cy=\"826.009\" r=\"14\"/>\n",
       "<circle clip-path=\"url(#clip1002)\" style=\"fill:#000000; stroke:none; fill-opacity:1\" cx=\"1420.88\" cy=\"1050.21\" r=\"18\"/>\n",
       "<circle clip-path=\"url(#clip1002)\" style=\"fill:#d968a2; stroke:none; fill-opacity:1\" cx=\"1420.88\" cy=\"1050.21\" r=\"14\"/>\n",
       "<circle clip-path=\"url(#clip1002)\" style=\"fill:#000000; stroke:none; fill-opacity:1\" cx=\"1557.13\" cy=\"1097.36\" r=\"18\"/>\n",
       "<circle clip-path=\"url(#clip1002)\" style=\"fill:#d968a2; stroke:none; fill-opacity:1\" cx=\"1557.13\" cy=\"1097.36\" r=\"14\"/>\n",
       "<circle clip-path=\"url(#clip1002)\" style=\"fill:#000000; stroke:none; fill-opacity:1\" cx=\"1143.79\" cy=\"1058.86\" r=\"18\"/>\n",
       "<circle clip-path=\"url(#clip1002)\" style=\"fill:#d968a2; stroke:none; fill-opacity:1\" cx=\"1143.79\" cy=\"1058.86\" r=\"14\"/>\n",
       "<circle clip-path=\"url(#clip1002)\" style=\"fill:#000000; stroke:none; fill-opacity:1\" cx=\"835.441\" cy=\"1205.83\" r=\"18\"/>\n",
       "<circle clip-path=\"url(#clip1002)\" style=\"fill:#d968a2; stroke:none; fill-opacity:1\" cx=\"835.441\" cy=\"1205.83\" r=\"14\"/>\n",
       "<circle clip-path=\"url(#clip1002)\" style=\"fill:#000000; stroke:none; fill-opacity:1\" cx=\"893.797\" cy=\"811.595\" r=\"18\"/>\n",
       "<circle clip-path=\"url(#clip1002)\" style=\"fill:#d968a2; stroke:none; fill-opacity:1\" cx=\"893.797\" cy=\"811.595\" r=\"14\"/>\n",
       "<circle clip-path=\"url(#clip1002)\" style=\"fill:#000000; stroke:none; fill-opacity:1\" cx=\"1257.51\" cy=\"1265.79\" r=\"18\"/>\n",
       "<circle clip-path=\"url(#clip1002)\" style=\"fill:#d968a2; stroke:none; fill-opacity:1\" cx=\"1257.51\" cy=\"1265.79\" r=\"14\"/>\n",
       "<circle clip-path=\"url(#clip1002)\" style=\"fill:#000000; stroke:none; fill-opacity:1\" cx=\"1563.48\" cy=\"1294.52\" r=\"18\"/>\n",
       "<circle clip-path=\"url(#clip1002)\" style=\"fill:#d968a2; stroke:none; fill-opacity:1\" cx=\"1563.48\" cy=\"1294.52\" r=\"14\"/>\n",
       "<circle clip-path=\"url(#clip1002)\" style=\"fill:#000000; stroke:none; fill-opacity:1\" cx=\"1385.66\" cy=\"1248.96\" r=\"18\"/>\n",
       "<circle clip-path=\"url(#clip1002)\" style=\"fill:#d968a2; stroke:none; fill-opacity:1\" cx=\"1385.66\" cy=\"1248.96\" r=\"14\"/>\n",
       "<circle clip-path=\"url(#clip1002)\" style=\"fill:#000000; stroke:none; fill-opacity:1\" cx=\"1222.03\" cy=\"1186.53\" r=\"18\"/>\n",
       "<circle clip-path=\"url(#clip1002)\" style=\"fill:#d968a2; stroke:none; fill-opacity:1\" cx=\"1222.03\" cy=\"1186.53\" r=\"14\"/>\n",
       "<circle clip-path=\"url(#clip1002)\" style=\"fill:#000000; stroke:none; fill-opacity:1\" cx=\"1611.22\" cy=\"1018.11\" r=\"18\"/>\n",
       "<circle clip-path=\"url(#clip1002)\" style=\"fill:#d968a2; stroke:none; fill-opacity:1\" cx=\"1611.22\" cy=\"1018.11\" r=\"14\"/>\n",
       "<circle clip-path=\"url(#clip1002)\" style=\"fill:#000000; stroke:none; fill-opacity:1\" cx=\"682.962\" cy=\"975.203\" r=\"18\"/>\n",
       "<circle clip-path=\"url(#clip1002)\" style=\"fill:#d968a2; stroke:none; fill-opacity:1\" cx=\"682.962\" cy=\"975.203\" r=\"14\"/>\n",
       "<circle clip-path=\"url(#clip1002)\" style=\"fill:#000000; stroke:none; fill-opacity:1\" cx=\"796.524\" cy=\"1270.2\" r=\"18\"/>\n",
       "<circle clip-path=\"url(#clip1002)\" style=\"fill:#d968a2; stroke:none; fill-opacity:1\" cx=\"796.524\" cy=\"1270.2\" r=\"14\"/>\n",
       "<circle clip-path=\"url(#clip1002)\" style=\"fill:#000000; stroke:none; fill-opacity:1\" cx=\"1113.41\" cy=\"831.046\" r=\"18\"/>\n",
       "<circle clip-path=\"url(#clip1002)\" style=\"fill:#d968a2; stroke:none; fill-opacity:1\" cx=\"1113.41\" cy=\"831.046\" r=\"14\"/>\n",
       "<circle clip-path=\"url(#clip1002)\" style=\"fill:#000000; stroke:none; fill-opacity:1\" cx=\"1254.48\" cy=\"776.72\" r=\"18\"/>\n",
       "<circle clip-path=\"url(#clip1002)\" style=\"fill:#d968a2; stroke:none; fill-opacity:1\" cx=\"1254.48\" cy=\"776.72\" r=\"14\"/>\n",
       "<circle clip-path=\"url(#clip1002)\" style=\"fill:#000000; stroke:none; fill-opacity:1\" cx=\"1583.74\" cy=\"1042\" r=\"18\"/>\n",
       "<circle clip-path=\"url(#clip1002)\" style=\"fill:#d968a2; stroke:none; fill-opacity:1\" cx=\"1583.74\" cy=\"1042\" r=\"14\"/>\n",
       "<circle clip-path=\"url(#clip1002)\" style=\"fill:#000000; stroke:none; fill-opacity:1\" cx=\"1502.97\" cy=\"1441.88\" r=\"18\"/>\n",
       "<circle clip-path=\"url(#clip1002)\" style=\"fill:#d968a2; stroke:none; fill-opacity:1\" cx=\"1502.97\" cy=\"1441.88\" r=\"14\"/>\n",
       "<circle clip-path=\"url(#clip1002)\" style=\"fill:#000000; stroke:none; fill-opacity:1\" cx=\"1722.88\" cy=\"834.725\" r=\"18\"/>\n",
       "<circle clip-path=\"url(#clip1002)\" style=\"fill:#d968a2; stroke:none; fill-opacity:1\" cx=\"1722.88\" cy=\"834.725\" r=\"14\"/>\n",
       "<circle clip-path=\"url(#clip1002)\" style=\"fill:#000000; stroke:none; fill-opacity:1\" cx=\"2049.88\" cy=\"765.955\" r=\"18\"/>\n",
       "<circle clip-path=\"url(#clip1002)\" style=\"fill:#d968a2; stroke:none; fill-opacity:1\" cx=\"2049.88\" cy=\"765.955\" r=\"14\"/>\n",
       "<circle clip-path=\"url(#clip1002)\" style=\"fill:#000000; stroke:none; fill-opacity:1\" cx=\"2259.79\" cy=\"959.563\" r=\"18\"/>\n",
       "<circle clip-path=\"url(#clip1002)\" style=\"fill:#d968a2; stroke:none; fill-opacity:1\" cx=\"2259.79\" cy=\"959.563\" r=\"14\"/>\n",
       "<circle clip-path=\"url(#clip1002)\" style=\"fill:#000000; stroke:none; fill-opacity:1\" cx=\"1453.1\" cy=\"1238.18\" r=\"18\"/>\n",
       "<circle clip-path=\"url(#clip1002)\" style=\"fill:#d968a2; stroke:none; fill-opacity:1\" cx=\"1453.1\" cy=\"1238.18\" r=\"14\"/>\n",
       "<circle clip-path=\"url(#clip1002)\" style=\"fill:#000000; stroke:none; fill-opacity:1\" cx=\"864.253\" cy=\"1034.51\" r=\"18\"/>\n",
       "<circle clip-path=\"url(#clip1002)\" style=\"fill:#d968a2; stroke:none; fill-opacity:1\" cx=\"864.253\" cy=\"1034.51\" r=\"14\"/>\n",
       "<circle clip-path=\"url(#clip1002)\" style=\"fill:#000000; stroke:none; fill-opacity:1\" cx=\"1034.48\" cy=\"1225.87\" r=\"18\"/>\n",
       "<circle clip-path=\"url(#clip1002)\" style=\"fill:#d968a2; stroke:none; fill-opacity:1\" cx=\"1034.48\" cy=\"1225.87\" r=\"14\"/>\n",
       "<circle clip-path=\"url(#clip1002)\" style=\"fill:#000000; stroke:none; fill-opacity:1\" cx=\"980.342\" cy=\"1146.02\" r=\"18\"/>\n",
       "<circle clip-path=\"url(#clip1002)\" style=\"fill:#d968a2; stroke:none; fill-opacity:1\" cx=\"980.342\" cy=\"1146.02\" r=\"14\"/>\n",
       "<circle clip-path=\"url(#clip1002)\" style=\"fill:#000000; stroke:none; fill-opacity:1\" cx=\"1479.89\" cy=\"1352.86\" r=\"18\"/>\n",
       "<circle clip-path=\"url(#clip1002)\" style=\"fill:#d968a2; stroke:none; fill-opacity:1\" cx=\"1479.89\" cy=\"1352.86\" r=\"14\"/>\n",
       "<circle clip-path=\"url(#clip1002)\" style=\"fill:#000000; stroke:none; fill-opacity:1\" cx=\"873.136\" cy=\"926.277\" r=\"18\"/>\n",
       "<circle clip-path=\"url(#clip1002)\" style=\"fill:#d968a2; stroke:none; fill-opacity:1\" cx=\"873.136\" cy=\"926.277\" r=\"14\"/>\n",
       "<circle clip-path=\"url(#clip1002)\" style=\"fill:#000000; stroke:none; fill-opacity:1\" cx=\"1134.4\" cy=\"1225.15\" r=\"18\"/>\n",
       "<circle clip-path=\"url(#clip1002)\" style=\"fill:#d968a2; stroke:none; fill-opacity:1\" cx=\"1134.4\" cy=\"1225.15\" r=\"14\"/>\n",
       "<circle clip-path=\"url(#clip1002)\" style=\"fill:#000000; stroke:none; fill-opacity:1\" cx=\"1340.76\" cy=\"1023.62\" r=\"18\"/>\n",
       "<circle clip-path=\"url(#clip1002)\" style=\"fill:#d968a2; stroke:none; fill-opacity:1\" cx=\"1340.76\" cy=\"1023.62\" r=\"14\"/>\n",
       "<circle clip-path=\"url(#clip1002)\" style=\"fill:#000000; stroke:none; fill-opacity:1\" cx=\"1312.69\" cy=\"1015.79\" r=\"18\"/>\n",
       "<circle clip-path=\"url(#clip1002)\" style=\"fill:#d968a2; stroke:none; fill-opacity:1\" cx=\"1312.69\" cy=\"1015.79\" r=\"14\"/>\n",
       "<circle clip-path=\"url(#clip1002)\" style=\"fill:#000000; stroke:none; fill-opacity:1\" cx=\"833.799\" cy=\"1049.94\" r=\"18\"/>\n",
       "<circle clip-path=\"url(#clip1002)\" style=\"fill:#d968a2; stroke:none; fill-opacity:1\" cx=\"833.799\" cy=\"1049.94\" r=\"14\"/>\n",
       "<circle clip-path=\"url(#clip1002)\" style=\"fill:#000000; stroke:none; fill-opacity:1\" cx=\"975.786\" cy=\"1462.26\" r=\"18\"/>\n",
       "<circle clip-path=\"url(#clip1002)\" style=\"fill:#d968a2; stroke:none; fill-opacity:1\" cx=\"975.786\" cy=\"1462.26\" r=\"14\"/>\n",
       "<circle clip-path=\"url(#clip1002)\" style=\"fill:#000000; stroke:none; fill-opacity:1\" cx=\"971.458\" cy=\"1159.2\" r=\"18\"/>\n",
       "<circle clip-path=\"url(#clip1002)\" style=\"fill:#d968a2; stroke:none; fill-opacity:1\" cx=\"971.458\" cy=\"1159.2\" r=\"14\"/>\n",
       "<circle clip-path=\"url(#clip1002)\" style=\"fill:#000000; stroke:none; fill-opacity:1\" cx=\"1416.79\" cy=\"1172.53\" r=\"18\"/>\n",
       "<circle clip-path=\"url(#clip1002)\" style=\"fill:#d968a2; stroke:none; fill-opacity:1\" cx=\"1416.79\" cy=\"1172.53\" r=\"14\"/>\n",
       "<circle clip-path=\"url(#clip1002)\" style=\"fill:#000000; stroke:none; fill-opacity:1\" cx=\"1492.25\" cy=\"571.319\" r=\"18\"/>\n",
       "<circle clip-path=\"url(#clip1002)\" style=\"fill:#009af9; stroke:none; fill-opacity:1\" cx=\"1492.25\" cy=\"571.319\" r=\"14\"/>\n",
       "<circle clip-path=\"url(#clip1002)\" style=\"fill:#000000; stroke:none; fill-opacity:1\" cx=\"661.517\" cy=\"903.541\" r=\"18\"/>\n",
       "<circle clip-path=\"url(#clip1002)\" style=\"fill:#009af9; stroke:none; fill-opacity:1\" cx=\"661.517\" cy=\"903.541\" r=\"14\"/>\n",
       "<circle clip-path=\"url(#clip1002)\" style=\"fill:#000000; stroke:none; fill-opacity:1\" cx=\"828.859\" cy=\"755.099\" r=\"18\"/>\n",
       "<circle clip-path=\"url(#clip1002)\" style=\"fill:#009af9; stroke:none; fill-opacity:1\" cx=\"828.859\" cy=\"755.099\" r=\"14\"/>\n",
       "<circle clip-path=\"url(#clip1002)\" style=\"fill:#000000; stroke:none; fill-opacity:1\" cx=\"1359.7\" cy=\"777.863\" r=\"18\"/>\n",
       "<circle clip-path=\"url(#clip1002)\" style=\"fill:#009af9; stroke:none; fill-opacity:1\" cx=\"1359.7\" cy=\"777.863\" r=\"14\"/>\n",
       "<circle clip-path=\"url(#clip1002)\" style=\"fill:#000000; stroke:none; fill-opacity:1\" cx=\"840.297\" cy=\"413.166\" r=\"18\"/>\n",
       "<circle clip-path=\"url(#clip1002)\" style=\"fill:#009af9; stroke:none; fill-opacity:1\" cx=\"840.297\" cy=\"413.166\" r=\"14\"/>\n",
       "<circle clip-path=\"url(#clip1002)\" style=\"fill:#000000; stroke:none; fill-opacity:1\" cx=\"1078.11\" cy=\"630.021\" r=\"18\"/>\n",
       "<circle clip-path=\"url(#clip1002)\" style=\"fill:#009af9; stroke:none; fill-opacity:1\" cx=\"1078.11\" cy=\"630.021\" r=\"14\"/>\n",
       "<circle clip-path=\"url(#clip1002)\" style=\"fill:#000000; stroke:none; fill-opacity:1\" cx=\"1193.65\" cy=\"464.606\" r=\"18\"/>\n",
       "<circle clip-path=\"url(#clip1002)\" style=\"fill:#009af9; stroke:none; fill-opacity:1\" cx=\"1193.65\" cy=\"464.606\" r=\"14\"/>\n",
       "<circle clip-path=\"url(#clip1002)\" style=\"fill:#000000; stroke:none; fill-opacity:1\" cx=\"751.515\" cy=\"652.544\" r=\"18\"/>\n",
       "<circle clip-path=\"url(#clip1002)\" style=\"fill:#009af9; stroke:none; fill-opacity:1\" cx=\"751.515\" cy=\"652.544\" r=\"14\"/>\n",
       "<circle clip-path=\"url(#clip1002)\" style=\"fill:#000000; stroke:none; fill-opacity:1\" cx=\"1132.91\" cy=\"694.258\" r=\"18\"/>\n",
       "<circle clip-path=\"url(#clip1002)\" style=\"fill:#009af9; stroke:none; fill-opacity:1\" cx=\"1132.91\" cy=\"694.258\" r=\"14\"/>\n",
       "<circle clip-path=\"url(#clip1002)\" style=\"fill:#000000; stroke:none; fill-opacity:1\" cx=\"1156.12\" cy=\"905.471\" r=\"18\"/>\n",
       "<circle clip-path=\"url(#clip1002)\" style=\"fill:#009af9; stroke:none; fill-opacity:1\" cx=\"1156.12\" cy=\"905.471\" r=\"14\"/>\n",
       "<circle clip-path=\"url(#clip1002)\" style=\"fill:#000000; stroke:none; fill-opacity:1\" cx=\"1059.88\" cy=\"546.931\" r=\"18\"/>\n",
       "<circle clip-path=\"url(#clip1002)\" style=\"fill:#009af9; stroke:none; fill-opacity:1\" cx=\"1059.88\" cy=\"546.931\" r=\"14\"/>\n",
       "<circle clip-path=\"url(#clip1002)\" style=\"fill:#000000; stroke:none; fill-opacity:1\" cx=\"1099.83\" cy=\"828.907\" r=\"18\"/>\n",
       "<circle clip-path=\"url(#clip1002)\" style=\"fill:#009af9; stroke:none; fill-opacity:1\" cx=\"1099.83\" cy=\"828.907\" r=\"14\"/>\n",
       "<circle clip-path=\"url(#clip1002)\" style=\"fill:#000000; stroke:none; fill-opacity:1\" cx=\"1137.24\" cy=\"865.613\" r=\"18\"/>\n",
       "<circle clip-path=\"url(#clip1002)\" style=\"fill:#009af9; stroke:none; fill-opacity:1\" cx=\"1137.24\" cy=\"865.613\" r=\"14\"/>\n",
       "<circle clip-path=\"url(#clip1002)\" style=\"fill:#000000; stroke:none; fill-opacity:1\" cx=\"508.694\" cy=\"612.516\" r=\"18\"/>\n",
       "<circle clip-path=\"url(#clip1002)\" style=\"fill:#009af9; stroke:none; fill-opacity:1\" cx=\"508.694\" cy=\"612.516\" r=\"14\"/>\n",
       "<circle clip-path=\"url(#clip1002)\" style=\"fill:#000000; stroke:none; fill-opacity:1\" cx=\"873.825\" cy=\"701.74\" r=\"18\"/>\n",
       "<circle clip-path=\"url(#clip1002)\" style=\"fill:#009af9; stroke:none; fill-opacity:1\" cx=\"873.825\" cy=\"701.74\" r=\"14\"/>\n",
       "<circle clip-path=\"url(#clip1002)\" style=\"fill:#000000; stroke:none; fill-opacity:1\" cx=\"948.324\" cy=\"433.514\" r=\"18\"/>\n",
       "<circle clip-path=\"url(#clip1002)\" style=\"fill:#009af9; stroke:none; fill-opacity:1\" cx=\"948.324\" cy=\"433.514\" r=\"14\"/>\n",
       "<circle clip-path=\"url(#clip1002)\" style=\"fill:#000000; stroke:none; fill-opacity:1\" cx=\"643.288\" cy=\"636.808\" r=\"18\"/>\n",
       "<circle clip-path=\"url(#clip1002)\" style=\"fill:#009af9; stroke:none; fill-opacity:1\" cx=\"643.288\" cy=\"636.808\" r=\"14\"/>\n",
       "<circle clip-path=\"url(#clip1002)\" style=\"fill:#000000; stroke:none; fill-opacity:1\" cx=\"667.549\" cy=\"412.122\" r=\"18\"/>\n",
       "<circle clip-path=\"url(#clip1002)\" style=\"fill:#009af9; stroke:none; fill-opacity:1\" cx=\"667.549\" cy=\"412.122\" r=\"14\"/>\n",
       "<circle clip-path=\"url(#clip1002)\" style=\"fill:#000000; stroke:none; fill-opacity:1\" cx=\"566.518\" cy=\"982.171\" r=\"18\"/>\n",
       "<circle clip-path=\"url(#clip1002)\" style=\"fill:#009af9; stroke:none; fill-opacity:1\" cx=\"566.518\" cy=\"982.171\" r=\"14\"/>\n",
       "<circle clip-path=\"url(#clip1002)\" style=\"fill:#000000; stroke:none; fill-opacity:1\" cx=\"552.967\" cy=\"429.98\" r=\"18\"/>\n",
       "<circle clip-path=\"url(#clip1002)\" style=\"fill:#009af9; stroke:none; fill-opacity:1\" cx=\"552.967\" cy=\"429.98\" r=\"14\"/>\n",
       "<circle clip-path=\"url(#clip1002)\" style=\"fill:#000000; stroke:none; fill-opacity:1\" cx=\"1436.18\" cy=\"536.954\" r=\"18\"/>\n",
       "<circle clip-path=\"url(#clip1002)\" style=\"fill:#009af9; stroke:none; fill-opacity:1\" cx=\"1436.18\" cy=\"536.954\" r=\"14\"/>\n",
       "<circle clip-path=\"url(#clip1002)\" style=\"fill:#000000; stroke:none; fill-opacity:1\" cx=\"524.218\" cy=\"1091.23\" r=\"18\"/>\n",
       "<circle clip-path=\"url(#clip1002)\" style=\"fill:#009af9; stroke:none; fill-opacity:1\" cx=\"524.218\" cy=\"1091.23\" r=\"14\"/>\n",
       "<circle clip-path=\"url(#clip1002)\" style=\"fill:#000000; stroke:none; fill-opacity:1\" cx=\"1339.44\" cy=\"801.923\" r=\"18\"/>\n",
       "<circle clip-path=\"url(#clip1002)\" style=\"fill:#009af9; stroke:none; fill-opacity:1\" cx=\"1339.44\" cy=\"801.923\" r=\"14\"/>\n",
       "<circle clip-path=\"url(#clip1002)\" style=\"fill:#000000; stroke:none; fill-opacity:1\" cx=\"876.55\" cy=\"603.341\" r=\"18\"/>\n",
       "<circle clip-path=\"url(#clip1002)\" style=\"fill:#009af9; stroke:none; fill-opacity:1\" cx=\"876.55\" cy=\"603.341\" r=\"14\"/>\n",
       "<circle clip-path=\"url(#clip1002)\" style=\"fill:#000000; stroke:none; fill-opacity:1\" cx=\"1126.7\" cy=\"681.362\" r=\"18\"/>\n",
       "<circle clip-path=\"url(#clip1002)\" style=\"fill:#009af9; stroke:none; fill-opacity:1\" cx=\"1126.7\" cy=\"681.362\" r=\"14\"/>\n",
       "<circle clip-path=\"url(#clip1002)\" style=\"fill:#000000; stroke:none; fill-opacity:1\" cx=\"274.475\" cy=\"600.805\" r=\"18\"/>\n",
       "<circle clip-path=\"url(#clip1002)\" style=\"fill:#009af9; stroke:none; fill-opacity:1\" cx=\"274.475\" cy=\"600.805\" r=\"14\"/>\n",
       "<circle clip-path=\"url(#clip1002)\" style=\"fill:#000000; stroke:none; fill-opacity:1\" cx=\"1371.48\" cy=\"477.136\" r=\"18\"/>\n",
       "<circle clip-path=\"url(#clip1002)\" style=\"fill:#009af9; stroke:none; fill-opacity:1\" cx=\"1371.48\" cy=\"477.136\" r=\"14\"/>\n",
       "<circle clip-path=\"url(#clip1002)\" style=\"fill:#000000; stroke:none; fill-opacity:1\" cx=\"915.849\" cy=\"590.653\" r=\"18\"/>\n",
       "<circle clip-path=\"url(#clip1002)\" style=\"fill:#009af9; stroke:none; fill-opacity:1\" cx=\"915.849\" cy=\"590.653\" r=\"14\"/>\n",
       "<circle clip-path=\"url(#clip1002)\" style=\"fill:#000000; stroke:none; fill-opacity:1\" cx=\"1315.63\" cy=\"88.4582\" r=\"18\"/>\n",
       "<circle clip-path=\"url(#clip1002)\" style=\"fill:#009af9; stroke:none; fill-opacity:1\" cx=\"1315.63\" cy=\"88.4582\" r=\"14\"/>\n",
       "<circle clip-path=\"url(#clip1002)\" style=\"fill:#000000; stroke:none; fill-opacity:1\" cx=\"512.255\" cy=\"543.537\" r=\"18\"/>\n",
       "<circle clip-path=\"url(#clip1002)\" style=\"fill:#009af9; stroke:none; fill-opacity:1\" cx=\"512.255\" cy=\"543.537\" r=\"14\"/>\n",
       "<circle clip-path=\"url(#clip1002)\" style=\"fill:#000000; stroke:none; fill-opacity:1\" cx=\"1177.48\" cy=\"934.366\" r=\"18\"/>\n",
       "<circle clip-path=\"url(#clip1002)\" style=\"fill:#009af9; stroke:none; fill-opacity:1\" cx=\"1177.48\" cy=\"934.366\" r=\"14\"/>\n",
       "<circle clip-path=\"url(#clip1002)\" style=\"fill:#000000; stroke:none; fill-opacity:1\" cx=\"1185.8\" cy=\"630.993\" r=\"18\"/>\n",
       "<circle clip-path=\"url(#clip1002)\" style=\"fill:#009af9; stroke:none; fill-opacity:1\" cx=\"1185.8\" cy=\"630.993\" r=\"14\"/>\n",
       "<circle clip-path=\"url(#clip1002)\" style=\"fill:#000000; stroke:none; fill-opacity:1\" cx=\"1250.45\" cy=\"874.845\" r=\"18\"/>\n",
       "<circle clip-path=\"url(#clip1002)\" style=\"fill:#009af9; stroke:none; fill-opacity:1\" cx=\"1250.45\" cy=\"874.845\" r=\"14\"/>\n",
       "<circle clip-path=\"url(#clip1002)\" style=\"fill:#000000; stroke:none; fill-opacity:1\" cx=\"210.829\" cy=\"605.067\" r=\"18\"/>\n",
       "<circle clip-path=\"url(#clip1002)\" style=\"fill:#009af9; stroke:none; fill-opacity:1\" cx=\"210.829\" cy=\"605.067\" r=\"14\"/>\n",
       "<circle clip-path=\"url(#clip1002)\" style=\"fill:#000000; stroke:none; fill-opacity:1\" cx=\"575.076\" cy=\"792.541\" r=\"18\"/>\n",
       "<circle clip-path=\"url(#clip1002)\" style=\"fill:#009af9; stroke:none; fill-opacity:1\" cx=\"575.076\" cy=\"792.541\" r=\"14\"/>\n",
       "<circle clip-path=\"url(#clip1002)\" style=\"fill:#000000; stroke:none; fill-opacity:1\" cx=\"1210.32\" cy=\"679.887\" r=\"18\"/>\n",
       "<circle clip-path=\"url(#clip1002)\" style=\"fill:#009af9; stroke:none; fill-opacity:1\" cx=\"1210.32\" cy=\"679.887\" r=\"14\"/>\n",
       "<circle clip-path=\"url(#clip1002)\" style=\"fill:#000000; stroke:none; fill-opacity:1\" cx=\"1272.62\" cy=\"679.056\" r=\"18\"/>\n",
       "<circle clip-path=\"url(#clip1002)\" style=\"fill:#009af9; stroke:none; fill-opacity:1\" cx=\"1272.62\" cy=\"679.056\" r=\"14\"/>\n",
       "<circle clip-path=\"url(#clip1002)\" style=\"fill:#000000; stroke:none; fill-opacity:1\" cx=\"1362.16\" cy=\"407.873\" r=\"18\"/>\n",
       "<circle clip-path=\"url(#clip1002)\" style=\"fill:#009af9; stroke:none; fill-opacity:1\" cx=\"1362.16\" cy=\"407.873\" r=\"14\"/>\n",
       "<circle clip-path=\"url(#clip1002)\" style=\"fill:#000000; stroke:none; fill-opacity:1\" cx=\"1686.59\" cy=\"557.856\" r=\"18\"/>\n",
       "<circle clip-path=\"url(#clip1002)\" style=\"fill:#009af9; stroke:none; fill-opacity:1\" cx=\"1686.59\" cy=\"557.856\" r=\"14\"/>\n",
       "<circle clip-path=\"url(#clip1002)\" style=\"fill:#000000; stroke:none; fill-opacity:1\" cx=\"1215.73\" cy=\"275.213\" r=\"18\"/>\n",
       "<circle clip-path=\"url(#clip1002)\" style=\"fill:#009af9; stroke:none; fill-opacity:1\" cx=\"1215.73\" cy=\"275.213\" r=\"14\"/>\n",
       "<circle clip-path=\"url(#clip1002)\" style=\"fill:#000000; stroke:none; fill-opacity:1\" cx=\"245.824\" cy=\"716.731\" r=\"18\"/>\n",
       "<circle clip-path=\"url(#clip1002)\" style=\"fill:#009af9; stroke:none; fill-opacity:1\" cx=\"245.824\" cy=\"716.731\" r=\"14\"/>\n",
       "<circle clip-path=\"url(#clip1002)\" style=\"fill:#000000; stroke:none; fill-opacity:1\" cx=\"853.098\" cy=\"564.264\" r=\"18\"/>\n",
       "<circle clip-path=\"url(#clip1002)\" style=\"fill:#009af9; stroke:none; fill-opacity:1\" cx=\"853.098\" cy=\"564.264\" r=\"14\"/>\n",
       "<circle clip-path=\"url(#clip1002)\" style=\"fill:#000000; stroke:none; fill-opacity:1\" cx=\"228.053\" cy=\"453.728\" r=\"18\"/>\n",
       "<circle clip-path=\"url(#clip1002)\" style=\"fill:#009af9; stroke:none; fill-opacity:1\" cx=\"228.053\" cy=\"453.728\" r=\"14\"/>\n",
       "<circle clip-path=\"url(#clip1002)\" style=\"fill:#000000; stroke:none; fill-opacity:1\" cx=\"556.83\" cy=\"746.477\" r=\"18\"/>\n",
       "<circle clip-path=\"url(#clip1002)\" style=\"fill:#009af9; stroke:none; fill-opacity:1\" cx=\"556.83\" cy=\"746.477\" r=\"14\"/>\n",
       "<circle clip-path=\"url(#clip1002)\" style=\"fill:#000000; stroke:none; fill-opacity:1\" cx=\"653.032\" cy=\"886.412\" r=\"18\"/>\n",
       "<circle clip-path=\"url(#clip1002)\" style=\"fill:#009af9; stroke:none; fill-opacity:1\" cx=\"653.032\" cy=\"886.412\" r=\"14\"/>\n",
       "<circle clip-path=\"url(#clip1002)\" style=\"fill:#000000; stroke:none; fill-opacity:1\" cx=\"1315.69\" cy=\"478.04\" r=\"18\"/>\n",
       "<circle clip-path=\"url(#clip1002)\" style=\"fill:#009af9; stroke:none; fill-opacity:1\" cx=\"1315.69\" cy=\"478.04\" r=\"14\"/>\n",
       "<circle clip-path=\"url(#clip1002)\" style=\"fill:#000000; stroke:none; fill-opacity:1\" cx=\"347.727\" cy=\"447.786\" r=\"18\"/>\n",
       "<circle clip-path=\"url(#clip1002)\" style=\"fill:#009af9; stroke:none; fill-opacity:1\" cx=\"347.727\" cy=\"447.786\" r=\"14\"/>\n",
       "<circle clip-path=\"url(#clip1002)\" style=\"fill:#000000; stroke:none; fill-opacity:1\" cx=\"887.182\" cy=\"402.501\" r=\"18\"/>\n",
       "<circle clip-path=\"url(#clip1002)\" style=\"fill:#009af9; stroke:none; fill-opacity:1\" cx=\"887.182\" cy=\"402.501\" r=\"14\"/>\n",
       "<circle clip-path=\"url(#clip1002)\" style=\"fill:#000000; stroke:none; fill-opacity:1\" cx=\"1596.72\" cy=\"711.581\" r=\"18\"/>\n",
       "<circle clip-path=\"url(#clip1002)\" style=\"fill:#009af9; stroke:none; fill-opacity:1\" cx=\"1596.72\" cy=\"711.581\" r=\"14\"/>\n",
       "<circle clip-path=\"url(#clip1002)\" style=\"fill:#000000; stroke:none; fill-opacity:1\" cx=\"1252.32\" cy=\"309.125\" r=\"18\"/>\n",
       "<circle clip-path=\"url(#clip1002)\" style=\"fill:#009af9; stroke:none; fill-opacity:1\" cx=\"1252.32\" cy=\"309.125\" r=\"14\"/>\n",
       "<polygon clip-path=\"url(#clip1000)\" points=\"\n",
       "1958.43,251.724 2249.26,251.724 2249.26,130.764 1958.43,130.764 \n",
       "  \" fill=\"#ffffff\" fill-rule=\"evenodd\" fill-opacity=\"1\"/>\n",
       "<polyline clip-path=\"url(#clip1000)\" style=\"stroke:#000000; stroke-width:4; stroke-opacity:1; fill:none\" points=\"\n",
       "  1958.43,251.724 2249.26,251.724 2249.26,130.764 1958.43,130.764 1958.43,251.724 \n",
       "  \"/>\n",
       "<circle clip-path=\"url(#clip1000)\" style=\"fill:#000000; stroke:none; fill-opacity:1\" cx=\"2066.43\" cy=\"191.244\" r=\"25\"/>\n",
       "<circle clip-path=\"url(#clip1000)\" style=\"fill:#d968a2; stroke:none; fill-opacity:1\" cx=\"2066.43\" cy=\"191.244\" r=\"21\"/>\n",
       "<g clip-path=\"url(#clip1000)\">\n",
       "<text style=\"fill:#000000; fill-opacity:1; font-family:Arial,Helvetica Neue,Helvetica,sans-serif; font-size:48px; text-anchor:start;\" transform=\"rotate(0, 2150.43, 208.744)\" x=\"2150.43\" y=\"208.744\">y1</text>\n",
       "</g>\n",
       "</svg>\n"
      ]
     },
     "execution_count": 38,
     "metadata": {},
     "output_type": "execute_result"
    }
   ],
   "source": [
    "# artificial data\n",
    "X = [randn(50, 2); randn(50, 2) .+ [-1.0 2.4]];\n",
    "y = [i <= 50 ? 0 : 1 for i in 1:100];\n",
    "n = length(y);\n",
    "\n",
    "scatter(X[:,1], X[:,2], color=y)"
   ]
  },
  {
   "cell_type": "code",
   "execution_count": 39,
   "metadata": {
    "slideshow": {
     "slide_type": "subslide"
    }
   },
   "outputs": [
    {
     "data": {
      "text/plain": [
       "L (generic function with 1 method)"
      ]
     },
     "execution_count": 39,
     "metadata": {},
     "output_type": "execute_result"
    }
   ],
   "source": [
    "σ(t) = 1.0 / (1.0 + exp(t))\n",
    "f(x, w) = σ(sum(x .* w))\n",
    "L(w; X=X, y=y) = sum(- y .* log.(σ.(X * w)) - (1.0 .- y) .* log.(σ.(1. .- X * w)))"
   ]
  },
  {
   "cell_type": "code",
   "execution_count": 40,
   "metadata": {
    "slideshow": {
     "slide_type": "fragment"
    }
   },
   "outputs": [
    {
     "data": {
      "text/plain": [
       "103.29446084387541"
      ]
     },
     "execution_count": 40,
     "metadata": {},
     "output_type": "execute_result"
    }
   ],
   "source": [
    "w = [0.1, 0.1]\n",
    "L(w)"
   ]
  },
  {
   "cell_type": "markdown",
   "metadata": {
    "slideshow": {
     "slide_type": "fragment"
    }
   },
   "source": [
    "**Assignments**\n",
    "\n",
    "1. Compute the gradient of $L$ wrt. $\\mathbf{w}$ using\n",
    "    - numerical method\n",
    "    - forward differentiation\n",
    "    - backward differentiation\n",
    "2. (optional) Implement a simple gradient descent to find  $\\mathbf{w}^\\star$.\n",
    "3. Add a bias to the prediction function."
   ]
  },
  {
   "cell_type": "markdown",
   "metadata": {
    "slideshow": {
     "slide_type": "slide"
    }
   },
   "source": [
    "## Differentiating ODE\n",
    "\n",
    "Automatic differentiation can be used beyond machine learning and optimization:\n",
    "\n",
    "- [physical engines](https://arxiv.org/abs/1611.01652) to learn robot control\n",
    "- differentiating [protein](https://github.com/lupoglaz/TorchProteinLibrary) [structures](https://www.cell.com/cell-systems/fulltext/S2405-4712(19)30076-6)\n",
    "- Sinkhorn algorithm\n",
    "- [dynamic programming](https://arxiv.org/abs/1802.03676)\n",
    "- [differential equations](https://julialang.org/blog/2019/01/fluxdiffeq)"
   ]
  },
  {
   "cell_type": "markdown",
   "metadata": {
    "slideshow": {
     "slide_type": "fragment"
    }
   },
   "source": [
    "Everything is computed by some straightforward and differentiable functions!"
   ]
  },
  {
   "cell_type": "markdown",
   "metadata": {
    "slideshow": {
     "slide_type": "subslide"
    }
   },
   "source": [
    "### Short introduction to differential equations\n",
    "\n",
    "Ordinary differential equations describe dynamical processes through the *rate of change*:\n",
    "\n",
    "$$\n",
    "\\dot{\\mathbf{x}} = f(\\mathbf{x}, t; \\theta)\\,,\n",
    "$$\n",
    "\n",
    "with $\\theta$ some parameters. To obtain a unique solution, we depart from some initial vector for $\\mathbf{x}$ at the starting time."
   ]
  },
  {
   "cell_type": "markdown",
   "metadata": {
    "slideshow": {
     "slide_type": "fragment"
    }
   },
   "source": [
    "Usually solved iteratively, for example using Euler's method:\n",
    "\n",
    "$$\n",
    "\\mathbf{x}_{t+1} = \\mathbf{x}_{t} + \\alpha_t f(\\mathbf{x}_{t}, t)\\,.\n",
    "$$\n",
    "\n",
    "with $\\alpha_t$ a stepsize (does this remind you of something?)."
   ]
  },
  {
   "cell_type": "markdown",
   "metadata": {
    "slideshow": {
     "slide_type": "subslide"
    }
   },
   "source": [
    "### Example an auto-catalytic process\n",
    "\n",
    "Consider a chemical reaction where some molecule $X$ combines reversibly with a molecule $A$ to form two molecules $X$:\n",
    "\n",
    "$$\n",
    "X+A\t\\rightleftharpoons 2X\\,.\n",
    "$$"
   ]
  },
  {
   "cell_type": "markdown",
   "metadata": {
    "slideshow": {
     "slide_type": "fragment"
    }
   },
   "source": [
    "We assume that there is a large and inexhaustible supply of $A$. Based on the *law of mass action* for chemical kinetics, the concentration of $X$ is given by \n",
    "\n",
    "$$\n",
    "\\dot{x} = k_1ax - k_{-1} x^2\\,,\n",
    "$$\n",
    "\n",
    "with\n",
    "- $x$ the concentration of $X$;\n",
    "- $a$ the concentration of $A$;\n",
    "- $k_1$ and $k_{-1}$ the forward and backward kinetic parameters."
   ]
  },
  {
   "cell_type": "code",
   "execution_count": 41,
   "metadata": {
    "slideshow": {
     "slide_type": "subslide"
    }
   },
   "outputs": [
    {
     "data": {
      "text/plain": [
       "eulersolve (generic function with 2 methods)"
      ]
     },
     "execution_count": 41,
     "metadata": {},
     "output_type": "execute_result"
    }
   ],
   "source": [
    "function eulersolve(f, x0, (t0, tend), θ, α=0.1)\n",
    "    tsteps = t0:α:tend\n",
    "    # demonstration for didactical purposes\n",
    "    # Any arrays are generally a bad idea!\n",
    "    sol = Array{Any}(undef, length(tsteps), length(x0))\n",
    "    x = x0\n",
    "    for (i, t) in enumerate(tsteps)\n",
    "        sol[i, :] .= x\n",
    "        x += α * f(x, t, θ)\n",
    "    end\n",
    "    return sol\n",
    "end"
   ]
  },
  {
   "cell_type": "code",
   "execution_count": 42,
   "metadata": {
    "slideshow": {
     "slide_type": "fragment"
    }
   },
   "outputs": [
    {
     "data": {
      "text/plain": [
       "fautocat (generic function with 1 method)"
      ]
     },
     "execution_count": 42,
     "metadata": {},
     "output_type": "execute_result"
    }
   ],
   "source": [
    "fautocat(x, t, (a, k₁, k₋₁)) = k₁ * a * x - k₋₁ * x.^2"
   ]
  },
  {
   "cell_type": "code",
   "execution_count": 43,
   "metadata": {
    "scrolled": false,
    "slideshow": {
     "slide_type": "subslide"
    }
   },
   "outputs": [
    {
     "data": {
      "image/svg+xml": [
       "<?xml version=\"1.0\" encoding=\"utf-8\"?>\n",
       "<svg xmlns=\"http://www.w3.org/2000/svg\" xmlns:xlink=\"http://www.w3.org/1999/xlink\" width=\"600\" height=\"400\" viewBox=\"0 0 2400 1600\">\n",
       "<defs>\n",
       "  <clipPath id=\"clip1400\">\n",
       "    <rect x=\"0\" y=\"0\" width=\"2400\" height=\"1600\"/>\n",
       "  </clipPath>\n",
       "</defs>\n",
       "<polygon clip-path=\"url(#clip1400)\" points=\"\n",
       "0,1600 2400,1600 2400,0 0,0 \n",
       "  \" fill=\"#ffffff\" fill-rule=\"evenodd\" fill-opacity=\"1\"/>\n",
       "<defs>\n",
       "  <clipPath id=\"clip1401\">\n",
       "    <rect x=\"480\" y=\"0\" width=\"1681\" height=\"1600\"/>\n",
       "  </clipPath>\n",
       "</defs>\n",
       "<polygon clip-path=\"url(#clip1400)\" points=\"\n",
       "148.013,1503.47 2321.26,1503.47 2321.26,47.2441 148.013,47.2441 \n",
       "  \" fill=\"#ffffff\" fill-rule=\"evenodd\" fill-opacity=\"1\"/>\n",
       "<defs>\n",
       "  <clipPath id=\"clip1402\">\n",
       "    <rect x=\"148\" y=\"47\" width=\"2174\" height=\"1457\"/>\n",
       "  </clipPath>\n",
       "</defs>\n",
       "<polyline clip-path=\"url(#clip1402)\" style=\"stroke:#000000; stroke-width:2; stroke-opacity:0.1; fill:none\" points=\"\n",
       "  209.52,1503.47 209.52,47.2441 \n",
       "  \"/>\n",
       "<polyline clip-path=\"url(#clip1402)\" style=\"stroke:#000000; stroke-width:2; stroke-opacity:0.1; fill:none\" points=\"\n",
       "  722.078,1503.47 722.078,47.2441 \n",
       "  \"/>\n",
       "<polyline clip-path=\"url(#clip1402)\" style=\"stroke:#000000; stroke-width:2; stroke-opacity:0.1; fill:none\" points=\"\n",
       "  1234.64,1503.47 1234.64,47.2441 \n",
       "  \"/>\n",
       "<polyline clip-path=\"url(#clip1402)\" style=\"stroke:#000000; stroke-width:2; stroke-opacity:0.1; fill:none\" points=\"\n",
       "  1747.19,1503.47 1747.19,47.2441 \n",
       "  \"/>\n",
       "<polyline clip-path=\"url(#clip1402)\" style=\"stroke:#000000; stroke-width:2; stroke-opacity:0.1; fill:none\" points=\"\n",
       "  2259.75,1503.47 2259.75,47.2441 \n",
       "  \"/>\n",
       "<polyline clip-path=\"url(#clip1402)\" style=\"stroke:#000000; stroke-width:2; stroke-opacity:0.1; fill:none\" points=\"\n",
       "  148.013,1462.26 2321.26,1462.26 \n",
       "  \"/>\n",
       "<polyline clip-path=\"url(#clip1402)\" style=\"stroke:#000000; stroke-width:2; stroke-opacity:0.1; fill:none\" points=\"\n",
       "  148.013,1107.7 2321.26,1107.7 \n",
       "  \"/>\n",
       "<polyline clip-path=\"url(#clip1402)\" style=\"stroke:#000000; stroke-width:2; stroke-opacity:0.1; fill:none\" points=\"\n",
       "  148.013,753.139 2321.26,753.139 \n",
       "  \"/>\n",
       "<polyline clip-path=\"url(#clip1402)\" style=\"stroke:#000000; stroke-width:2; stroke-opacity:0.1; fill:none\" points=\"\n",
       "  148.013,398.578 2321.26,398.578 \n",
       "  \"/>\n",
       "<polyline clip-path=\"url(#clip1400)\" style=\"stroke:#000000; stroke-width:4; stroke-opacity:1; fill:none\" points=\"\n",
       "  148.013,1503.47 2321.26,1503.47 \n",
       "  \"/>\n",
       "<polyline clip-path=\"url(#clip1400)\" style=\"stroke:#000000; stroke-width:4; stroke-opacity:1; fill:none\" points=\"\n",
       "  148.013,1503.47 148.013,47.2441 \n",
       "  \"/>\n",
       "<polyline clip-path=\"url(#clip1400)\" style=\"stroke:#000000; stroke-width:4; stroke-opacity:1; fill:none\" points=\"\n",
       "  209.52,1503.47 209.52,1481.63 \n",
       "  \"/>\n",
       "<polyline clip-path=\"url(#clip1400)\" style=\"stroke:#000000; stroke-width:4; stroke-opacity:1; fill:none\" points=\"\n",
       "  722.078,1503.47 722.078,1481.63 \n",
       "  \"/>\n",
       "<polyline clip-path=\"url(#clip1400)\" style=\"stroke:#000000; stroke-width:4; stroke-opacity:1; fill:none\" points=\"\n",
       "  1234.64,1503.47 1234.64,1481.63 \n",
       "  \"/>\n",
       "<polyline clip-path=\"url(#clip1400)\" style=\"stroke:#000000; stroke-width:4; stroke-opacity:1; fill:none\" points=\"\n",
       "  1747.19,1503.47 1747.19,1481.63 \n",
       "  \"/>\n",
       "<polyline clip-path=\"url(#clip1400)\" style=\"stroke:#000000; stroke-width:4; stroke-opacity:1; fill:none\" points=\"\n",
       "  2259.75,1503.47 2259.75,1481.63 \n",
       "  \"/>\n",
       "<polyline clip-path=\"url(#clip1400)\" style=\"stroke:#000000; stroke-width:4; stroke-opacity:1; fill:none\" points=\"\n",
       "  148.013,1462.26 180.612,1462.26 \n",
       "  \"/>\n",
       "<polyline clip-path=\"url(#clip1400)\" style=\"stroke:#000000; stroke-width:4; stroke-opacity:1; fill:none\" points=\"\n",
       "  148.013,1107.7 180.612,1107.7 \n",
       "  \"/>\n",
       "<polyline clip-path=\"url(#clip1400)\" style=\"stroke:#000000; stroke-width:4; stroke-opacity:1; fill:none\" points=\"\n",
       "  148.013,753.139 180.612,753.139 \n",
       "  \"/>\n",
       "<polyline clip-path=\"url(#clip1400)\" style=\"stroke:#000000; stroke-width:4; stroke-opacity:1; fill:none\" points=\"\n",
       "  148.013,398.578 180.612,398.578 \n",
       "  \"/>\n",
       "<g clip-path=\"url(#clip1400)\">\n",
       "<text style=\"fill:#000000; fill-opacity:1; font-family:Arial,Helvetica Neue,Helvetica,sans-serif; font-size:48px; text-anchor:middle;\" transform=\"rotate(0, 209.52, 1557.47)\" x=\"209.52\" y=\"1557.47\">0.0</text>\n",
       "</g>\n",
       "<g clip-path=\"url(#clip1400)\">\n",
       "<text style=\"fill:#000000; fill-opacity:1; font-family:Arial,Helvetica Neue,Helvetica,sans-serif; font-size:48px; text-anchor:middle;\" transform=\"rotate(0, 722.078, 1557.47)\" x=\"722.078\" y=\"1557.47\">2.5</text>\n",
       "</g>\n",
       "<g clip-path=\"url(#clip1400)\">\n",
       "<text style=\"fill:#000000; fill-opacity:1; font-family:Arial,Helvetica Neue,Helvetica,sans-serif; font-size:48px; text-anchor:middle;\" transform=\"rotate(0, 1234.64, 1557.47)\" x=\"1234.64\" y=\"1557.47\">5.0</text>\n",
       "</g>\n",
       "<g clip-path=\"url(#clip1400)\">\n",
       "<text style=\"fill:#000000; fill-opacity:1; font-family:Arial,Helvetica Neue,Helvetica,sans-serif; font-size:48px; text-anchor:middle;\" transform=\"rotate(0, 1747.19, 1557.47)\" x=\"1747.19\" y=\"1557.47\">7.5</text>\n",
       "</g>\n",
       "<g clip-path=\"url(#clip1400)\">\n",
       "<text style=\"fill:#000000; fill-opacity:1; font-family:Arial,Helvetica Neue,Helvetica,sans-serif; font-size:48px; text-anchor:middle;\" transform=\"rotate(0, 2259.75, 1557.47)\" x=\"2259.75\" y=\"1557.47\">10.0</text>\n",
       "</g>\n",
       "<g clip-path=\"url(#clip1400)\">\n",
       "<text style=\"fill:#000000; fill-opacity:1; font-family:Arial,Helvetica Neue,Helvetica,sans-serif; font-size:48px; text-anchor:end;\" transform=\"rotate(0, 124.013, 1479.76)\" x=\"124.013\" y=\"1479.76\">10</text>\n",
       "</g>\n",
       "<g clip-path=\"url(#clip1400)\">\n",
       "<text style=\"fill:#000000; fill-opacity:1; font-family:Arial,Helvetica Neue,Helvetica,sans-serif; font-size:48px; text-anchor:end;\" transform=\"rotate(0, 124.013, 1125.2)\" x=\"124.013\" y=\"1125.2\">20</text>\n",
       "</g>\n",
       "<g clip-path=\"url(#clip1400)\">\n",
       "<text style=\"fill:#000000; fill-opacity:1; font-family:Arial,Helvetica Neue,Helvetica,sans-serif; font-size:48px; text-anchor:end;\" transform=\"rotate(0, 124.013, 770.639)\" x=\"124.013\" y=\"770.639\">30</text>\n",
       "</g>\n",
       "<g clip-path=\"url(#clip1400)\">\n",
       "<text style=\"fill:#000000; fill-opacity:1; font-family:Arial,Helvetica Neue,Helvetica,sans-serif; font-size:48px; text-anchor:end;\" transform=\"rotate(0, 124.013, 416.078)\" x=\"124.013\" y=\"416.078\">40</text>\n",
       "</g>\n",
       "<polyline clip-path=\"url(#clip1402)\" style=\"stroke:#009af9; stroke-width:8; stroke-opacity:1; fill:none\" points=\"\n",
       "  209.52,1462.26 230.022,1448.08 250.525,1433.48 271.027,1418.45 291.529,1403.01 312.032,1387.15 332.534,1370.87 353.036,1354.18 373.538,1337.09 394.041,1319.59 \n",
       "  414.543,1301.71 435.045,1283.43 455.548,1264.79 476.05,1245.78 496.552,1226.43 517.055,1206.74 537.557,1186.73 558.059,1166.42 578.562,1145.83 599.064,1124.98 \n",
       "  619.566,1103.89 640.069,1082.58 660.571,1061.07 681.073,1039.39 701.576,1017.57 722.078,995.623 742.58,973.583 763.083,951.475 783.585,929.328 804.087,907.168 \n",
       "  824.59,885.023 845.092,862.921 865.594,840.889 886.097,818.955 906.599,797.146 927.101,775.486 947.604,754.003 968.106,732.721 988.608,711.663 1009.11,690.853 \n",
       "  1029.61,670.312 1050.12,650.06 1070.62,630.117 1091.12,610.5 1111.62,591.227 1132.12,572.311 1152.63,553.768 1173.13,535.609 1193.63,517.846 1214.13,500.486 \n",
       "  1234.64,483.54 1255.14,467.012 1275.64,450.909 1296.14,435.233 1316.65,419.989 1337.15,405.177 1357.65,390.798 1378.15,376.851 1398.65,363.334 1419.16,350.243 \n",
       "  1439.66,337.577 1460.16,325.33 1480.66,313.496 1501.17,302.07 1521.67,291.046 1542.17,280.415 1562.67,270.171 1583.18,260.306 1603.68,250.811 1624.18,241.678 \n",
       "  1644.68,232.896 1665.19,224.459 1685.69,216.355 1706.19,208.576 1726.69,201.112 1747.19,193.953 1767.7,187.09 1788.2,180.514 1808.7,174.214 1829.2,168.183 \n",
       "  1849.71,162.409 1870.21,156.885 1890.71,151.601 1911.21,146.548 1931.72,141.718 1952.22,137.102 1972.72,132.692 1993.22,128.48 2013.72,124.458 2034.23,120.619 \n",
       "  2054.73,116.954 2075.23,113.457 2095.73,110.121 2116.24,106.939 2136.74,103.905 2157.24,101.012 2177.74,98.2536 2198.25,95.6248 2218.75,93.1195 2239.25,90.7324 \n",
       "  2259.75,88.4582 \n",
       "  \"/>\n",
       "<polygon clip-path=\"url(#clip1400)\" points=\"\n",
       "1985.19,251.724 2249.26,251.724 2249.26,130.764 1985.19,130.764 \n",
       "  \" fill=\"#ffffff\" fill-rule=\"evenodd\" fill-opacity=\"1\"/>\n",
       "<polyline clip-path=\"url(#clip1400)\" style=\"stroke:#000000; stroke-width:4; stroke-opacity:1; fill:none\" points=\"\n",
       "  1985.19,251.724 2249.26,251.724 2249.26,130.764 1985.19,130.764 1985.19,251.724 \n",
       "  \"/>\n",
       "<polyline clip-path=\"url(#clip1400)\" style=\"stroke:#009af9; stroke-width:8; stroke-opacity:1; fill:none\" points=\"\n",
       "  2009.19,191.244 2153.19,191.244 \n",
       "  \"/>\n",
       "<g clip-path=\"url(#clip1400)\">\n",
       "<text style=\"fill:#000000; fill-opacity:1; font-family:Arial,Helvetica Neue,Helvetica,sans-serif; font-size:48px; text-anchor:start;\" transform=\"rotate(0, 2177.19, 208.744)\" x=\"2177.19\" y=\"208.744\">x</text>\n",
       "</g>\n",
       "</svg>\n"
      ]
     },
     "execution_count": 43,
     "metadata": {},
     "output_type": "execute_result"
    }
   ],
   "source": [
    "solution = eulersolve(fautocat, [10.0], (0.0, 10.0), (5, 0.1, 0.01))\n",
    "tsteps = 0:0.1:10\n",
    "plot(tsteps, solution, label=\"x\", lw=2)"
   ]
  },
  {
   "cell_type": "markdown",
   "metadata": {
    "slideshow": {
     "slide_type": "subslide"
    }
   },
   "source": [
    "**Assignments**\n",
    "\n",
    "1. Given $x_0=10$ and $(a, k_1, k_{-1}) = (5, 0.1, 0.01)$, compute the gradient of $x(t)$ w.r.t. $x_0$ (e.g. sensitivity for initial conditions.\n",
    "2. Given these parameters, use gradient descent to tune $x_0$ such that $x(10) = 20$.\n",
    "3. Given a vector of measured concentrations with $x_0=10$, find the parameters of the process through gradient descent."
   ]
  },
  {
   "cell_type": "code",
   "execution_count": 44,
   "metadata": {
    "slideshow": {
     "slide_type": "subslide"
    }
   },
   "outputs": [
    {
     "data": {
      "text/plain": [
       "x10fromx0 (generic function with 1 method)"
      ]
     },
     "execution_count": 44,
     "metadata": {},
     "output_type": "execute_result"
    }
   ],
   "source": [
    "# for the first two questions\n",
    "xfromx0(x0) = eulersolve(fautocat, x0, (0.0, 10.0), (5, 0.1, 0.01))\n",
    "x10fromx0(x0) = xfromx0(x0)[end]"
   ]
  },
  {
   "cell_type": "code",
   "execution_count": 45,
   "metadata": {
    "slideshow": {
     "slide_type": "subslide"
    }
   },
   "outputs": [
    {
     "data": {
      "image/svg+xml": [
       "<?xml version=\"1.0\" encoding=\"utf-8\"?>\n",
       "<svg xmlns=\"http://www.w3.org/2000/svg\" xmlns:xlink=\"http://www.w3.org/1999/xlink\" width=\"600\" height=\"400\" viewBox=\"0 0 2400 1600\">\n",
       "<defs>\n",
       "  <clipPath id=\"clip1800\">\n",
       "    <rect x=\"0\" y=\"0\" width=\"2400\" height=\"1600\"/>\n",
       "  </clipPath>\n",
       "</defs>\n",
       "<polygon clip-path=\"url(#clip1800)\" points=\"\n",
       "0,1600 2400,1600 2400,0 0,0 \n",
       "  \" fill=\"#ffffff\" fill-rule=\"evenodd\" fill-opacity=\"1\"/>\n",
       "<defs>\n",
       "  <clipPath id=\"clip1801\">\n",
       "    <rect x=\"480\" y=\"0\" width=\"1681\" height=\"1600\"/>\n",
       "  </clipPath>\n",
       "</defs>\n",
       "<polygon clip-path=\"url(#clip1800)\" points=\"\n",
       "148.013,1503.47 2321.26,1503.47 2321.26,47.2441 148.013,47.2441 \n",
       "  \" fill=\"#ffffff\" fill-rule=\"evenodd\" fill-opacity=\"1\"/>\n",
       "<defs>\n",
       "  <clipPath id=\"clip1802\">\n",
       "    <rect x=\"148\" y=\"47\" width=\"2174\" height=\"1457\"/>\n",
       "  </clipPath>\n",
       "</defs>\n",
       "<polyline clip-path=\"url(#clip1802)\" style=\"stroke:#000000; stroke-width:2; stroke-opacity:0.1; fill:none\" points=\"\n",
       "  209.52,1503.47 209.52,47.2441 \n",
       "  \"/>\n",
       "<polyline clip-path=\"url(#clip1802)\" style=\"stroke:#000000; stroke-width:2; stroke-opacity:0.1; fill:none\" points=\"\n",
       "  722.078,1503.47 722.078,47.2441 \n",
       "  \"/>\n",
       "<polyline clip-path=\"url(#clip1802)\" style=\"stroke:#000000; stroke-width:2; stroke-opacity:0.1; fill:none\" points=\"\n",
       "  1234.64,1503.47 1234.64,47.2441 \n",
       "  \"/>\n",
       "<polyline clip-path=\"url(#clip1802)\" style=\"stroke:#000000; stroke-width:2; stroke-opacity:0.1; fill:none\" points=\"\n",
       "  1747.19,1503.47 1747.19,47.2441 \n",
       "  \"/>\n",
       "<polyline clip-path=\"url(#clip1802)\" style=\"stroke:#000000; stroke-width:2; stroke-opacity:0.1; fill:none\" points=\"\n",
       "  2259.75,1503.47 2259.75,47.2441 \n",
       "  \"/>\n",
       "<polyline clip-path=\"url(#clip1802)\" style=\"stroke:#000000; stroke-width:2; stroke-opacity:0.1; fill:none\" points=\"\n",
       "  148.013,1341.53 2321.26,1341.53 \n",
       "  \"/>\n",
       "<polyline clip-path=\"url(#clip1802)\" style=\"stroke:#000000; stroke-width:2; stroke-opacity:0.1; fill:none\" points=\"\n",
       "  148.013,1024.51 2321.26,1024.51 \n",
       "  \"/>\n",
       "<polyline clip-path=\"url(#clip1802)\" style=\"stroke:#000000; stroke-width:2; stroke-opacity:0.1; fill:none\" points=\"\n",
       "  148.013,707.485 2321.26,707.485 \n",
       "  \"/>\n",
       "<polyline clip-path=\"url(#clip1802)\" style=\"stroke:#000000; stroke-width:2; stroke-opacity:0.1; fill:none\" points=\"\n",
       "  148.013,390.463 2321.26,390.463 \n",
       "  \"/>\n",
       "<polyline clip-path=\"url(#clip1802)\" style=\"stroke:#000000; stroke-width:2; stroke-opacity:0.1; fill:none\" points=\"\n",
       "  148.013,73.4419 2321.26,73.4419 \n",
       "  \"/>\n",
       "<polyline clip-path=\"url(#clip1800)\" style=\"stroke:#000000; stroke-width:4; stroke-opacity:1; fill:none\" points=\"\n",
       "  148.013,1503.47 2321.26,1503.47 \n",
       "  \"/>\n",
       "<polyline clip-path=\"url(#clip1800)\" style=\"stroke:#000000; stroke-width:4; stroke-opacity:1; fill:none\" points=\"\n",
       "  148.013,1503.47 148.013,47.2441 \n",
       "  \"/>\n",
       "<polyline clip-path=\"url(#clip1800)\" style=\"stroke:#000000; stroke-width:4; stroke-opacity:1; fill:none\" points=\"\n",
       "  209.52,1503.47 209.52,1481.63 \n",
       "  \"/>\n",
       "<polyline clip-path=\"url(#clip1800)\" style=\"stroke:#000000; stroke-width:4; stroke-opacity:1; fill:none\" points=\"\n",
       "  722.078,1503.47 722.078,1481.63 \n",
       "  \"/>\n",
       "<polyline clip-path=\"url(#clip1800)\" style=\"stroke:#000000; stroke-width:4; stroke-opacity:1; fill:none\" points=\"\n",
       "  1234.64,1503.47 1234.64,1481.63 \n",
       "  \"/>\n",
       "<polyline clip-path=\"url(#clip1800)\" style=\"stroke:#000000; stroke-width:4; stroke-opacity:1; fill:none\" points=\"\n",
       "  1747.19,1503.47 1747.19,1481.63 \n",
       "  \"/>\n",
       "<polyline clip-path=\"url(#clip1800)\" style=\"stroke:#000000; stroke-width:4; stroke-opacity:1; fill:none\" points=\"\n",
       "  2259.75,1503.47 2259.75,1481.63 \n",
       "  \"/>\n",
       "<polyline clip-path=\"url(#clip1800)\" style=\"stroke:#000000; stroke-width:4; stroke-opacity:1; fill:none\" points=\"\n",
       "  148.013,1341.53 180.612,1341.53 \n",
       "  \"/>\n",
       "<polyline clip-path=\"url(#clip1800)\" style=\"stroke:#000000; stroke-width:4; stroke-opacity:1; fill:none\" points=\"\n",
       "  148.013,1024.51 180.612,1024.51 \n",
       "  \"/>\n",
       "<polyline clip-path=\"url(#clip1800)\" style=\"stroke:#000000; stroke-width:4; stroke-opacity:1; fill:none\" points=\"\n",
       "  148.013,707.485 180.612,707.485 \n",
       "  \"/>\n",
       "<polyline clip-path=\"url(#clip1800)\" style=\"stroke:#000000; stroke-width:4; stroke-opacity:1; fill:none\" points=\"\n",
       "  148.013,390.463 180.612,390.463 \n",
       "  \"/>\n",
       "<polyline clip-path=\"url(#clip1800)\" style=\"stroke:#000000; stroke-width:4; stroke-opacity:1; fill:none\" points=\"\n",
       "  148.013,73.4419 180.612,73.4419 \n",
       "  \"/>\n",
       "<g clip-path=\"url(#clip1800)\">\n",
       "<text style=\"fill:#000000; fill-opacity:1; font-family:Arial,Helvetica Neue,Helvetica,sans-serif; font-size:48px; text-anchor:middle;\" transform=\"rotate(0, 209.52, 1557.47)\" x=\"209.52\" y=\"1557.47\">0.0</text>\n",
       "</g>\n",
       "<g clip-path=\"url(#clip1800)\">\n",
       "<text style=\"fill:#000000; fill-opacity:1; font-family:Arial,Helvetica Neue,Helvetica,sans-serif; font-size:48px; text-anchor:middle;\" transform=\"rotate(0, 722.078, 1557.47)\" x=\"722.078\" y=\"1557.47\">2.5</text>\n",
       "</g>\n",
       "<g clip-path=\"url(#clip1800)\">\n",
       "<text style=\"fill:#000000; fill-opacity:1; font-family:Arial,Helvetica Neue,Helvetica,sans-serif; font-size:48px; text-anchor:middle;\" transform=\"rotate(0, 1234.64, 1557.47)\" x=\"1234.64\" y=\"1557.47\">5.0</text>\n",
       "</g>\n",
       "<g clip-path=\"url(#clip1800)\">\n",
       "<text style=\"fill:#000000; fill-opacity:1; font-family:Arial,Helvetica Neue,Helvetica,sans-serif; font-size:48px; text-anchor:middle;\" transform=\"rotate(0, 1747.19, 1557.47)\" x=\"1747.19\" y=\"1557.47\">7.5</text>\n",
       "</g>\n",
       "<g clip-path=\"url(#clip1800)\">\n",
       "<text style=\"fill:#000000; fill-opacity:1; font-family:Arial,Helvetica Neue,Helvetica,sans-serif; font-size:48px; text-anchor:middle;\" transform=\"rotate(0, 2259.75, 1557.47)\" x=\"2259.75\" y=\"1557.47\">10.0</text>\n",
       "</g>\n",
       "<g clip-path=\"url(#clip1800)\">\n",
       "<text style=\"fill:#000000; fill-opacity:1; font-family:Arial,Helvetica Neue,Helvetica,sans-serif; font-size:48px; text-anchor:end;\" transform=\"rotate(0, 124.013, 1359.03)\" x=\"124.013\" y=\"1359.03\">2</text>\n",
       "</g>\n",
       "<g clip-path=\"url(#clip1800)\">\n",
       "<text style=\"fill:#000000; fill-opacity:1; font-family:Arial,Helvetica Neue,Helvetica,sans-serif; font-size:48px; text-anchor:end;\" transform=\"rotate(0, 124.013, 1042.01)\" x=\"124.013\" y=\"1042.01\">4</text>\n",
       "</g>\n",
       "<g clip-path=\"url(#clip1800)\">\n",
       "<text style=\"fill:#000000; fill-opacity:1; font-family:Arial,Helvetica Neue,Helvetica,sans-serif; font-size:48px; text-anchor:end;\" transform=\"rotate(0, 124.013, 724.985)\" x=\"124.013\" y=\"724.985\">6</text>\n",
       "</g>\n",
       "<g clip-path=\"url(#clip1800)\">\n",
       "<text style=\"fill:#000000; fill-opacity:1; font-family:Arial,Helvetica Neue,Helvetica,sans-serif; font-size:48px; text-anchor:end;\" transform=\"rotate(0, 124.013, 407.963)\" x=\"124.013\" y=\"407.963\">8</text>\n",
       "</g>\n",
       "<g clip-path=\"url(#clip1800)\">\n",
       "<text style=\"fill:#000000; fill-opacity:1; font-family:Arial,Helvetica Neue,Helvetica,sans-serif; font-size:48px; text-anchor:end;\" transform=\"rotate(0, 124.013, 90.9419)\" x=\"124.013\" y=\"90.9419\">10</text>\n",
       "</g>\n",
       "<circle clip-path=\"url(#clip1802)\" style=\"fill:#000000; stroke:none; fill-opacity:1\" cx=\"209.52\" cy=\"88.4582\" r=\"18\"/>\n",
       "<circle clip-path=\"url(#clip1802)\" style=\"fill:#009af9; stroke:none; fill-opacity:1\" cx=\"209.52\" cy=\"88.4582\" r=\"14\"/>\n",
       "<circle clip-path=\"url(#clip1802)\" style=\"fill:#000000; stroke:none; fill-opacity:1\" cx=\"230.022\" cy=\"273.887\" r=\"18\"/>\n",
       "<circle clip-path=\"url(#clip1802)\" style=\"fill:#009af9; stroke:none; fill-opacity:1\" cx=\"230.022\" cy=\"273.887\" r=\"14\"/>\n",
       "<circle clip-path=\"url(#clip1802)\" style=\"fill:#000000; stroke:none; fill-opacity:1\" cx=\"250.525\" cy=\"408.492\" r=\"18\"/>\n",
       "<circle clip-path=\"url(#clip1802)\" style=\"fill:#009af9; stroke:none; fill-opacity:1\" cx=\"250.525\" cy=\"408.492\" r=\"14\"/>\n",
       "<circle clip-path=\"url(#clip1802)\" style=\"fill:#000000; stroke:none; fill-opacity:1\" cx=\"271.027\" cy=\"538.037\" r=\"18\"/>\n",
       "<circle clip-path=\"url(#clip1802)\" style=\"fill:#009af9; stroke:none; fill-opacity:1\" cx=\"271.027\" cy=\"538.037\" r=\"14\"/>\n",
       "<circle clip-path=\"url(#clip1802)\" style=\"fill:#000000; stroke:none; fill-opacity:1\" cx=\"291.529\" cy=\"650.265\" r=\"18\"/>\n",
       "<circle clip-path=\"url(#clip1802)\" style=\"fill:#009af9; stroke:none; fill-opacity:1\" cx=\"291.529\" cy=\"650.265\" r=\"14\"/>\n",
       "<circle clip-path=\"url(#clip1802)\" style=\"fill:#000000; stroke:none; fill-opacity:1\" cx=\"312.032\" cy=\"712.567\" r=\"18\"/>\n",
       "<circle clip-path=\"url(#clip1802)\" style=\"fill:#009af9; stroke:none; fill-opacity:1\" cx=\"312.032\" cy=\"712.567\" r=\"14\"/>\n",
       "<circle clip-path=\"url(#clip1802)\" style=\"fill:#000000; stroke:none; fill-opacity:1\" cx=\"332.534\" cy=\"812.693\" r=\"18\"/>\n",
       "<circle clip-path=\"url(#clip1802)\" style=\"fill:#009af9; stroke:none; fill-opacity:1\" cx=\"332.534\" cy=\"812.693\" r=\"14\"/>\n",
       "<circle clip-path=\"url(#clip1802)\" style=\"fill:#000000; stroke:none; fill-opacity:1\" cx=\"353.036\" cy=\"848.52\" r=\"18\"/>\n",
       "<circle clip-path=\"url(#clip1802)\" style=\"fill:#009af9; stroke:none; fill-opacity:1\" cx=\"353.036\" cy=\"848.52\" r=\"14\"/>\n",
       "<circle clip-path=\"url(#clip1802)\" style=\"fill:#000000; stroke:none; fill-opacity:1\" cx=\"373.538\" cy=\"868.644\" r=\"18\"/>\n",
       "<circle clip-path=\"url(#clip1802)\" style=\"fill:#009af9; stroke:none; fill-opacity:1\" cx=\"373.538\" cy=\"868.644\" r=\"14\"/>\n",
       "<circle clip-path=\"url(#clip1802)\" style=\"fill:#000000; stroke:none; fill-opacity:1\" cx=\"394.041\" cy=\"924.277\" r=\"18\"/>\n",
       "<circle clip-path=\"url(#clip1802)\" style=\"fill:#009af9; stroke:none; fill-opacity:1\" cx=\"394.041\" cy=\"924.277\" r=\"14\"/>\n",
       "<circle clip-path=\"url(#clip1802)\" style=\"fill:#000000; stroke:none; fill-opacity:1\" cx=\"414.543\" cy=\"948.532\" r=\"18\"/>\n",
       "<circle clip-path=\"url(#clip1802)\" style=\"fill:#009af9; stroke:none; fill-opacity:1\" cx=\"414.543\" cy=\"948.532\" r=\"14\"/>\n",
       "<circle clip-path=\"url(#clip1802)\" style=\"fill:#000000; stroke:none; fill-opacity:1\" cx=\"435.045\" cy=\"1001.62\" r=\"18\"/>\n",
       "<circle clip-path=\"url(#clip1802)\" style=\"fill:#009af9; stroke:none; fill-opacity:1\" cx=\"435.045\" cy=\"1001.62\" r=\"14\"/>\n",
       "<circle clip-path=\"url(#clip1802)\" style=\"fill:#000000; stroke:none; fill-opacity:1\" cx=\"455.548\" cy=\"1033.07\" r=\"18\"/>\n",
       "<circle clip-path=\"url(#clip1802)\" style=\"fill:#009af9; stroke:none; fill-opacity:1\" cx=\"455.548\" cy=\"1033.07\" r=\"14\"/>\n",
       "<circle clip-path=\"url(#clip1802)\" style=\"fill:#000000; stroke:none; fill-opacity:1\" cx=\"476.05\" cy=\"1046.95\" r=\"18\"/>\n",
       "<circle clip-path=\"url(#clip1802)\" style=\"fill:#009af9; stroke:none; fill-opacity:1\" cx=\"476.05\" cy=\"1046.95\" r=\"14\"/>\n",
       "<circle clip-path=\"url(#clip1802)\" style=\"fill:#000000; stroke:none; fill-opacity:1\" cx=\"496.552\" cy=\"1104.55\" r=\"18\"/>\n",
       "<circle clip-path=\"url(#clip1802)\" style=\"fill:#009af9; stroke:none; fill-opacity:1\" cx=\"496.552\" cy=\"1104.55\" r=\"14\"/>\n",
       "<circle clip-path=\"url(#clip1802)\" style=\"fill:#000000; stroke:none; fill-opacity:1\" cx=\"517.055\" cy=\"1089.31\" r=\"18\"/>\n",
       "<circle clip-path=\"url(#clip1802)\" style=\"fill:#009af9; stroke:none; fill-opacity:1\" cx=\"517.055\" cy=\"1089.31\" r=\"14\"/>\n",
       "<circle clip-path=\"url(#clip1802)\" style=\"fill:#000000; stroke:none; fill-opacity:1\" cx=\"537.557\" cy=\"1098.98\" r=\"18\"/>\n",
       "<circle clip-path=\"url(#clip1802)\" style=\"fill:#009af9; stroke:none; fill-opacity:1\" cx=\"537.557\" cy=\"1098.98\" r=\"14\"/>\n",
       "<circle clip-path=\"url(#clip1802)\" style=\"fill:#000000; stroke:none; fill-opacity:1\" cx=\"558.059\" cy=\"1142.54\" r=\"18\"/>\n",
       "<circle clip-path=\"url(#clip1802)\" style=\"fill:#009af9; stroke:none; fill-opacity:1\" cx=\"558.059\" cy=\"1142.54\" r=\"14\"/>\n",
       "<circle clip-path=\"url(#clip1802)\" style=\"fill:#000000; stroke:none; fill-opacity:1\" cx=\"578.562\" cy=\"1150.07\" r=\"18\"/>\n",
       "<circle clip-path=\"url(#clip1802)\" style=\"fill:#009af9; stroke:none; fill-opacity:1\" cx=\"578.562\" cy=\"1150.07\" r=\"14\"/>\n",
       "<circle clip-path=\"url(#clip1802)\" style=\"fill:#000000; stroke:none; fill-opacity:1\" cx=\"599.064\" cy=\"1178.28\" r=\"18\"/>\n",
       "<circle clip-path=\"url(#clip1802)\" style=\"fill:#009af9; stroke:none; fill-opacity:1\" cx=\"599.064\" cy=\"1178.28\" r=\"14\"/>\n",
       "<circle clip-path=\"url(#clip1802)\" style=\"fill:#000000; stroke:none; fill-opacity:1\" cx=\"619.566\" cy=\"1220.87\" r=\"18\"/>\n",
       "<circle clip-path=\"url(#clip1802)\" style=\"fill:#009af9; stroke:none; fill-opacity:1\" cx=\"619.566\" cy=\"1220.87\" r=\"14\"/>\n",
       "<circle clip-path=\"url(#clip1802)\" style=\"fill:#000000; stroke:none; fill-opacity:1\" cx=\"640.069\" cy=\"1208.5\" r=\"18\"/>\n",
       "<circle clip-path=\"url(#clip1802)\" style=\"fill:#009af9; stroke:none; fill-opacity:1\" cx=\"640.069\" cy=\"1208.5\" r=\"14\"/>\n",
       "<circle clip-path=\"url(#clip1802)\" style=\"fill:#000000; stroke:none; fill-opacity:1\" cx=\"660.571\" cy=\"1197.68\" r=\"18\"/>\n",
       "<circle clip-path=\"url(#clip1802)\" style=\"fill:#009af9; stroke:none; fill-opacity:1\" cx=\"660.571\" cy=\"1197.68\" r=\"14\"/>\n",
       "<circle clip-path=\"url(#clip1802)\" style=\"fill:#000000; stroke:none; fill-opacity:1\" cx=\"681.073\" cy=\"1207.73\" r=\"18\"/>\n",
       "<circle clip-path=\"url(#clip1802)\" style=\"fill:#009af9; stroke:none; fill-opacity:1\" cx=\"681.073\" cy=\"1207.73\" r=\"14\"/>\n",
       "<circle clip-path=\"url(#clip1802)\" style=\"fill:#000000; stroke:none; fill-opacity:1\" cx=\"701.576\" cy=\"1188.24\" r=\"18\"/>\n",
       "<circle clip-path=\"url(#clip1802)\" style=\"fill:#009af9; stroke:none; fill-opacity:1\" cx=\"701.576\" cy=\"1188.24\" r=\"14\"/>\n",
       "<circle clip-path=\"url(#clip1802)\" style=\"fill:#000000; stroke:none; fill-opacity:1\" cx=\"722.078\" cy=\"1232.85\" r=\"18\"/>\n",
       "<circle clip-path=\"url(#clip1802)\" style=\"fill:#009af9; stroke:none; fill-opacity:1\" cx=\"722.078\" cy=\"1232.85\" r=\"14\"/>\n",
       "<circle clip-path=\"url(#clip1802)\" style=\"fill:#000000; stroke:none; fill-opacity:1\" cx=\"742.58\" cy=\"1248.07\" r=\"18\"/>\n",
       "<circle clip-path=\"url(#clip1802)\" style=\"fill:#009af9; stroke:none; fill-opacity:1\" cx=\"742.58\" cy=\"1248.07\" r=\"14\"/>\n",
       "<circle clip-path=\"url(#clip1802)\" style=\"fill:#000000; stroke:none; fill-opacity:1\" cx=\"763.083\" cy=\"1243.91\" r=\"18\"/>\n",
       "<circle clip-path=\"url(#clip1802)\" style=\"fill:#009af9; stroke:none; fill-opacity:1\" cx=\"763.083\" cy=\"1243.91\" r=\"14\"/>\n",
       "<circle clip-path=\"url(#clip1802)\" style=\"fill:#000000; stroke:none; fill-opacity:1\" cx=\"783.585\" cy=\"1279.35\" r=\"18\"/>\n",
       "<circle clip-path=\"url(#clip1802)\" style=\"fill:#009af9; stroke:none; fill-opacity:1\" cx=\"783.585\" cy=\"1279.35\" r=\"14\"/>\n",
       "<circle clip-path=\"url(#clip1802)\" style=\"fill:#000000; stroke:none; fill-opacity:1\" cx=\"804.087\" cy=\"1276.08\" r=\"18\"/>\n",
       "<circle clip-path=\"url(#clip1802)\" style=\"fill:#009af9; stroke:none; fill-opacity:1\" cx=\"804.087\" cy=\"1276.08\" r=\"14\"/>\n",
       "<circle clip-path=\"url(#clip1802)\" style=\"fill:#000000; stroke:none; fill-opacity:1\" cx=\"824.59\" cy=\"1272.64\" r=\"18\"/>\n",
       "<circle clip-path=\"url(#clip1802)\" style=\"fill:#009af9; stroke:none; fill-opacity:1\" cx=\"824.59\" cy=\"1272.64\" r=\"14\"/>\n",
       "<circle clip-path=\"url(#clip1802)\" style=\"fill:#000000; stroke:none; fill-opacity:1\" cx=\"845.092\" cy=\"1278.48\" r=\"18\"/>\n",
       "<circle clip-path=\"url(#clip1802)\" style=\"fill:#009af9; stroke:none; fill-opacity:1\" cx=\"845.092\" cy=\"1278.48\" r=\"14\"/>\n",
       "<circle clip-path=\"url(#clip1802)\" style=\"fill:#000000; stroke:none; fill-opacity:1\" cx=\"865.594\" cy=\"1295.34\" r=\"18\"/>\n",
       "<circle clip-path=\"url(#clip1802)\" style=\"fill:#009af9; stroke:none; fill-opacity:1\" cx=\"865.594\" cy=\"1295.34\" r=\"14\"/>\n",
       "<circle clip-path=\"url(#clip1802)\" style=\"fill:#000000; stroke:none; fill-opacity:1\" cx=\"886.097\" cy=\"1312.16\" r=\"18\"/>\n",
       "<circle clip-path=\"url(#clip1802)\" style=\"fill:#009af9; stroke:none; fill-opacity:1\" cx=\"886.097\" cy=\"1312.16\" r=\"14\"/>\n",
       "<circle clip-path=\"url(#clip1802)\" style=\"fill:#000000; stroke:none; fill-opacity:1\" cx=\"906.599\" cy=\"1313.56\" r=\"18\"/>\n",
       "<circle clip-path=\"url(#clip1802)\" style=\"fill:#009af9; stroke:none; fill-opacity:1\" cx=\"906.599\" cy=\"1313.56\" r=\"14\"/>\n",
       "<circle clip-path=\"url(#clip1802)\" style=\"fill:#000000; stroke:none; fill-opacity:1\" cx=\"927.101\" cy=\"1309.28\" r=\"18\"/>\n",
       "<circle clip-path=\"url(#clip1802)\" style=\"fill:#009af9; stroke:none; fill-opacity:1\" cx=\"927.101\" cy=\"1309.28\" r=\"14\"/>\n",
       "<circle clip-path=\"url(#clip1802)\" style=\"fill:#000000; stroke:none; fill-opacity:1\" cx=\"947.604\" cy=\"1320.93\" r=\"18\"/>\n",
       "<circle clip-path=\"url(#clip1802)\" style=\"fill:#009af9; stroke:none; fill-opacity:1\" cx=\"947.604\" cy=\"1320.93\" r=\"14\"/>\n",
       "<circle clip-path=\"url(#clip1802)\" style=\"fill:#000000; stroke:none; fill-opacity:1\" cx=\"968.106\" cy=\"1320.5\" r=\"18\"/>\n",
       "<circle clip-path=\"url(#clip1802)\" style=\"fill:#009af9; stroke:none; fill-opacity:1\" cx=\"968.106\" cy=\"1320.5\" r=\"14\"/>\n",
       "<circle clip-path=\"url(#clip1802)\" style=\"fill:#000000; stroke:none; fill-opacity:1\" cx=\"988.608\" cy=\"1313.11\" r=\"18\"/>\n",
       "<circle clip-path=\"url(#clip1802)\" style=\"fill:#009af9; stroke:none; fill-opacity:1\" cx=\"988.608\" cy=\"1313.11\" r=\"14\"/>\n",
       "<circle clip-path=\"url(#clip1802)\" style=\"fill:#000000; stroke:none; fill-opacity:1\" cx=\"1009.11\" cy=\"1346.17\" r=\"18\"/>\n",
       "<circle clip-path=\"url(#clip1802)\" style=\"fill:#009af9; stroke:none; fill-opacity:1\" cx=\"1009.11\" cy=\"1346.17\" r=\"14\"/>\n",
       "<circle clip-path=\"url(#clip1802)\" style=\"fill:#000000; stroke:none; fill-opacity:1\" cx=\"1029.61\" cy=\"1339.11\" r=\"18\"/>\n",
       "<circle clip-path=\"url(#clip1802)\" style=\"fill:#009af9; stroke:none; fill-opacity:1\" cx=\"1029.61\" cy=\"1339.11\" r=\"14\"/>\n",
       "<circle clip-path=\"url(#clip1802)\" style=\"fill:#000000; stroke:none; fill-opacity:1\" cx=\"1050.12\" cy=\"1350.36\" r=\"18\"/>\n",
       "<circle clip-path=\"url(#clip1802)\" style=\"fill:#009af9; stroke:none; fill-opacity:1\" cx=\"1050.12\" cy=\"1350.36\" r=\"14\"/>\n",
       "<circle clip-path=\"url(#clip1802)\" style=\"fill:#000000; stroke:none; fill-opacity:1\" cx=\"1070.62\" cy=\"1339.51\" r=\"18\"/>\n",
       "<circle clip-path=\"url(#clip1802)\" style=\"fill:#009af9; stroke:none; fill-opacity:1\" cx=\"1070.62\" cy=\"1339.51\" r=\"14\"/>\n",
       "<circle clip-path=\"url(#clip1802)\" style=\"fill:#000000; stroke:none; fill-opacity:1\" cx=\"1091.12\" cy=\"1344.06\" r=\"18\"/>\n",
       "<circle clip-path=\"url(#clip1802)\" style=\"fill:#009af9; stroke:none; fill-opacity:1\" cx=\"1091.12\" cy=\"1344.06\" r=\"14\"/>\n",
       "<circle clip-path=\"url(#clip1802)\" style=\"fill:#000000; stroke:none; fill-opacity:1\" cx=\"1111.62\" cy=\"1356.93\" r=\"18\"/>\n",
       "<circle clip-path=\"url(#clip1802)\" style=\"fill:#009af9; stroke:none; fill-opacity:1\" cx=\"1111.62\" cy=\"1356.93\" r=\"14\"/>\n",
       "<circle clip-path=\"url(#clip1802)\" style=\"fill:#000000; stroke:none; fill-opacity:1\" cx=\"1132.12\" cy=\"1363.43\" r=\"18\"/>\n",
       "<circle clip-path=\"url(#clip1802)\" style=\"fill:#009af9; stroke:none; fill-opacity:1\" cx=\"1132.12\" cy=\"1363.43\" r=\"14\"/>\n",
       "<circle clip-path=\"url(#clip1802)\" style=\"fill:#000000; stroke:none; fill-opacity:1\" cx=\"1152.63\" cy=\"1338.52\" r=\"18\"/>\n",
       "<circle clip-path=\"url(#clip1802)\" style=\"fill:#009af9; stroke:none; fill-opacity:1\" cx=\"1152.63\" cy=\"1338.52\" r=\"14\"/>\n",
       "<circle clip-path=\"url(#clip1802)\" style=\"fill:#000000; stroke:none; fill-opacity:1\" cx=\"1173.13\" cy=\"1372.07\" r=\"18\"/>\n",
       "<circle clip-path=\"url(#clip1802)\" style=\"fill:#009af9; stroke:none; fill-opacity:1\" cx=\"1173.13\" cy=\"1372.07\" r=\"14\"/>\n",
       "<circle clip-path=\"url(#clip1802)\" style=\"fill:#000000; stroke:none; fill-opacity:1\" cx=\"1193.63\" cy=\"1359.81\" r=\"18\"/>\n",
       "<circle clip-path=\"url(#clip1802)\" style=\"fill:#009af9; stroke:none; fill-opacity:1\" cx=\"1193.63\" cy=\"1359.81\" r=\"14\"/>\n",
       "<circle clip-path=\"url(#clip1802)\" style=\"fill:#000000; stroke:none; fill-opacity:1\" cx=\"1214.13\" cy=\"1374.33\" r=\"18\"/>\n",
       "<circle clip-path=\"url(#clip1802)\" style=\"fill:#009af9; stroke:none; fill-opacity:1\" cx=\"1214.13\" cy=\"1374.33\" r=\"14\"/>\n",
       "<circle clip-path=\"url(#clip1802)\" style=\"fill:#000000; stroke:none; fill-opacity:1\" cx=\"1234.64\" cy=\"1364.84\" r=\"18\"/>\n",
       "<circle clip-path=\"url(#clip1802)\" style=\"fill:#009af9; stroke:none; fill-opacity:1\" cx=\"1234.64\" cy=\"1364.84\" r=\"14\"/>\n",
       "<circle clip-path=\"url(#clip1802)\" style=\"fill:#000000; stroke:none; fill-opacity:1\" cx=\"1255.14\" cy=\"1365.11\" r=\"18\"/>\n",
       "<circle clip-path=\"url(#clip1802)\" style=\"fill:#009af9; stroke:none; fill-opacity:1\" cx=\"1255.14\" cy=\"1365.11\" r=\"14\"/>\n",
       "<circle clip-path=\"url(#clip1802)\" style=\"fill:#000000; stroke:none; fill-opacity:1\" cx=\"1275.64\" cy=\"1354.29\" r=\"18\"/>\n",
       "<circle clip-path=\"url(#clip1802)\" style=\"fill:#009af9; stroke:none; fill-opacity:1\" cx=\"1275.64\" cy=\"1354.29\" r=\"14\"/>\n",
       "<circle clip-path=\"url(#clip1802)\" style=\"fill:#000000; stroke:none; fill-opacity:1\" cx=\"1296.14\" cy=\"1364.26\" r=\"18\"/>\n",
       "<circle clip-path=\"url(#clip1802)\" style=\"fill:#009af9; stroke:none; fill-opacity:1\" cx=\"1296.14\" cy=\"1364.26\" r=\"14\"/>\n",
       "<circle clip-path=\"url(#clip1802)\" style=\"fill:#000000; stroke:none; fill-opacity:1\" cx=\"1316.65\" cy=\"1383.75\" r=\"18\"/>\n",
       "<circle clip-path=\"url(#clip1802)\" style=\"fill:#009af9; stroke:none; fill-opacity:1\" cx=\"1316.65\" cy=\"1383.75\" r=\"14\"/>\n",
       "<circle clip-path=\"url(#clip1802)\" style=\"fill:#000000; stroke:none; fill-opacity:1\" cx=\"1337.15\" cy=\"1361.65\" r=\"18\"/>\n",
       "<circle clip-path=\"url(#clip1802)\" style=\"fill:#009af9; stroke:none; fill-opacity:1\" cx=\"1337.15\" cy=\"1361.65\" r=\"14\"/>\n",
       "<circle clip-path=\"url(#clip1802)\" style=\"fill:#000000; stroke:none; fill-opacity:1\" cx=\"1357.65\" cy=\"1416.66\" r=\"18\"/>\n",
       "<circle clip-path=\"url(#clip1802)\" style=\"fill:#009af9; stroke:none; fill-opacity:1\" cx=\"1357.65\" cy=\"1416.66\" r=\"14\"/>\n",
       "<circle clip-path=\"url(#clip1802)\" style=\"fill:#000000; stroke:none; fill-opacity:1\" cx=\"1378.15\" cy=\"1386.33\" r=\"18\"/>\n",
       "<circle clip-path=\"url(#clip1802)\" style=\"fill:#009af9; stroke:none; fill-opacity:1\" cx=\"1378.15\" cy=\"1386.33\" r=\"14\"/>\n",
       "<circle clip-path=\"url(#clip1802)\" style=\"fill:#000000; stroke:none; fill-opacity:1\" cx=\"1398.65\" cy=\"1360.34\" r=\"18\"/>\n",
       "<circle clip-path=\"url(#clip1802)\" style=\"fill:#009af9; stroke:none; fill-opacity:1\" cx=\"1398.65\" cy=\"1360.34\" r=\"14\"/>\n",
       "<circle clip-path=\"url(#clip1802)\" style=\"fill:#000000; stroke:none; fill-opacity:1\" cx=\"1419.16\" cy=\"1380.87\" r=\"18\"/>\n",
       "<circle clip-path=\"url(#clip1802)\" style=\"fill:#009af9; stroke:none; fill-opacity:1\" cx=\"1419.16\" cy=\"1380.87\" r=\"14\"/>\n",
       "<circle clip-path=\"url(#clip1802)\" style=\"fill:#000000; stroke:none; fill-opacity:1\" cx=\"1439.66\" cy=\"1371.34\" r=\"18\"/>\n",
       "<circle clip-path=\"url(#clip1802)\" style=\"fill:#009af9; stroke:none; fill-opacity:1\" cx=\"1439.66\" cy=\"1371.34\" r=\"14\"/>\n",
       "<circle clip-path=\"url(#clip1802)\" style=\"fill:#000000; stroke:none; fill-opacity:1\" cx=\"1460.16\" cy=\"1393.49\" r=\"18\"/>\n",
       "<circle clip-path=\"url(#clip1802)\" style=\"fill:#009af9; stroke:none; fill-opacity:1\" cx=\"1460.16\" cy=\"1393.49\" r=\"14\"/>\n",
       "<circle clip-path=\"url(#clip1802)\" style=\"fill:#000000; stroke:none; fill-opacity:1\" cx=\"1480.66\" cy=\"1404.68\" r=\"18\"/>\n",
       "<circle clip-path=\"url(#clip1802)\" style=\"fill:#009af9; stroke:none; fill-opacity:1\" cx=\"1480.66\" cy=\"1404.68\" r=\"14\"/>\n",
       "<circle clip-path=\"url(#clip1802)\" style=\"fill:#000000; stroke:none; fill-opacity:1\" cx=\"1501.17\" cy=\"1400.92\" r=\"18\"/>\n",
       "<circle clip-path=\"url(#clip1802)\" style=\"fill:#009af9; stroke:none; fill-opacity:1\" cx=\"1501.17\" cy=\"1400.92\" r=\"14\"/>\n",
       "<circle clip-path=\"url(#clip1802)\" style=\"fill:#000000; stroke:none; fill-opacity:1\" cx=\"1521.67\" cy=\"1412.87\" r=\"18\"/>\n",
       "<circle clip-path=\"url(#clip1802)\" style=\"fill:#009af9; stroke:none; fill-opacity:1\" cx=\"1521.67\" cy=\"1412.87\" r=\"14\"/>\n",
       "<circle clip-path=\"url(#clip1802)\" style=\"fill:#000000; stroke:none; fill-opacity:1\" cx=\"1542.17\" cy=\"1420.81\" r=\"18\"/>\n",
       "<circle clip-path=\"url(#clip1802)\" style=\"fill:#009af9; stroke:none; fill-opacity:1\" cx=\"1542.17\" cy=\"1420.81\" r=\"14\"/>\n",
       "<circle clip-path=\"url(#clip1802)\" style=\"fill:#000000; stroke:none; fill-opacity:1\" cx=\"1562.67\" cy=\"1387.06\" r=\"18\"/>\n",
       "<circle clip-path=\"url(#clip1802)\" style=\"fill:#009af9; stroke:none; fill-opacity:1\" cx=\"1562.67\" cy=\"1387.06\" r=\"14\"/>\n",
       "<circle clip-path=\"url(#clip1802)\" style=\"fill:#000000; stroke:none; fill-opacity:1\" cx=\"1583.18\" cy=\"1418.22\" r=\"18\"/>\n",
       "<circle clip-path=\"url(#clip1802)\" style=\"fill:#009af9; stroke:none; fill-opacity:1\" cx=\"1583.18\" cy=\"1418.22\" r=\"14\"/>\n",
       "<circle clip-path=\"url(#clip1802)\" style=\"fill:#000000; stroke:none; fill-opacity:1\" cx=\"1603.68\" cy=\"1417.75\" r=\"18\"/>\n",
       "<circle clip-path=\"url(#clip1802)\" style=\"fill:#009af9; stroke:none; fill-opacity:1\" cx=\"1603.68\" cy=\"1417.75\" r=\"14\"/>\n",
       "<circle clip-path=\"url(#clip1802)\" style=\"fill:#000000; stroke:none; fill-opacity:1\" cx=\"1624.18\" cy=\"1397.47\" r=\"18\"/>\n",
       "<circle clip-path=\"url(#clip1802)\" style=\"fill:#009af9; stroke:none; fill-opacity:1\" cx=\"1624.18\" cy=\"1397.47\" r=\"14\"/>\n",
       "<circle clip-path=\"url(#clip1802)\" style=\"fill:#000000; stroke:none; fill-opacity:1\" cx=\"1644.68\" cy=\"1441.91\" r=\"18\"/>\n",
       "<circle clip-path=\"url(#clip1802)\" style=\"fill:#009af9; stroke:none; fill-opacity:1\" cx=\"1644.68\" cy=\"1441.91\" r=\"14\"/>\n",
       "<circle clip-path=\"url(#clip1802)\" style=\"fill:#000000; stroke:none; fill-opacity:1\" cx=\"1665.19\" cy=\"1394.17\" r=\"18\"/>\n",
       "<circle clip-path=\"url(#clip1802)\" style=\"fill:#009af9; stroke:none; fill-opacity:1\" cx=\"1665.19\" cy=\"1394.17\" r=\"14\"/>\n",
       "<circle clip-path=\"url(#clip1802)\" style=\"fill:#000000; stroke:none; fill-opacity:1\" cx=\"1685.69\" cy=\"1414.1\" r=\"18\"/>\n",
       "<circle clip-path=\"url(#clip1802)\" style=\"fill:#009af9; stroke:none; fill-opacity:1\" cx=\"1685.69\" cy=\"1414.1\" r=\"14\"/>\n",
       "<circle clip-path=\"url(#clip1802)\" style=\"fill:#000000; stroke:none; fill-opacity:1\" cx=\"1706.19\" cy=\"1406.79\" r=\"18\"/>\n",
       "<circle clip-path=\"url(#clip1802)\" style=\"fill:#009af9; stroke:none; fill-opacity:1\" cx=\"1706.19\" cy=\"1406.79\" r=\"14\"/>\n",
       "<circle clip-path=\"url(#clip1802)\" style=\"fill:#000000; stroke:none; fill-opacity:1\" cx=\"1726.69\" cy=\"1391.9\" r=\"18\"/>\n",
       "<circle clip-path=\"url(#clip1802)\" style=\"fill:#009af9; stroke:none; fill-opacity:1\" cx=\"1726.69\" cy=\"1391.9\" r=\"14\"/>\n",
       "<circle clip-path=\"url(#clip1802)\" style=\"fill:#000000; stroke:none; fill-opacity:1\" cx=\"1747.19\" cy=\"1428.11\" r=\"18\"/>\n",
       "<circle clip-path=\"url(#clip1802)\" style=\"fill:#009af9; stroke:none; fill-opacity:1\" cx=\"1747.19\" cy=\"1428.11\" r=\"14\"/>\n",
       "<circle clip-path=\"url(#clip1802)\" style=\"fill:#000000; stroke:none; fill-opacity:1\" cx=\"1767.7\" cy=\"1416.02\" r=\"18\"/>\n",
       "<circle clip-path=\"url(#clip1802)\" style=\"fill:#009af9; stroke:none; fill-opacity:1\" cx=\"1767.7\" cy=\"1416.02\" r=\"14\"/>\n",
       "<circle clip-path=\"url(#clip1802)\" style=\"fill:#000000; stroke:none; fill-opacity:1\" cx=\"1788.2\" cy=\"1421.55\" r=\"18\"/>\n",
       "<circle clip-path=\"url(#clip1802)\" style=\"fill:#009af9; stroke:none; fill-opacity:1\" cx=\"1788.2\" cy=\"1421.55\" r=\"14\"/>\n",
       "<circle clip-path=\"url(#clip1802)\" style=\"fill:#000000; stroke:none; fill-opacity:1\" cx=\"1808.7\" cy=\"1408.89\" r=\"18\"/>\n",
       "<circle clip-path=\"url(#clip1802)\" style=\"fill:#009af9; stroke:none; fill-opacity:1\" cx=\"1808.7\" cy=\"1408.89\" r=\"14\"/>\n",
       "<circle clip-path=\"url(#clip1802)\" style=\"fill:#000000; stroke:none; fill-opacity:1\" cx=\"1829.2\" cy=\"1422.14\" r=\"18\"/>\n",
       "<circle clip-path=\"url(#clip1802)\" style=\"fill:#009af9; stroke:none; fill-opacity:1\" cx=\"1829.2\" cy=\"1422.14\" r=\"14\"/>\n",
       "<circle clip-path=\"url(#clip1802)\" style=\"fill:#000000; stroke:none; fill-opacity:1\" cx=\"1849.71\" cy=\"1431.23\" r=\"18\"/>\n",
       "<circle clip-path=\"url(#clip1802)\" style=\"fill:#009af9; stroke:none; fill-opacity:1\" cx=\"1849.71\" cy=\"1431.23\" r=\"14\"/>\n",
       "<circle clip-path=\"url(#clip1802)\" style=\"fill:#000000; stroke:none; fill-opacity:1\" cx=\"1870.21\" cy=\"1428.5\" r=\"18\"/>\n",
       "<circle clip-path=\"url(#clip1802)\" style=\"fill:#009af9; stroke:none; fill-opacity:1\" cx=\"1870.21\" cy=\"1428.5\" r=\"14\"/>\n",
       "<circle clip-path=\"url(#clip1802)\" style=\"fill:#000000; stroke:none; fill-opacity:1\" cx=\"1890.71\" cy=\"1423.41\" r=\"18\"/>\n",
       "<circle clip-path=\"url(#clip1802)\" style=\"fill:#009af9; stroke:none; fill-opacity:1\" cx=\"1890.71\" cy=\"1423.41\" r=\"14\"/>\n",
       "<circle clip-path=\"url(#clip1802)\" style=\"fill:#000000; stroke:none; fill-opacity:1\" cx=\"1911.21\" cy=\"1410.87\" r=\"18\"/>\n",
       "<circle clip-path=\"url(#clip1802)\" style=\"fill:#009af9; stroke:none; fill-opacity:1\" cx=\"1911.21\" cy=\"1410.87\" r=\"14\"/>\n",
       "<circle clip-path=\"url(#clip1802)\" style=\"fill:#000000; stroke:none; fill-opacity:1\" cx=\"1931.72\" cy=\"1410.81\" r=\"18\"/>\n",
       "<circle clip-path=\"url(#clip1802)\" style=\"fill:#009af9; stroke:none; fill-opacity:1\" cx=\"1931.72\" cy=\"1410.81\" r=\"14\"/>\n",
       "<circle clip-path=\"url(#clip1802)\" style=\"fill:#000000; stroke:none; fill-opacity:1\" cx=\"1952.22\" cy=\"1398.65\" r=\"18\"/>\n",
       "<circle clip-path=\"url(#clip1802)\" style=\"fill:#009af9; stroke:none; fill-opacity:1\" cx=\"1952.22\" cy=\"1398.65\" r=\"14\"/>\n",
       "<circle clip-path=\"url(#clip1802)\" style=\"fill:#000000; stroke:none; fill-opacity:1\" cx=\"1972.72\" cy=\"1431.79\" r=\"18\"/>\n",
       "<circle clip-path=\"url(#clip1802)\" style=\"fill:#009af9; stroke:none; fill-opacity:1\" cx=\"1972.72\" cy=\"1431.79\" r=\"14\"/>\n",
       "<circle clip-path=\"url(#clip1802)\" style=\"fill:#000000; stroke:none; fill-opacity:1\" cx=\"1993.22\" cy=\"1418.06\" r=\"18\"/>\n",
       "<circle clip-path=\"url(#clip1802)\" style=\"fill:#009af9; stroke:none; fill-opacity:1\" cx=\"1993.22\" cy=\"1418.06\" r=\"14\"/>\n",
       "<circle clip-path=\"url(#clip1802)\" style=\"fill:#000000; stroke:none; fill-opacity:1\" cx=\"2013.72\" cy=\"1440.65\" r=\"18\"/>\n",
       "<circle clip-path=\"url(#clip1802)\" style=\"fill:#009af9; stroke:none; fill-opacity:1\" cx=\"2013.72\" cy=\"1440.65\" r=\"14\"/>\n",
       "<circle clip-path=\"url(#clip1802)\" style=\"fill:#000000; stroke:none; fill-opacity:1\" cx=\"2034.23\" cy=\"1444.61\" r=\"18\"/>\n",
       "<circle clip-path=\"url(#clip1802)\" style=\"fill:#009af9; stroke:none; fill-opacity:1\" cx=\"2034.23\" cy=\"1444.61\" r=\"14\"/>\n",
       "<circle clip-path=\"url(#clip1802)\" style=\"fill:#000000; stroke:none; fill-opacity:1\" cx=\"2054.73\" cy=\"1407.36\" r=\"18\"/>\n",
       "<circle clip-path=\"url(#clip1802)\" style=\"fill:#009af9; stroke:none; fill-opacity:1\" cx=\"2054.73\" cy=\"1407.36\" r=\"14\"/>\n",
       "<circle clip-path=\"url(#clip1802)\" style=\"fill:#000000; stroke:none; fill-opacity:1\" cx=\"2075.23\" cy=\"1438.86\" r=\"18\"/>\n",
       "<circle clip-path=\"url(#clip1802)\" style=\"fill:#009af9; stroke:none; fill-opacity:1\" cx=\"2075.23\" cy=\"1438.86\" r=\"14\"/>\n",
       "<circle clip-path=\"url(#clip1802)\" style=\"fill:#000000; stroke:none; fill-opacity:1\" cx=\"2095.73\" cy=\"1416.62\" r=\"18\"/>\n",
       "<circle clip-path=\"url(#clip1802)\" style=\"fill:#009af9; stroke:none; fill-opacity:1\" cx=\"2095.73\" cy=\"1416.62\" r=\"14\"/>\n",
       "<circle clip-path=\"url(#clip1802)\" style=\"fill:#000000; stroke:none; fill-opacity:1\" cx=\"2116.24\" cy=\"1437.33\" r=\"18\"/>\n",
       "<circle clip-path=\"url(#clip1802)\" style=\"fill:#009af9; stroke:none; fill-opacity:1\" cx=\"2116.24\" cy=\"1437.33\" r=\"14\"/>\n",
       "<circle clip-path=\"url(#clip1802)\" style=\"fill:#000000; stroke:none; fill-opacity:1\" cx=\"2136.74\" cy=\"1423.89\" r=\"18\"/>\n",
       "<circle clip-path=\"url(#clip1802)\" style=\"fill:#009af9; stroke:none; fill-opacity:1\" cx=\"2136.74\" cy=\"1423.89\" r=\"14\"/>\n",
       "<circle clip-path=\"url(#clip1802)\" style=\"fill:#000000; stroke:none; fill-opacity:1\" cx=\"2157.24\" cy=\"1435.02\" r=\"18\"/>\n",
       "<circle clip-path=\"url(#clip1802)\" style=\"fill:#009af9; stroke:none; fill-opacity:1\" cx=\"2157.24\" cy=\"1435.02\" r=\"14\"/>\n",
       "<circle clip-path=\"url(#clip1802)\" style=\"fill:#000000; stroke:none; fill-opacity:1\" cx=\"2177.74\" cy=\"1414.68\" r=\"18\"/>\n",
       "<circle clip-path=\"url(#clip1802)\" style=\"fill:#009af9; stroke:none; fill-opacity:1\" cx=\"2177.74\" cy=\"1414.68\" r=\"14\"/>\n",
       "<circle clip-path=\"url(#clip1802)\" style=\"fill:#000000; stroke:none; fill-opacity:1\" cx=\"2198.25\" cy=\"1462.26\" r=\"18\"/>\n",
       "<circle clip-path=\"url(#clip1802)\" style=\"fill:#009af9; stroke:none; fill-opacity:1\" cx=\"2198.25\" cy=\"1462.26\" r=\"14\"/>\n",
       "<circle clip-path=\"url(#clip1802)\" style=\"fill:#000000; stroke:none; fill-opacity:1\" cx=\"2218.75\" cy=\"1426.12\" r=\"18\"/>\n",
       "<circle clip-path=\"url(#clip1802)\" style=\"fill:#009af9; stroke:none; fill-opacity:1\" cx=\"2218.75\" cy=\"1426.12\" r=\"14\"/>\n",
       "<circle clip-path=\"url(#clip1802)\" style=\"fill:#000000; stroke:none; fill-opacity:1\" cx=\"2239.25\" cy=\"1441.16\" r=\"18\"/>\n",
       "<circle clip-path=\"url(#clip1802)\" style=\"fill:#009af9; stroke:none; fill-opacity:1\" cx=\"2239.25\" cy=\"1441.16\" r=\"14\"/>\n",
       "<circle clip-path=\"url(#clip1802)\" style=\"fill:#000000; stroke:none; fill-opacity:1\" cx=\"2259.75\" cy=\"1440.3\" r=\"18\"/>\n",
       "<circle clip-path=\"url(#clip1802)\" style=\"fill:#009af9; stroke:none; fill-opacity:1\" cx=\"2259.75\" cy=\"1440.3\" r=\"14\"/>\n",
       "<polygon clip-path=\"url(#clip1800)\" points=\"\n",
       "1958.43,251.724 2249.26,251.724 2249.26,130.764 1958.43,130.764 \n",
       "  \" fill=\"#ffffff\" fill-rule=\"evenodd\" fill-opacity=\"1\"/>\n",
       "<polyline clip-path=\"url(#clip1800)\" style=\"stroke:#000000; stroke-width:4; stroke-opacity:1; fill:none\" points=\"\n",
       "  1958.43,251.724 2249.26,251.724 2249.26,130.764 1958.43,130.764 1958.43,251.724 \n",
       "  \"/>\n",
       "<circle clip-path=\"url(#clip1800)\" style=\"fill:#000000; stroke:none; fill-opacity:1\" cx=\"2066.43\" cy=\"191.244\" r=\"25\"/>\n",
       "<circle clip-path=\"url(#clip1800)\" style=\"fill:#009af9; stroke:none; fill-opacity:1\" cx=\"2066.43\" cy=\"191.244\" r=\"21\"/>\n",
       "<g clip-path=\"url(#clip1800)\">\n",
       "<text style=\"fill:#000000; fill-opacity:1; font-family:Arial,Helvetica Neue,Helvetica,sans-serif; font-size:48px; text-anchor:start;\" transform=\"rotate(0, 2150.43, 208.744)\" x=\"2150.43\" y=\"208.744\">y1</text>\n",
       "</g>\n",
       "</svg>\n"
      ]
     },
     "execution_count": 45,
     "metadata": {},
     "output_type": "execute_result"
    }
   ],
   "source": [
    "# for the last question\n",
    "# you only see the measurements\n",
    "measurements = eulersolve(fautocat, 10.0, (0.0, 10.0), (2.6, 0.07, 0.15))\n",
    "measurements .+= 0.1randn(length(measurements))\n",
    "\n",
    "scatter(tsteps, measurements)"
   ]
  },
  {
   "cell_type": "code",
   "execution_count": 46,
   "metadata": {
    "slideshow": {
     "slide_type": "subslide"
    }
   },
   "outputs": [
    {
     "data": {
      "text/plain": [
       "squared_error (generic function with 1 method)"
      ]
     },
     "execution_count": 46,
     "metadata": {},
     "output_type": "execute_result"
    }
   ],
   "source": [
    "# function that works with autograd\n",
    "function squared_error(θ; measurements=measurements, x0=10.0, α=0.1)\n",
    "    sq_error = 0.0\n",
    "    x = x0\n",
    "    for yi in measurements\n",
    "        sq_error += (yi - x)^2\n",
    "        x += α * fautocat(x, 0.0, θ)\n",
    "        \n",
    "    end\n",
    "    return sq_error\n",
    "end"
   ]
  },
  {
   "cell_type": "markdown",
   "metadata": {
    "slideshow": {
     "slide_type": "slide"
    }
   },
   "source": [
    "## References\n",
    "\n",
    "- Gunes et. al. (2015) *Automatic differentiation in machine learning: a survey*"
   ]
  },
  {
   "cell_type": "code",
   "execution_count": null,
   "metadata": {},
   "outputs": [],
   "source": []
  }
 ],
 "metadata": {
  "@webio": {
   "lastCommId": null,
   "lastKernelId": null
  },
  "celltoolbar": "Slideshow",
  "kernelspec": {
   "display_name": "Julia 1.1.0",
   "language": "julia",
   "name": "julia-1.1"
  },
  "language_info": {
   "file_extension": ".jl",
   "mimetype": "application/julia",
   "name": "julia",
   "version": "1.1.0"
  }
 },
 "nbformat": 4,
 "nbformat_minor": 2
}
