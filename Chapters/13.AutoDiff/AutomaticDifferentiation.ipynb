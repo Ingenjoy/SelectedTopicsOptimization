{
 "cells": [
  {
   "cell_type": "code",
   "execution_count": 49,
   "metadata": {
    "slideshow": {
     "slide_type": "skip"
    }
   },
   "outputs": [],
   "source": [
    "using Plots"
   ]
  },
  {
   "cell_type": "code",
   "execution_count": 50,
   "metadata": {
    "slideshow": {
     "slide_type": "slide"
    }
   },
   "outputs": [
    {
     "data": {
      "text/plain": [
       "f (generic function with 1 method)"
      ]
     },
     "execution_count": 50,
     "metadata": {},
     "output_type": "execute_result"
    }
   ],
   "source": [
    "f(x) = log(x) + sin(x) / x"
   ]
  },
  {
   "cell_type": "markdown",
   "metadata": {
    "slideshow": {
     "slide_type": "slide"
    }
   },
   "source": [
    "## Symbolic differentiation\n",
    "\n",
    "Computing derivatives as you have seen in basic calculus courses. \n",
    "\n",
    "By hand (differentiation is *easy*) or automatically:\n",
    "- Maple\n",
    "- Sympy (python)\n",
    "- Mathematica\n",
    "- Maxima"
   ]
  },
  {
   "cell_type": "markdown",
   "metadata": {
    "slideshow": {
     "slide_type": "subslide"
    }
   },
   "source": [
    "Advantages:\n",
    "- exact derivatives!\n",
    "- gives the formula\n",
    "- no hyperparameters or tweaking: just works!"
   ]
  },
  {
   "cell_type": "markdown",
   "metadata": {
    "slideshow": {
     "slide_type": "fragment"
    }
   },
   "source": [
    "Disadvantages:\n",
    "- some software not flexible enough (gradients, arrays, for-loops...)\n",
    "- sometimes explosion of terms: *expression swell*\n",
    "- not always numerically optimal!"
   ]
  },
  {
   "cell_type": "code",
   "execution_count": 3,
   "metadata": {
    "slideshow": {
     "slide_type": "subslide"
    }
   },
   "outputs": [],
   "source": [
    "using SymEngine"
   ]
  },
  {
   "cell_type": "code",
   "execution_count": 4,
   "metadata": {
    "slideshow": {
     "slide_type": "fragment"
    }
   },
   "outputs": [
    {
     "data": {
      "text/plain": [
       "(x,)"
      ]
     },
     "execution_count": 4,
     "metadata": {},
     "output_type": "execute_result"
    }
   ],
   "source": [
    "@vars x  # define variable"
   ]
  },
  {
   "cell_type": "code",
   "execution_count": 5,
   "metadata": {
    "slideshow": {
     "slide_type": "fragment"
    }
   },
   "outputs": [
    {
     "data": {
      "text/plain": [
       "-sin(x)/x^2 + cos(x)/x + x^(-1)"
      ]
     },
     "execution_count": 5,
     "metadata": {},
     "output_type": "execute_result"
    }
   ],
   "source": [
    "dfsymbolic = diff(f(x), x)"
   ]
  },
  {
   "cell_type": "code",
   "execution_count": 62,
   "metadata": {
    "slideshow": {
     "slide_type": "fragment"
    }
   },
   "outputs": [
    {
     "data": {
      "text/plain": [
       "0.0646022250200084"
      ]
     },
     "execution_count": 62,
     "metadata": {},
     "output_type": "execute_result"
    }
   ],
   "source": [
    "dfsymbolic(2.0)"
   ]
  },
  {
   "cell_type": "markdown",
   "metadata": {
    "slideshow": {
     "slide_type": "slide"
    }
   },
   "source": [
    "## Numerical differentiation\n",
    "\n",
    "Finite difference approximation of the derivative/gradient based on a number of function evaluations."
   ]
  },
  {
   "cell_type": "markdown",
   "metadata": {
    "slideshow": {
     "slide_type": "fragment"
    }
   },
   "source": [
    "Often based on the limit definition of a derivative. Theoretical analysis using Taylor approximation:\n",
    "\n",
    "$$\n",
    "f(x + h) = f(x) + \\frac{h}{1!} + \\frac{h^2}{2!}f''(x) + \\frac{h^3}{3!}f^{(3)}(x)+\\ldots\n",
    "$$"
   ]
  },
  {
   "cell_type": "markdown",
   "metadata": {
    "slideshow": {
     "slide_type": "subslide"
    }
   },
   "source": [
    "**Divided difference**\n",
    "\n",
    "$$\n",
    "f'(x)\\approx \\frac{f(x+h) - f(x)}{h}\n",
    "$$\n"
   ]
  },
  {
   "cell_type": "markdown",
   "metadata": {
    "slideshow": {
     "slide_type": "fragment"
    }
   },
   "source": [
    "**Center difference**\n",
    "\n",
    "$$\n",
    "f'(x)\\approx \\frac{f(x+h) - f(x-h)}{2h}\n",
    "$$\n"
   ]
  },
  {
   "cell_type": "markdown",
   "metadata": {
    "slideshow": {
     "slide_type": "fragment"
    }
   },
   "source": [
    "**Complex step method**\n",
    "\n",
    "$$\n",
    "f'(x)\\approx \\frac{Im (f(x +ih))}{h}\n",
    "$$"
   ]
  },
  {
   "cell_type": "markdown",
   "metadata": {
    "slideshow": {
     "slide_type": "subslide"
    }
   },
   "source": [
    "Some simple implementation:"
   ]
  },
  {
   "cell_type": "code",
   "execution_count": 113,
   "metadata": {
    "slideshow": {
     "slide_type": "fragment"
    }
   },
   "outputs": [
    {
     "data": {
      "text/plain": [
       "diff_complstep (generic function with 1 method)"
      ]
     },
     "execution_count": 113,
     "metadata": {},
     "output_type": "execute_result"
    }
   ],
   "source": [
    "diff_divdiff(f, x; h=1e-10) = (f(x + h) - f(x)) / h\n",
    "diff_centdiff(f, x; h=1e-10) = (f(x + h) - f(x - h)) / (2h)\n",
    "diff_complstep(f, x; h=1e-10) = imag(f(x + im * h)) / h"
   ]
  },
  {
   "cell_type": "code",
   "execution_count": 115,
   "metadata": {
    "slideshow": {
     "slide_type": "fragment"
    }
   },
   "outputs": [
    {
     "name": "stdout",
     "output_type": "stream",
     "text": [
      "  0.000007 seconds (6 allocations: 192 bytes)\n"
     ]
    },
    {
     "data": {
      "text/plain": [
       "0.06460165735688861"
      ]
     },
     "execution_count": 115,
     "metadata": {},
     "output_type": "execute_result"
    }
   ],
   "source": [
    "@time diff_divdiff(f, 2.0)"
   ]
  },
  {
   "cell_type": "code",
   "execution_count": 116,
   "metadata": {
    "slideshow": {
     "slide_type": "fragment"
    }
   },
   "outputs": [
    {
     "name": "stdout",
     "output_type": "stream",
     "text": [
      "  0.010944 seconds (23.38 k allocations: 1.284 MiB)\n"
     ]
    },
    {
     "data": {
      "text/plain": [
       "0.06460165735688861"
      ]
     },
     "execution_count": 116,
     "metadata": {},
     "output_type": "execute_result"
    }
   ],
   "source": [
    "@time diff_centdiff(f, 2.0)"
   ]
  },
  {
   "cell_type": "code",
   "execution_count": 118,
   "metadata": {
    "slideshow": {
     "slide_type": "fragment"
    }
   },
   "outputs": [
    {
     "name": "stdout",
     "output_type": "stream",
     "text": [
      "  0.000008 seconds (6 allocations: 192 bytes)\n"
     ]
    },
    {
     "data": {
      "text/plain": [
       "0.06460222502000833"
      ]
     },
     "execution_count": 118,
     "metadata": {},
     "output_type": "execute_result"
    }
   ],
   "source": [
    "@time diff_complstep(f, 2.0)"
   ]
  },
  {
   "cell_type": "code",
   "execution_count": 68,
   "metadata": {
    "slideshow": {
     "slide_type": "skip"
    }
   },
   "outputs": [],
   "source": [
    "error(diff, h; x=2.0) = max(abs(Float64(dfsymbolic(x)) - diff(f, x, h=h)), 1e-30);\n",
    "stepsizes = map(t->10.0^t, -20:0.5:-1);"
   ]
  },
  {
   "cell_type": "code",
   "execution_count": 69,
   "metadata": {
    "scrolled": true,
    "slideshow": {
     "slide_type": "subslide"
    }
   },
   "outputs": [
    {
     "data": {
      "image/svg+xml": [
       "<?xml version=\"1.0\" encoding=\"utf-8\"?>\n",
       "<svg xmlns=\"http://www.w3.org/2000/svg\" xmlns:xlink=\"http://www.w3.org/1999/xlink\" width=\"600\" height=\"400\" viewBox=\"0 0 2400 1600\">\n",
       "<defs>\n",
       "  <clipPath id=\"clip2600\">\n",
       "    <rect x=\"0\" y=\"0\" width=\"2400\" height=\"1600\"/>\n",
       "  </clipPath>\n",
       "</defs>\n",
       "<polygon clip-path=\"url(#clip2600)\" points=\"\n",
       "0,1600 2400,1600 2400,0 0,0 \n",
       "  \" fill=\"#ffffff\" fill-rule=\"evenodd\" fill-opacity=\"1\"/>\n",
       "<defs>\n",
       "  <clipPath id=\"clip2601\">\n",
       "    <rect x=\"480\" y=\"0\" width=\"1681\" height=\"1600\"/>\n",
       "  </clipPath>\n",
       "</defs>\n",
       "<polygon clip-path=\"url(#clip2600)\" points=\"\n",
       "315.214,1440.48 2321.26,1440.48 2321.26,47.2441 315.214,47.2441 \n",
       "  \" fill=\"#ffffff\" fill-rule=\"evenodd\" fill-opacity=\"1\"/>\n",
       "<defs>\n",
       "  <clipPath id=\"clip2602\">\n",
       "    <rect x=\"315\" y=\"47\" width=\"2007\" height=\"1394\"/>\n",
       "  </clipPath>\n",
       "</defs>\n",
       "<polyline clip-path=\"url(#clip2602)\" style=\"stroke:#000000; stroke-width:2; stroke-opacity:0.1; fill:none\" points=\"\n",
       "  371.989,1440.48 371.989,47.2441 \n",
       "  \"/>\n",
       "<polyline clip-path=\"url(#clip2602)\" style=\"stroke:#000000; stroke-width:2; stroke-opacity:0.1; fill:none\" points=\"\n",
       "  870.015,1440.48 870.015,47.2441 \n",
       "  \"/>\n",
       "<polyline clip-path=\"url(#clip2602)\" style=\"stroke:#000000; stroke-width:2; stroke-opacity:0.1; fill:none\" points=\"\n",
       "  1368.04,1440.48 1368.04,47.2441 \n",
       "  \"/>\n",
       "<polyline clip-path=\"url(#clip2602)\" style=\"stroke:#000000; stroke-width:2; stroke-opacity:0.1; fill:none\" points=\"\n",
       "  1866.06,1440.48 1866.06,47.2441 \n",
       "  \"/>\n",
       "<polyline clip-path=\"url(#clip2602)\" style=\"stroke:#000000; stroke-width:2; stroke-opacity:0.1; fill:none\" points=\"\n",
       "  315.214,1401.05 2321.26,1401.05 \n",
       "  \"/>\n",
       "<polyline clip-path=\"url(#clip2602)\" style=\"stroke:#000000; stroke-width:2; stroke-opacity:0.1; fill:none\" points=\"\n",
       "  315.214,1172.94 2321.26,1172.94 \n",
       "  \"/>\n",
       "<polyline clip-path=\"url(#clip2602)\" style=\"stroke:#000000; stroke-width:2; stroke-opacity:0.1; fill:none\" points=\"\n",
       "  315.214,944.833 2321.26,944.833 \n",
       "  \"/>\n",
       "<polyline clip-path=\"url(#clip2602)\" style=\"stroke:#000000; stroke-width:2; stroke-opacity:0.1; fill:none\" points=\"\n",
       "  315.214,716.724 2321.26,716.724 \n",
       "  \"/>\n",
       "<polyline clip-path=\"url(#clip2602)\" style=\"stroke:#000000; stroke-width:2; stroke-opacity:0.1; fill:none\" points=\"\n",
       "  315.214,488.615 2321.26,488.615 \n",
       "  \"/>\n",
       "<polyline clip-path=\"url(#clip2602)\" style=\"stroke:#000000; stroke-width:2; stroke-opacity:0.1; fill:none\" points=\"\n",
       "  315.214,260.506 2321.26,260.506 \n",
       "  \"/>\n",
       "<polyline clip-path=\"url(#clip2600)\" style=\"stroke:#000000; stroke-width:4; stroke-opacity:1; fill:none\" points=\"\n",
       "  315.214,1440.48 2321.26,1440.48 \n",
       "  \"/>\n",
       "<polyline clip-path=\"url(#clip2600)\" style=\"stroke:#000000; stroke-width:4; stroke-opacity:1; fill:none\" points=\"\n",
       "  315.214,1440.48 315.214,47.2441 \n",
       "  \"/>\n",
       "<polyline clip-path=\"url(#clip2600)\" style=\"stroke:#000000; stroke-width:4; stroke-opacity:1; fill:none\" points=\"\n",
       "  371.989,1440.48 371.989,1419.58 \n",
       "  \"/>\n",
       "<polyline clip-path=\"url(#clip2600)\" style=\"stroke:#000000; stroke-width:4; stroke-opacity:1; fill:none\" points=\"\n",
       "  870.015,1440.48 870.015,1419.58 \n",
       "  \"/>\n",
       "<polyline clip-path=\"url(#clip2600)\" style=\"stroke:#000000; stroke-width:4; stroke-opacity:1; fill:none\" points=\"\n",
       "  1368.04,1440.48 1368.04,1419.58 \n",
       "  \"/>\n",
       "<polyline clip-path=\"url(#clip2600)\" style=\"stroke:#000000; stroke-width:4; stroke-opacity:1; fill:none\" points=\"\n",
       "  1866.06,1440.48 1866.06,1419.58 \n",
       "  \"/>\n",
       "<polyline clip-path=\"url(#clip2600)\" style=\"stroke:#000000; stroke-width:4; stroke-opacity:1; fill:none\" points=\"\n",
       "  315.214,1401.05 345.305,1401.05 \n",
       "  \"/>\n",
       "<polyline clip-path=\"url(#clip2600)\" style=\"stroke:#000000; stroke-width:4; stroke-opacity:1; fill:none\" points=\"\n",
       "  315.214,1172.94 345.305,1172.94 \n",
       "  \"/>\n",
       "<polyline clip-path=\"url(#clip2600)\" style=\"stroke:#000000; stroke-width:4; stroke-opacity:1; fill:none\" points=\"\n",
       "  315.214,944.833 345.305,944.833 \n",
       "  \"/>\n",
       "<polyline clip-path=\"url(#clip2600)\" style=\"stroke:#000000; stroke-width:4; stroke-opacity:1; fill:none\" points=\"\n",
       "  315.214,716.724 345.305,716.724 \n",
       "  \"/>\n",
       "<polyline clip-path=\"url(#clip2600)\" style=\"stroke:#000000; stroke-width:4; stroke-opacity:1; fill:none\" points=\"\n",
       "  315.214,488.615 345.305,488.615 \n",
       "  \"/>\n",
       "<polyline clip-path=\"url(#clip2600)\" style=\"stroke:#000000; stroke-width:4; stroke-opacity:1; fill:none\" points=\"\n",
       "  315.214,260.506 345.305,260.506 \n",
       "  \"/>\n",
       "<g clip-path=\"url(#clip2600)\">\n",
       "<text style=\"fill:#000000; fill-opacity:1; font-family:Arial,Helvetica Neue,Helvetica,sans-serif; font-size:48px; text-anchor:start;\" transform=\"rotate(0, 306.627, 1515.49)\" x=\"306.627\" y=\"1515.49\">10</text>\n",
       "</g>\n",
       "<g clip-path=\"url(#clip2600)\">\n",
       "<text style=\"fill:#000000; fill-opacity:1; font-family:Arial,Helvetica Neue,Helvetica,sans-serif; font-size:38px; text-anchor:start;\" transform=\"rotate(0, 360.151, 1488.08)\" x=\"360.151\" y=\"1488.08\">-</text>\n",
       "</g>\n",
       "<g clip-path=\"url(#clip2600)\">\n",
       "<text style=\"fill:#000000; fill-opacity:1; font-family:Arial,Helvetica Neue,Helvetica,sans-serif; font-size:38px; text-anchor:start;\" transform=\"rotate(0, 382.991, 1488.08)\" x=\"382.991\" y=\"1488.08\">20 </text>\n",
       "</g>\n",
       "<g clip-path=\"url(#clip2600)\">\n",
       "<text style=\"fill:#000000; fill-opacity:1; font-family:Arial,Helvetica Neue,Helvetica,sans-serif; font-size:48px; text-anchor:start;\" transform=\"rotate(0, 804.652, 1515.49)\" x=\"804.652\" y=\"1515.49\">10</text>\n",
       "</g>\n",
       "<g clip-path=\"url(#clip2600)\">\n",
       "<text style=\"fill:#000000; fill-opacity:1; font-family:Arial,Helvetica Neue,Helvetica,sans-serif; font-size:38px; text-anchor:start;\" transform=\"rotate(0, 858.177, 1488.08)\" x=\"858.177\" y=\"1488.08\">-</text>\n",
       "</g>\n",
       "<g clip-path=\"url(#clip2600)\">\n",
       "<text style=\"fill:#000000; fill-opacity:1; font-family:Arial,Helvetica Neue,Helvetica,sans-serif; font-size:38px; text-anchor:start;\" transform=\"rotate(0, 881.016, 1488.08)\" x=\"881.016\" y=\"1488.08\">15 </text>\n",
       "</g>\n",
       "<g clip-path=\"url(#clip2600)\">\n",
       "<text style=\"fill:#000000; fill-opacity:1; font-family:Arial,Helvetica Neue,Helvetica,sans-serif; font-size:48px; text-anchor:start;\" transform=\"rotate(0, 1302.68, 1515.49)\" x=\"1302.68\" y=\"1515.49\">10</text>\n",
       "</g>\n",
       "<g clip-path=\"url(#clip2600)\">\n",
       "<text style=\"fill:#000000; fill-opacity:1; font-family:Arial,Helvetica Neue,Helvetica,sans-serif; font-size:38px; text-anchor:start;\" transform=\"rotate(0, 1356.2, 1488.08)\" x=\"1356.2\" y=\"1488.08\">-</text>\n",
       "</g>\n",
       "<g clip-path=\"url(#clip2600)\">\n",
       "<text style=\"fill:#000000; fill-opacity:1; font-family:Arial,Helvetica Neue,Helvetica,sans-serif; font-size:38px; text-anchor:start;\" transform=\"rotate(0, 1379.04, 1488.08)\" x=\"1379.04\" y=\"1488.08\">10 </text>\n",
       "</g>\n",
       "<g clip-path=\"url(#clip2600)\">\n",
       "<text style=\"fill:#000000; fill-opacity:1; font-family:Arial,Helvetica Neue,Helvetica,sans-serif; font-size:48px; text-anchor:start;\" transform=\"rotate(0, 1811.57, 1515.49)\" x=\"1811.57\" y=\"1515.49\">10</text>\n",
       "</g>\n",
       "<g clip-path=\"url(#clip2600)\">\n",
       "<text style=\"fill:#000000; fill-opacity:1; font-family:Arial,Helvetica Neue,Helvetica,sans-serif; font-size:38px; text-anchor:start;\" transform=\"rotate(0, 1865.1, 1488.08)\" x=\"1865.1\" y=\"1488.08\">-</text>\n",
       "</g>\n",
       "<g clip-path=\"url(#clip2600)\">\n",
       "<text style=\"fill:#000000; fill-opacity:1; font-family:Arial,Helvetica Neue,Helvetica,sans-serif; font-size:38px; text-anchor:start;\" transform=\"rotate(0, 1887.94, 1488.08)\" x=\"1887.94\" y=\"1488.08\">5 </text>\n",
       "</g>\n",
       "<g clip-path=\"url(#clip2600)\">\n",
       "<text style=\"fill:#000000; fill-opacity:1; font-family:Arial,Helvetica Neue,Helvetica,sans-serif; font-size:48px; text-anchor:start;\" transform=\"rotate(0, 160.489, 1424.78)\" x=\"160.489\" y=\"1424.78\">10</text>\n",
       "</g>\n",
       "<g clip-path=\"url(#clip2600)\">\n",
       "<text style=\"fill:#000000; fill-opacity:1; font-family:Arial,Helvetica Neue,Helvetica,sans-serif; font-size:38px; text-anchor:start;\" transform=\"rotate(0, 214.014, 1397.37)\" x=\"214.014\" y=\"1397.37\">-</text>\n",
       "</g>\n",
       "<g clip-path=\"url(#clip2600)\">\n",
       "<text style=\"fill:#000000; fill-opacity:1; font-family:Arial,Helvetica Neue,Helvetica,sans-serif; font-size:38px; text-anchor:start;\" transform=\"rotate(0, 236.853, 1397.37)\" x=\"236.853\" y=\"1397.37\">30 </text>\n",
       "</g>\n",
       "<g clip-path=\"url(#clip2600)\">\n",
       "<text style=\"fill:#000000; fill-opacity:1; font-family:Arial,Helvetica Neue,Helvetica,sans-serif; font-size:48px; text-anchor:start;\" transform=\"rotate(0, 160.489, 1196.67)\" x=\"160.489\" y=\"1196.67\">10</text>\n",
       "</g>\n",
       "<g clip-path=\"url(#clip2600)\">\n",
       "<text style=\"fill:#000000; fill-opacity:1; font-family:Arial,Helvetica Neue,Helvetica,sans-serif; font-size:38px; text-anchor:start;\" transform=\"rotate(0, 214.014, 1169.26)\" x=\"214.014\" y=\"1169.26\">-</text>\n",
       "</g>\n",
       "<g clip-path=\"url(#clip2600)\">\n",
       "<text style=\"fill:#000000; fill-opacity:1; font-family:Arial,Helvetica Neue,Helvetica,sans-serif; font-size:38px; text-anchor:start;\" transform=\"rotate(0, 236.853, 1169.26)\" x=\"236.853\" y=\"1169.26\">25 </text>\n",
       "</g>\n",
       "<g clip-path=\"url(#clip2600)\">\n",
       "<text style=\"fill:#000000; fill-opacity:1; font-family:Arial,Helvetica Neue,Helvetica,sans-serif; font-size:48px; text-anchor:start;\" transform=\"rotate(0, 160.489, 968.561)\" x=\"160.489\" y=\"968.561\">10</text>\n",
       "</g>\n",
       "<g clip-path=\"url(#clip2600)\">\n",
       "<text style=\"fill:#000000; fill-opacity:1; font-family:Arial,Helvetica Neue,Helvetica,sans-serif; font-size:38px; text-anchor:start;\" transform=\"rotate(0, 214.014, 941.15)\" x=\"214.014\" y=\"941.15\">-</text>\n",
       "</g>\n",
       "<g clip-path=\"url(#clip2600)\">\n",
       "<text style=\"fill:#000000; fill-opacity:1; font-family:Arial,Helvetica Neue,Helvetica,sans-serif; font-size:38px; text-anchor:start;\" transform=\"rotate(0, 236.853, 941.15)\" x=\"236.853\" y=\"941.15\">20 </text>\n",
       "</g>\n",
       "<g clip-path=\"url(#clip2600)\">\n",
       "<text style=\"fill:#000000; fill-opacity:1; font-family:Arial,Helvetica Neue,Helvetica,sans-serif; font-size:48px; text-anchor:start;\" transform=\"rotate(0, 160.489, 740.452)\" x=\"160.489\" y=\"740.452\">10</text>\n",
       "</g>\n",
       "<g clip-path=\"url(#clip2600)\">\n",
       "<text style=\"fill:#000000; fill-opacity:1; font-family:Arial,Helvetica Neue,Helvetica,sans-serif; font-size:38px; text-anchor:start;\" transform=\"rotate(0, 214.014, 713.041)\" x=\"214.014\" y=\"713.041\">-</text>\n",
       "</g>\n",
       "<g clip-path=\"url(#clip2600)\">\n",
       "<text style=\"fill:#000000; fill-opacity:1; font-family:Arial,Helvetica Neue,Helvetica,sans-serif; font-size:38px; text-anchor:start;\" transform=\"rotate(0, 236.853, 713.041)\" x=\"236.853\" y=\"713.041\">15 </text>\n",
       "</g>\n",
       "<g clip-path=\"url(#clip2600)\">\n",
       "<text style=\"fill:#000000; fill-opacity:1; font-family:Arial,Helvetica Neue,Helvetica,sans-serif; font-size:48px; text-anchor:start;\" transform=\"rotate(0, 160.489, 512.343)\" x=\"160.489\" y=\"512.343\">10</text>\n",
       "</g>\n",
       "<g clip-path=\"url(#clip2600)\">\n",
       "<text style=\"fill:#000000; fill-opacity:1; font-family:Arial,Helvetica Neue,Helvetica,sans-serif; font-size:38px; text-anchor:start;\" transform=\"rotate(0, 214.014, 484.932)\" x=\"214.014\" y=\"484.932\">-</text>\n",
       "</g>\n",
       "<g clip-path=\"url(#clip2600)\">\n",
       "<text style=\"fill:#000000; fill-opacity:1; font-family:Arial,Helvetica Neue,Helvetica,sans-serif; font-size:38px; text-anchor:start;\" transform=\"rotate(0, 236.853, 484.932)\" x=\"236.853\" y=\"484.932\">10 </text>\n",
       "</g>\n",
       "<g clip-path=\"url(#clip2600)\">\n",
       "<text style=\"fill:#000000; fill-opacity:1; font-family:Arial,Helvetica Neue,Helvetica,sans-serif; font-size:48px; text-anchor:start;\" transform=\"rotate(0, 182.234, 284.233)\" x=\"182.234\" y=\"284.233\">10</text>\n",
       "</g>\n",
       "<g clip-path=\"url(#clip2600)\">\n",
       "<text style=\"fill:#000000; fill-opacity:1; font-family:Arial,Helvetica Neue,Helvetica,sans-serif; font-size:38px; text-anchor:start;\" transform=\"rotate(0, 235.758, 256.823)\" x=\"235.758\" y=\"256.823\">-</text>\n",
       "</g>\n",
       "<g clip-path=\"url(#clip2600)\">\n",
       "<text style=\"fill:#000000; fill-opacity:1; font-family:Arial,Helvetica Neue,Helvetica,sans-serif; font-size:38px; text-anchor:start;\" transform=\"rotate(0, 258.598, 256.823)\" x=\"258.598\" y=\"256.823\">5 </text>\n",
       "</g>\n",
       "<g clip-path=\"url(#clip2600)\">\n",
       "<text style=\"fill:#000000; fill-opacity:1; font-family:Arial,Helvetica Neue,Helvetica,sans-serif; font-size:66px; text-anchor:middle;\" transform=\"rotate(0, 1318.24, 1590.4)\" x=\"1318.24\" y=\"1590.4\">stepsize h</text>\n",
       "</g>\n",
       "<g clip-path=\"url(#clip2600)\">\n",
       "<text style=\"fill:#000000; fill-opacity:1; font-family:Arial,Helvetica Neue,Helvetica,sans-serif; font-size:66px; text-anchor:middle;\" transform=\"rotate(-90, 192.814, 743.863)\" x=\"192.814\" y=\"743.863\">absolute error</text>\n",
       "</g>\n",
       "<polyline clip-path=\"url(#clip2602)\" style=\"stroke:#009af9; stroke-width:4; stroke-opacity:1; fill:none\" points=\"\n",
       "  371.989,86.6754 421.792,86.6754 471.594,86.6754 521.397,86.6754 571.199,86.6754 621.002,86.6754 670.804,86.6754 720.607,86.6754 770.409,86.6754 820.212,86.6754 \n",
       "  870.015,86.6754 919.817,135.077 969.62,155.418 1019.42,162.494 1069.22,200.251 1119.03,285.106 1168.83,255.684 1218.63,285.106 1268.43,261.628 1318.24,285.106 \n",
       "  1368.04,317.346 1417.84,356.039 1467.64,352.055 1517.45,396.757 1567.25,392.868 1617.05,419.379 1666.85,392.868 1716.66,368.979 1766.46,345.851 1816.26,323.048 \n",
       "  1866.06,300.237 1915.87,277.426 1965.67,254.616 2015.47,231.808 2065.27,209.005 2115.08,186.22 2164.88,163.491 2214.68,140.939 2264.48,118.956 \n",
       "  \"/>\n",
       "<polyline clip-path=\"url(#clip2602)\" style=\"stroke:#e26f46; stroke-width:4; stroke-opacity:1; fill:none\" points=\"\n",
       "  371.989,86.6754 421.792,86.6754 471.594,86.6754 521.397,86.6754 571.199,86.6754 621.002,86.6754 670.804,86.6754 720.607,86.6754 770.409,86.6754 820.212,86.6754 \n",
       "  870.015,86.6754 919.817,135.077 969.62,155.418 1019.42,162.494 1069.22,200.251 1119.03,285.106 1168.83,255.684 1218.63,285.106 1268.43,261.628 1318.24,285.106 \n",
       "  1368.04,317.346 1417.84,356.039 1467.64,352.055 1517.45,396.757 1567.25,392.868 1617.05,473.197 1666.85,464.417 1716.66,473.197 1766.46,544.072 1816.26,541.029 \n",
       "  1866.06,547.911 1915.87,492.833 1965.67,447.143 2015.47,401.508 2065.27,355.886 2115.08,310.264 2164.88,264.642 2214.68,219.019 2264.48,173.387 \n",
       "  \"/>\n",
       "<polyline clip-path=\"url(#clip2602)\" style=\"stroke:#3da44d; stroke-width:4; stroke-opacity:1; fill:none\" points=\"\n",
       "  371.989,787.741 421.792,1401.05 471.594,787.741 521.397,801.475 571.199,1401.05 621.002,1401.05 670.804,801.475 720.607,779.708 770.409,774.008 820.212,801.475 \n",
       "  870.015,1401.05 919.817,1401.05 969.62,779.708 1019.42,801.475 1069.22,779.708 1119.03,801.475 1168.83,801.475 1218.63,779.708 1268.43,787.741 1318.24,801.475 \n",
       "  1368.04,779.708 1417.84,1401.05 1467.64,801.475 1517.45,779.708 1567.25,801.475 1617.05,765.974 1666.85,719.703 1716.66,675.471 1766.46,629.6 1816.26,583.995 \n",
       "  1866.06,538.373 1915.87,492.751 1965.67,447.129 2015.47,401.508 2065.27,355.886 2115.08,310.264 2164.88,264.642 2214.68,219.022 2264.48,173.411 \n",
       "  \"/>\n",
       "<polygon clip-path=\"url(#clip2600)\" points=\"\n",
       "1632.04,372.684 2249.26,372.684 2249.26,130.764 1632.04,130.764 \n",
       "  \" fill=\"#ffffff\" fill-rule=\"evenodd\" fill-opacity=\"1\"/>\n",
       "<polyline clip-path=\"url(#clip2600)\" style=\"stroke:#000000; stroke-width:4; stroke-opacity:1; fill:none\" points=\"\n",
       "  1632.04,372.684 2249.26,372.684 2249.26,130.764 1632.04,130.764 1632.04,372.684 \n",
       "  \"/>\n",
       "<polyline clip-path=\"url(#clip2600)\" style=\"stroke:#009af9; stroke-width:4; stroke-opacity:1; fill:none\" points=\"\n",
       "  1656.04,191.244 1800.04,191.244 \n",
       "  \"/>\n",
       "<g clip-path=\"url(#clip2600)\">\n",
       "<text style=\"fill:#000000; fill-opacity:1; font-family:Arial,Helvetica Neue,Helvetica,sans-serif; font-size:48px; text-anchor:start;\" transform=\"rotate(0, 1824.04, 208.744)\" x=\"1824.04\" y=\"208.744\">divided difference</text>\n",
       "</g>\n",
       "<polyline clip-path=\"url(#clip2600)\" style=\"stroke:#e26f46; stroke-width:4; stroke-opacity:1; fill:none\" points=\"\n",
       "  1656.04,251.724 1800.04,251.724 \n",
       "  \"/>\n",
       "<g clip-path=\"url(#clip2600)\">\n",
       "<text style=\"fill:#000000; fill-opacity:1; font-family:Arial,Helvetica Neue,Helvetica,sans-serif; font-size:48px; text-anchor:start;\" transform=\"rotate(0, 1824.04, 269.224)\" x=\"1824.04\" y=\"269.224\">center difference</text>\n",
       "</g>\n",
       "<polyline clip-path=\"url(#clip2600)\" style=\"stroke:#3da44d; stroke-width:4; stroke-opacity:1; fill:none\" points=\"\n",
       "  1656.04,312.204 1800.04,312.204 \n",
       "  \"/>\n",
       "<g clip-path=\"url(#clip2600)\">\n",
       "<text style=\"fill:#000000; fill-opacity:1; font-family:Arial,Helvetica Neue,Helvetica,sans-serif; font-size:48px; text-anchor:start;\" transform=\"rotate(0, 1824.04, 329.704)\" x=\"1824.04\" y=\"329.704\">complex step</text>\n",
       "</g>\n",
       "</svg>\n"
      ]
     },
     "execution_count": 69,
     "metadata": {},
     "output_type": "execute_result"
    }
   ],
   "source": [
    "plot(stepsizes, error.(diff_divdiff, stepsizes), label=\"divided difference\",\n",
    "    xscale=:log10, yscale=:log10)\n",
    "plot!(stepsizes, error.(diff_centdiff, stepsizes), label=\"center difference\")\n",
    "plot!(stepsizes, error.(diff_complstep, stepsizes), label=\"complex step\")\n",
    "#xlims!(1e-15, 1e-1)\n",
    "xlabel!(\"stepsize h\")\n",
    "ylabel!(\"absolute error\")"
   ]
  },
  {
   "cell_type": "markdown",
   "metadata": {
    "slideshow": {
     "slide_type": "subslide"
    }
   },
   "source": [
    "Advantages of numerical differentiation:\n",
    "- easy to implement\n",
    "- general, no assumption"
   ]
  },
  {
   "cell_type": "markdown",
   "metadata": {
    "slideshow": {
     "slide_type": "fragment"
    }
   },
   "source": [
    "Disadvantages:\n",
    "- not numerically stable (round-off errors)\n",
    "- not efficient for gradients ($n$ evaluations for $n$-dimensional vectors)"
   ]
  },
  {
   "cell_type": "markdown",
   "metadata": {
    "slideshow": {
     "slide_type": "subslide"
    }
   },
   "source": [
    "> **first sin of numerical analysis**:  *thou shalt not add small numbers to big numbers*"
   ]
  },
  {
   "cell_type": "markdown",
   "metadata": {
    "slideshow": {
     "slide_type": "fragment"
    }
   },
   "source": [
    "> **second sin of numerical analysis**: *thou shalt not subtract numbers which are approximately equal*"
   ]
  },
  {
   "cell_type": "markdown",
   "metadata": {
    "slideshow": {
     "slide_type": "subslide"
    }
   },
   "source": [
    "### Stein's lemma\n",
    "\n",
    "$$\n",
    "E_{X\\sim N(\\mu, \\sigma)}[f(X)(X-\\mu)] = \\sigma^2 E_{X\\sim N(\\mu, \\sigma)}[f'(X)]\n",
    "$$\n",
    "\n",
    "and thus\n",
    "\n",
    "$$\n",
    "E_{\\epsilon\\sim N(0, 1)}[f'(x + \\sigma\\epsilon)] = \\frac{1}{\\sigma} E_{\\epsilon\\sim N(0, 1)}[f(x+\\sigma \\epsilon)\\epsilon]\n",
    "$$"
   ]
  },
  {
   "cell_type": "code",
   "execution_count": 111,
   "metadata": {
    "slideshow": {
     "slide_type": "fragment"
    }
   },
   "outputs": [
    {
     "data": {
      "text/plain": [
       "diff_stein (generic function with 1 method)"
      ]
     },
     "execution_count": 111,
     "metadata": {},
     "output_type": "execute_result"
    }
   ],
   "source": [
    "diff_stein(f, x; σ=1e-1, n=10_000) = 1 / σ * sum(map(e -> f(x + σ * e) * e, randn(n))) / n"
   ]
  },
  {
   "cell_type": "code",
   "execution_count": 112,
   "metadata": {
    "scrolled": false,
    "slideshow": {
     "slide_type": "fragment"
    }
   },
   "outputs": [
    {
     "name": "stdout",
     "output_type": "stream",
     "text": [
      "  0.056700 seconds (86.08 k allocations: 4.573 MiB, 17.99% gc time)\n"
     ]
    },
    {
     "data": {
      "text/plain": [
       "0.2163212662488675"
      ]
     },
     "execution_count": 112,
     "metadata": {},
     "output_type": "execute_result"
    }
   ],
   "source": [
    "@time diff_stein(f, 2.0)"
   ]
  },
  {
   "cell_type": "markdown",
   "metadata": {
    "slideshow": {
     "slide_type": "subslide"
    }
   },
   "source": [
    "**Gradient-vector approximation**\n",
    "\n",
    "$$\n",
    "\\nabla f(\\mathbf{x})^\\intercal \\mathbf{d} \\approx \\frac{f(\\mathbf{x}+h\\cdot\\mathbf{d}) - f(\\mathbf{x}-h\\cdot\\mathbf{d})}{2h}\n",
    "$$"
   ]
  },
  {
   "cell_type": "markdown",
   "metadata": {
    "slideshow": {
     "slide_type": "fragment"
    }
   },
   "source": [
    "**Hessian-vector approximation**\n",
    "\n",
    "$$\n",
    "\\nabla^2 f(\\mathbf{x}) \\mathbf{d} \\approx \\frac{\\nabla f(\\mathbf{x}+h\\cdot\\mathbf{d}) - \\nabla f(\\mathbf{x}-h\\cdot\\mathbf{d})}{2h}\n",
    "$$"
   ]
  },
  {
   "cell_type": "code",
   "execution_count": 70,
   "metadata": {
    "slideshow": {
     "slide_type": "fragment"
    }
   },
   "outputs": [
    {
     "data": {
      "text/plain": [
       "grad_vect (generic function with 1 method)"
      ]
     },
     "execution_count": 70,
     "metadata": {},
     "output_type": "execute_result"
    }
   ],
   "source": [
    "grad_vect(f, x, d; h=1e-10) = (f(x + h * d) - f(x - h * d)) / (2h)"
   ]
  },
  {
   "cell_type": "code",
   "execution_count": 15,
   "metadata": {
    "scrolled": true,
    "slideshow": {
     "slide_type": "subslide"
    }
   },
   "outputs": [
    {
     "data": {
      "text/plain": [
       "∇²g (generic function with 1 method)"
      ]
     },
     "execution_count": 15,
     "metadata": {},
     "output_type": "execute_result"
    }
   ],
   "source": [
    "dvect = randn(10) / 10\n",
    "xvect = 2rand(10)\n",
    "\n",
    "A = randn(10, 10)\n",
    "A = A * A' / 100\n",
    "\n",
    "#g(x) = exp(- x' * A * x)  # adjoint does not play with Zygote\n",
    "g(x) = exp(- sum(x .* (A * x)))\n",
    "\n",
    "∇g(x) = -2g(x) * A * x\n",
    "∇²g(x) = -2g(x) * A - 2A * x * ∇g(x)'"
   ]
  },
  {
   "cell_type": "code",
   "execution_count": 16,
   "metadata": {
    "slideshow": {
     "slide_type": "subslide"
    }
   },
   "outputs": [
    {
     "data": {
      "text/plain": [
       "0.514517920521928"
      ]
     },
     "execution_count": 16,
     "metadata": {},
     "output_type": "execute_result"
    }
   ],
   "source": [
    "g(xvect)"
   ]
  },
  {
   "cell_type": "code",
   "execution_count": 17,
   "metadata": {
    "slideshow": {
     "slide_type": "fragment"
    }
   },
   "outputs": [
    {
     "data": {
      "text/plain": [
       "10-element Array{Float64,1}:\n",
       " -0.040671876827038836\n",
       " -0.147303100818978   \n",
       "  0.039998306052443505\n",
       " -0.09268111077264779 \n",
       " -0.10664827930038674 \n",
       " -0.0378239318651612  \n",
       " -0.04088977957306074 \n",
       " -0.07814799799297588 \n",
       "  0.15363039540174964 \n",
       "  0.059653778038757814"
      ]
     },
     "execution_count": 17,
     "metadata": {},
     "output_type": "execute_result"
    }
   ],
   "source": [
    "∇g(xvect)"
   ]
  },
  {
   "cell_type": "code",
   "execution_count": 18,
   "metadata": {
    "slideshow": {
     "slide_type": "fragment"
    }
   },
   "outputs": [
    {
     "data": {
      "text/plain": [
       "0.04068968018740373"
      ]
     },
     "execution_count": 18,
     "metadata": {},
     "output_type": "execute_result"
    }
   ],
   "source": [
    "∇g(xvect)' * dvect"
   ]
  },
  {
   "cell_type": "code",
   "execution_count": 19,
   "metadata": {
    "slideshow": {
     "slide_type": "fragment"
    }
   },
   "outputs": [
    {
     "data": {
      "text/plain": [
       "0.04068967385251199"
      ]
     },
     "execution_count": 19,
     "metadata": {},
     "output_type": "execute_result"
    }
   ],
   "source": [
    "grad_vect(g, xvect, dvect)"
   ]
  },
  {
   "cell_type": "code",
   "execution_count": 22,
   "metadata": {
    "slideshow": {
     "slide_type": "subslide"
    }
   },
   "outputs": [
    {
     "data": {
      "text/plain": [
       "10-element Array{Float64,1}:\n",
       "  0.0007003810249027499\n",
       " -0.006124263494043334 \n",
       " -0.004152137233151294 \n",
       "  0.023862623438686954 \n",
       "  0.005193172678846626 \n",
       " -0.016410871105513154 \n",
       " -0.01681037697050671  \n",
       " -0.006090260885826185 \n",
       "  0.0019820944741174126\n",
       " -0.0060378399384015185"
      ]
     },
     "execution_count": 22,
     "metadata": {},
     "output_type": "execute_result"
    }
   ],
   "source": [
    "∇²g(xvect) * dvect"
   ]
  },
  {
   "cell_type": "code",
   "execution_count": 23,
   "metadata": {
    "scrolled": true,
    "slideshow": {
     "slide_type": "fragment"
    }
   },
   "outputs": [
    {
     "data": {
      "text/plain": [
       "10-element Array{Float64,1}:\n",
       "  0.0007003425617213566\n",
       " -0.00612426775958852  \n",
       " -0.004152164723159046 \n",
       "  0.02386264796871984  \n",
       "  0.005193137586623209 \n",
       " -0.01641086572190531  \n",
       " -0.016810441927361808 \n",
       " -0.006090128401581296 \n",
       "  0.001982164432590139 \n",
       " -0.006037809141545836 "
      ]
     },
     "execution_count": 23,
     "metadata": {},
     "output_type": "execute_result"
    }
   ],
   "source": [
    "h = 1e-10\n",
    "(∇g(xvect + h * dvect) - ∇g(xvect - h * dvect)) / (2h)"
   ]
  },
  {
   "cell_type": "markdown",
   "metadata": {},
   "source": [
    "## Forward differentiation\n",
    "\n",
    "Accumulation of the gradients along the *computational graph*.\n",
    "\n",
    "==add graph=="
   ]
  },
  {
   "cell_type": "markdown",
   "metadata": {
    "slideshow": {
     "slide_type": "subslide"
    }
   },
   "source": [
    "Forward differentiation can be viewed as evaluating function using *dual numbers*, which can be viewed as truncated Taylor series:\n",
    "\n",
    "$$\n",
    "v + \\dot{v}\\epsilon\\,,\n",
    "$$\n",
    "\n",
    "where $v,\\dot{v}\\in\\mathbb{R}$ and $\\epsilon$ a nilpotent number, i.e. $\\epsilon^2=0$. For example, we have\n",
    "\n",
    "$$\n",
    "(v + \\dot{v}\\epsilon) + (u + \\dot{u}\\epsilon) = (v+u) + (\\dot{v} +\\dot{u})\\epsilon\n",
    "$$\n",
    "\n",
    "\n",
    "$$\n",
    "(v + \\dot{v}\\epsilon)(u + \\dot{u}\\epsilon) = (vu) + (v\\dot{u} +\\dot{v}u)\\epsilon\\,.\n",
    "$$\n",
    "\n"
   ]
  },
  {
   "cell_type": "markdown",
   "metadata": {
    "slideshow": {
     "slide_type": "fragment"
    }
   },
   "source": [
    "These number can be used as\n",
    "\n",
    "$$\n",
    "f(v+\\dot{v}) = f(v) + f'(v)\\dot{v}\\epsilon\\,.\n",
    "$$"
   ]
  },
  {
   "cell_type": "code",
   "execution_count": 119,
   "metadata": {
    "slideshow": {
     "slide_type": "subslide"
    }
   },
   "outputs": [
    {
     "ename": "ErrorException",
     "evalue": "invalid redefinition of constant Dual",
     "output_type": "error",
     "traceback": [
      "invalid redefinition of constant Dual",
      "",
      "Stacktrace:",
      " [1] top-level scope at none:0"
     ]
    }
   ],
   "source": [
    "struct Dual\n",
    "    v\n",
    "    v̇\n",
    "end"
   ]
  },
  {
   "cell_type": "code",
   "execution_count": 120,
   "metadata": {
    "slideshow": {
     "slide_type": "fragment"
    }
   },
   "outputs": [],
   "source": [
    "Base.:+(a::Dual, b::Dual) = Dual(a.v + b.v, a.v̇ + b.v̇)\n",
    "Base.:*(a::Dual, b::Dual) = Dual(a.v * b.v, a.v * b.v̇ + b.v * a.v̇)\n",
    "Base.:sin(a::Dual) = Dual(sin(a.v), cos(a.v) * a.v̇)\n",
    "Base.:log(a::Dual) = Dual(log(a.v), 1.0 / a.v * a.v̇)\n",
    "Base.:/(a::Dual, b::Dual) = Dual(a.v / b.v, (a.v̇ * b.v - a.v * b.v̇) / b.v^2)"
   ]
  },
  {
   "cell_type": "code",
   "execution_count": 47,
   "metadata": {
    "slideshow": {
     "slide_type": "fragment"
    }
   },
   "outputs": [
    {
     "data": {
      "text/plain": [
       "Dual(1.1477958939727861, 0.06460222502000834)"
      ]
     },
     "execution_count": 47,
     "metadata": {},
     "output_type": "execute_result"
    }
   ],
   "source": [
    "f(Dual(2.0, 1.0))"
   ]
  },
  {
   "cell_type": "code",
   "execution_count": 26,
   "metadata": {
    "slideshow": {
     "slide_type": "subslide"
    }
   },
   "outputs": [],
   "source": [
    "using ForwardDiff"
   ]
  },
  {
   "cell_type": "code",
   "execution_count": 27,
   "metadata": {
    "slideshow": {
     "slide_type": "fragment"
    }
   },
   "outputs": [
    {
     "data": {
      "text/plain": [
       "0.06460222502000834"
      ]
     },
     "execution_count": 27,
     "metadata": {},
     "output_type": "execute_result"
    }
   ],
   "source": [
    "ForwardDiff.derivative(f, 2.0)"
   ]
  },
  {
   "cell_type": "code",
   "execution_count": 28,
   "metadata": {
    "slideshow": {
     "slide_type": "fragment"
    }
   },
   "outputs": [
    {
     "data": {
      "text/plain": [
       "10-element Array{Float64,1}:\n",
       " -0.04067187682703883 \n",
       " -0.14730310081897802 \n",
       "  0.039998306052443505\n",
       " -0.09268111077264782 \n",
       " -0.10664827930038676 \n",
       " -0.03782393186516119 \n",
       " -0.040889779573060725\n",
       " -0.07814799799297588 \n",
       "  0.1536303954017496  \n",
       "  0.05965377803875778 "
      ]
     },
     "execution_count": 28,
     "metadata": {},
     "output_type": "execute_result"
    }
   ],
   "source": [
    "ForwardDiff.gradient(g, xvect)"
   ]
  },
  {
   "cell_type": "markdown",
   "metadata": {
    "slideshow": {
     "slide_type": "slide"
    }
   },
   "source": [
    "## Reverse differentiation"
   ]
  },
  {
   "cell_type": "code",
   "execution_count": 29,
   "metadata": {},
   "outputs": [],
   "source": [
    "using Zygote"
   ]
  },
  {
   "cell_type": "code",
   "execution_count": 30,
   "metadata": {},
   "outputs": [
    {
     "data": {
      "text/plain": [
       "0.06460222502000834"
      ]
     },
     "execution_count": 30,
     "metadata": {},
     "output_type": "execute_result"
    }
   ],
   "source": [
    "f'(2.0)"
   ]
  },
  {
   "cell_type": "code",
   "execution_count": 31,
   "metadata": {
    "scrolled": true
   },
   "outputs": [
    {
     "data": {
      "text/plain": [
       "10-element Array{Float64,1}:\n",
       " -0.040671876827038836\n",
       " -0.147303100818978   \n",
       "  0.039998306052443505\n",
       " -0.09268111077264783 \n",
       " -0.10664827930038674 \n",
       " -0.03782393186516119 \n",
       " -0.04088977957306073 \n",
       " -0.07814799799297589 \n",
       "  0.1536303954017496  \n",
       "  0.05965377803875778 "
      ]
     },
     "execution_count": 31,
     "metadata": {},
     "output_type": "execute_result"
    }
   ],
   "source": [
    "g'(xvect)"
   ]
  },
  {
   "cell_type": "code",
   "execution_count": 32,
   "metadata": {},
   "outputs": [
    {
     "data": {
      "text/plain": [
       "10-element Array{Float64,1}:\n",
       " 0.9461378418920856 \n",
       " 1.7894229138332634 \n",
       " 0.5783547737820731 \n",
       " 1.403805901993879  \n",
       " 1.0144055191518673 \n",
       " 0.701669776557619  \n",
       " 0.8288415963246187 \n",
       " 1.925083474284222  \n",
       " 0.12527783599907538\n",
       " 0.4196296046975343 "
      ]
     },
     "execution_count": 32,
     "metadata": {},
     "output_type": "execute_result"
    }
   ],
   "source": [
    "xvect"
   ]
  },
  {
   "cell_type": "code",
   "execution_count": null,
   "metadata": {},
   "outputs": [],
   "source": []
  }
 ],
 "metadata": {
  "@webio": {
   "lastCommId": null,
   "lastKernelId": null
  },
  "celltoolbar": "Slideshow",
  "kernelspec": {
   "display_name": "Julia 1.1.0",
   "language": "julia",
   "name": "julia-1.1"
  },
  "language_info": {
   "file_extension": ".jl",
   "mimetype": "application/julia",
   "name": "julia",
   "version": "1.1.0"
  }
 },
 "nbformat": 4,
 "nbformat_minor": 2
}
