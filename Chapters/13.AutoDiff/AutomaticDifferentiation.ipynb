{
 "cells": [
  {
   "cell_type": "markdown",
   "metadata": {
    "slideshow": {
     "slide_type": "slide"
    }
   },
   "source": [
    "# Automatic differentiation\n",
    "\n",
    "*Selected Topics in Mathematical Optimization*\n",
    "\n",
    "**Michiel Stock** ([email](michiel.stock@ugent.be))\n",
    "\n",
    "![](Figures/logo.png)"
   ]
  },
  {
   "cell_type": "code",
   "execution_count": 1,
   "metadata": {
    "slideshow": {
     "slide_type": "skip"
    }
   },
   "outputs": [],
   "source": [
    "using Plots, BenchmarkTools"
   ]
  },
  {
   "cell_type": "markdown",
   "metadata": {
    "slideshow": {
     "slide_type": "slide"
    }
   },
   "source": [
    "## Definition of a derivative\n",
    "\n",
    "$$\n",
    "\\frac{\\text{d}f(x)}{\\text{d}x} = f'(x) = \\lim _{h\\to 0}{\\frac {f(x+h)-f(x)}{h}}.\n",
    "$$"
   ]
  },
  {
   "cell_type": "markdown",
   "metadata": {
    "slideshow": {
     "slide_type": "fragment"
    }
   },
   "source": [
    "When we work with function of several variables, we use *partial derivatives* (e.g. $\\frac{\\partial f(x, y)}{\\partial x}$), indicating we keep all variables but $x$ fixed."
   ]
  },
  {
   "cell_type": "markdown",
   "metadata": {
    "slideshow": {
     "slide_type": "subslide"
    }
   },
   "source": [
    "Our running example:\n",
    "\n",
    "$$\n",
    "f(x) = \\log x + \\frac{\\sin x}{x}\n",
    "$$"
   ]
  },
  {
   "cell_type": "code",
   "execution_count": 2,
   "metadata": {
    "slideshow": {
     "slide_type": "fragment"
    }
   },
   "outputs": [
    {
     "data": {
      "text/plain": [
       "f (generic function with 1 method)"
      ]
     },
     "execution_count": 2,
     "metadata": {},
     "output_type": "execute_result"
    }
   ],
   "source": [
    "f(x) = log(x) + sin(x) / x"
   ]
  },
  {
   "cell_type": "markdown",
   "metadata": {
    "slideshow": {
     "slide_type": "slide"
    }
   },
   "source": [
    "## Symbolic differentiation\n",
    "\n",
    "Computing derivatives as you have seen in basic calculus courses. \n",
    "\n",
    "By hand or automatically:\n",
    "- Maple\n",
    "- Sympy (python)\n",
    "- Mathematica\n",
    "- Maxima"
   ]
  },
  {
   "cell_type": "markdown",
   "metadata": {
    "slideshow": {
     "slide_type": "fragment"
    }
   },
   "source": [
    "Differentiation is *easy* compared to *integration* or *sampling*."
   ]
  },
  {
   "cell_type": "markdown",
   "metadata": {
    "slideshow": {
     "slide_type": "subslide"
    }
   },
   "source": [
    "Advantages:\n",
    "- exact derivatives!\n",
    "- gives the formula for different evaluations.\n",
    "- no hyperparameters or tweaking: just works!"
   ]
  },
  {
   "cell_type": "markdown",
   "metadata": {
    "slideshow": {
     "slide_type": "fragment"
    }
   },
   "source": [
    "Disadvantages:\n",
    "- some software not flexible enough (gradients, arrays, for-loops...)\n",
    "- sometimes explosion of terms: *expression swell*\n",
    "- not always numerically optimal!"
   ]
  },
  {
   "cell_type": "code",
   "execution_count": 3,
   "metadata": {
    "slideshow": {
     "slide_type": "subslide"
    }
   },
   "outputs": [],
   "source": [
    "using SymEngine"
   ]
  },
  {
   "cell_type": "code",
   "execution_count": 4,
   "metadata": {
    "slideshow": {
     "slide_type": "fragment"
    }
   },
   "outputs": [
    {
     "data": {
      "text/plain": [
       "(x,)"
      ]
     },
     "execution_count": 4,
     "metadata": {},
     "output_type": "execute_result"
    }
   ],
   "source": [
    "@vars x  # define variable"
   ]
  },
  {
   "cell_type": "code",
   "execution_count": 5,
   "metadata": {
    "slideshow": {
     "slide_type": "fragment"
    }
   },
   "outputs": [
    {
     "data": {
      "text/plain": [
       "-sin(x)/x^2 + cos(x)/x + x^(-1)"
      ]
     },
     "execution_count": 5,
     "metadata": {},
     "output_type": "execute_result"
    }
   ],
   "source": [
    "df = diff(f(x), x)"
   ]
  },
  {
   "cell_type": "code",
   "execution_count": 6,
   "metadata": {
    "slideshow": {
     "slide_type": "fragment"
    }
   },
   "outputs": [
    {
     "data": {
      "text/plain": [
       "0.0646022250200084"
      ]
     },
     "execution_count": 6,
     "metadata": {},
     "output_type": "execute_result"
    }
   ],
   "source": [
    "df(2.0)"
   ]
  },
  {
   "cell_type": "markdown",
   "metadata": {
    "slideshow": {
     "slide_type": "slide"
    }
   },
   "source": [
    "## Numerical differentiation\n",
    "\n",
    "Finite difference approximation of the derivative/gradient based on a number of function evaluations."
   ]
  },
  {
   "cell_type": "markdown",
   "metadata": {
    "slideshow": {
     "slide_type": "fragment"
    }
   },
   "source": [
    "Often based on the limit definition of a derivative. Theoretical analysis using Taylor approximation:\n",
    "\n",
    "$$\n",
    "f(x + h) = f(x) + \\frac{h}{1!}f'(x) + \\frac{h^2}{2!}f''(x) + \\frac{h^3}{3!}f^{(3)}(x)+\\ldots\n",
    "$$"
   ]
  },
  {
   "cell_type": "markdown",
   "metadata": {
    "slideshow": {
     "slide_type": "subslide"
    }
   },
   "source": [
    "**Divided difference**\n",
    "\n",
    "$$\n",
    "f'(x)\\approx \\frac{f(x+h) - f(x)}{h}\n",
    "$$\n"
   ]
  },
  {
   "cell_type": "markdown",
   "metadata": {
    "slideshow": {
     "slide_type": "fragment"
    }
   },
   "source": [
    "**Center difference**\n",
    "\n",
    "$$\n",
    "f'(x)\\approx \\frac{f(x+h) - f(x-h)}{2h}\n",
    "$$\n"
   ]
  },
  {
   "cell_type": "markdown",
   "metadata": {
    "slideshow": {
     "slide_type": "fragment"
    }
   },
   "source": [
    "**Complex step method**\n",
    "\n",
    "$$\n",
    "f'(x)\\approx \\frac{\\text{Im} (f(x +ih))}{h}\n",
    "$$"
   ]
  },
  {
   "cell_type": "markdown",
   "metadata": {
    "slideshow": {
     "slide_type": "subslide"
    }
   },
   "source": [
    "Some simple implementations:"
   ]
  },
  {
   "cell_type": "code",
   "execution_count": 7,
   "metadata": {
    "slideshow": {
     "slide_type": "fragment"
    }
   },
   "outputs": [
    {
     "data": {
      "text/plain": [
       "diff_complstep (generic function with 1 method)"
      ]
     },
     "execution_count": 7,
     "metadata": {},
     "output_type": "execute_result"
    }
   ],
   "source": [
    "diff_divdiff(f, x; h=1e-10) = (f(x + h) - f(x)) / h\n",
    "diff_centdiff(f, x; h=1e-10) = (f(x + h) - f(x - h)) / 2h \n",
    "diff_complstep(f, x; h=1e-10) = imag(f(x + im * h)) / h"
   ]
  },
  {
   "cell_type": "code",
   "execution_count": 8,
   "metadata": {
    "slideshow": {
     "slide_type": "fragment"
    }
   },
   "outputs": [
    {
     "name": "stdout",
     "output_type": "stream",
     "text": [
      "  5.959 ns (0 allocations: 0 bytes)\n"
     ]
    },
    {
     "data": {
      "text/plain": [
       "0.06460165735688861"
      ]
     },
     "execution_count": 8,
     "metadata": {},
     "output_type": "execute_result"
    }
   ],
   "source": [
    "@btime diff_divdiff($f, 2.0)"
   ]
  },
  {
   "cell_type": "code",
   "execution_count": 9,
   "metadata": {
    "slideshow": {
     "slide_type": "fragment"
    }
   },
   "outputs": [
    {
     "name": "stdout",
     "output_type": "stream",
     "text": [
      "  5.980 ns (0 allocations: 0 bytes)\n"
     ]
    },
    {
     "data": {
      "text/plain": [
       "0.06460165735688861"
      ]
     },
     "execution_count": 9,
     "metadata": {},
     "output_type": "execute_result"
    }
   ],
   "source": [
    "@btime diff_centdiff($f, 2.0)"
   ]
  },
  {
   "cell_type": "code",
   "execution_count": 10,
   "metadata": {
    "scrolled": true,
    "slideshow": {
     "slide_type": "fragment"
    }
   },
   "outputs": [
    {
     "name": "stdout",
     "output_type": "stream",
     "text": [
      "  73.075 ns (0 allocations: 0 bytes)\n"
     ]
    },
    {
     "data": {
      "text/plain": [
       "0.06460222502000833"
      ]
     },
     "execution_count": 10,
     "metadata": {},
     "output_type": "execute_result"
    }
   ],
   "source": [
    "@btime diff_complstep($f, 2.0)"
   ]
  },
  {
   "cell_type": "markdown",
   "metadata": {
    "slideshow": {
     "slide_type": "subslide"
    }
   },
   "source": [
    "**First sin of numerical analysis**:\n",
    "\n",
    "> *thou shalt not add small numbers to big numbers*"
   ]
  },
  {
   "cell_type": "markdown",
   "metadata": {
    "slideshow": {
     "slide_type": "fragment"
    }
   },
   "source": [
    "**second sin of numerical analysis**:\n",
    "\n",
    "> *thou shalt not subtract numbers which are approximately equal*"
   ]
  },
  {
   "cell_type": "raw",
   "metadata": {
    "slideshow": {
     "slide_type": "skip"
    }
   },
   "source": [
    "# original function\n",
    "error(diff, h; x=2.0) = max(abs(Float64(df(x)) - diff(f, x, h=h)), 1e-30);"
   ]
  },
  {
   "cell_type": "code",
   "execution_count": 11,
   "metadata": {
    "slideshow": {
     "slide_type": "skip"
    }
   },
   "outputs": [],
   "source": [
    "stepsizes = map(t->10.0^t, -20:0.1:-1);"
   ]
  },
  {
   "cell_type": "code",
   "execution_count": 12,
   "metadata": {
    "slideshow": {
     "slide_type": "skip"
    }
   },
   "outputs": [],
   "source": [
    "fexamp(x) = 64x*(1-x)*(1-2x)^2*(1-8x+8x^2)^2\n",
    "dfexamp = diff(fexamp(x), x)\n",
    "error(diff, h; x=1.0) = max(abs(Float64(dfexamp(x)) - diff(fexamp, x, h=h)), 1e-50);"
   ]
  },
  {
   "cell_type": "code",
   "execution_count": 13,
   "metadata": {
    "scrolled": false,
    "slideshow": {
     "slide_type": "subslide"
    }
   },
   "outputs": [
    {
     "data": {
      "image/svg+xml": [
       "<?xml version=\"1.0\" encoding=\"utf-8\"?>\n",
       "<svg xmlns=\"http://www.w3.org/2000/svg\" xmlns:xlink=\"http://www.w3.org/1999/xlink\" width=\"600\" height=\"400\" viewBox=\"0 0 2400 1600\">\n",
       "<defs>\n",
       "  <clipPath id=\"clip2100\">\n",
       "    <rect x=\"0\" y=\"0\" width=\"2400\" height=\"1600\"/>\n",
       "  </clipPath>\n",
       "</defs>\n",
       "<polygon clip-path=\"url(#clip2100)\" points=\"\n",
       "0,1600 2400,1600 2400,0 0,0 \n",
       "  \" fill=\"#ffffff\" fill-rule=\"evenodd\" fill-opacity=\"1\"/>\n",
       "<defs>\n",
       "  <clipPath id=\"clip2101\">\n",
       "    <rect x=\"480\" y=\"0\" width=\"1681\" height=\"1600\"/>\n",
       "  </clipPath>\n",
       "</defs>\n",
       "<polygon clip-path=\"url(#clip2100)\" points=\"\n",
       "315.214,1440.48 2321.26,1440.48 2321.26,47.2441 315.214,47.2441 \n",
       "  \" fill=\"#ffffff\" fill-rule=\"evenodd\" fill-opacity=\"1\"/>\n",
       "<defs>\n",
       "  <clipPath id=\"clip2102\">\n",
       "    <rect x=\"315\" y=\"47\" width=\"2007\" height=\"1394\"/>\n",
       "  </clipPath>\n",
       "</defs>\n",
       "<polyline clip-path=\"url(#clip2102)\" style=\"stroke:#000000; stroke-width:2; stroke-opacity:0.1; fill:none\" points=\"\n",
       "  371.989,1440.48 371.989,47.2441 \n",
       "  \"/>\n",
       "<polyline clip-path=\"url(#clip2102)\" style=\"stroke:#000000; stroke-width:2; stroke-opacity:0.1; fill:none\" points=\"\n",
       "  870.015,1440.48 870.015,47.2441 \n",
       "  \"/>\n",
       "<polyline clip-path=\"url(#clip2102)\" style=\"stroke:#000000; stroke-width:2; stroke-opacity:0.1; fill:none\" points=\"\n",
       "  1368.04,1440.48 1368.04,47.2441 \n",
       "  \"/>\n",
       "<polyline clip-path=\"url(#clip2102)\" style=\"stroke:#000000; stroke-width:2; stroke-opacity:0.1; fill:none\" points=\"\n",
       "  1866.06,1440.48 1866.06,47.2441 \n",
       "  \"/>\n",
       "<polyline clip-path=\"url(#clip2102)\" style=\"stroke:#000000; stroke-width:2; stroke-opacity:0.1; fill:none\" points=\"\n",
       "  315.214,1401.05 2321.26,1401.05 \n",
       "  \"/>\n",
       "<polyline clip-path=\"url(#clip2102)\" style=\"stroke:#000000; stroke-width:2; stroke-opacity:0.1; fill:none\" points=\"\n",
       "  315.214,1150.55 2321.26,1150.55 \n",
       "  \"/>\n",
       "<polyline clip-path=\"url(#clip2102)\" style=\"stroke:#000000; stroke-width:2; stroke-opacity:0.1; fill:none\" points=\"\n",
       "  315.214,900.039 2321.26,900.039 \n",
       "  \"/>\n",
       "<polyline clip-path=\"url(#clip2102)\" style=\"stroke:#000000; stroke-width:2; stroke-opacity:0.1; fill:none\" points=\"\n",
       "  315.214,649.533 2321.26,649.533 \n",
       "  \"/>\n",
       "<polyline clip-path=\"url(#clip2102)\" style=\"stroke:#000000; stroke-width:2; stroke-opacity:0.1; fill:none\" points=\"\n",
       "  315.214,399.026 2321.26,399.026 \n",
       "  \"/>\n",
       "<polyline clip-path=\"url(#clip2102)\" style=\"stroke:#000000; stroke-width:2; stroke-opacity:0.1; fill:none\" points=\"\n",
       "  315.214,148.52 2321.26,148.52 \n",
       "  \"/>\n",
       "<polyline clip-path=\"url(#clip2100)\" style=\"stroke:#000000; stroke-width:4; stroke-opacity:1; fill:none\" points=\"\n",
       "  315.214,1440.48 2321.26,1440.48 \n",
       "  \"/>\n",
       "<polyline clip-path=\"url(#clip2100)\" style=\"stroke:#000000; stroke-width:4; stroke-opacity:1; fill:none\" points=\"\n",
       "  315.214,1440.48 315.214,47.2441 \n",
       "  \"/>\n",
       "<polyline clip-path=\"url(#clip2100)\" style=\"stroke:#000000; stroke-width:4; stroke-opacity:1; fill:none\" points=\"\n",
       "  371.989,1440.48 371.989,1419.58 \n",
       "  \"/>\n",
       "<polyline clip-path=\"url(#clip2100)\" style=\"stroke:#000000; stroke-width:4; stroke-opacity:1; fill:none\" points=\"\n",
       "  870.015,1440.48 870.015,1419.58 \n",
       "  \"/>\n",
       "<polyline clip-path=\"url(#clip2100)\" style=\"stroke:#000000; stroke-width:4; stroke-opacity:1; fill:none\" points=\"\n",
       "  1368.04,1440.48 1368.04,1419.58 \n",
       "  \"/>\n",
       "<polyline clip-path=\"url(#clip2100)\" style=\"stroke:#000000; stroke-width:4; stroke-opacity:1; fill:none\" points=\"\n",
       "  1866.06,1440.48 1866.06,1419.58 \n",
       "  \"/>\n",
       "<polyline clip-path=\"url(#clip2100)\" style=\"stroke:#000000; stroke-width:4; stroke-opacity:1; fill:none\" points=\"\n",
       "  315.214,1401.05 345.305,1401.05 \n",
       "  \"/>\n",
       "<polyline clip-path=\"url(#clip2100)\" style=\"stroke:#000000; stroke-width:4; stroke-opacity:1; fill:none\" points=\"\n",
       "  315.214,1150.55 345.305,1150.55 \n",
       "  \"/>\n",
       "<polyline clip-path=\"url(#clip2100)\" style=\"stroke:#000000; stroke-width:4; stroke-opacity:1; fill:none\" points=\"\n",
       "  315.214,900.039 345.305,900.039 \n",
       "  \"/>\n",
       "<polyline clip-path=\"url(#clip2100)\" style=\"stroke:#000000; stroke-width:4; stroke-opacity:1; fill:none\" points=\"\n",
       "  315.214,649.533 345.305,649.533 \n",
       "  \"/>\n",
       "<polyline clip-path=\"url(#clip2100)\" style=\"stroke:#000000; stroke-width:4; stroke-opacity:1; fill:none\" points=\"\n",
       "  315.214,399.026 345.305,399.026 \n",
       "  \"/>\n",
       "<polyline clip-path=\"url(#clip2100)\" style=\"stroke:#000000; stroke-width:4; stroke-opacity:1; fill:none\" points=\"\n",
       "  315.214,148.52 345.305,148.52 \n",
       "  \"/>\n",
       "<g clip-path=\"url(#clip2100)\">\n",
       "<text style=\"fill:#000000; fill-opacity:1; font-family:Arial,Helvetica Neue,Helvetica,sans-serif; font-size:48px; text-anchor:start;\" transform=\"rotate(0, 306.627, 1515.49)\" x=\"306.627\" y=\"1515.49\">10</text>\n",
       "</g>\n",
       "<g clip-path=\"url(#clip2100)\">\n",
       "<text style=\"fill:#000000; fill-opacity:1; font-family:Arial,Helvetica Neue,Helvetica,sans-serif; font-size:38px; text-anchor:start;\" transform=\"rotate(0, 360.151, 1488.08)\" x=\"360.151\" y=\"1488.08\">-</text>\n",
       "</g>\n",
       "<g clip-path=\"url(#clip2100)\">\n",
       "<text style=\"fill:#000000; fill-opacity:1; font-family:Arial,Helvetica Neue,Helvetica,sans-serif; font-size:38px; text-anchor:start;\" transform=\"rotate(0, 382.991, 1488.08)\" x=\"382.991\" y=\"1488.08\">20 </text>\n",
       "</g>\n",
       "<g clip-path=\"url(#clip2100)\">\n",
       "<text style=\"fill:#000000; fill-opacity:1; font-family:Arial,Helvetica Neue,Helvetica,sans-serif; font-size:48px; text-anchor:start;\" transform=\"rotate(0, 804.652, 1515.49)\" x=\"804.652\" y=\"1515.49\">10</text>\n",
       "</g>\n",
       "<g clip-path=\"url(#clip2100)\">\n",
       "<text style=\"fill:#000000; fill-opacity:1; font-family:Arial,Helvetica Neue,Helvetica,sans-serif; font-size:38px; text-anchor:start;\" transform=\"rotate(0, 858.177, 1488.08)\" x=\"858.177\" y=\"1488.08\">-</text>\n",
       "</g>\n",
       "<g clip-path=\"url(#clip2100)\">\n",
       "<text style=\"fill:#000000; fill-opacity:1; font-family:Arial,Helvetica Neue,Helvetica,sans-serif; font-size:38px; text-anchor:start;\" transform=\"rotate(0, 881.016, 1488.08)\" x=\"881.016\" y=\"1488.08\">15 </text>\n",
       "</g>\n",
       "<g clip-path=\"url(#clip2100)\">\n",
       "<text style=\"fill:#000000; fill-opacity:1; font-family:Arial,Helvetica Neue,Helvetica,sans-serif; font-size:48px; text-anchor:start;\" transform=\"rotate(0, 1302.68, 1515.49)\" x=\"1302.68\" y=\"1515.49\">10</text>\n",
       "</g>\n",
       "<g clip-path=\"url(#clip2100)\">\n",
       "<text style=\"fill:#000000; fill-opacity:1; font-family:Arial,Helvetica Neue,Helvetica,sans-serif; font-size:38px; text-anchor:start;\" transform=\"rotate(0, 1356.2, 1488.08)\" x=\"1356.2\" y=\"1488.08\">-</text>\n",
       "</g>\n",
       "<g clip-path=\"url(#clip2100)\">\n",
       "<text style=\"fill:#000000; fill-opacity:1; font-family:Arial,Helvetica Neue,Helvetica,sans-serif; font-size:38px; text-anchor:start;\" transform=\"rotate(0, 1379.04, 1488.08)\" x=\"1379.04\" y=\"1488.08\">10 </text>\n",
       "</g>\n",
       "<g clip-path=\"url(#clip2100)\">\n",
       "<text style=\"fill:#000000; fill-opacity:1; font-family:Arial,Helvetica Neue,Helvetica,sans-serif; font-size:48px; text-anchor:start;\" transform=\"rotate(0, 1811.57, 1515.49)\" x=\"1811.57\" y=\"1515.49\">10</text>\n",
       "</g>\n",
       "<g clip-path=\"url(#clip2100)\">\n",
       "<text style=\"fill:#000000; fill-opacity:1; font-family:Arial,Helvetica Neue,Helvetica,sans-serif; font-size:38px; text-anchor:start;\" transform=\"rotate(0, 1865.1, 1488.08)\" x=\"1865.1\" y=\"1488.08\">-</text>\n",
       "</g>\n",
       "<g clip-path=\"url(#clip2100)\">\n",
       "<text style=\"fill:#000000; fill-opacity:1; font-family:Arial,Helvetica Neue,Helvetica,sans-serif; font-size:38px; text-anchor:start;\" transform=\"rotate(0, 1887.94, 1488.08)\" x=\"1887.94\" y=\"1488.08\">5 </text>\n",
       "</g>\n",
       "<g clip-path=\"url(#clip2100)\">\n",
       "<text style=\"fill:#000000; fill-opacity:1; font-family:Arial,Helvetica Neue,Helvetica,sans-serif; font-size:48px; text-anchor:start;\" transform=\"rotate(0, 160.489, 1424.78)\" x=\"160.489\" y=\"1424.78\">10</text>\n",
       "</g>\n",
       "<g clip-path=\"url(#clip2100)\">\n",
       "<text style=\"fill:#000000; fill-opacity:1; font-family:Arial,Helvetica Neue,Helvetica,sans-serif; font-size:38px; text-anchor:start;\" transform=\"rotate(0, 214.014, 1397.37)\" x=\"214.014\" y=\"1397.37\">-</text>\n",
       "</g>\n",
       "<g clip-path=\"url(#clip2100)\">\n",
       "<text style=\"fill:#000000; fill-opacity:1; font-family:Arial,Helvetica Neue,Helvetica,sans-serif; font-size:38px; text-anchor:start;\" transform=\"rotate(0, 236.853, 1397.37)\" x=\"236.853\" y=\"1397.37\">50 </text>\n",
       "</g>\n",
       "<g clip-path=\"url(#clip2100)\">\n",
       "<text style=\"fill:#000000; fill-opacity:1; font-family:Arial,Helvetica Neue,Helvetica,sans-serif; font-size:48px; text-anchor:start;\" transform=\"rotate(0, 160.489, 1174.27)\" x=\"160.489\" y=\"1174.27\">10</text>\n",
       "</g>\n",
       "<g clip-path=\"url(#clip2100)\">\n",
       "<text style=\"fill:#000000; fill-opacity:1; font-family:Arial,Helvetica Neue,Helvetica,sans-serif; font-size:38px; text-anchor:start;\" transform=\"rotate(0, 214.014, 1146.86)\" x=\"214.014\" y=\"1146.86\">-</text>\n",
       "</g>\n",
       "<g clip-path=\"url(#clip2100)\">\n",
       "<text style=\"fill:#000000; fill-opacity:1; font-family:Arial,Helvetica Neue,Helvetica,sans-serif; font-size:38px; text-anchor:start;\" transform=\"rotate(0, 236.853, 1146.86)\" x=\"236.853\" y=\"1146.86\">40 </text>\n",
       "</g>\n",
       "<g clip-path=\"url(#clip2100)\">\n",
       "<text style=\"fill:#000000; fill-opacity:1; font-family:Arial,Helvetica Neue,Helvetica,sans-serif; font-size:48px; text-anchor:start;\" transform=\"rotate(0, 160.489, 923.766)\" x=\"160.489\" y=\"923.766\">10</text>\n",
       "</g>\n",
       "<g clip-path=\"url(#clip2100)\">\n",
       "<text style=\"fill:#000000; fill-opacity:1; font-family:Arial,Helvetica Neue,Helvetica,sans-serif; font-size:38px; text-anchor:start;\" transform=\"rotate(0, 214.014, 896.356)\" x=\"214.014\" y=\"896.356\">-</text>\n",
       "</g>\n",
       "<g clip-path=\"url(#clip2100)\">\n",
       "<text style=\"fill:#000000; fill-opacity:1; font-family:Arial,Helvetica Neue,Helvetica,sans-serif; font-size:38px; text-anchor:start;\" transform=\"rotate(0, 236.853, 896.356)\" x=\"236.853\" y=\"896.356\">30 </text>\n",
       "</g>\n",
       "<g clip-path=\"url(#clip2100)\">\n",
       "<text style=\"fill:#000000; fill-opacity:1; font-family:Arial,Helvetica Neue,Helvetica,sans-serif; font-size:48px; text-anchor:start;\" transform=\"rotate(0, 160.489, 673.26)\" x=\"160.489\" y=\"673.26\">10</text>\n",
       "</g>\n",
       "<g clip-path=\"url(#clip2100)\">\n",
       "<text style=\"fill:#000000; fill-opacity:1; font-family:Arial,Helvetica Neue,Helvetica,sans-serif; font-size:38px; text-anchor:start;\" transform=\"rotate(0, 214.014, 645.85)\" x=\"214.014\" y=\"645.85\">-</text>\n",
       "</g>\n",
       "<g clip-path=\"url(#clip2100)\">\n",
       "<text style=\"fill:#000000; fill-opacity:1; font-family:Arial,Helvetica Neue,Helvetica,sans-serif; font-size:38px; text-anchor:start;\" transform=\"rotate(0, 236.853, 645.85)\" x=\"236.853\" y=\"645.85\">20 </text>\n",
       "</g>\n",
       "<g clip-path=\"url(#clip2100)\">\n",
       "<text style=\"fill:#000000; fill-opacity:1; font-family:Arial,Helvetica Neue,Helvetica,sans-serif; font-size:48px; text-anchor:start;\" transform=\"rotate(0, 160.489, 422.754)\" x=\"160.489\" y=\"422.754\">10</text>\n",
       "</g>\n",
       "<g clip-path=\"url(#clip2100)\">\n",
       "<text style=\"fill:#000000; fill-opacity:1; font-family:Arial,Helvetica Neue,Helvetica,sans-serif; font-size:38px; text-anchor:start;\" transform=\"rotate(0, 214.014, 395.344)\" x=\"214.014\" y=\"395.344\">-</text>\n",
       "</g>\n",
       "<g clip-path=\"url(#clip2100)\">\n",
       "<text style=\"fill:#000000; fill-opacity:1; font-family:Arial,Helvetica Neue,Helvetica,sans-serif; font-size:38px; text-anchor:start;\" transform=\"rotate(0, 236.853, 395.344)\" x=\"236.853\" y=\"395.344\">10 </text>\n",
       "</g>\n",
       "<g clip-path=\"url(#clip2100)\">\n",
       "<text style=\"fill:#000000; fill-opacity:1; font-family:Arial,Helvetica Neue,Helvetica,sans-serif; font-size:48px; text-anchor:start;\" transform=\"rotate(0, 205.073, 172.248)\" x=\"205.073\" y=\"172.248\">10</text>\n",
       "</g>\n",
       "<g clip-path=\"url(#clip2100)\">\n",
       "<text style=\"fill:#000000; fill-opacity:1; font-family:Arial,Helvetica Neue,Helvetica,sans-serif; font-size:38px; text-anchor:start;\" transform=\"rotate(0, 258.598, 144.837)\" x=\"258.598\" y=\"144.837\">0 </text>\n",
       "</g>\n",
       "<g clip-path=\"url(#clip2100)\">\n",
       "<text style=\"fill:#000000; fill-opacity:1; font-family:Arial,Helvetica Neue,Helvetica,sans-serif; font-size:66px; text-anchor:middle;\" transform=\"rotate(0, 1318.24, 1590.4)\" x=\"1318.24\" y=\"1590.4\">stepsize h</text>\n",
       "</g>\n",
       "<g clip-path=\"url(#clip2100)\">\n",
       "<text style=\"fill:#000000; fill-opacity:1; font-family:Arial,Helvetica Neue,Helvetica,sans-serif; font-size:66px; text-anchor:middle;\" transform=\"rotate(-90, 192.814, 743.863)\" x=\"192.814\" y=\"743.863\">absolute error</text>\n",
       "</g>\n",
       "<polyline clip-path=\"url(#clip2102)\" style=\"stroke:#009af9; stroke-width:8; stroke-opacity:1; fill:none\" points=\"\n",
       "  371.989,103.274 381.95,103.274 391.91,103.274 401.871,103.274 411.831,103.274 421.792,103.274 431.752,103.274 441.713,103.274 451.673,103.274 461.634,103.274 \n",
       "  471.594,103.274 481.555,103.274 491.515,103.274 501.476,103.274 511.436,103.274 521.397,103.274 531.357,103.274 541.318,103.274 551.278,103.274 561.239,103.274 \n",
       "  571.199,103.274 581.16,103.274 591.12,103.274 601.081,103.274 611.041,103.274 621.002,103.274 630.962,103.274 640.923,103.274 650.883,103.274 660.844,103.274 \n",
       "  670.804,103.274 680.765,103.274 690.725,103.274 700.686,103.274 710.646,103.274 720.607,103.274 730.567,103.274 740.528,103.274 750.488,103.274 760.449,103.274 \n",
       "  770.409,103.274 780.37,106.206 790.33,113.216 800.291,127.009 810.251,126.708 820.212,116.452 830.172,126.757 840.133,126.907 850.093,134.681 860.054,126.51 \n",
       "  870.015,127.266 879.975,134.203 889.936,146.225 899.896,173.496 909.857,142.32 919.817,147.624 929.778,163.477 939.738,146.401 949.699,149.234 959.659,158.341 \n",
       "  969.62,180.864 979.58,160.191 989.541,160.313 999.501,173.496 1009.46,177.313 1019.42,166.756 1029.38,173.137 1039.34,175.876 1049.3,184.817 1059.26,181.635 \n",
       "  1069.22,180.864 1079.19,210.258 1089.15,190.863 1099.11,186.864 1109.07,194.717 1119.03,201.992 1128.99,211.636 1138.95,208.169 1148.91,199.207 1158.87,204.148 \n",
       "  1168.83,204.757 1178.79,210.258 1188.75,213.829 1198.71,223.909 1208.67,213.051 1218.63,218.214 1228.59,230.249 1238.55,220.632 1248.51,231.954 1258.47,228.356 \n",
       "  1268.43,280.662 1278.4,257.411 1288.36,240.21 1298.32,238.068 1308.28,242.684 1318.24,244.608 1328.2,243.101 1338.16,249.238 1348.12,268.182 1358.08,253.317 \n",
       "  1368.04,280.417 1378,257.374 1387.96,258.923 1397.92,267.152 1407.88,283.286 1417.84,272.963 1427.8,273.398 1437.76,272.815 1447.72,281.225 1457.68,281.207 \n",
       "  1467.64,278.229 1477.61,294.285 1487.57,295.354 1497.53,280.475 1507.49,282.401 1517.45,291.072 1527.41,280.943 1537.37,280.001 1547.33,274.507 1557.29,273.854 \n",
       "  1567.25,270.876 1577.21,268.164 1587.17,265.506 1597.13,263.094 1607.09,260.531 1617.05,258.022 1627.01,255.563 1636.97,253.015 1646.93,250.521 1656.89,248.015 \n",
       "  1666.85,245.503 1676.82,242.998 1686.78,240.497 1696.74,237.991 1706.7,235.485 1716.66,232.981 1726.62,230.476 1736.58,227.971 1746.54,225.466 1756.5,222.961 \n",
       "  1766.46,220.456 1776.42,217.95 1786.38,215.445 1796.34,212.94 1806.3,210.435 1816.26,207.93 1826.22,205.425 1836.18,202.92 1846.14,200.415 1856.1,197.909 \n",
       "  1866.06,195.404 1876.03,192.899 1885.99,190.393 1895.95,187.888 1905.91,185.383 1915.87,182.877 1925.83,180.371 1935.79,177.865 1945.75,175.359 1955.71,172.853 \n",
       "  1965.67,170.346 1975.63,167.838 1985.59,165.33 1995.55,162.822 2005.51,160.312 2015.47,157.802 2025.43,155.289 2035.39,152.775 2045.35,150.259 2055.31,147.74 \n",
       "  2065.27,145.217 2075.24,142.689 2085.2,140.156 2095.16,137.615 2105.12,135.065 2115.08,132.503 2125.04,129.927 2135,127.332 2144.96,124.714 2154.92,122.067 \n",
       "  2164.88,119.384 2174.84,116.654 2184.8,113.866 2194.76,111.005 2204.72,108.053 2214.68,104.986 2224.64,101.776 2234.6,98.3877 2244.56,94.7775 2254.52,90.8938 \n",
       "  2264.48,86.6754 \n",
       "  \"/>\n",
       "<polyline clip-path=\"url(#clip2102)\" style=\"stroke:#e26f46; stroke-width:8; stroke-opacity:1; fill:none\" points=\"\n",
       "  371.989,103.274 381.95,103.274 391.91,103.274 401.871,103.274 411.831,103.274 421.792,103.274 431.752,103.274 441.713,103.274 451.673,103.274 461.634,103.274 \n",
       "  471.594,103.274 481.555,103.274 491.515,103.274 501.476,103.274 511.436,103.274 521.397,103.274 531.357,103.274 541.318,103.274 551.278,103.274 561.239,103.274 \n",
       "  571.199,103.274 581.16,103.274 591.12,103.274 601.081,103.274 611.041,103.274 621.002,103.274 630.962,103.274 640.923,103.274 650.883,103.274 660.844,103.274 \n",
       "  670.804,103.274 680.765,103.274 690.725,103.274 700.686,103.274 710.646,103.274 720.607,103.274 730.567,103.274 740.528,103.274 750.488,126.323 760.449,116.331 \n",
       "  770.409,112.086 780.37,115.575 790.33,135.703 800.291,127.009 810.251,126.708 820.212,126.136 830.172,126.757 840.133,165.887 850.093,134.681 860.054,136.25 \n",
       "  870.015,134.886 879.975,149.588 889.936,146.225 899.896,173.496 909.857,159.825 919.817,147.624 929.778,163.477 939.738,155.927 949.699,159.237 959.659,158.341 \n",
       "  969.62,180.864 979.58,179.152 989.541,172.137 999.501,173.496 1009.46,177.313 1019.42,176.738 1029.38,194.338 1039.34,198.6 1049.3,184.817 1059.26,211.985 \n",
       "  1069.22,193.765 1079.19,210.258 1089.15,190.863 1099.11,196.949 1109.07,242.682 1119.03,201.992 1128.99,211.636 1138.95,208.169 1148.91,209.019 1158.87,218.941 \n",
       "  1168.83,215.411 1178.79,229.061 1188.75,239.679 1198.71,223.909 1208.67,221.331 1218.63,230.619 1228.59,230.249 1238.55,228.987 1248.51,231.954 1258.47,241.024 \n",
       "  1268.43,280.69 1278.4,257.415 1288.36,240.209 1298.32,250.09 1308.28,260.852 1318.24,260.566 1328.2,251.377 1338.16,264.058 1348.12,268.238 1358.08,265.848 \n",
       "  1368.04,280.69 1378,268.157 1387.96,268.029 1397.92,300.697 1407.88,282.44 1417.84,272.542 1427.8,291.493 1437.76,286.312 1447.72,313.532 1457.68,293.413 \n",
       "  1467.64,292.781 1477.61,317.828 1487.57,296.274 1497.53,299.512 1507.49,297.315 1517.45,297.912 1527.41,317.663 1537.37,309.186 1547.33,311.766 1557.29,311.829 \n",
       "  1567.25,335.712 1577.21,317.828 1587.17,326.195 1597.13,321.052 1607.09,342.963 1617.05,334.969 1627.01,325.298 1636.97,333.97 1646.93,335.784 1656.89,335.555 \n",
       "  1666.85,366.721 1676.82,339.683 1686.78,350.559 1696.74,345.866 1706.7,359.376 1716.66,351.619 1726.62,361.341 1736.58,353.176 1746.54,373.212 1756.5,350.926 \n",
       "  1766.46,350.024 1776.42,344.618 1786.38,338.08 1796.34,333.475 1806.3,328.045 1816.26,323.075 1826.22,318.038 1836.18,313.073 1846.14,308.048 1856.1,303.049 \n",
       "  1866.06,298.034 1876.03,293.026 1885.99,288.015 1895.95,283.005 1905.91,277.995 1915.87,272.984 1925.83,267.974 1935.79,262.964 1945.75,257.954 1955.71,252.944 \n",
       "  1965.67,247.934 1975.63,242.924 1985.59,237.914 1995.55,232.904 2005.51,227.893 2015.47,222.883 2025.43,217.873 2035.39,212.863 2045.35,207.853 2055.31,202.843 \n",
       "  2065.27,197.833 2075.24,192.822 2085.2,187.812 2095.16,182.802 2105.12,177.792 2115.08,172.781 2125.04,167.77 2135,162.759 2144.96,157.748 2154.92,152.736 \n",
       "  2164.88,147.722 2174.84,142.707 2184.8,137.688 2194.76,132.665 2204.72,127.633 2214.68,122.59 2224.64,117.527 2234.6,112.433 2244.56,107.292 2254.52,102.077 \n",
       "  2264.48,96.7484 \n",
       "  \"/>\n",
       "<polyline clip-path=\"url(#clip2102)\" style=\"stroke:#3da44d; stroke-width:8; stroke-opacity:1; fill:none\" points=\"\n",
       "  371.989,1401.05 381.95,1401.05 391.91,1401.05 401.871,1401.05 411.831,1401.05 421.792,1401.05 431.752,1401.05 441.713,1401.05 451.673,1401.05 461.634,1401.05 \n",
       "  471.594,1401.05 481.555,1401.05 491.515,1401.05 501.476,1401.05 511.436,1401.05 521.397,1401.05 531.357,1401.05 541.318,1401.05 551.278,1401.05 561.239,1401.05 \n",
       "  571.199,1401.05 581.16,1401.05 591.12,1401.05 601.081,1401.05 611.041,1401.05 621.002,1401.05 630.962,1401.05 640.923,1401.05 650.883,1401.05 660.844,1401.05 \n",
       "  670.804,1401.05 680.765,1401.05 690.725,1401.05 700.686,1401.05 710.646,1401.05 720.607,1401.05 730.567,1401.05 740.528,1401.05 750.488,1401.05 760.449,1401.05 \n",
       "  770.409,1401.05 780.37,1401.05 790.33,1401.05 800.291,1401.05 810.251,1401.05 820.212,1401.05 830.172,1401.05 840.133,1401.05 850.093,1401.05 860.054,1401.05 \n",
       "  870.015,1401.05 879.975,1401.05 889.936,1401.05 899.896,1401.05 909.857,1401.05 919.817,1401.05 929.778,1401.05 939.738,1401.05 949.699,1401.05 959.659,1401.05 \n",
       "  969.62,1401.05 979.58,1401.05 989.541,1401.05 999.501,1401.05 1009.46,1401.05 1019.42,1401.05 1029.38,1401.05 1039.34,1401.05 1049.3,1401.05 1059.26,1401.05 \n",
       "  1069.22,1401.05 1079.19,1401.05 1089.15,1401.05 1099.11,1401.05 1109.07,1401.05 1119.03,1401.05 1128.99,1401.05 1138.95,1401.05 1148.91,1401.05 1158.87,1401.05 \n",
       "  1168.83,1401.05 1178.79,1401.05 1188.75,1401.05 1198.71,1401.05 1208.67,1401.05 1218.63,1401.05 1228.59,1401.05 1238.55,1401.05 1248.51,1401.05 1258.47,1401.05 \n",
       "  1268.43,1401.05 1278.4,1401.05 1288.36,1401.05 1298.32,1401.05 1308.28,1401.05 1318.24,1401.05 1328.2,1401.05 1338.16,1401.05 1348.12,1401.05 1358.08,1401.05 \n",
       "  1368.04,1401.05 1378,1401.05 1387.96,1401.05 1397.92,1401.05 1407.88,1401.05 1417.84,1401.05 1427.8,1401.05 1437.76,1401.05 1447.72,1401.05 1457.68,1401.05 \n",
       "  1467.64,495.406 1477.61,490.995 1487.57,487.865 1497.53,483.454 1507.49,479.042 1517.45,475.042 1527.41,469.318 1537.37,464.582 1547.33,459.753 1557.29,452.737 \n",
       "  1567.25,448.219 1577.21,443.69 1587.17,438.437 1597.13,433.208 1607.09,428.239 1617.05,423.297 1627.01,418.298 1636.97,413.248 1646.93,408.253 1656.89,403.247 \n",
       "  1666.85,398.238 1676.82,393.226 1686.78,388.218 1696.74,383.206 1706.7,378.198 1716.66,373.187 1726.62,368.177 1736.58,363.167 1746.54,358.157 1756.5,353.147 \n",
       "  1766.46,348.136 1776.42,343.126 1786.38,338.116 1796.34,333.106 1806.3,328.096 1816.26,323.086 1826.22,318.076 1836.18,313.066 1846.14,308.055 1856.1,303.045 \n",
       "  1866.06,298.035 1876.03,293.025 1885.99,288.015 1895.95,283.005 1905.91,277.995 1915.87,272.985 1925.83,267.974 1935.79,262.964 1945.75,257.954 1955.71,252.944 \n",
       "  1965.67,247.934 1975.63,242.924 1985.59,237.914 1995.55,232.904 2005.51,227.893 2015.47,222.883 2025.43,217.873 2035.39,212.863 2045.35,207.853 2055.31,202.843 \n",
       "  2065.27,197.833 2075.24,192.823 2085.2,187.813 2095.16,182.803 2105.12,177.793 2115.08,172.783 2125.04,167.773 2135,162.764 2144.96,157.755 2154.92,152.747 \n",
       "  2164.88,147.741 2174.84,142.736 2184.8,137.734 2194.76,132.737 2204.72,127.749 2214.68,122.772 2224.64,117.816 2234.6,112.892 2244.56,108.019 2254.52,103.229 \n",
       "  2264.48,98.5752 \n",
       "  \"/>\n",
       "<polygon clip-path=\"url(#clip2100)\" points=\"\n",
       "1632.04,1296.48 2249.26,1296.48 2249.26,1054.56 1632.04,1054.56 \n",
       "  \" fill=\"#ffffff\" fill-rule=\"evenodd\" fill-opacity=\"1\"/>\n",
       "<polyline clip-path=\"url(#clip2100)\" style=\"stroke:#000000; stroke-width:4; stroke-opacity:1; fill:none\" points=\"\n",
       "  1632.04,1296.48 2249.26,1296.48 2249.26,1054.56 1632.04,1054.56 1632.04,1296.48 \n",
       "  \"/>\n",
       "<polyline clip-path=\"url(#clip2100)\" style=\"stroke:#009af9; stroke-width:8; stroke-opacity:1; fill:none\" points=\"\n",
       "  1656.04,1115.04 1800.04,1115.04 \n",
       "  \"/>\n",
       "<g clip-path=\"url(#clip2100)\">\n",
       "<text style=\"fill:#000000; fill-opacity:1; font-family:Arial,Helvetica Neue,Helvetica,sans-serif; font-size:48px; text-anchor:start;\" transform=\"rotate(0, 1824.04, 1132.54)\" x=\"1824.04\" y=\"1132.54\">divided difference</text>\n",
       "</g>\n",
       "<polyline clip-path=\"url(#clip2100)\" style=\"stroke:#e26f46; stroke-width:8; stroke-opacity:1; fill:none\" points=\"\n",
       "  1656.04,1175.52 1800.04,1175.52 \n",
       "  \"/>\n",
       "<g clip-path=\"url(#clip2100)\">\n",
       "<text style=\"fill:#000000; fill-opacity:1; font-family:Arial,Helvetica Neue,Helvetica,sans-serif; font-size:48px; text-anchor:start;\" transform=\"rotate(0, 1824.04, 1193.02)\" x=\"1824.04\" y=\"1193.02\">center difference</text>\n",
       "</g>\n",
       "<polyline clip-path=\"url(#clip2100)\" style=\"stroke:#3da44d; stroke-width:8; stroke-opacity:1; fill:none\" points=\"\n",
       "  1656.04,1236 1800.04,1236 \n",
       "  \"/>\n",
       "<g clip-path=\"url(#clip2100)\">\n",
       "<text style=\"fill:#000000; fill-opacity:1; font-family:Arial,Helvetica Neue,Helvetica,sans-serif; font-size:48px; text-anchor:start;\" transform=\"rotate(0, 1824.04, 1253.5)\" x=\"1824.04\" y=\"1253.5\">complex step</text>\n",
       "</g>\n",
       "</svg>\n"
      ]
     },
     "execution_count": 13,
     "metadata": {},
     "output_type": "execute_result"
    }
   ],
   "source": [
    "plot(stepsizes, error.(diff_divdiff, stepsizes), label=\"divided difference\",\n",
    "    xscale=:log10, yscale=:log10, lw=2, legend=:bottomright)\n",
    "plot!(stepsizes, error.(diff_centdiff, stepsizes), label=\"center difference\", lw=2)\n",
    "plot!(stepsizes, error.(diff_complstep, stepsizes), label=\"complex step\", lw=2)\n",
    "#xlims!(1e-15, 1e-1)\n",
    "xlabel!(\"stepsize h\")\n",
    "ylabel!(\"absolute error\")"
   ]
  },
  {
   "cell_type": "markdown",
   "metadata": {
    "slideshow": {
     "slide_type": "subslide"
    }
   },
   "source": [
    "Advantages of numerical differentiation:\n",
    "- easy to implement\n",
    "- general, no assumptions needed"
   ]
  },
  {
   "cell_type": "markdown",
   "metadata": {
    "slideshow": {
     "slide_type": "fragment"
    }
   },
   "source": [
    "Disadvantages:\n",
    "- not numerically stable (round-off errors)\n",
    "- not efficient for gradients ($\\mathcal{O}(n)$ evaluations for $n$-dimensional vectors)"
   ]
  },
  {
   "cell_type": "markdown",
   "metadata": {
    "slideshow": {
     "slide_type": "subslide"
    }
   },
   "source": [
    "### Stein's lemma\n",
    "\n",
    "$$\n",
    "E_{X\\sim N(\\mu, \\sigma)}[f(X)(X-\\mu)] = \\sigma^2 E_{X\\sim N(\\mu, \\sigma)}[f'(X)]\n",
    "$$\n",
    "\n",
    "and thus, using $X = x + \\sigma\\epsilon$ with $\\epsilon\\sim N(0, 1)$:\n",
    "\n",
    "$$\n",
    "E_{\\epsilon\\sim N(0, 1)}[f'(x + \\sigma\\epsilon)] = \\frac{1}{\\sigma} E_{\\epsilon\\sim N(0, 1)}[f(x+\\sigma \\epsilon)\\epsilon]\n",
    "$$"
   ]
  },
  {
   "cell_type": "code",
   "execution_count": 14,
   "metadata": {
    "slideshow": {
     "slide_type": "fragment"
    }
   },
   "outputs": [
    {
     "data": {
      "text/plain": [
       "diff_stein (generic function with 1 method)"
      ]
     },
     "execution_count": 14,
     "metadata": {},
     "output_type": "execute_result"
    }
   ],
   "source": [
    "diff_stein(f, x; σ=1e-2, n=10_000) = 1 / σ * sum(map(e -> f(x + σ * e) * e, randn(n))) / n"
   ]
  },
  {
   "cell_type": "code",
   "execution_count": 15,
   "metadata": {
    "scrolled": false,
    "slideshow": {
     "slide_type": "fragment"
    }
   },
   "outputs": [
    {
     "name": "stdout",
     "output_type": "stream",
     "text": [
      "  199.217 μs (6 allocations: 156.45 KiB)\n"
     ]
    },
    {
     "data": {
      "text/plain": [
       "-0.27217206448529696"
      ]
     },
     "execution_count": 15,
     "metadata": {},
     "output_type": "execute_result"
    }
   ],
   "source": [
    "@btime diff_stein($f, 2.0)"
   ]
  },
  {
   "cell_type": "markdown",
   "metadata": {
    "slideshow": {
     "slide_type": "subslide"
    }
   },
   "source": [
    "### Approximations of multiplications with gradients\n",
    "\n",
    "**Gradient-vector approximation**\n",
    "\n",
    "$$\n",
    "\\nabla f(\\mathbf{x})^\\intercal \\mathbf{d} \\approx \\frac{f(\\mathbf{x}+h\\cdot\\mathbf{d}) - f(\\mathbf{x}-h\\cdot\\mathbf{d})}{2h}\n",
    "$$"
   ]
  },
  {
   "cell_type": "markdown",
   "metadata": {
    "slideshow": {
     "slide_type": "fragment"
    }
   },
   "source": [
    "**Hessian-vector approximation**\n",
    "\n",
    "$$\n",
    "\\nabla^2 f(\\mathbf{x}) \\mathbf{d} \\approx \\frac{\\nabla f(\\mathbf{x}+h\\cdot\\mathbf{d}) - \\nabla f(\\mathbf{x}-h\\cdot\\mathbf{d})}{2h}\n",
    "$$"
   ]
  },
  {
   "cell_type": "code",
   "execution_count": 16,
   "metadata": {
    "slideshow": {
     "slide_type": "fragment"
    }
   },
   "outputs": [
    {
     "data": {
      "text/plain": [
       "grad_vect (generic function with 1 method)"
      ]
     },
     "execution_count": 16,
     "metadata": {},
     "output_type": "execute_result"
    }
   ],
   "source": [
    "grad_vect(f, x, d; h=1e-10) = (f(x + h * d) - f(x - h * d)) / (2h)"
   ]
  },
  {
   "cell_type": "code",
   "execution_count": 17,
   "metadata": {
    "scrolled": true,
    "slideshow": {
     "slide_type": "subslide"
    }
   },
   "outputs": [
    {
     "data": {
      "text/plain": [
       "∇²g (generic function with 1 method)"
      ]
     },
     "execution_count": 17,
     "metadata": {},
     "output_type": "execute_result"
    }
   ],
   "source": [
    "dvect = randn(10) / 10\n",
    "xvect = 2rand(10)\n",
    "\n",
    "A = randn(10, 10)\n",
    "A = A * A' / 100\n",
    "\n",
    "#g(x) = exp(- x' * A * x)  # adjoint does not play with Zygote\n",
    "g(x) = exp(- sum(x .* (A * x)))\n",
    "\n",
    "# correct gradient and Hessian (by hand)\n",
    "∇g(x) = -2g(x) * A * x\n",
    "∇²g(x) = -2g(x) * A - 2A * x * ∇g(x)'"
   ]
  },
  {
   "cell_type": "code",
   "execution_count": 18,
   "metadata": {
    "slideshow": {
     "slide_type": "subslide"
    }
   },
   "outputs": [
    {
     "data": {
      "text/plain": [
       "0.23149375435928718"
      ]
     },
     "execution_count": 18,
     "metadata": {},
     "output_type": "execute_result"
    }
   ],
   "source": [
    "g(xvect)"
   ]
  },
  {
   "cell_type": "code",
   "execution_count": 19,
   "metadata": {
    "slideshow": {
     "slide_type": "fragment"
    }
   },
   "outputs": [
    {
     "data": {
      "text/plain": [
       "10-element Array{Float64,1}:\n",
       " -0.047270343850100205\n",
       " -0.003152847935003064\n",
       " -0.015051765159728205\n",
       " -0.13112942708566533 \n",
       " -0.045786035129939   \n",
       " -0.04169867154398666 \n",
       " -0.09505324433164841 \n",
       " -0.11917229849859608 \n",
       "  0.006547793500320991\n",
       "  0.01260491352661311 "
      ]
     },
     "execution_count": 19,
     "metadata": {},
     "output_type": "execute_result"
    }
   ],
   "source": [
    "∇g(xvect)"
   ]
  },
  {
   "cell_type": "code",
   "execution_count": 20,
   "metadata": {
    "slideshow": {
     "slide_type": "fragment"
    }
   },
   "outputs": [
    {
     "data": {
      "text/plain": [
       "-0.014674907368256622"
      ]
     },
     "execution_count": 20,
     "metadata": {},
     "output_type": "execute_result"
    }
   ],
   "source": [
    "∇g(xvect)' * dvect"
   ]
  },
  {
   "cell_type": "code",
   "execution_count": 21,
   "metadata": {
    "slideshow": {
     "slide_type": "fragment"
    }
   },
   "outputs": [
    {
     "data": {
      "text/plain": [
       "-0.014674511605861085"
      ]
     },
     "execution_count": 21,
     "metadata": {},
     "output_type": "execute_result"
    }
   ],
   "source": [
    "grad_vect(g, xvect, dvect)"
   ]
  },
  {
   "cell_type": "code",
   "execution_count": 22,
   "metadata": {
    "slideshow": {
     "slide_type": "subslide"
    }
   },
   "outputs": [
    {
     "data": {
      "text/plain": [
       "10-element Array{Float64,1}:\n",
       "  0.0019404488971407272\n",
       "  0.0008475529147466098\n",
       "  0.007035138265761713 \n",
       "  0.003255957282159906 \n",
       "  0.0025283825031831584\n",
       "  0.0012847575582729065\n",
       "  0.005247333372321636 \n",
       "  0.004332177421950171 \n",
       "  0.0035726442951524856\n",
       " -0.00127925317107779  "
      ]
     },
     "execution_count": 22,
     "metadata": {},
     "output_type": "execute_result"
    }
   ],
   "source": [
    "∇²g(xvect) * dvect"
   ]
  },
  {
   "cell_type": "code",
   "execution_count": 23,
   "metadata": {
    "scrolled": true,
    "slideshow": {
     "slide_type": "fragment"
    }
   },
   "outputs": [
    {
     "data": {
      "text/plain": [
       "10-element Array{Float64,1}:\n",
       "  0.0019403922912886173\n",
       "  0.0008475165014232289\n",
       "  0.007035205751293461 \n",
       "  0.0032555902418351934\n",
       "  0.0025282900772971573\n",
       "  0.0012847015118389038\n",
       "  0.005247191570134646 \n",
       "  0.004331951464209283 \n",
       "  0.003572662998774234 \n",
       " -0.0012792111120374372"
      ]
     },
     "execution_count": 23,
     "metadata": {},
     "output_type": "execute_result"
    }
   ],
   "source": [
    "h = 1e-10\n",
    "(∇g(xvect + h * dvect) - ∇g(xvect - h * dvect)) / (2h)"
   ]
  },
  {
   "cell_type": "markdown",
   "metadata": {
    "slideshow": {
     "slide_type": "slide"
    }
   },
   "source": [
    "## Forward differentiation\n",
    "\n",
    "Accumulation of the gradients along the *computational graph*. \n",
    "\n",
    "<img src=\"Figures/compgraph.png\" alt=\"drawing\" width=\"400\"/>"
   ]
  },
  {
   "cell_type": "markdown",
   "metadata": {
    "slideshow": {
     "slide_type": "subslide"
    }
   },
   "source": [
    "Forward differentiation computes the gradient from the inputs to the outputs."
   ]
  },
  {
   "cell_type": "markdown",
   "metadata": {
    "slideshow": {
     "slide_type": "subslide"
    }
   },
   "source": [
    "### Differentiation rules"
   ]
  },
  {
   "cell_type": "markdown",
   "metadata": {
    "slideshow": {
     "slide_type": "fragment"
    }
   },
   "source": [
    "**Sum rule**:\n",
    "\n",
    "$$\n",
    "\\frac{\\partial (f(x)+g(x))}{\\partial x} =  \\frac{\\partial f(x)}{\\partial x} + \\frac{\\partial f(x)}{\\partial x} \n",
    "$$"
   ]
  },
  {
   "cell_type": "markdown",
   "metadata": {
    "slideshow": {
     "slide_type": "fragment"
    }
   },
   "source": [
    "**Product rule**:\n",
    "\n",
    "$$\n",
    "\\frac{\\partial (f(x)g(x))}{\\partial x} =  f(x)\\frac{\\partial g(x)}{\\partial x} + g(x)\\frac{\\partial f(x)}{\\partial x} \n",
    "$$"
   ]
  },
  {
   "cell_type": "markdown",
   "metadata": {
    "slideshow": {
     "slide_type": "subslide"
    }
   },
   "source": [
    "**Chain rule**:\n",
    "\n",
    "$$\n",
    "\\frac{\\partial (g(f(x))}{\\partial x} =  \\frac{\\partial g(u)}{\\partial u}\\mid_{u=f(x)} \\frac{\\partial f(x)}{\\partial x} \n",
    "$$"
   ]
  },
  {
   "cell_type": "markdown",
   "metadata": {
    "slideshow": {
     "slide_type": "subslide"
    }
   },
   "source": [
    "### Example of the forward differentiation\n",
    "\n",
    "<img src=\"Figures/forwarddiff.png\" alt=\"drawing\" width=\"600\"/>"
   ]
  },
  {
   "cell_type": "markdown",
   "metadata": {
    "slideshow": {
     "slide_type": "subslide"
    }
   },
   "source": [
    "### Dual numbers\n",
    "\n",
    "Forward differentiation can be viewed as evaluating function using *dual numbers*, which can be viewed as truncated Taylor series:\n",
    "\n",
    "$$\n",
    "v + \\dot{v}\\epsilon\\,,\n",
    "$$\n",
    "\n",
    "where $v,\\dot{v}\\in\\mathbb{R}$ and $\\epsilon$ a nilpotent number, i.e. $\\epsilon^2=0$. For example, we have\n",
    "\n",
    "$$\n",
    "(v + \\dot{v}\\epsilon) + (u + \\dot{u}\\epsilon) = (v+u) + (\\dot{v} +\\dot{u})\\epsilon\n",
    "$$\n",
    "\n",
    "\n",
    "$$\n",
    "(v + \\dot{v}\\epsilon)(u + \\dot{u}\\epsilon) = (vu) + (v\\dot{u} +\\dot{v}u)\\epsilon\\,.\n",
    "$$\n",
    "\n"
   ]
  },
  {
   "cell_type": "markdown",
   "metadata": {
    "slideshow": {
     "slide_type": "subslide"
    }
   },
   "source": [
    "These dual numbers can be used as\n",
    "\n",
    "$$\n",
    "f(v+\\dot{v}\\epsilon) = f(v) + f'(v)\\dot{v}\\epsilon\\,.\n",
    "$$"
   ]
  },
  {
   "cell_type": "code",
   "execution_count": 24,
   "metadata": {
    "slideshow": {
     "slide_type": "subslide"
    }
   },
   "outputs": [],
   "source": [
    "struct Dual\n",
    "    v\n",
    "    v̇\n",
    "end"
   ]
  },
  {
   "cell_type": "code",
   "execution_count": 25,
   "metadata": {
    "slideshow": {
     "slide_type": "fragment"
    }
   },
   "outputs": [],
   "source": [
    "Base.:+(a::Dual, b::Dual) = Dual(a.v + b.v, a.v̇ + b.v̇)\n",
    "Base.:*(a::Dual, b::Dual) = Dual(a.v * b.v, a.v * b.v̇ + b.v * a.v̇)\n",
    "Base.:*(v::Real, b::Dual) = Dual(v, 0.0) * b\n",
    "Base.:sin(a::Dual) = Dual(sin(a.v), cos(a.v) * a.v̇)\n",
    "Base.:log(a::Dual) = Dual(log(a.v), 1.0 / a.v * a.v̇)\n",
    "Base.:/(a::Dual, b::Dual) = Dual(a.v / b.v, (a.v̇ * b.v - a.v * b.v̇) / b.v^2)"
   ]
  },
  {
   "cell_type": "code",
   "execution_count": 26,
   "metadata": {
    "scrolled": false,
    "slideshow": {
     "slide_type": "fragment"
    }
   },
   "outputs": [
    {
     "name": "stdout",
     "output_type": "stream",
     "text": [
      "  57.236 ns (6 allocations: 144 bytes)\n"
     ]
    },
    {
     "data": {
      "text/plain": [
       "Dual(1.1477958939727861, 0.06460222502000834)"
      ]
     },
     "execution_count": 26,
     "metadata": {},
     "output_type": "execute_result"
    }
   ],
   "source": [
    "@btime f(Dual(2.0, 1.0))"
   ]
  },
  {
   "cell_type": "code",
   "execution_count": 27,
   "metadata": {
    "slideshow": {
     "slide_type": "fragment"
    }
   },
   "outputs": [
    {
     "name": "stdout",
     "output_type": "stream",
     "text": [
      "  57.380 ns (6 allocations: 144 bytes)\n"
     ]
    },
    {
     "data": {
      "text/plain": [
       "0.06460222502000834"
      ]
     },
     "execution_count": 27,
     "metadata": {},
     "output_type": "execute_result"
    }
   ],
   "source": [
    "myforwarddiff(f, x) = f(Dual(x, 1.0)).v̇\n",
    "\n",
    "@btime myforwarddiff($f, 2.0)"
   ]
  },
  {
   "cell_type": "markdown",
   "metadata": {
    "slideshow": {
     "slide_type": "subslide"
    }
   },
   "source": [
    "This directly works for vectors!"
   ]
  },
  {
   "cell_type": "code",
   "execution_count": 28,
   "metadata": {
    "slideshow": {
     "slide_type": "fragment"
    }
   },
   "outputs": [
    {
     "data": {
      "text/plain": [
       "q (generic function with 1 method)"
      ]
     },
     "execution_count": 28,
     "metadata": {},
     "output_type": "execute_result"
    }
   ],
   "source": [
    "q(x) = 10.0 * x[1] * x[2] + x[1] * x[1] + sin(x[1]) / x[2]"
   ]
  },
  {
   "cell_type": "code",
   "execution_count": 29,
   "metadata": {
    "scrolled": true,
    "slideshow": {
     "slide_type": "fragment"
    }
   },
   "outputs": [
    {
     "data": {
      "text/plain": [
       "21.42073549240395"
      ]
     },
     "execution_count": 29,
     "metadata": {},
     "output_type": "execute_result"
    }
   ],
   "source": [
    "q([1, 2])"
   ]
  },
  {
   "cell_type": "code",
   "execution_count": 30,
   "metadata": {
    "slideshow": {
     "slide_type": "fragment"
    }
   },
   "outputs": [
    {
     "data": {
      "text/plain": [
       "Dual(21.42073549240395, 22.27015115293407)"
      ]
     },
     "execution_count": 30,
     "metadata": {},
     "output_type": "execute_result"
    }
   ],
   "source": [
    "q(Dual.([1, 2], [1, 0]))  # partial wrt x1"
   ]
  },
  {
   "cell_type": "code",
   "execution_count": 31,
   "metadata": {
    "slideshow": {
     "slide_type": "fragment"
    }
   },
   "outputs": [
    {
     "data": {
      "text/plain": [
       "Dual(21.42073549240395, 9.789632253798025)"
      ]
     },
     "execution_count": 31,
     "metadata": {},
     "output_type": "execute_result"
    }
   ],
   "source": [
    "q(Dual.([1, 2], [0, 1]))  # partial wrt x2"
   ]
  },
  {
   "cell_type": "code",
   "execution_count": 32,
   "metadata": {
    "slideshow": {
     "slide_type": "subslide"
    }
   },
   "outputs": [],
   "source": [
    "using ForwardDiff"
   ]
  },
  {
   "cell_type": "code",
   "execution_count": 33,
   "metadata": {
    "slideshow": {
     "slide_type": "fragment"
    }
   },
   "outputs": [
    {
     "name": "stdout",
     "output_type": "stream",
     "text": [
      "  2.666 ns (0 allocations: 0 bytes)\n"
     ]
    },
    {
     "data": {
      "text/plain": [
       "0.06460222502000834"
      ]
     },
     "execution_count": 33,
     "metadata": {},
     "output_type": "execute_result"
    }
   ],
   "source": [
    "@btime ForwardDiff.derivative($f, 2.0)"
   ]
  },
  {
   "cell_type": "code",
   "execution_count": 34,
   "metadata": {
    "slideshow": {
     "slide_type": "fragment"
    }
   },
   "outputs": [
    {
     "name": "stdout",
     "output_type": "stream",
     "text": [
      "  2.241 μs (10 allocations: 4.23 KiB)\n"
     ]
    },
    {
     "data": {
      "text/plain": [
       "10-element Array{Float64,1}:\n",
       " -0.04727034385010022 \n",
       " -0.003152847935003066\n",
       " -0.015051765159728198\n",
       " -0.13112942708566533 \n",
       " -0.04578603512993899 \n",
       " -0.04169867154398666 \n",
       " -0.09505324433164841 \n",
       " -0.11917229849859606 \n",
       "  0.006547793500320994\n",
       "  0.01260491352661311 "
      ]
     },
     "execution_count": 34,
     "metadata": {},
     "output_type": "execute_result"
    }
   ],
   "source": [
    "@btime ForwardDiff.gradient($g, $xvect)"
   ]
  },
  {
   "cell_type": "code",
   "execution_count": 35,
   "metadata": {
    "scrolled": true,
    "slideshow": {
     "slide_type": "fragment"
    }
   },
   "outputs": [
    {
     "data": {
      "text/plain": [
       "2-element Array{Float64,1}:\n",
       " 22.27015115293407 \n",
       "  9.789632253798025"
      ]
     },
     "execution_count": 35,
     "metadata": {},
     "output_type": "execute_result"
    }
   ],
   "source": [
    "ForwardDiff.gradient(q, [1, 2])"
   ]
  },
  {
   "cell_type": "markdown",
   "metadata": {
    "slideshow": {
     "slide_type": "subslide"
    }
   },
   "source": [
    "Forward differentiation:\n",
    "\n",
    "- exact gradients!\n",
    "- computational complexity scales with **number of inputs**\n",
    "- used when you have more outputs than inputs"
   ]
  },
  {
   "cell_type": "markdown",
   "metadata": {
    "slideshow": {
     "slide_type": "slide"
    }
   },
   "source": [
    "## Reverse differentiation\n",
    "\n",
    "Compute the gradient from the output toward the inputs using the chain rule.\n",
    "\n",
    "<img src=\"Figures/reversediff.png\" alt=\"drawing\" width=\"600\"/>"
   ]
  },
  {
   "cell_type": "markdown",
   "metadata": {
    "slideshow": {
     "slide_type": "subslide"
    }
   },
   "source": [
    "Reverse differentiation:\n",
    "\n",
    "- also exact!\n",
    "- main workhorse for training artificial neural networks.\n",
    "- efficient when more inputs than outputs (machine learning: thousands of parameters vs. one loss)"
   ]
  },
  {
   "cell_type": "code",
   "execution_count": 36,
   "metadata": {
    "slideshow": {
     "slide_type": "subslide"
    }
   },
   "outputs": [
    {
     "name": "stderr",
     "output_type": "stream",
     "text": [
      "┌ Info: Recompiling stale cache file /Users/michielstock/.julia/compiled/v1.1/Zygote/4kbLI.ji for Zygote [e88e6eb3-aa80-5325-afca-941959d7151f]\n",
      "└ @ Base loading.jl:1184\n"
     ]
    }
   ],
   "source": [
    "using Zygote"
   ]
  },
  {
   "cell_type": "code",
   "execution_count": 37,
   "metadata": {
    "slideshow": {
     "slide_type": "fragment"
    }
   },
   "outputs": [
    {
     "name": "stdout",
     "output_type": "stream",
     "text": [
      "  2.667 ns (0 allocations: 0 bytes)\n"
     ]
    },
    {
     "data": {
      "text/plain": [
       "0.06460222502000834"
      ]
     },
     "execution_count": 37,
     "metadata": {},
     "output_type": "execute_result"
    }
   ],
   "source": [
    "@btime f'(2.0)"
   ]
  },
  {
   "cell_type": "code",
   "execution_count": 38,
   "metadata": {
    "scrolled": false,
    "slideshow": {
     "slide_type": "fragment"
    }
   },
   "outputs": [
    {
     "name": "stdout",
     "output_type": "stream",
     "text": [
      "  5.936 μs (46 allocations: 3.52 KiB)\n"
     ]
    },
    {
     "data": {
      "text/plain": [
       "10-element Array{Float64,1}:\n",
       " -0.04727034385010021  \n",
       " -0.0031528479350030666\n",
       " -0.015051765159728205 \n",
       " -0.13112942708566533  \n",
       " -0.045786035129939    \n",
       " -0.04169867154398666  \n",
       " -0.09505324433164841  \n",
       " -0.11917229849859606  \n",
       "  0.006547793500320997 \n",
       "  0.01260491352661311  "
      ]
     },
     "execution_count": 38,
     "metadata": {},
     "output_type": "execute_result"
    }
   ],
   "source": [
    "@btime g'(xvect)"
   ]
  },
  {
   "cell_type": "markdown",
   "metadata": {
    "slideshow": {
     "slide_type": "slide"
    }
   },
   "source": [
    "## Application: deep learning"
   ]
  },
  {
   "cell_type": "markdown",
   "metadata": {
    "slideshow": {
     "slide_type": "fragment"
    }
   },
   "source": [
    "Multi-layer perceptron.\n",
    "\n",
    "<img src=\"Figures/ANN_example.png\" alt=\"drawing\" width=\"200\"/>"
   ]
  },
  {
   "cell_type": "markdown",
   "metadata": {
    "slideshow": {
     "slide_type": "subslide"
    }
   },
   "source": [
    "Reverse differentation or backpropagation.\n",
    "\n",
    "<img src=\"Figures/Forwardprop.png\" alt=\"drawing\" width=\"500\"/>"
   ]
  },
  {
   "cell_type": "markdown",
   "metadata": {
    "slideshow": {
     "slide_type": "subslide"
    }
   },
   "source": [
    "Reverse differentation or backpropagation.\n",
    "\n",
    "<img src=\"Figures/Backprop.png\" alt=\"drawing\" width=\"500\"/>"
   ]
  },
  {
   "cell_type": "markdown",
   "metadata": {
    "slideshow": {
     "slide_type": "fragment"
    }
   },
   "source": [
    "Returns effect of changing layer output on the loss. Can be related directly to the parameters!"
   ]
  },
  {
   "cell_type": "markdown",
   "metadata": {
    "slideshow": {
     "slide_type": "slide"
    }
   },
   "source": [
    "## Exercise: logistic regression\n",
    "\n",
    "Recall logistic regression on a training set $S=\\{(\\mathbf{x}_i, y_i)\\mid i=1,\\ldots,n\\}$ with $y\\in\\{0,1\\}$.\n",
    "\n",
    "Prediction:\n",
    "\n",
    "$$\n",
    "f(\\mathbf{x}) = \\sigma(\\mathbf{w}^\\intercal\\mathbf{x})\\,,\n",
    "$$\n",
    "\n",
    "with $\\sigma(t) = 1 /(1+exp(t))$.\n",
    "\n",
    "To find the parameter vector $\\mathbf{w}$, we minimize the cross-entropy:\n",
    "\n",
    "$$\n",
    "L(\\mathbf{w};S)= \\sum_{i=1}^n = - y_i \\log(f(\\mathbf{x})) - (1-y_i)\\log(1-f(\\mathbf{x}))\\,.\n",
    "$$"
   ]
  },
  {
   "cell_type": "code",
   "execution_count": 39,
   "metadata": {
    "slideshow": {
     "slide_type": "subslide"
    }
   },
   "outputs": [
    {
     "data": {
      "image/svg+xml": [
       "<?xml version=\"1.0\" encoding=\"utf-8\"?>\n",
       "<svg xmlns=\"http://www.w3.org/2000/svg\" xmlns:xlink=\"http://www.w3.org/1999/xlink\" width=\"600\" height=\"400\" viewBox=\"0 0 2400 1600\">\n",
       "<defs>\n",
       "  <clipPath id=\"clip2500\">\n",
       "    <rect x=\"0\" y=\"0\" width=\"2400\" height=\"1600\"/>\n",
       "  </clipPath>\n",
       "</defs>\n",
       "<polygon clip-path=\"url(#clip2500)\" points=\"\n",
       "0,1600 2400,1600 2400,0 0,0 \n",
       "  \" fill=\"#ffffff\" fill-rule=\"evenodd\" fill-opacity=\"1\"/>\n",
       "<defs>\n",
       "  <clipPath id=\"clip2501\">\n",
       "    <rect x=\"480\" y=\"0\" width=\"1681\" height=\"1600\"/>\n",
       "  </clipPath>\n",
       "</defs>\n",
       "<polygon clip-path=\"url(#clip2500)\" points=\"\n",
       "149.361,1503.47 2321.26,1503.47 2321.26,47.2441 149.361,47.2441 \n",
       "  \" fill=\"#ffffff\" fill-rule=\"evenodd\" fill-opacity=\"1\"/>\n",
       "<defs>\n",
       "  <clipPath id=\"clip2502\">\n",
       "    <rect x=\"149\" y=\"47\" width=\"2173\" height=\"1457\"/>\n",
       "  </clipPath>\n",
       "</defs>\n",
       "<polyline clip-path=\"url(#clip2502)\" style=\"stroke:#000000; stroke-width:2; stroke-opacity:0.1; fill:none\" points=\"\n",
       "  422.926,1503.47 422.926,47.2441 \n",
       "  \"/>\n",
       "<polyline clip-path=\"url(#clip2502)\" style=\"stroke:#000000; stroke-width:2; stroke-opacity:0.1; fill:none\" points=\"\n",
       "  795.46,1503.47 795.46,47.2441 \n",
       "  \"/>\n",
       "<polyline clip-path=\"url(#clip2502)\" style=\"stroke:#000000; stroke-width:2; stroke-opacity:0.1; fill:none\" points=\"\n",
       "  1167.99,1503.47 1167.99,47.2441 \n",
       "  \"/>\n",
       "<polyline clip-path=\"url(#clip2502)\" style=\"stroke:#000000; stroke-width:2; stroke-opacity:0.1; fill:none\" points=\"\n",
       "  1540.53,1503.47 1540.53,47.2441 \n",
       "  \"/>\n",
       "<polyline clip-path=\"url(#clip2502)\" style=\"stroke:#000000; stroke-width:2; stroke-opacity:0.1; fill:none\" points=\"\n",
       "  1913.06,1503.47 1913.06,47.2441 \n",
       "  \"/>\n",
       "<polyline clip-path=\"url(#clip2502)\" style=\"stroke:#000000; stroke-width:2; stroke-opacity:0.1; fill:none\" points=\"\n",
       "  2285.6,1503.47 2285.6,47.2441 \n",
       "  \"/>\n",
       "<polyline clip-path=\"url(#clip2502)\" style=\"stroke:#000000; stroke-width:2; stroke-opacity:0.1; fill:none\" points=\"\n",
       "  149.361,1313.46 2321.26,1313.46 \n",
       "  \"/>\n",
       "<polyline clip-path=\"url(#clip2502)\" style=\"stroke:#000000; stroke-width:2; stroke-opacity:0.1; fill:none\" points=\"\n",
       "  149.361,939.782 2321.26,939.782 \n",
       "  \"/>\n",
       "<polyline clip-path=\"url(#clip2502)\" style=\"stroke:#000000; stroke-width:2; stroke-opacity:0.1; fill:none\" points=\"\n",
       "  149.361,566.102 2321.26,566.102 \n",
       "  \"/>\n",
       "<polyline clip-path=\"url(#clip2502)\" style=\"stroke:#000000; stroke-width:2; stroke-opacity:0.1; fill:none\" points=\"\n",
       "  149.361,192.421 2321.26,192.421 \n",
       "  \"/>\n",
       "<polyline clip-path=\"url(#clip2500)\" style=\"stroke:#000000; stroke-width:4; stroke-opacity:1; fill:none\" points=\"\n",
       "  149.361,1503.47 2321.26,1503.47 \n",
       "  \"/>\n",
       "<polyline clip-path=\"url(#clip2500)\" style=\"stroke:#000000; stroke-width:4; stroke-opacity:1; fill:none\" points=\"\n",
       "  149.361,1503.47 149.361,47.2441 \n",
       "  \"/>\n",
       "<polyline clip-path=\"url(#clip2500)\" style=\"stroke:#000000; stroke-width:4; stroke-opacity:1; fill:none\" points=\"\n",
       "  422.926,1503.47 422.926,1481.63 \n",
       "  \"/>\n",
       "<polyline clip-path=\"url(#clip2500)\" style=\"stroke:#000000; stroke-width:4; stroke-opacity:1; fill:none\" points=\"\n",
       "  795.46,1503.47 795.46,1481.63 \n",
       "  \"/>\n",
       "<polyline clip-path=\"url(#clip2500)\" style=\"stroke:#000000; stroke-width:4; stroke-opacity:1; fill:none\" points=\"\n",
       "  1167.99,1503.47 1167.99,1481.63 \n",
       "  \"/>\n",
       "<polyline clip-path=\"url(#clip2500)\" style=\"stroke:#000000; stroke-width:4; stroke-opacity:1; fill:none\" points=\"\n",
       "  1540.53,1503.47 1540.53,1481.63 \n",
       "  \"/>\n",
       "<polyline clip-path=\"url(#clip2500)\" style=\"stroke:#000000; stroke-width:4; stroke-opacity:1; fill:none\" points=\"\n",
       "  1913.06,1503.47 1913.06,1481.63 \n",
       "  \"/>\n",
       "<polyline clip-path=\"url(#clip2500)\" style=\"stroke:#000000; stroke-width:4; stroke-opacity:1; fill:none\" points=\"\n",
       "  2285.6,1503.47 2285.6,1481.63 \n",
       "  \"/>\n",
       "<polyline clip-path=\"url(#clip2500)\" style=\"stroke:#000000; stroke-width:4; stroke-opacity:1; fill:none\" points=\"\n",
       "  149.361,1313.46 181.939,1313.46 \n",
       "  \"/>\n",
       "<polyline clip-path=\"url(#clip2500)\" style=\"stroke:#000000; stroke-width:4; stroke-opacity:1; fill:none\" points=\"\n",
       "  149.361,939.782 181.939,939.782 \n",
       "  \"/>\n",
       "<polyline clip-path=\"url(#clip2500)\" style=\"stroke:#000000; stroke-width:4; stroke-opacity:1; fill:none\" points=\"\n",
       "  149.361,566.102 181.939,566.102 \n",
       "  \"/>\n",
       "<polyline clip-path=\"url(#clip2500)\" style=\"stroke:#000000; stroke-width:4; stroke-opacity:1; fill:none\" points=\"\n",
       "  149.361,192.421 181.939,192.421 \n",
       "  \"/>\n",
       "<g clip-path=\"url(#clip2500)\">\n",
       "<text style=\"fill:#000000; fill-opacity:1; font-family:Arial,Helvetica Neue,Helvetica,sans-serif; font-size:48px; text-anchor:middle;\" transform=\"rotate(0, 422.926, 1557.47)\" x=\"422.926\" y=\"1557.47\">-2</text>\n",
       "</g>\n",
       "<g clip-path=\"url(#clip2500)\">\n",
       "<text style=\"fill:#000000; fill-opacity:1; font-family:Arial,Helvetica Neue,Helvetica,sans-serif; font-size:48px; text-anchor:middle;\" transform=\"rotate(0, 795.46, 1557.47)\" x=\"795.46\" y=\"1557.47\">-1</text>\n",
       "</g>\n",
       "<g clip-path=\"url(#clip2500)\">\n",
       "<text style=\"fill:#000000; fill-opacity:1; font-family:Arial,Helvetica Neue,Helvetica,sans-serif; font-size:48px; text-anchor:middle;\" transform=\"rotate(0, 1167.99, 1557.47)\" x=\"1167.99\" y=\"1557.47\">0</text>\n",
       "</g>\n",
       "<g clip-path=\"url(#clip2500)\">\n",
       "<text style=\"fill:#000000; fill-opacity:1; font-family:Arial,Helvetica Neue,Helvetica,sans-serif; font-size:48px; text-anchor:middle;\" transform=\"rotate(0, 1540.53, 1557.47)\" x=\"1540.53\" y=\"1557.47\">1</text>\n",
       "</g>\n",
       "<g clip-path=\"url(#clip2500)\">\n",
       "<text style=\"fill:#000000; fill-opacity:1; font-family:Arial,Helvetica Neue,Helvetica,sans-serif; font-size:48px; text-anchor:middle;\" transform=\"rotate(0, 1913.06, 1557.47)\" x=\"1913.06\" y=\"1557.47\">2</text>\n",
       "</g>\n",
       "<g clip-path=\"url(#clip2500)\">\n",
       "<text style=\"fill:#000000; fill-opacity:1; font-family:Arial,Helvetica Neue,Helvetica,sans-serif; font-size:48px; text-anchor:middle;\" transform=\"rotate(0, 2285.6, 1557.47)\" x=\"2285.6\" y=\"1557.47\">3</text>\n",
       "</g>\n",
       "<g clip-path=\"url(#clip2500)\">\n",
       "<text style=\"fill:#000000; fill-opacity:1; font-family:Arial,Helvetica Neue,Helvetica,sans-serif; font-size:48px; text-anchor:end;\" transform=\"rotate(0, 125.361, 1330.96)\" x=\"125.361\" y=\"1330.96\">-2</text>\n",
       "</g>\n",
       "<g clip-path=\"url(#clip2500)\">\n",
       "<text style=\"fill:#000000; fill-opacity:1; font-family:Arial,Helvetica Neue,Helvetica,sans-serif; font-size:48px; text-anchor:end;\" transform=\"rotate(0, 125.361, 957.282)\" x=\"125.361\" y=\"957.282\">0</text>\n",
       "</g>\n",
       "<g clip-path=\"url(#clip2500)\">\n",
       "<text style=\"fill:#000000; fill-opacity:1; font-family:Arial,Helvetica Neue,Helvetica,sans-serif; font-size:48px; text-anchor:end;\" transform=\"rotate(0, 125.361, 583.602)\" x=\"125.361\" y=\"583.602\">2</text>\n",
       "</g>\n",
       "<g clip-path=\"url(#clip2500)\">\n",
       "<text style=\"fill:#000000; fill-opacity:1; font-family:Arial,Helvetica Neue,Helvetica,sans-serif; font-size:48px; text-anchor:end;\" transform=\"rotate(0, 125.361, 209.921)\" x=\"125.361\" y=\"209.921\">4</text>\n",
       "</g>\n",
       "<circle clip-path=\"url(#clip2502)\" style=\"fill:#000000; stroke:none; fill-opacity:1\" cx=\"1379.27\" cy=\"878.37\" r=\"18\"/>\n",
       "<circle clip-path=\"url(#clip2502)\" style=\"fill:#d968a2; stroke:none; fill-opacity:1\" cx=\"1379.27\" cy=\"878.37\" r=\"14\"/>\n",
       "<circle clip-path=\"url(#clip2502)\" style=\"fill:#000000; stroke:none; fill-opacity:1\" cx=\"1790.23\" cy=\"675.795\" r=\"18\"/>\n",
       "<circle clip-path=\"url(#clip2502)\" style=\"fill:#d968a2; stroke:none; fill-opacity:1\" cx=\"1790.23\" cy=\"675.795\" r=\"14\"/>\n",
       "<circle clip-path=\"url(#clip2502)\" style=\"fill:#000000; stroke:none; fill-opacity:1\" cx=\"1044.45\" cy=\"1132.83\" r=\"18\"/>\n",
       "<circle clip-path=\"url(#clip2502)\" style=\"fill:#d968a2; stroke:none; fill-opacity:1\" cx=\"1044.45\" cy=\"1132.83\" r=\"14\"/>\n",
       "<circle clip-path=\"url(#clip2502)\" style=\"fill:#000000; stroke:none; fill-opacity:1\" cx=\"1153.66\" cy=\"1014.77\" r=\"18\"/>\n",
       "<circle clip-path=\"url(#clip2502)\" style=\"fill:#d968a2; stroke:none; fill-opacity:1\" cx=\"1153.66\" cy=\"1014.77\" r=\"14\"/>\n",
       "<circle clip-path=\"url(#clip2502)\" style=\"fill:#000000; stroke:none; fill-opacity:1\" cx=\"1375.35\" cy=\"441.38\" r=\"18\"/>\n",
       "<circle clip-path=\"url(#clip2502)\" style=\"fill:#d968a2; stroke:none; fill-opacity:1\" cx=\"1375.35\" cy=\"441.38\" r=\"14\"/>\n",
       "<circle clip-path=\"url(#clip2502)\" style=\"fill:#000000; stroke:none; fill-opacity:1\" cx=\"1332.72\" cy=\"1004.96\" r=\"18\"/>\n",
       "<circle clip-path=\"url(#clip2502)\" style=\"fill:#d968a2; stroke:none; fill-opacity:1\" cx=\"1332.72\" cy=\"1004.96\" r=\"14\"/>\n",
       "<circle clip-path=\"url(#clip2502)\" style=\"fill:#000000; stroke:none; fill-opacity:1\" cx=\"838.92\" cy=\"1091.71\" r=\"18\"/>\n",
       "<circle clip-path=\"url(#clip2502)\" style=\"fill:#d968a2; stroke:none; fill-opacity:1\" cx=\"838.92\" cy=\"1091.71\" r=\"14\"/>\n",
       "<circle clip-path=\"url(#clip2502)\" style=\"fill:#000000; stroke:none; fill-opacity:1\" cx=\"1507.71\" cy=\"845.912\" r=\"18\"/>\n",
       "<circle clip-path=\"url(#clip2502)\" style=\"fill:#d968a2; stroke:none; fill-opacity:1\" cx=\"1507.71\" cy=\"845.912\" r=\"14\"/>\n",
       "<circle clip-path=\"url(#clip2502)\" style=\"fill:#000000; stroke:none; fill-opacity:1\" cx=\"431.25\" cy=\"680.274\" r=\"18\"/>\n",
       "<circle clip-path=\"url(#clip2502)\" style=\"fill:#d968a2; stroke:none; fill-opacity:1\" cx=\"431.25\" cy=\"680.274\" r=\"14\"/>\n",
       "<circle clip-path=\"url(#clip2502)\" style=\"fill:#000000; stroke:none; fill-opacity:1\" cx=\"1596.85\" cy=\"874.183\" r=\"18\"/>\n",
       "<circle clip-path=\"url(#clip2502)\" style=\"fill:#d968a2; stroke:none; fill-opacity:1\" cx=\"1596.85\" cy=\"874.183\" r=\"14\"/>\n",
       "<circle clip-path=\"url(#clip2502)\" style=\"fill:#000000; stroke:none; fill-opacity:1\" cx=\"1192.7\" cy=\"1055.03\" r=\"18\"/>\n",
       "<circle clip-path=\"url(#clip2502)\" style=\"fill:#d968a2; stroke:none; fill-opacity:1\" cx=\"1192.7\" cy=\"1055.03\" r=\"14\"/>\n",
       "<circle clip-path=\"url(#clip2502)\" style=\"fill:#000000; stroke:none; fill-opacity:1\" cx=\"1413.42\" cy=\"898.6\" r=\"18\"/>\n",
       "<circle clip-path=\"url(#clip2502)\" style=\"fill:#d968a2; stroke:none; fill-opacity:1\" cx=\"1413.42\" cy=\"898.6\" r=\"14\"/>\n",
       "<circle clip-path=\"url(#clip2502)\" style=\"fill:#000000; stroke:none; fill-opacity:1\" cx=\"1639.5\" cy=\"1240.06\" r=\"18\"/>\n",
       "<circle clip-path=\"url(#clip2502)\" style=\"fill:#d968a2; stroke:none; fill-opacity:1\" cx=\"1639.5\" cy=\"1240.06\" r=\"14\"/>\n",
       "<circle clip-path=\"url(#clip2502)\" style=\"fill:#000000; stroke:none; fill-opacity:1\" cx=\"786.251\" cy=\"985.859\" r=\"18\"/>\n",
       "<circle clip-path=\"url(#clip2502)\" style=\"fill:#d968a2; stroke:none; fill-opacity:1\" cx=\"786.251\" cy=\"985.859\" r=\"14\"/>\n",
       "<circle clip-path=\"url(#clip2502)\" style=\"fill:#000000; stroke:none; fill-opacity:1\" cx=\"1340.24\" cy=\"936.394\" r=\"18\"/>\n",
       "<circle clip-path=\"url(#clip2502)\" style=\"fill:#d968a2; stroke:none; fill-opacity:1\" cx=\"1340.24\" cy=\"936.394\" r=\"14\"/>\n",
       "<circle clip-path=\"url(#clip2502)\" style=\"fill:#000000; stroke:none; fill-opacity:1\" cx=\"1004.82\" cy=\"1008.15\" r=\"18\"/>\n",
       "<circle clip-path=\"url(#clip2502)\" style=\"fill:#d968a2; stroke:none; fill-opacity:1\" cx=\"1004.82\" cy=\"1008.15\" r=\"14\"/>\n",
       "<circle clip-path=\"url(#clip2502)\" style=\"fill:#000000; stroke:none; fill-opacity:1\" cx=\"1342.59\" cy=\"683.733\" r=\"18\"/>\n",
       "<circle clip-path=\"url(#clip2502)\" style=\"fill:#d968a2; stroke:none; fill-opacity:1\" cx=\"1342.59\" cy=\"683.733\" r=\"14\"/>\n",
       "<circle clip-path=\"url(#clip2502)\" style=\"fill:#000000; stroke:none; fill-opacity:1\" cx=\"957.199\" cy=\"978.848\" r=\"18\"/>\n",
       "<circle clip-path=\"url(#clip2502)\" style=\"fill:#d968a2; stroke:none; fill-opacity:1\" cx=\"957.199\" cy=\"978.848\" r=\"14\"/>\n",
       "<circle clip-path=\"url(#clip2502)\" style=\"fill:#000000; stroke:none; fill-opacity:1\" cx=\"1476.12\" cy=\"1058.87\" r=\"18\"/>\n",
       "<circle clip-path=\"url(#clip2502)\" style=\"fill:#d968a2; stroke:none; fill-opacity:1\" cx=\"1476.12\" cy=\"1058.87\" r=\"14\"/>\n",
       "<circle clip-path=\"url(#clip2502)\" style=\"fill:#000000; stroke:none; fill-opacity:1\" cx=\"938.137\" cy=\"1162.35\" r=\"18\"/>\n",
       "<circle clip-path=\"url(#clip2502)\" style=\"fill:#d968a2; stroke:none; fill-opacity:1\" cx=\"938.137\" cy=\"1162.35\" r=\"14\"/>\n",
       "<circle clip-path=\"url(#clip2502)\" style=\"fill:#000000; stroke:none; fill-opacity:1\" cx=\"1260.68\" cy=\"816.166\" r=\"18\"/>\n",
       "<circle clip-path=\"url(#clip2502)\" style=\"fill:#d968a2; stroke:none; fill-opacity:1\" cx=\"1260.68\" cy=\"816.166\" r=\"14\"/>\n",
       "<circle clip-path=\"url(#clip2502)\" style=\"fill:#000000; stroke:none; fill-opacity:1\" cx=\"1705.45\" cy=\"1075.65\" r=\"18\"/>\n",
       "<circle clip-path=\"url(#clip2502)\" style=\"fill:#d968a2; stroke:none; fill-opacity:1\" cx=\"1705.45\" cy=\"1075.65\" r=\"14\"/>\n",
       "<circle clip-path=\"url(#clip2502)\" style=\"fill:#000000; stroke:none; fill-opacity:1\" cx=\"578.452\" cy=\"816.973\" r=\"18\"/>\n",
       "<circle clip-path=\"url(#clip2502)\" style=\"fill:#d968a2; stroke:none; fill-opacity:1\" cx=\"578.452\" cy=\"816.973\" r=\"14\"/>\n",
       "<circle clip-path=\"url(#clip2502)\" style=\"fill:#000000; stroke:none; fill-opacity:1\" cx=\"1397.77\" cy=\"1005.99\" r=\"18\"/>\n",
       "<circle clip-path=\"url(#clip2502)\" style=\"fill:#d968a2; stroke:none; fill-opacity:1\" cx=\"1397.77\" cy=\"1005.99\" r=\"14\"/>\n",
       "<circle clip-path=\"url(#clip2502)\" style=\"fill:#000000; stroke:none; fill-opacity:1\" cx=\"2259.79\" cy=\"974.028\" r=\"18\"/>\n",
       "<circle clip-path=\"url(#clip2502)\" style=\"fill:#d968a2; stroke:none; fill-opacity:1\" cx=\"2259.79\" cy=\"974.028\" r=\"14\"/>\n",
       "<circle clip-path=\"url(#clip2502)\" style=\"fill:#000000; stroke:none; fill-opacity:1\" cx=\"720.823\" cy=\"901.184\" r=\"18\"/>\n",
       "<circle clip-path=\"url(#clip2502)\" style=\"fill:#d968a2; stroke:none; fill-opacity:1\" cx=\"720.823\" cy=\"901.184\" r=\"14\"/>\n",
       "<circle clip-path=\"url(#clip2502)\" style=\"fill:#000000; stroke:none; fill-opacity:1\" cx=\"1167.32\" cy=\"1015.09\" r=\"18\"/>\n",
       "<circle clip-path=\"url(#clip2502)\" style=\"fill:#d968a2; stroke:none; fill-opacity:1\" cx=\"1167.32\" cy=\"1015.09\" r=\"14\"/>\n",
       "<circle clip-path=\"url(#clip2502)\" style=\"fill:#000000; stroke:none; fill-opacity:1\" cx=\"849.371\" cy=\"921.766\" r=\"18\"/>\n",
       "<circle clip-path=\"url(#clip2502)\" style=\"fill:#d968a2; stroke:none; fill-opacity:1\" cx=\"849.371\" cy=\"921.766\" r=\"14\"/>\n",
       "<circle clip-path=\"url(#clip2502)\" style=\"fill:#000000; stroke:none; fill-opacity:1\" cx=\"1074.95\" cy=\"1091.11\" r=\"18\"/>\n",
       "<circle clip-path=\"url(#clip2502)\" style=\"fill:#d968a2; stroke:none; fill-opacity:1\" cx=\"1074.95\" cy=\"1091.11\" r=\"14\"/>\n",
       "<circle clip-path=\"url(#clip2502)\" style=\"fill:#000000; stroke:none; fill-opacity:1\" cx=\"1309.94\" cy=\"930.91\" r=\"18\"/>\n",
       "<circle clip-path=\"url(#clip2502)\" style=\"fill:#d968a2; stroke:none; fill-opacity:1\" cx=\"1309.94\" cy=\"930.91\" r=\"14\"/>\n",
       "<circle clip-path=\"url(#clip2502)\" style=\"fill:#000000; stroke:none; fill-opacity:1\" cx=\"1081.5\" cy=\"989.235\" r=\"18\"/>\n",
       "<circle clip-path=\"url(#clip2502)\" style=\"fill:#d968a2; stroke:none; fill-opacity:1\" cx=\"1081.5\" cy=\"989.235\" r=\"14\"/>\n",
       "<circle clip-path=\"url(#clip2502)\" style=\"fill:#000000; stroke:none; fill-opacity:1\" cx=\"1470.13\" cy=\"695.85\" r=\"18\"/>\n",
       "<circle clip-path=\"url(#clip2502)\" style=\"fill:#d968a2; stroke:none; fill-opacity:1\" cx=\"1470.13\" cy=\"695.85\" r=\"14\"/>\n",
       "<circle clip-path=\"url(#clip2502)\" style=\"fill:#000000; stroke:none; fill-opacity:1\" cx=\"1455.39\" cy=\"851.247\" r=\"18\"/>\n",
       "<circle clip-path=\"url(#clip2502)\" style=\"fill:#d968a2; stroke:none; fill-opacity:1\" cx=\"1455.39\" cy=\"851.247\" r=\"14\"/>\n",
       "<circle clip-path=\"url(#clip2502)\" style=\"fill:#000000; stroke:none; fill-opacity:1\" cx=\"830.545\" cy=\"1108.18\" r=\"18\"/>\n",
       "<circle clip-path=\"url(#clip2502)\" style=\"fill:#d968a2; stroke:none; fill-opacity:1\" cx=\"830.545\" cy=\"1108.18\" r=\"14\"/>\n",
       "<circle clip-path=\"url(#clip2502)\" style=\"fill:#000000; stroke:none; fill-opacity:1\" cx=\"1390.88\" cy=\"814.175\" r=\"18\"/>\n",
       "<circle clip-path=\"url(#clip2502)\" style=\"fill:#d968a2; stroke:none; fill-opacity:1\" cx=\"1390.88\" cy=\"814.175\" r=\"14\"/>\n",
       "<circle clip-path=\"url(#clip2502)\" style=\"fill:#000000; stroke:none; fill-opacity:1\" cx=\"1513.98\" cy=\"1089.33\" r=\"18\"/>\n",
       "<circle clip-path=\"url(#clip2502)\" style=\"fill:#d968a2; stroke:none; fill-opacity:1\" cx=\"1513.98\" cy=\"1089.33\" r=\"14\"/>\n",
       "<circle clip-path=\"url(#clip2502)\" style=\"fill:#000000; stroke:none; fill-opacity:1\" cx=\"833.356\" cy=\"895.422\" r=\"18\"/>\n",
       "<circle clip-path=\"url(#clip2502)\" style=\"fill:#d968a2; stroke:none; fill-opacity:1\" cx=\"833.356\" cy=\"895.422\" r=\"14\"/>\n",
       "<circle clip-path=\"url(#clip2502)\" style=\"fill:#000000; stroke:none; fill-opacity:1\" cx=\"1088.39\" cy=\"729.276\" r=\"18\"/>\n",
       "<circle clip-path=\"url(#clip2502)\" style=\"fill:#d968a2; stroke:none; fill-opacity:1\" cx=\"1088.39\" cy=\"729.276\" r=\"14\"/>\n",
       "<circle clip-path=\"url(#clip2502)\" style=\"fill:#000000; stroke:none; fill-opacity:1\" cx=\"492.056\" cy=\"825.811\" r=\"18\"/>\n",
       "<circle clip-path=\"url(#clip2502)\" style=\"fill:#d968a2; stroke:none; fill-opacity:1\" cx=\"492.056\" cy=\"825.811\" r=\"14\"/>\n",
       "<circle clip-path=\"url(#clip2502)\" style=\"fill:#000000; stroke:none; fill-opacity:1\" cx=\"1121.62\" cy=\"1047.62\" r=\"18\"/>\n",
       "<circle clip-path=\"url(#clip2502)\" style=\"fill:#d968a2; stroke:none; fill-opacity:1\" cx=\"1121.62\" cy=\"1047.62\" r=\"14\"/>\n",
       "<circle clip-path=\"url(#clip2502)\" style=\"fill:#000000; stroke:none; fill-opacity:1\" cx=\"505.762\" cy=\"991.786\" r=\"18\"/>\n",
       "<circle clip-path=\"url(#clip2502)\" style=\"fill:#d968a2; stroke:none; fill-opacity:1\" cx=\"505.762\" cy=\"991.786\" r=\"14\"/>\n",
       "<circle clip-path=\"url(#clip2502)\" style=\"fill:#000000; stroke:none; fill-opacity:1\" cx=\"986.554\" cy=\"1031.7\" r=\"18\"/>\n",
       "<circle clip-path=\"url(#clip2502)\" style=\"fill:#d968a2; stroke:none; fill-opacity:1\" cx=\"986.554\" cy=\"1031.7\" r=\"14\"/>\n",
       "<circle clip-path=\"url(#clip2502)\" style=\"fill:#000000; stroke:none; fill-opacity:1\" cx=\"1243.72\" cy=\"782.541\" r=\"18\"/>\n",
       "<circle clip-path=\"url(#clip2502)\" style=\"fill:#d968a2; stroke:none; fill-opacity:1\" cx=\"1243.72\" cy=\"782.541\" r=\"14\"/>\n",
       "<circle clip-path=\"url(#clip2502)\" style=\"fill:#000000; stroke:none; fill-opacity:1\" cx=\"1311.26\" cy=\"884.442\" r=\"18\"/>\n",
       "<circle clip-path=\"url(#clip2502)\" style=\"fill:#d968a2; stroke:none; fill-opacity:1\" cx=\"1311.26\" cy=\"884.442\" r=\"14\"/>\n",
       "<circle clip-path=\"url(#clip2502)\" style=\"fill:#000000; stroke:none; fill-opacity:1\" cx=\"451.5\" cy=\"926.595\" r=\"18\"/>\n",
       "<circle clip-path=\"url(#clip2502)\" style=\"fill:#d968a2; stroke:none; fill-opacity:1\" cx=\"451.5\" cy=\"926.595\" r=\"14\"/>\n",
       "<circle clip-path=\"url(#clip2502)\" style=\"fill:#000000; stroke:none; fill-opacity:1\" cx=\"672.689\" cy=\"988.731\" r=\"18\"/>\n",
       "<circle clip-path=\"url(#clip2502)\" style=\"fill:#d968a2; stroke:none; fill-opacity:1\" cx=\"672.689\" cy=\"988.731\" r=\"14\"/>\n",
       "<circle clip-path=\"url(#clip2502)\" style=\"fill:#000000; stroke:none; fill-opacity:1\" cx=\"1628.1\" cy=\"960.913\" r=\"18\"/>\n",
       "<circle clip-path=\"url(#clip2502)\" style=\"fill:#d968a2; stroke:none; fill-opacity:1\" cx=\"1628.1\" cy=\"960.913\" r=\"14\"/>\n",
       "<circle clip-path=\"url(#clip2502)\" style=\"fill:#000000; stroke:none; fill-opacity:1\" cx=\"1228.26\" cy=\"799.39\" r=\"18\"/>\n",
       "<circle clip-path=\"url(#clip2502)\" style=\"fill:#d968a2; stroke:none; fill-opacity:1\" cx=\"1228.26\" cy=\"799.39\" r=\"14\"/>\n",
       "<circle clip-path=\"url(#clip2502)\" style=\"fill:#000000; stroke:none; fill-opacity:1\" cx=\"753.105\" cy=\"636.176\" r=\"18\"/>\n",
       "<circle clip-path=\"url(#clip2502)\" style=\"fill:#d968a2; stroke:none; fill-opacity:1\" cx=\"753.105\" cy=\"636.176\" r=\"14\"/>\n",
       "<circle clip-path=\"url(#clip2502)\" style=\"fill:#000000; stroke:none; fill-opacity:1\" cx=\"1032.5\" cy=\"1462.26\" r=\"18\"/>\n",
       "<circle clip-path=\"url(#clip2502)\" style=\"fill:#d968a2; stroke:none; fill-opacity:1\" cx=\"1032.5\" cy=\"1462.26\" r=\"14\"/>\n",
       "<circle clip-path=\"url(#clip2502)\" style=\"fill:#000000; stroke:none; fill-opacity:1\" cx=\"466.053\" cy=\"146.57\" r=\"18\"/>\n",
       "<circle clip-path=\"url(#clip2502)\" style=\"fill:#009af9; stroke:none; fill-opacity:1\" cx=\"466.053\" cy=\"146.57\" r=\"14\"/>\n",
       "<circle clip-path=\"url(#clip2502)\" style=\"fill:#000000; stroke:none; fill-opacity:1\" cx=\"983.709\" cy=\"443.651\" r=\"18\"/>\n",
       "<circle clip-path=\"url(#clip2502)\" style=\"fill:#009af9; stroke:none; fill-opacity:1\" cx=\"983.709\" cy=\"443.651\" r=\"14\"/>\n",
       "<circle clip-path=\"url(#clip2502)\" style=\"fill:#000000; stroke:none; fill-opacity:1\" cx=\"669.494\" cy=\"1080.99\" r=\"18\"/>\n",
       "<circle clip-path=\"url(#clip2502)\" style=\"fill:#009af9; stroke:none; fill-opacity:1\" cx=\"669.494\" cy=\"1080.99\" r=\"14\"/>\n",
       "<circle clip-path=\"url(#clip2502)\" style=\"fill:#000000; stroke:none; fill-opacity:1\" cx=\"1084.7\" cy=\"591.389\" r=\"18\"/>\n",
       "<circle clip-path=\"url(#clip2502)\" style=\"fill:#009af9; stroke:none; fill-opacity:1\" cx=\"1084.7\" cy=\"591.389\" r=\"14\"/>\n",
       "<circle clip-path=\"url(#clip2502)\" style=\"fill:#000000; stroke:none; fill-opacity:1\" cx=\"1099.19\" cy=\"303.898\" r=\"18\"/>\n",
       "<circle clip-path=\"url(#clip2502)\" style=\"fill:#009af9; stroke:none; fill-opacity:1\" cx=\"1099.19\" cy=\"303.898\" r=\"14\"/>\n",
       "<circle clip-path=\"url(#clip2502)\" style=\"fill:#000000; stroke:none; fill-opacity:1\" cx=\"1192.42\" cy=\"437.357\" r=\"18\"/>\n",
       "<circle clip-path=\"url(#clip2502)\" style=\"fill:#009af9; stroke:none; fill-opacity:1\" cx=\"1192.42\" cy=\"437.357\" r=\"14\"/>\n",
       "<circle clip-path=\"url(#clip2502)\" style=\"fill:#000000; stroke:none; fill-opacity:1\" cx=\"556.81\" cy=\"439.038\" r=\"18\"/>\n",
       "<circle clip-path=\"url(#clip2502)\" style=\"fill:#009af9; stroke:none; fill-opacity:1\" cx=\"556.81\" cy=\"439.038\" r=\"14\"/>\n",
       "<circle clip-path=\"url(#clip2502)\" style=\"fill:#000000; stroke:none; fill-opacity:1\" cx=\"264.879\" cy=\"186.318\" r=\"18\"/>\n",
       "<circle clip-path=\"url(#clip2502)\" style=\"fill:#009af9; stroke:none; fill-opacity:1\" cx=\"264.879\" cy=\"186.318\" r=\"14\"/>\n",
       "<circle clip-path=\"url(#clip2502)\" style=\"fill:#000000; stroke:none; fill-opacity:1\" cx=\"699.937\" cy=\"628.154\" r=\"18\"/>\n",
       "<circle clip-path=\"url(#clip2502)\" style=\"fill:#009af9; stroke:none; fill-opacity:1\" cx=\"699.937\" cy=\"628.154\" r=\"14\"/>\n",
       "<circle clip-path=\"url(#clip2502)\" style=\"fill:#000000; stroke:none; fill-opacity:1\" cx=\"635.368\" cy=\"380.338\" r=\"18\"/>\n",
       "<circle clip-path=\"url(#clip2502)\" style=\"fill:#009af9; stroke:none; fill-opacity:1\" cx=\"635.368\" cy=\"380.338\" r=\"14\"/>\n",
       "<circle clip-path=\"url(#clip2502)\" style=\"fill:#000000; stroke:none; fill-opacity:1\" cx=\"210.829\" cy=\"393.735\" r=\"18\"/>\n",
       "<circle clip-path=\"url(#clip2502)\" style=\"fill:#009af9; stroke:none; fill-opacity:1\" cx=\"210.829\" cy=\"393.735\" r=\"14\"/>\n",
       "<circle clip-path=\"url(#clip2502)\" style=\"fill:#000000; stroke:none; fill-opacity:1\" cx=\"346.294\" cy=\"500.508\" r=\"18\"/>\n",
       "<circle clip-path=\"url(#clip2502)\" style=\"fill:#009af9; stroke:none; fill-opacity:1\" cx=\"346.294\" cy=\"500.508\" r=\"14\"/>\n",
       "<circle clip-path=\"url(#clip2502)\" style=\"fill:#000000; stroke:none; fill-opacity:1\" cx=\"769.458\" cy=\"516.212\" r=\"18\"/>\n",
       "<circle clip-path=\"url(#clip2502)\" style=\"fill:#009af9; stroke:none; fill-opacity:1\" cx=\"769.458\" cy=\"516.212\" r=\"14\"/>\n",
       "<circle clip-path=\"url(#clip2502)\" style=\"fill:#000000; stroke:none; fill-opacity:1\" cx=\"787.128\" cy=\"665.13\" r=\"18\"/>\n",
       "<circle clip-path=\"url(#clip2502)\" style=\"fill:#009af9; stroke:none; fill-opacity:1\" cx=\"787.128\" cy=\"665.13\" r=\"14\"/>\n",
       "<circle clip-path=\"url(#clip2502)\" style=\"fill:#000000; stroke:none; fill-opacity:1\" cx=\"546.809\" cy=\"606.216\" r=\"18\"/>\n",
       "<circle clip-path=\"url(#clip2502)\" style=\"fill:#009af9; stroke:none; fill-opacity:1\" cx=\"546.809\" cy=\"606.216\" r=\"14\"/>\n",
       "<circle clip-path=\"url(#clip2502)\" style=\"fill:#000000; stroke:none; fill-opacity:1\" cx=\"1021.95\" cy=\"637.928\" r=\"18\"/>\n",
       "<circle clip-path=\"url(#clip2502)\" style=\"fill:#009af9; stroke:none; fill-opacity:1\" cx=\"1021.95\" cy=\"637.928\" r=\"14\"/>\n",
       "<circle clip-path=\"url(#clip2502)\" style=\"fill:#000000; stroke:none; fill-opacity:1\" cx=\"1024.61\" cy=\"447.875\" r=\"18\"/>\n",
       "<circle clip-path=\"url(#clip2502)\" style=\"fill:#009af9; stroke:none; fill-opacity:1\" cx=\"1024.61\" cy=\"447.875\" r=\"14\"/>\n",
       "<circle clip-path=\"url(#clip2502)\" style=\"fill:#000000; stroke:none; fill-opacity:1\" cx=\"902.366\" cy=\"535.714\" r=\"18\"/>\n",
       "<circle clip-path=\"url(#clip2502)\" style=\"fill:#009af9; stroke:none; fill-opacity:1\" cx=\"902.366\" cy=\"535.714\" r=\"14\"/>\n",
       "<circle clip-path=\"url(#clip2502)\" style=\"fill:#000000; stroke:none; fill-opacity:1\" cx=\"969.181\" cy=\"420.873\" r=\"18\"/>\n",
       "<circle clip-path=\"url(#clip2502)\" style=\"fill:#009af9; stroke:none; fill-opacity:1\" cx=\"969.181\" cy=\"420.873\" r=\"14\"/>\n",
       "<circle clip-path=\"url(#clip2502)\" style=\"fill:#000000; stroke:none; fill-opacity:1\" cx=\"350.04\" cy=\"705.47\" r=\"18\"/>\n",
       "<circle clip-path=\"url(#clip2502)\" style=\"fill:#009af9; stroke:none; fill-opacity:1\" cx=\"350.04\" cy=\"705.47\" r=\"14\"/>\n",
       "<circle clip-path=\"url(#clip2502)\" style=\"fill:#000000; stroke:none; fill-opacity:1\" cx=\"1741.32\" cy=\"575.196\" r=\"18\"/>\n",
       "<circle clip-path=\"url(#clip2502)\" style=\"fill:#009af9; stroke:none; fill-opacity:1\" cx=\"1741.32\" cy=\"575.196\" r=\"14\"/>\n",
       "<circle clip-path=\"url(#clip2502)\" style=\"fill:#000000; stroke:none; fill-opacity:1\" cx=\"969.316\" cy=\"896.227\" r=\"18\"/>\n",
       "<circle clip-path=\"url(#clip2502)\" style=\"fill:#009af9; stroke:none; fill-opacity:1\" cx=\"969.316\" cy=\"896.227\" r=\"14\"/>\n",
       "<circle clip-path=\"url(#clip2502)\" style=\"fill:#000000; stroke:none; fill-opacity:1\" cx=\"951.793\" cy=\"560.43\" r=\"18\"/>\n",
       "<circle clip-path=\"url(#clip2502)\" style=\"fill:#009af9; stroke:none; fill-opacity:1\" cx=\"951.793\" cy=\"560.43\" r=\"14\"/>\n",
       "<circle clip-path=\"url(#clip2502)\" style=\"fill:#000000; stroke:none; fill-opacity:1\" cx=\"436.35\" cy=\"936.424\" r=\"18\"/>\n",
       "<circle clip-path=\"url(#clip2502)\" style=\"fill:#009af9; stroke:none; fill-opacity:1\" cx=\"436.35\" cy=\"936.424\" r=\"14\"/>\n",
       "<circle clip-path=\"url(#clip2502)\" style=\"fill:#000000; stroke:none; fill-opacity:1\" cx=\"524.735\" cy=\"589.412\" r=\"18\"/>\n",
       "<circle clip-path=\"url(#clip2502)\" style=\"fill:#009af9; stroke:none; fill-opacity:1\" cx=\"524.735\" cy=\"589.412\" r=\"14\"/>\n",
       "<circle clip-path=\"url(#clip2502)\" style=\"fill:#000000; stroke:none; fill-opacity:1\" cx=\"525.398\" cy=\"88.4582\" r=\"18\"/>\n",
       "<circle clip-path=\"url(#clip2502)\" style=\"fill:#009af9; stroke:none; fill-opacity:1\" cx=\"525.398\" cy=\"88.4582\" r=\"14\"/>\n",
       "<circle clip-path=\"url(#clip2502)\" style=\"fill:#000000; stroke:none; fill-opacity:1\" cx=\"674.835\" cy=\"346.336\" r=\"18\"/>\n",
       "<circle clip-path=\"url(#clip2502)\" style=\"fill:#009af9; stroke:none; fill-opacity:1\" cx=\"674.835\" cy=\"346.336\" r=\"14\"/>\n",
       "<circle clip-path=\"url(#clip2502)\" style=\"fill:#000000; stroke:none; fill-opacity:1\" cx=\"252.536\" cy=\"714.833\" r=\"18\"/>\n",
       "<circle clip-path=\"url(#clip2502)\" style=\"fill:#009af9; stroke:none; fill-opacity:1\" cx=\"252.536\" cy=\"714.833\" r=\"14\"/>\n",
       "<circle clip-path=\"url(#clip2502)\" style=\"fill:#000000; stroke:none; fill-opacity:1\" cx=\"1566.91\" cy=\"388.145\" r=\"18\"/>\n",
       "<circle clip-path=\"url(#clip2502)\" style=\"fill:#009af9; stroke:none; fill-opacity:1\" cx=\"1566.91\" cy=\"388.145\" r=\"14\"/>\n",
       "<circle clip-path=\"url(#clip2502)\" style=\"fill:#000000; stroke:none; fill-opacity:1\" cx=\"1683.67\" cy=\"668.54\" r=\"18\"/>\n",
       "<circle clip-path=\"url(#clip2502)\" style=\"fill:#009af9; stroke:none; fill-opacity:1\" cx=\"1683.67\" cy=\"668.54\" r=\"14\"/>\n",
       "<circle clip-path=\"url(#clip2502)\" style=\"fill:#000000; stroke:none; fill-opacity:1\" cx=\"1008.63\" cy=\"612.031\" r=\"18\"/>\n",
       "<circle clip-path=\"url(#clip2502)\" style=\"fill:#009af9; stroke:none; fill-opacity:1\" cx=\"1008.63\" cy=\"612.031\" r=\"14\"/>\n",
       "<circle clip-path=\"url(#clip2502)\" style=\"fill:#000000; stroke:none; fill-opacity:1\" cx=\"420.548\" cy=\"163.684\" r=\"18\"/>\n",
       "<circle clip-path=\"url(#clip2502)\" style=\"fill:#009af9; stroke:none; fill-opacity:1\" cx=\"420.548\" cy=\"163.684\" r=\"14\"/>\n",
       "<circle clip-path=\"url(#clip2502)\" style=\"fill:#000000; stroke:none; fill-opacity:1\" cx=\"956.935\" cy=\"143.754\" r=\"18\"/>\n",
       "<circle clip-path=\"url(#clip2502)\" style=\"fill:#009af9; stroke:none; fill-opacity:1\" cx=\"956.935\" cy=\"143.754\" r=\"14\"/>\n",
       "<circle clip-path=\"url(#clip2502)\" style=\"fill:#000000; stroke:none; fill-opacity:1\" cx=\"1304.49\" cy=\"578.214\" r=\"18\"/>\n",
       "<circle clip-path=\"url(#clip2502)\" style=\"fill:#009af9; stroke:none; fill-opacity:1\" cx=\"1304.49\" cy=\"578.214\" r=\"14\"/>\n",
       "<circle clip-path=\"url(#clip2502)\" style=\"fill:#000000; stroke:none; fill-opacity:1\" cx=\"444.752\" cy=\"138.127\" r=\"18\"/>\n",
       "<circle clip-path=\"url(#clip2502)\" style=\"fill:#009af9; stroke:none; fill-opacity:1\" cx=\"444.752\" cy=\"138.127\" r=\"14\"/>\n",
       "<circle clip-path=\"url(#clip2502)\" style=\"fill:#000000; stroke:none; fill-opacity:1\" cx=\"924.705\" cy=\"622.79\" r=\"18\"/>\n",
       "<circle clip-path=\"url(#clip2502)\" style=\"fill:#009af9; stroke:none; fill-opacity:1\" cx=\"924.705\" cy=\"622.79\" r=\"14\"/>\n",
       "<circle clip-path=\"url(#clip2502)\" style=\"fill:#000000; stroke:none; fill-opacity:1\" cx=\"749.982\" cy=\"470.29\" r=\"18\"/>\n",
       "<circle clip-path=\"url(#clip2502)\" style=\"fill:#009af9; stroke:none; fill-opacity:1\" cx=\"749.982\" cy=\"470.29\" r=\"14\"/>\n",
       "<circle clip-path=\"url(#clip2502)\" style=\"fill:#000000; stroke:none; fill-opacity:1\" cx=\"1673.8\" cy=\"514.991\" r=\"18\"/>\n",
       "<circle clip-path=\"url(#clip2502)\" style=\"fill:#009af9; stroke:none; fill-opacity:1\" cx=\"1673.8\" cy=\"514.991\" r=\"14\"/>\n",
       "<circle clip-path=\"url(#clip2502)\" style=\"fill:#000000; stroke:none; fill-opacity:1\" cx=\"729.995\" cy=\"426.985\" r=\"18\"/>\n",
       "<circle clip-path=\"url(#clip2502)\" style=\"fill:#009af9; stroke:none; fill-opacity:1\" cx=\"729.995\" cy=\"426.985\" r=\"14\"/>\n",
       "<circle clip-path=\"url(#clip2502)\" style=\"fill:#000000; stroke:none; fill-opacity:1\" cx=\"818.529\" cy=\"885.723\" r=\"18\"/>\n",
       "<circle clip-path=\"url(#clip2502)\" style=\"fill:#009af9; stroke:none; fill-opacity:1\" cx=\"818.529\" cy=\"885.723\" r=\"14\"/>\n",
       "<circle clip-path=\"url(#clip2502)\" style=\"fill:#000000; stroke:none; fill-opacity:1\" cx=\"965.822\" cy=\"716.393\" r=\"18\"/>\n",
       "<circle clip-path=\"url(#clip2502)\" style=\"fill:#009af9; stroke:none; fill-opacity:1\" cx=\"965.822\" cy=\"716.393\" r=\"14\"/>\n",
       "<circle clip-path=\"url(#clip2502)\" style=\"fill:#000000; stroke:none; fill-opacity:1\" cx=\"563.169\" cy=\"611.729\" r=\"18\"/>\n",
       "<circle clip-path=\"url(#clip2502)\" style=\"fill:#009af9; stroke:none; fill-opacity:1\" cx=\"563.169\" cy=\"611.729\" r=\"14\"/>\n",
       "<circle clip-path=\"url(#clip2502)\" style=\"fill:#000000; stroke:none; fill-opacity:1\" cx=\"928.075\" cy=\"378.07\" r=\"18\"/>\n",
       "<circle clip-path=\"url(#clip2502)\" style=\"fill:#009af9; stroke:none; fill-opacity:1\" cx=\"928.075\" cy=\"378.07\" r=\"14\"/>\n",
       "<circle clip-path=\"url(#clip2502)\" style=\"fill:#000000; stroke:none; fill-opacity:1\" cx=\"816.49\" cy=\"340.117\" r=\"18\"/>\n",
       "<circle clip-path=\"url(#clip2502)\" style=\"fill:#009af9; stroke:none; fill-opacity:1\" cx=\"816.49\" cy=\"340.117\" r=\"14\"/>\n",
       "<circle clip-path=\"url(#clip2502)\" style=\"fill:#000000; stroke:none; fill-opacity:1\" cx=\"1468.5\" cy=\"675.338\" r=\"18\"/>\n",
       "<circle clip-path=\"url(#clip2502)\" style=\"fill:#009af9; stroke:none; fill-opacity:1\" cx=\"1468.5\" cy=\"675.338\" r=\"14\"/>\n",
       "<circle clip-path=\"url(#clip2502)\" style=\"fill:#000000; stroke:none; fill-opacity:1\" cx=\"301.155\" cy=\"707.046\" r=\"18\"/>\n",
       "<circle clip-path=\"url(#clip2502)\" style=\"fill:#009af9; stroke:none; fill-opacity:1\" cx=\"301.155\" cy=\"707.046\" r=\"14\"/>\n",
       "<circle clip-path=\"url(#clip2502)\" style=\"fill:#000000; stroke:none; fill-opacity:1\" cx=\"604.759\" cy=\"338.133\" r=\"18\"/>\n",
       "<circle clip-path=\"url(#clip2502)\" style=\"fill:#009af9; stroke:none; fill-opacity:1\" cx=\"604.759\" cy=\"338.133\" r=\"14\"/>\n",
       "<circle clip-path=\"url(#clip2502)\" style=\"fill:#000000; stroke:none; fill-opacity:1\" cx=\"777.885\" cy=\"604.249\" r=\"18\"/>\n",
       "<circle clip-path=\"url(#clip2502)\" style=\"fill:#009af9; stroke:none; fill-opacity:1\" cx=\"777.885\" cy=\"604.249\" r=\"14\"/>\n",
       "<circle clip-path=\"url(#clip2502)\" style=\"fill:#000000; stroke:none; fill-opacity:1\" cx=\"913.323\" cy=\"773.69\" r=\"18\"/>\n",
       "<circle clip-path=\"url(#clip2502)\" style=\"fill:#009af9; stroke:none; fill-opacity:1\" cx=\"913.323\" cy=\"773.69\" r=\"14\"/>\n",
       "<circle clip-path=\"url(#clip2502)\" style=\"fill:#000000; stroke:none; fill-opacity:1\" cx=\"266.4\" cy=\"622.194\" r=\"18\"/>\n",
       "<circle clip-path=\"url(#clip2502)\" style=\"fill:#009af9; stroke:none; fill-opacity:1\" cx=\"266.4\" cy=\"622.194\" r=\"14\"/>\n",
       "<polygon clip-path=\"url(#clip2500)\" points=\"\n",
       "1958.43,251.724 2249.26,251.724 2249.26,130.764 1958.43,130.764 \n",
       "  \" fill=\"#ffffff\" fill-rule=\"evenodd\" fill-opacity=\"1\"/>\n",
       "<polyline clip-path=\"url(#clip2500)\" style=\"stroke:#000000; stroke-width:4; stroke-opacity:1; fill:none\" points=\"\n",
       "  1958.43,251.724 2249.26,251.724 2249.26,130.764 1958.43,130.764 1958.43,251.724 \n",
       "  \"/>\n",
       "<circle clip-path=\"url(#clip2500)\" style=\"fill:#000000; stroke:none; fill-opacity:1\" cx=\"2066.43\" cy=\"191.244\" r=\"25\"/>\n",
       "<circle clip-path=\"url(#clip2500)\" style=\"fill:#d968a2; stroke:none; fill-opacity:1\" cx=\"2066.43\" cy=\"191.244\" r=\"21\"/>\n",
       "<g clip-path=\"url(#clip2500)\">\n",
       "<text style=\"fill:#000000; fill-opacity:1; font-family:Arial,Helvetica Neue,Helvetica,sans-serif; font-size:48px; text-anchor:start;\" transform=\"rotate(0, 2150.43, 208.744)\" x=\"2150.43\" y=\"208.744\">y1</text>\n",
       "</g>\n",
       "</svg>\n"
      ]
     },
     "execution_count": 39,
     "metadata": {},
     "output_type": "execute_result"
    }
   ],
   "source": [
    "# artificial data\n",
    "X = [randn(50, 2); randn(50, 2) .+ [-1.0 2.4]];\n",
    "y = [i <= 50 ? 0 : 1 for i in 1:100];\n",
    "n = length(y);\n",
    "\n",
    "scatter(X[:,1], X[:,2], color=y)"
   ]
  },
  {
   "cell_type": "code",
   "execution_count": 40,
   "metadata": {
    "slideshow": {
     "slide_type": "subslide"
    }
   },
   "outputs": [
    {
     "data": {
      "text/plain": [
       "L (generic function with 1 method)"
      ]
     },
     "execution_count": 40,
     "metadata": {},
     "output_type": "execute_result"
    }
   ],
   "source": [
    "σ(t) = 1.0 / (1.0 + exp(t))\n",
    "f(x, w) = σ(sum(x .* w))\n",
    "L(w; X=X, y=y) = sum(- y .* log.(σ.(X * w)) - (1.0 .- y) .* log.(σ.(1. .- X * w)))"
   ]
  },
  {
   "cell_type": "code",
   "execution_count": 41,
   "metadata": {
    "slideshow": {
     "slide_type": "fragment"
    }
   },
   "outputs": [
    {
     "data": {
      "text/plain": [
       "103.7986865342272"
      ]
     },
     "execution_count": 41,
     "metadata": {},
     "output_type": "execute_result"
    }
   ],
   "source": [
    "w = [0.1, 0.1]\n",
    "L(w)"
   ]
  },
  {
   "cell_type": "markdown",
   "metadata": {
    "slideshow": {
     "slide_type": "subslide"
    }
   },
   "source": [
    "**Assignments**\n",
    "\n",
    "1. Compute the gradient of $L$ wrt. $\\mathbf{w}$ using\n",
    "    - numerical method\n",
    "    - forward differentiation\n",
    "    - backward differentiation\n",
    "2. (optional) Implement a simple gradient descent to find  $\\mathbf{w}^\\star$.\n",
    "3. Add a bias to the prediction function."
   ]
  },
  {
   "cell_type": "code",
   "execution_count": null,
   "metadata": {
    "slideshow": {
     "slide_type": "skip"
    }
   },
   "outputs": [],
   "source": []
  },
  {
   "cell_type": "code",
   "execution_count": null,
   "metadata": {
    "slideshow": {
     "slide_type": "skip"
    }
   },
   "outputs": [],
   "source": []
  },
  {
   "cell_type": "code",
   "execution_count": null,
   "metadata": {
    "slideshow": {
     "slide_type": "skip"
    }
   },
   "outputs": [],
   "source": []
  },
  {
   "cell_type": "markdown",
   "metadata": {
    "slideshow": {
     "slide_type": "slide"
    }
   },
   "source": [
    "## Differentiating ODE\n",
    "\n",
    "Automatic differentiation can be used beyond machine learning and optimization:\n",
    "\n",
    "- [physical engines](https://arxiv.org/abs/1611.01652) to learn robot control\n",
    "- differentiating [protein](https://github.com/lupoglaz/TorchProteinLibrary) [structures](https://www.cell.com/cell-systems/fulltext/S2405-4712(19)30076-6)\n",
    "- Sinkhorn algorithm\n",
    "- [dynamic programming](https://arxiv.org/abs/1802.03676)\n",
    "- [differential equations](https://julialang.org/blog/2019/01/fluxdiffeq)"
   ]
  },
  {
   "cell_type": "markdown",
   "metadata": {
    "slideshow": {
     "slide_type": "fragment"
    }
   },
   "source": [
    "Everything is computed by some straightforward and differentiable functions!"
   ]
  },
  {
   "cell_type": "markdown",
   "metadata": {
    "slideshow": {
     "slide_type": "subslide"
    }
   },
   "source": [
    "### Short introduction to differential equations\n",
    "\n",
    "Ordinary differential equations describe dynamical processes through the *rate of change*:\n",
    "\n",
    "$$\n",
    "\\dot{\\mathbf{x}} = f(\\mathbf{x}, t; \\theta)\\,,\n",
    "$$\n",
    "\n",
    "with $\\theta$ some parameters. To obtain a unique solution, we depart from some initial vector for $\\mathbf{x}$ at the starting time."
   ]
  },
  {
   "cell_type": "markdown",
   "metadata": {
    "slideshow": {
     "slide_type": "fragment"
    }
   },
   "source": [
    "Usually solved using an iterative algorithm, for example using Euler's method:\n",
    "\n",
    "$$\n",
    "\\mathbf{x}_{t+1} = \\mathbf{x}_{t} + \\alpha_t f(\\mathbf{x}_{t}, t)\\,.\n",
    "$$\n",
    "\n",
    "with $\\alpha_t$ a stepsize (does this remind you of something?)."
   ]
  },
  {
   "cell_type": "markdown",
   "metadata": {
    "slideshow": {
     "slide_type": "subslide"
    }
   },
   "source": [
    "### Example an auto-catalytic process\n",
    "\n",
    "Consider a chemical reaction where some molecule $X$ combines reversibly with a molecule $A$ to form two molecules $X$:\n",
    "\n",
    "$$\n",
    "X+A\t\\rightleftharpoons 2X\\,.\n",
    "$$"
   ]
  },
  {
   "cell_type": "markdown",
   "metadata": {
    "slideshow": {
     "slide_type": "fragment"
    }
   },
   "source": [
    "We assume that there is a large and inexhaustible supply of $A$. Based on the *law of mass action* for chemical kinetics, the concentration of $X$ is given by \n",
    "\n",
    "$$\n",
    "\\dot{x} = k_1ax - k_{-1} x^2\\,,\n",
    "$$\n",
    "\n"
   ]
  },
  {
   "cell_type": "markdown",
   "metadata": {
    "slideshow": {
     "slide_type": "subslide"
    }
   },
   "source": [
    "with\n",
    "- $x$ the concentration of $X$;\n",
    "- $a$ the concentration of $A$;\n",
    "- $k_1$ and $k_{-1}$ the forward and backward kinetic parameters."
   ]
  },
  {
   "cell_type": "code",
   "execution_count": 42,
   "metadata": {
    "slideshow": {
     "slide_type": "subslide"
    }
   },
   "outputs": [
    {
     "data": {
      "text/plain": [
       "eulersolve (generic function with 2 methods)"
      ]
     },
     "execution_count": 42,
     "metadata": {},
     "output_type": "execute_result"
    }
   ],
   "source": [
    "function eulersolve(f, x0, (t0, tend), θ, α=0.1)\n",
    "    tsteps = t0:α:tend\n",
    "    # demonstration for didactical purposes\n",
    "    # Any arrays are generally a bad idea!\n",
    "    sol = Array{Any}(undef, length(tsteps), length(x0))\n",
    "    x = x0\n",
    "    for (i, t) in enumerate(tsteps)\n",
    "        sol[i, :] .= x\n",
    "        x += α * f(x, t, θ)\n",
    "    end\n",
    "    return sol\n",
    "end"
   ]
  },
  {
   "cell_type": "code",
   "execution_count": 43,
   "metadata": {
    "slideshow": {
     "slide_type": "fragment"
    }
   },
   "outputs": [
    {
     "data": {
      "text/plain": [
       "fautocat (generic function with 1 method)"
      ]
     },
     "execution_count": 43,
     "metadata": {},
     "output_type": "execute_result"
    }
   ],
   "source": [
    "fautocat(x, t, (a, k₁, k₋₁)) = k₁ * a * x - k₋₁ * x.^2"
   ]
  },
  {
   "cell_type": "code",
   "execution_count": 44,
   "metadata": {
    "scrolled": false,
    "slideshow": {
     "slide_type": "subslide"
    }
   },
   "outputs": [
    {
     "data": {
      "image/svg+xml": [
       "<?xml version=\"1.0\" encoding=\"utf-8\"?>\n",
       "<svg xmlns=\"http://www.w3.org/2000/svg\" xmlns:xlink=\"http://www.w3.org/1999/xlink\" width=\"600\" height=\"400\" viewBox=\"0 0 2400 1600\">\n",
       "<defs>\n",
       "  <clipPath id=\"clip2900\">\n",
       "    <rect x=\"0\" y=\"0\" width=\"2400\" height=\"1600\"/>\n",
       "  </clipPath>\n",
       "</defs>\n",
       "<polygon clip-path=\"url(#clip2900)\" points=\"\n",
       "0,1600 2400,1600 2400,0 0,0 \n",
       "  \" fill=\"#ffffff\" fill-rule=\"evenodd\" fill-opacity=\"1\"/>\n",
       "<defs>\n",
       "  <clipPath id=\"clip2901\">\n",
       "    <rect x=\"480\" y=\"0\" width=\"1681\" height=\"1600\"/>\n",
       "  </clipPath>\n",
       "</defs>\n",
       "<polygon clip-path=\"url(#clip2900)\" points=\"\n",
       "148.013,1503.47 2321.26,1503.47 2321.26,47.2441 148.013,47.2441 \n",
       "  \" fill=\"#ffffff\" fill-rule=\"evenodd\" fill-opacity=\"1\"/>\n",
       "<defs>\n",
       "  <clipPath id=\"clip2902\">\n",
       "    <rect x=\"148\" y=\"47\" width=\"2174\" height=\"1457\"/>\n",
       "  </clipPath>\n",
       "</defs>\n",
       "<polyline clip-path=\"url(#clip2902)\" style=\"stroke:#000000; stroke-width:2; stroke-opacity:0.1; fill:none\" points=\"\n",
       "  209.52,1503.47 209.52,47.2441 \n",
       "  \"/>\n",
       "<polyline clip-path=\"url(#clip2902)\" style=\"stroke:#000000; stroke-width:2; stroke-opacity:0.1; fill:none\" points=\"\n",
       "  722.078,1503.47 722.078,47.2441 \n",
       "  \"/>\n",
       "<polyline clip-path=\"url(#clip2902)\" style=\"stroke:#000000; stroke-width:2; stroke-opacity:0.1; fill:none\" points=\"\n",
       "  1234.64,1503.47 1234.64,47.2441 \n",
       "  \"/>\n",
       "<polyline clip-path=\"url(#clip2902)\" style=\"stroke:#000000; stroke-width:2; stroke-opacity:0.1; fill:none\" points=\"\n",
       "  1747.19,1503.47 1747.19,47.2441 \n",
       "  \"/>\n",
       "<polyline clip-path=\"url(#clip2902)\" style=\"stroke:#000000; stroke-width:2; stroke-opacity:0.1; fill:none\" points=\"\n",
       "  2259.75,1503.47 2259.75,47.2441 \n",
       "  \"/>\n",
       "<polyline clip-path=\"url(#clip2902)\" style=\"stroke:#000000; stroke-width:2; stroke-opacity:0.1; fill:none\" points=\"\n",
       "  148.013,1462.26 2321.26,1462.26 \n",
       "  \"/>\n",
       "<polyline clip-path=\"url(#clip2902)\" style=\"stroke:#000000; stroke-width:2; stroke-opacity:0.1; fill:none\" points=\"\n",
       "  148.013,1107.7 2321.26,1107.7 \n",
       "  \"/>\n",
       "<polyline clip-path=\"url(#clip2902)\" style=\"stroke:#000000; stroke-width:2; stroke-opacity:0.1; fill:none\" points=\"\n",
       "  148.013,753.139 2321.26,753.139 \n",
       "  \"/>\n",
       "<polyline clip-path=\"url(#clip2902)\" style=\"stroke:#000000; stroke-width:2; stroke-opacity:0.1; fill:none\" points=\"\n",
       "  148.013,398.578 2321.26,398.578 \n",
       "  \"/>\n",
       "<polyline clip-path=\"url(#clip2900)\" style=\"stroke:#000000; stroke-width:4; stroke-opacity:1; fill:none\" points=\"\n",
       "  148.013,1503.47 2321.26,1503.47 \n",
       "  \"/>\n",
       "<polyline clip-path=\"url(#clip2900)\" style=\"stroke:#000000; stroke-width:4; stroke-opacity:1; fill:none\" points=\"\n",
       "  148.013,1503.47 148.013,47.2441 \n",
       "  \"/>\n",
       "<polyline clip-path=\"url(#clip2900)\" style=\"stroke:#000000; stroke-width:4; stroke-opacity:1; fill:none\" points=\"\n",
       "  209.52,1503.47 209.52,1481.63 \n",
       "  \"/>\n",
       "<polyline clip-path=\"url(#clip2900)\" style=\"stroke:#000000; stroke-width:4; stroke-opacity:1; fill:none\" points=\"\n",
       "  722.078,1503.47 722.078,1481.63 \n",
       "  \"/>\n",
       "<polyline clip-path=\"url(#clip2900)\" style=\"stroke:#000000; stroke-width:4; stroke-opacity:1; fill:none\" points=\"\n",
       "  1234.64,1503.47 1234.64,1481.63 \n",
       "  \"/>\n",
       "<polyline clip-path=\"url(#clip2900)\" style=\"stroke:#000000; stroke-width:4; stroke-opacity:1; fill:none\" points=\"\n",
       "  1747.19,1503.47 1747.19,1481.63 \n",
       "  \"/>\n",
       "<polyline clip-path=\"url(#clip2900)\" style=\"stroke:#000000; stroke-width:4; stroke-opacity:1; fill:none\" points=\"\n",
       "  2259.75,1503.47 2259.75,1481.63 \n",
       "  \"/>\n",
       "<polyline clip-path=\"url(#clip2900)\" style=\"stroke:#000000; stroke-width:4; stroke-opacity:1; fill:none\" points=\"\n",
       "  148.013,1462.26 180.612,1462.26 \n",
       "  \"/>\n",
       "<polyline clip-path=\"url(#clip2900)\" style=\"stroke:#000000; stroke-width:4; stroke-opacity:1; fill:none\" points=\"\n",
       "  148.013,1107.7 180.612,1107.7 \n",
       "  \"/>\n",
       "<polyline clip-path=\"url(#clip2900)\" style=\"stroke:#000000; stroke-width:4; stroke-opacity:1; fill:none\" points=\"\n",
       "  148.013,753.139 180.612,753.139 \n",
       "  \"/>\n",
       "<polyline clip-path=\"url(#clip2900)\" style=\"stroke:#000000; stroke-width:4; stroke-opacity:1; fill:none\" points=\"\n",
       "  148.013,398.578 180.612,398.578 \n",
       "  \"/>\n",
       "<g clip-path=\"url(#clip2900)\">\n",
       "<text style=\"fill:#000000; fill-opacity:1; font-family:Arial,Helvetica Neue,Helvetica,sans-serif; font-size:48px; text-anchor:middle;\" transform=\"rotate(0, 209.52, 1557.47)\" x=\"209.52\" y=\"1557.47\">0.0</text>\n",
       "</g>\n",
       "<g clip-path=\"url(#clip2900)\">\n",
       "<text style=\"fill:#000000; fill-opacity:1; font-family:Arial,Helvetica Neue,Helvetica,sans-serif; font-size:48px; text-anchor:middle;\" transform=\"rotate(0, 722.078, 1557.47)\" x=\"722.078\" y=\"1557.47\">2.5</text>\n",
       "</g>\n",
       "<g clip-path=\"url(#clip2900)\">\n",
       "<text style=\"fill:#000000; fill-opacity:1; font-family:Arial,Helvetica Neue,Helvetica,sans-serif; font-size:48px; text-anchor:middle;\" transform=\"rotate(0, 1234.64, 1557.47)\" x=\"1234.64\" y=\"1557.47\">5.0</text>\n",
       "</g>\n",
       "<g clip-path=\"url(#clip2900)\">\n",
       "<text style=\"fill:#000000; fill-opacity:1; font-family:Arial,Helvetica Neue,Helvetica,sans-serif; font-size:48px; text-anchor:middle;\" transform=\"rotate(0, 1747.19, 1557.47)\" x=\"1747.19\" y=\"1557.47\">7.5</text>\n",
       "</g>\n",
       "<g clip-path=\"url(#clip2900)\">\n",
       "<text style=\"fill:#000000; fill-opacity:1; font-family:Arial,Helvetica Neue,Helvetica,sans-serif; font-size:48px; text-anchor:middle;\" transform=\"rotate(0, 2259.75, 1557.47)\" x=\"2259.75\" y=\"1557.47\">10.0</text>\n",
       "</g>\n",
       "<g clip-path=\"url(#clip2900)\">\n",
       "<text style=\"fill:#000000; fill-opacity:1; font-family:Arial,Helvetica Neue,Helvetica,sans-serif; font-size:48px; text-anchor:end;\" transform=\"rotate(0, 124.013, 1479.76)\" x=\"124.013\" y=\"1479.76\">10</text>\n",
       "</g>\n",
       "<g clip-path=\"url(#clip2900)\">\n",
       "<text style=\"fill:#000000; fill-opacity:1; font-family:Arial,Helvetica Neue,Helvetica,sans-serif; font-size:48px; text-anchor:end;\" transform=\"rotate(0, 124.013, 1125.2)\" x=\"124.013\" y=\"1125.2\">20</text>\n",
       "</g>\n",
       "<g clip-path=\"url(#clip2900)\">\n",
       "<text style=\"fill:#000000; fill-opacity:1; font-family:Arial,Helvetica Neue,Helvetica,sans-serif; font-size:48px; text-anchor:end;\" transform=\"rotate(0, 124.013, 770.639)\" x=\"124.013\" y=\"770.639\">30</text>\n",
       "</g>\n",
       "<g clip-path=\"url(#clip2900)\">\n",
       "<text style=\"fill:#000000; fill-opacity:1; font-family:Arial,Helvetica Neue,Helvetica,sans-serif; font-size:48px; text-anchor:end;\" transform=\"rotate(0, 124.013, 416.078)\" x=\"124.013\" y=\"416.078\">40</text>\n",
       "</g>\n",
       "<polyline clip-path=\"url(#clip2902)\" style=\"stroke:#009af9; stroke-width:8; stroke-opacity:1; fill:none\" points=\"\n",
       "  209.52,1462.26 230.022,1448.08 250.525,1433.48 271.027,1418.45 291.529,1403.01 312.032,1387.15 332.534,1370.87 353.036,1354.18 373.538,1337.09 394.041,1319.59 \n",
       "  414.543,1301.71 435.045,1283.43 455.548,1264.79 476.05,1245.78 496.552,1226.43 517.055,1206.74 537.557,1186.73 558.059,1166.42 578.562,1145.83 599.064,1124.98 \n",
       "  619.566,1103.89 640.069,1082.58 660.571,1061.07 681.073,1039.39 701.576,1017.57 722.078,995.623 742.58,973.583 763.083,951.475 783.585,929.328 804.087,907.168 \n",
       "  824.59,885.023 845.092,862.921 865.594,840.889 886.097,818.955 906.599,797.146 927.101,775.486 947.604,754.003 968.106,732.721 988.608,711.663 1009.11,690.853 \n",
       "  1029.61,670.312 1050.12,650.06 1070.62,630.117 1091.12,610.5 1111.62,591.227 1132.12,572.311 1152.63,553.768 1173.13,535.609 1193.63,517.846 1214.13,500.486 \n",
       "  1234.64,483.54 1255.14,467.012 1275.64,450.909 1296.14,435.233 1316.65,419.989 1337.15,405.177 1357.65,390.798 1378.15,376.851 1398.65,363.334 1419.16,350.243 \n",
       "  1439.66,337.577 1460.16,325.33 1480.66,313.496 1501.17,302.07 1521.67,291.046 1542.17,280.415 1562.67,270.171 1583.18,260.306 1603.68,250.811 1624.18,241.678 \n",
       "  1644.68,232.896 1665.19,224.459 1685.69,216.355 1706.19,208.576 1726.69,201.112 1747.19,193.953 1767.7,187.09 1788.2,180.514 1808.7,174.214 1829.2,168.183 \n",
       "  1849.71,162.409 1870.21,156.885 1890.71,151.601 1911.21,146.548 1931.72,141.718 1952.22,137.102 1972.72,132.692 1993.22,128.48 2013.72,124.458 2034.23,120.619 \n",
       "  2054.73,116.954 2075.23,113.457 2095.73,110.121 2116.24,106.939 2136.74,103.905 2157.24,101.012 2177.74,98.2536 2198.25,95.6248 2218.75,93.1195 2239.25,90.7324 \n",
       "  2259.75,88.4582 \n",
       "  \"/>\n",
       "<polygon clip-path=\"url(#clip2900)\" points=\"\n",
       "1985.19,251.724 2249.26,251.724 2249.26,130.764 1985.19,130.764 \n",
       "  \" fill=\"#ffffff\" fill-rule=\"evenodd\" fill-opacity=\"1\"/>\n",
       "<polyline clip-path=\"url(#clip2900)\" style=\"stroke:#000000; stroke-width:4; stroke-opacity:1; fill:none\" points=\"\n",
       "  1985.19,251.724 2249.26,251.724 2249.26,130.764 1985.19,130.764 1985.19,251.724 \n",
       "  \"/>\n",
       "<polyline clip-path=\"url(#clip2900)\" style=\"stroke:#009af9; stroke-width:8; stroke-opacity:1; fill:none\" points=\"\n",
       "  2009.19,191.244 2153.19,191.244 \n",
       "  \"/>\n",
       "<g clip-path=\"url(#clip2900)\">\n",
       "<text style=\"fill:#000000; fill-opacity:1; font-family:Arial,Helvetica Neue,Helvetica,sans-serif; font-size:48px; text-anchor:start;\" transform=\"rotate(0, 2177.19, 208.744)\" x=\"2177.19\" y=\"208.744\">x</text>\n",
       "</g>\n",
       "</svg>\n"
      ]
     },
     "execution_count": 44,
     "metadata": {},
     "output_type": "execute_result"
    }
   ],
   "source": [
    "solution = eulersolve(fautocat, [10.0], (0.0, 10.0), (5, 0.1, 0.01))\n",
    "tsteps = 0:0.1:10\n",
    "plot(tsteps, solution, label=\"x\", lw=2)"
   ]
  },
  {
   "cell_type": "markdown",
   "metadata": {
    "slideshow": {
     "slide_type": "subslide"
    }
   },
   "source": [
    "**Assignments**\n",
    "\n",
    "1. Given $x_0=10$ and $(a, k_1, k_{-1}) = (5, 0.1, 0.01)$, compute the gradient of $x(t)$ w.r.t. $x_0$ (e.g. sensitivity for initial conditions.\n",
    "2. Given these parameters, use gradient descent to tune $x_0$ such that $x(10) = 20$.\n",
    "3. Given a vector of measured concentrations with $x_0=10$, find the parameters of the process through gradient descent."
   ]
  },
  {
   "cell_type": "code",
   "execution_count": 45,
   "metadata": {
    "slideshow": {
     "slide_type": "subslide"
    }
   },
   "outputs": [
    {
     "data": {
      "text/plain": [
       "x10fromx0 (generic function with 1 method)"
      ]
     },
     "execution_count": 45,
     "metadata": {},
     "output_type": "execute_result"
    }
   ],
   "source": [
    "# for the first two questions\n",
    "xfromx0(x0) = eulersolve(fautocat, x0, (0.0, 10.0), (5, 0.1, 0.01))\n",
    "x10fromx0(x0) = xfromx0(x0)[end]"
   ]
  },
  {
   "cell_type": "code",
   "execution_count": null,
   "metadata": {
    "slideshow": {
     "slide_type": "skip"
    }
   },
   "outputs": [],
   "source": []
  },
  {
   "cell_type": "code",
   "execution_count": null,
   "metadata": {
    "slideshow": {
     "slide_type": "skip"
    }
   },
   "outputs": [],
   "source": []
  },
  {
   "cell_type": "code",
   "execution_count": 46,
   "metadata": {
    "slideshow": {
     "slide_type": "subslide"
    }
   },
   "outputs": [
    {
     "data": {
      "image/svg+xml": [
       "<?xml version=\"1.0\" encoding=\"utf-8\"?>\n",
       "<svg xmlns=\"http://www.w3.org/2000/svg\" xmlns:xlink=\"http://www.w3.org/1999/xlink\" width=\"600\" height=\"400\" viewBox=\"0 0 2400 1600\">\n",
       "<defs>\n",
       "  <clipPath id=\"clip3300\">\n",
       "    <rect x=\"0\" y=\"0\" width=\"2400\" height=\"1600\"/>\n",
       "  </clipPath>\n",
       "</defs>\n",
       "<polygon clip-path=\"url(#clip3300)\" points=\"\n",
       "0,1600 2400,1600 2400,0 0,0 \n",
       "  \" fill=\"#ffffff\" fill-rule=\"evenodd\" fill-opacity=\"1\"/>\n",
       "<defs>\n",
       "  <clipPath id=\"clip3301\">\n",
       "    <rect x=\"480\" y=\"0\" width=\"1681\" height=\"1600\"/>\n",
       "  </clipPath>\n",
       "</defs>\n",
       "<polygon clip-path=\"url(#clip3300)\" points=\"\n",
       "148.013,1503.47 2321.26,1503.47 2321.26,47.2441 148.013,47.2441 \n",
       "  \" fill=\"#ffffff\" fill-rule=\"evenodd\" fill-opacity=\"1\"/>\n",
       "<defs>\n",
       "  <clipPath id=\"clip3302\">\n",
       "    <rect x=\"148\" y=\"47\" width=\"2174\" height=\"1457\"/>\n",
       "  </clipPath>\n",
       "</defs>\n",
       "<polyline clip-path=\"url(#clip3302)\" style=\"stroke:#000000; stroke-width:2; stroke-opacity:0.1; fill:none\" points=\"\n",
       "  209.52,1503.47 209.52,47.2441 \n",
       "  \"/>\n",
       "<polyline clip-path=\"url(#clip3302)\" style=\"stroke:#000000; stroke-width:2; stroke-opacity:0.1; fill:none\" points=\"\n",
       "  722.078,1503.47 722.078,47.2441 \n",
       "  \"/>\n",
       "<polyline clip-path=\"url(#clip3302)\" style=\"stroke:#000000; stroke-width:2; stroke-opacity:0.1; fill:none\" points=\"\n",
       "  1234.64,1503.47 1234.64,47.2441 \n",
       "  \"/>\n",
       "<polyline clip-path=\"url(#clip3302)\" style=\"stroke:#000000; stroke-width:2; stroke-opacity:0.1; fill:none\" points=\"\n",
       "  1747.19,1503.47 1747.19,47.2441 \n",
       "  \"/>\n",
       "<polyline clip-path=\"url(#clip3302)\" style=\"stroke:#000000; stroke-width:2; stroke-opacity:0.1; fill:none\" points=\"\n",
       "  2259.75,1503.47 2259.75,47.2441 \n",
       "  \"/>\n",
       "<polyline clip-path=\"url(#clip3302)\" style=\"stroke:#000000; stroke-width:2; stroke-opacity:0.1; fill:none\" points=\"\n",
       "  148.013,1346.41 2321.26,1346.41 \n",
       "  \"/>\n",
       "<polyline clip-path=\"url(#clip3302)\" style=\"stroke:#000000; stroke-width:2; stroke-opacity:0.1; fill:none\" points=\"\n",
       "  148.013,1037.75 2321.26,1037.75 \n",
       "  \"/>\n",
       "<polyline clip-path=\"url(#clip3302)\" style=\"stroke:#000000; stroke-width:2; stroke-opacity:0.1; fill:none\" points=\"\n",
       "  148.013,729.085 2321.26,729.085 \n",
       "  \"/>\n",
       "<polyline clip-path=\"url(#clip3302)\" style=\"stroke:#000000; stroke-width:2; stroke-opacity:0.1; fill:none\" points=\"\n",
       "  148.013,420.424 2321.26,420.424 \n",
       "  \"/>\n",
       "<polyline clip-path=\"url(#clip3302)\" style=\"stroke:#000000; stroke-width:2; stroke-opacity:0.1; fill:none\" points=\"\n",
       "  148.013,111.764 2321.26,111.764 \n",
       "  \"/>\n",
       "<polyline clip-path=\"url(#clip3300)\" style=\"stroke:#000000; stroke-width:4; stroke-opacity:1; fill:none\" points=\"\n",
       "  148.013,1503.47 2321.26,1503.47 \n",
       "  \"/>\n",
       "<polyline clip-path=\"url(#clip3300)\" style=\"stroke:#000000; stroke-width:4; stroke-opacity:1; fill:none\" points=\"\n",
       "  148.013,1503.47 148.013,47.2441 \n",
       "  \"/>\n",
       "<polyline clip-path=\"url(#clip3300)\" style=\"stroke:#000000; stroke-width:4; stroke-opacity:1; fill:none\" points=\"\n",
       "  209.52,1503.47 209.52,1481.63 \n",
       "  \"/>\n",
       "<polyline clip-path=\"url(#clip3300)\" style=\"stroke:#000000; stroke-width:4; stroke-opacity:1; fill:none\" points=\"\n",
       "  722.078,1503.47 722.078,1481.63 \n",
       "  \"/>\n",
       "<polyline clip-path=\"url(#clip3300)\" style=\"stroke:#000000; stroke-width:4; stroke-opacity:1; fill:none\" points=\"\n",
       "  1234.64,1503.47 1234.64,1481.63 \n",
       "  \"/>\n",
       "<polyline clip-path=\"url(#clip3300)\" style=\"stroke:#000000; stroke-width:4; stroke-opacity:1; fill:none\" points=\"\n",
       "  1747.19,1503.47 1747.19,1481.63 \n",
       "  \"/>\n",
       "<polyline clip-path=\"url(#clip3300)\" style=\"stroke:#000000; stroke-width:4; stroke-opacity:1; fill:none\" points=\"\n",
       "  2259.75,1503.47 2259.75,1481.63 \n",
       "  \"/>\n",
       "<polyline clip-path=\"url(#clip3300)\" style=\"stroke:#000000; stroke-width:4; stroke-opacity:1; fill:none\" points=\"\n",
       "  148.013,1346.41 180.612,1346.41 \n",
       "  \"/>\n",
       "<polyline clip-path=\"url(#clip3300)\" style=\"stroke:#000000; stroke-width:4; stroke-opacity:1; fill:none\" points=\"\n",
       "  148.013,1037.75 180.612,1037.75 \n",
       "  \"/>\n",
       "<polyline clip-path=\"url(#clip3300)\" style=\"stroke:#000000; stroke-width:4; stroke-opacity:1; fill:none\" points=\"\n",
       "  148.013,729.085 180.612,729.085 \n",
       "  \"/>\n",
       "<polyline clip-path=\"url(#clip3300)\" style=\"stroke:#000000; stroke-width:4; stroke-opacity:1; fill:none\" points=\"\n",
       "  148.013,420.424 180.612,420.424 \n",
       "  \"/>\n",
       "<polyline clip-path=\"url(#clip3300)\" style=\"stroke:#000000; stroke-width:4; stroke-opacity:1; fill:none\" points=\"\n",
       "  148.013,111.764 180.612,111.764 \n",
       "  \"/>\n",
       "<g clip-path=\"url(#clip3300)\">\n",
       "<text style=\"fill:#000000; fill-opacity:1; font-family:Arial,Helvetica Neue,Helvetica,sans-serif; font-size:48px; text-anchor:middle;\" transform=\"rotate(0, 209.52, 1557.47)\" x=\"209.52\" y=\"1557.47\">0.0</text>\n",
       "</g>\n",
       "<g clip-path=\"url(#clip3300)\">\n",
       "<text style=\"fill:#000000; fill-opacity:1; font-family:Arial,Helvetica Neue,Helvetica,sans-serif; font-size:48px; text-anchor:middle;\" transform=\"rotate(0, 722.078, 1557.47)\" x=\"722.078\" y=\"1557.47\">2.5</text>\n",
       "</g>\n",
       "<g clip-path=\"url(#clip3300)\">\n",
       "<text style=\"fill:#000000; fill-opacity:1; font-family:Arial,Helvetica Neue,Helvetica,sans-serif; font-size:48px; text-anchor:middle;\" transform=\"rotate(0, 1234.64, 1557.47)\" x=\"1234.64\" y=\"1557.47\">5.0</text>\n",
       "</g>\n",
       "<g clip-path=\"url(#clip3300)\">\n",
       "<text style=\"fill:#000000; fill-opacity:1; font-family:Arial,Helvetica Neue,Helvetica,sans-serif; font-size:48px; text-anchor:middle;\" transform=\"rotate(0, 1747.19, 1557.47)\" x=\"1747.19\" y=\"1557.47\">7.5</text>\n",
       "</g>\n",
       "<g clip-path=\"url(#clip3300)\">\n",
       "<text style=\"fill:#000000; fill-opacity:1; font-family:Arial,Helvetica Neue,Helvetica,sans-serif; font-size:48px; text-anchor:middle;\" transform=\"rotate(0, 2259.75, 1557.47)\" x=\"2259.75\" y=\"1557.47\">10.0</text>\n",
       "</g>\n",
       "<g clip-path=\"url(#clip3300)\">\n",
       "<text style=\"fill:#000000; fill-opacity:1; font-family:Arial,Helvetica Neue,Helvetica,sans-serif; font-size:48px; text-anchor:end;\" transform=\"rotate(0, 124.013, 1363.91)\" x=\"124.013\" y=\"1363.91\">2</text>\n",
       "</g>\n",
       "<g clip-path=\"url(#clip3300)\">\n",
       "<text style=\"fill:#000000; fill-opacity:1; font-family:Arial,Helvetica Neue,Helvetica,sans-serif; font-size:48px; text-anchor:end;\" transform=\"rotate(0, 124.013, 1055.25)\" x=\"124.013\" y=\"1055.25\">4</text>\n",
       "</g>\n",
       "<g clip-path=\"url(#clip3300)\">\n",
       "<text style=\"fill:#000000; fill-opacity:1; font-family:Arial,Helvetica Neue,Helvetica,sans-serif; font-size:48px; text-anchor:end;\" transform=\"rotate(0, 124.013, 746.585)\" x=\"124.013\" y=\"746.585\">6</text>\n",
       "</g>\n",
       "<g clip-path=\"url(#clip3300)\">\n",
       "<text style=\"fill:#000000; fill-opacity:1; font-family:Arial,Helvetica Neue,Helvetica,sans-serif; font-size:48px; text-anchor:end;\" transform=\"rotate(0, 124.013, 437.924)\" x=\"124.013\" y=\"437.924\">8</text>\n",
       "</g>\n",
       "<g clip-path=\"url(#clip3300)\">\n",
       "<text style=\"fill:#000000; fill-opacity:1; font-family:Arial,Helvetica Neue,Helvetica,sans-serif; font-size:48px; text-anchor:end;\" transform=\"rotate(0, 124.013, 129.264)\" x=\"124.013\" y=\"129.264\">10</text>\n",
       "</g>\n",
       "<circle clip-path=\"url(#clip3302)\" style=\"fill:#000000; stroke:none; fill-opacity:1\" cx=\"209.52\" cy=\"88.4582\" r=\"18\"/>\n",
       "<circle clip-path=\"url(#clip3302)\" style=\"fill:#009af9; stroke:none; fill-opacity:1\" cx=\"209.52\" cy=\"88.4582\" r=\"14\"/>\n",
       "<circle clip-path=\"url(#clip3302)\" style=\"fill:#000000; stroke:none; fill-opacity:1\" cx=\"230.022\" cy=\"321.83\" r=\"18\"/>\n",
       "<circle clip-path=\"url(#clip3302)\" style=\"fill:#009af9; stroke:none; fill-opacity:1\" cx=\"230.022\" cy=\"321.83\" r=\"14\"/>\n",
       "<circle clip-path=\"url(#clip3302)\" style=\"fill:#000000; stroke:none; fill-opacity:1\" cx=\"250.525\" cy=\"477.433\" r=\"18\"/>\n",
       "<circle clip-path=\"url(#clip3302)\" style=\"fill:#009af9; stroke:none; fill-opacity:1\" cx=\"250.525\" cy=\"477.433\" r=\"14\"/>\n",
       "<circle clip-path=\"url(#clip3302)\" style=\"fill:#000000; stroke:none; fill-opacity:1\" cx=\"271.027\" cy=\"583.055\" r=\"18\"/>\n",
       "<circle clip-path=\"url(#clip3302)\" style=\"fill:#009af9; stroke:none; fill-opacity:1\" cx=\"271.027\" cy=\"583.055\" r=\"14\"/>\n",
       "<circle clip-path=\"url(#clip3302)\" style=\"fill:#000000; stroke:none; fill-opacity:1\" cx=\"291.529\" cy=\"685.566\" r=\"18\"/>\n",
       "<circle clip-path=\"url(#clip3302)\" style=\"fill:#009af9; stroke:none; fill-opacity:1\" cx=\"291.529\" cy=\"685.566\" r=\"14\"/>\n",
       "<circle clip-path=\"url(#clip3302)\" style=\"fill:#000000; stroke:none; fill-opacity:1\" cx=\"312.032\" cy=\"728.496\" r=\"18\"/>\n",
       "<circle clip-path=\"url(#clip3302)\" style=\"fill:#009af9; stroke:none; fill-opacity:1\" cx=\"312.032\" cy=\"728.496\" r=\"14\"/>\n",
       "<circle clip-path=\"url(#clip3302)\" style=\"fill:#000000; stroke:none; fill-opacity:1\" cx=\"332.534\" cy=\"805.494\" r=\"18\"/>\n",
       "<circle clip-path=\"url(#clip3302)\" style=\"fill:#009af9; stroke:none; fill-opacity:1\" cx=\"332.534\" cy=\"805.494\" r=\"14\"/>\n",
       "<circle clip-path=\"url(#clip3302)\" style=\"fill:#000000; stroke:none; fill-opacity:1\" cx=\"353.036\" cy=\"867.401\" r=\"18\"/>\n",
       "<circle clip-path=\"url(#clip3302)\" style=\"fill:#009af9; stroke:none; fill-opacity:1\" cx=\"353.036\" cy=\"867.401\" r=\"14\"/>\n",
       "<circle clip-path=\"url(#clip3302)\" style=\"fill:#000000; stroke:none; fill-opacity:1\" cx=\"373.538\" cy=\"921.157\" r=\"18\"/>\n",
       "<circle clip-path=\"url(#clip3302)\" style=\"fill:#009af9; stroke:none; fill-opacity:1\" cx=\"373.538\" cy=\"921.157\" r=\"14\"/>\n",
       "<circle clip-path=\"url(#clip3302)\" style=\"fill:#000000; stroke:none; fill-opacity:1\" cx=\"394.041\" cy=\"973.103\" r=\"18\"/>\n",
       "<circle clip-path=\"url(#clip3302)\" style=\"fill:#009af9; stroke:none; fill-opacity:1\" cx=\"394.041\" cy=\"973.103\" r=\"14\"/>\n",
       "<circle clip-path=\"url(#clip3302)\" style=\"fill:#000000; stroke:none; fill-opacity:1\" cx=\"414.543\" cy=\"994.331\" r=\"18\"/>\n",
       "<circle clip-path=\"url(#clip3302)\" style=\"fill:#009af9; stroke:none; fill-opacity:1\" cx=\"414.543\" cy=\"994.331\" r=\"14\"/>\n",
       "<circle clip-path=\"url(#clip3302)\" style=\"fill:#000000; stroke:none; fill-opacity:1\" cx=\"435.045\" cy=\"1026.1\" r=\"18\"/>\n",
       "<circle clip-path=\"url(#clip3302)\" style=\"fill:#009af9; stroke:none; fill-opacity:1\" cx=\"435.045\" cy=\"1026.1\" r=\"14\"/>\n",
       "<circle clip-path=\"url(#clip3302)\" style=\"fill:#000000; stroke:none; fill-opacity:1\" cx=\"455.548\" cy=\"1030.69\" r=\"18\"/>\n",
       "<circle clip-path=\"url(#clip3302)\" style=\"fill:#009af9; stroke:none; fill-opacity:1\" cx=\"455.548\" cy=\"1030.69\" r=\"14\"/>\n",
       "<circle clip-path=\"url(#clip3302)\" style=\"fill:#000000; stroke:none; fill-opacity:1\" cx=\"476.05\" cy=\"1082.44\" r=\"18\"/>\n",
       "<circle clip-path=\"url(#clip3302)\" style=\"fill:#009af9; stroke:none; fill-opacity:1\" cx=\"476.05\" cy=\"1082.44\" r=\"14\"/>\n",
       "<circle clip-path=\"url(#clip3302)\" style=\"fill:#000000; stroke:none; fill-opacity:1\" cx=\"496.552\" cy=\"1061.37\" r=\"18\"/>\n",
       "<circle clip-path=\"url(#clip3302)\" style=\"fill:#009af9; stroke:none; fill-opacity:1\" cx=\"496.552\" cy=\"1061.37\" r=\"14\"/>\n",
       "<circle clip-path=\"url(#clip3302)\" style=\"fill:#000000; stroke:none; fill-opacity:1\" cx=\"517.055\" cy=\"1131.23\" r=\"18\"/>\n",
       "<circle clip-path=\"url(#clip3302)\" style=\"fill:#009af9; stroke:none; fill-opacity:1\" cx=\"517.055\" cy=\"1131.23\" r=\"14\"/>\n",
       "<circle clip-path=\"url(#clip3302)\" style=\"fill:#000000; stroke:none; fill-opacity:1\" cx=\"537.557\" cy=\"1119.46\" r=\"18\"/>\n",
       "<circle clip-path=\"url(#clip3302)\" style=\"fill:#009af9; stroke:none; fill-opacity:1\" cx=\"537.557\" cy=\"1119.46\" r=\"14\"/>\n",
       "<circle clip-path=\"url(#clip3302)\" style=\"fill:#000000; stroke:none; fill-opacity:1\" cx=\"558.059\" cy=\"1155.09\" r=\"18\"/>\n",
       "<circle clip-path=\"url(#clip3302)\" style=\"fill:#009af9; stroke:none; fill-opacity:1\" cx=\"558.059\" cy=\"1155.09\" r=\"14\"/>\n",
       "<circle clip-path=\"url(#clip3302)\" style=\"fill:#000000; stroke:none; fill-opacity:1\" cx=\"578.562\" cy=\"1149.77\" r=\"18\"/>\n",
       "<circle clip-path=\"url(#clip3302)\" style=\"fill:#009af9; stroke:none; fill-opacity:1\" cx=\"578.562\" cy=\"1149.77\" r=\"14\"/>\n",
       "<circle clip-path=\"url(#clip3302)\" style=\"fill:#000000; stroke:none; fill-opacity:1\" cx=\"599.064\" cy=\"1189.8\" r=\"18\"/>\n",
       "<circle clip-path=\"url(#clip3302)\" style=\"fill:#009af9; stroke:none; fill-opacity:1\" cx=\"599.064\" cy=\"1189.8\" r=\"14\"/>\n",
       "<circle clip-path=\"url(#clip3302)\" style=\"fill:#000000; stroke:none; fill-opacity:1\" cx=\"619.566\" cy=\"1177.45\" r=\"18\"/>\n",
       "<circle clip-path=\"url(#clip3302)\" style=\"fill:#009af9; stroke:none; fill-opacity:1\" cx=\"619.566\" cy=\"1177.45\" r=\"14\"/>\n",
       "<circle clip-path=\"url(#clip3302)\" style=\"fill:#000000; stroke:none; fill-opacity:1\" cx=\"640.069\" cy=\"1218.85\" r=\"18\"/>\n",
       "<circle clip-path=\"url(#clip3302)\" style=\"fill:#009af9; stroke:none; fill-opacity:1\" cx=\"640.069\" cy=\"1218.85\" r=\"14\"/>\n",
       "<circle clip-path=\"url(#clip3302)\" style=\"fill:#000000; stroke:none; fill-opacity:1\" cx=\"660.571\" cy=\"1208.5\" r=\"18\"/>\n",
       "<circle clip-path=\"url(#clip3302)\" style=\"fill:#009af9; stroke:none; fill-opacity:1\" cx=\"660.571\" cy=\"1208.5\" r=\"14\"/>\n",
       "<circle clip-path=\"url(#clip3302)\" style=\"fill:#000000; stroke:none; fill-opacity:1\" cx=\"681.073\" cy=\"1227.24\" r=\"18\"/>\n",
       "<circle clip-path=\"url(#clip3302)\" style=\"fill:#009af9; stroke:none; fill-opacity:1\" cx=\"681.073\" cy=\"1227.24\" r=\"14\"/>\n",
       "<circle clip-path=\"url(#clip3302)\" style=\"fill:#000000; stroke:none; fill-opacity:1\" cx=\"701.576\" cy=\"1274.61\" r=\"18\"/>\n",
       "<circle clip-path=\"url(#clip3302)\" style=\"fill:#009af9; stroke:none; fill-opacity:1\" cx=\"701.576\" cy=\"1274.61\" r=\"14\"/>\n",
       "<circle clip-path=\"url(#clip3302)\" style=\"fill:#000000; stroke:none; fill-opacity:1\" cx=\"722.078\" cy=\"1217.46\" r=\"18\"/>\n",
       "<circle clip-path=\"url(#clip3302)\" style=\"fill:#009af9; stroke:none; fill-opacity:1\" cx=\"722.078\" cy=\"1217.46\" r=\"14\"/>\n",
       "<circle clip-path=\"url(#clip3302)\" style=\"fill:#000000; stroke:none; fill-opacity:1\" cx=\"742.58\" cy=\"1241.42\" r=\"18\"/>\n",
       "<circle clip-path=\"url(#clip3302)\" style=\"fill:#009af9; stroke:none; fill-opacity:1\" cx=\"742.58\" cy=\"1241.42\" r=\"14\"/>\n",
       "<circle clip-path=\"url(#clip3302)\" style=\"fill:#000000; stroke:none; fill-opacity:1\" cx=\"763.083\" cy=\"1238.45\" r=\"18\"/>\n",
       "<circle clip-path=\"url(#clip3302)\" style=\"fill:#009af9; stroke:none; fill-opacity:1\" cx=\"763.083\" cy=\"1238.45\" r=\"14\"/>\n",
       "<circle clip-path=\"url(#clip3302)\" style=\"fill:#000000; stroke:none; fill-opacity:1\" cx=\"783.585\" cy=\"1287.52\" r=\"18\"/>\n",
       "<circle clip-path=\"url(#clip3302)\" style=\"fill:#009af9; stroke:none; fill-opacity:1\" cx=\"783.585\" cy=\"1287.52\" r=\"14\"/>\n",
       "<circle clip-path=\"url(#clip3302)\" style=\"fill:#000000; stroke:none; fill-opacity:1\" cx=\"804.087\" cy=\"1284.91\" r=\"18\"/>\n",
       "<circle clip-path=\"url(#clip3302)\" style=\"fill:#009af9; stroke:none; fill-opacity:1\" cx=\"804.087\" cy=\"1284.91\" r=\"14\"/>\n",
       "<circle clip-path=\"url(#clip3302)\" style=\"fill:#000000; stroke:none; fill-opacity:1\" cx=\"824.59\" cy=\"1291.81\" r=\"18\"/>\n",
       "<circle clip-path=\"url(#clip3302)\" style=\"fill:#009af9; stroke:none; fill-opacity:1\" cx=\"824.59\" cy=\"1291.81\" r=\"14\"/>\n",
       "<circle clip-path=\"url(#clip3302)\" style=\"fill:#000000; stroke:none; fill-opacity:1\" cx=\"845.092\" cy=\"1280.24\" r=\"18\"/>\n",
       "<circle clip-path=\"url(#clip3302)\" style=\"fill:#009af9; stroke:none; fill-opacity:1\" cx=\"845.092\" cy=\"1280.24\" r=\"14\"/>\n",
       "<circle clip-path=\"url(#clip3302)\" style=\"fill:#000000; stroke:none; fill-opacity:1\" cx=\"865.594\" cy=\"1278.57\" r=\"18\"/>\n",
       "<circle clip-path=\"url(#clip3302)\" style=\"fill:#009af9; stroke:none; fill-opacity:1\" cx=\"865.594\" cy=\"1278.57\" r=\"14\"/>\n",
       "<circle clip-path=\"url(#clip3302)\" style=\"fill:#000000; stroke:none; fill-opacity:1\" cx=\"886.097\" cy=\"1291.8\" r=\"18\"/>\n",
       "<circle clip-path=\"url(#clip3302)\" style=\"fill:#009af9; stroke:none; fill-opacity:1\" cx=\"886.097\" cy=\"1291.8\" r=\"14\"/>\n",
       "<circle clip-path=\"url(#clip3302)\" style=\"fill:#000000; stroke:none; fill-opacity:1\" cx=\"906.599\" cy=\"1309.92\" r=\"18\"/>\n",
       "<circle clip-path=\"url(#clip3302)\" style=\"fill:#009af9; stroke:none; fill-opacity:1\" cx=\"906.599\" cy=\"1309.92\" r=\"14\"/>\n",
       "<circle clip-path=\"url(#clip3302)\" style=\"fill:#000000; stroke:none; fill-opacity:1\" cx=\"927.101\" cy=\"1339.42\" r=\"18\"/>\n",
       "<circle clip-path=\"url(#clip3302)\" style=\"fill:#009af9; stroke:none; fill-opacity:1\" cx=\"927.101\" cy=\"1339.42\" r=\"14\"/>\n",
       "<circle clip-path=\"url(#clip3302)\" style=\"fill:#000000; stroke:none; fill-opacity:1\" cx=\"947.604\" cy=\"1318.78\" r=\"18\"/>\n",
       "<circle clip-path=\"url(#clip3302)\" style=\"fill:#009af9; stroke:none; fill-opacity:1\" cx=\"947.604\" cy=\"1318.78\" r=\"14\"/>\n",
       "<circle clip-path=\"url(#clip3302)\" style=\"fill:#000000; stroke:none; fill-opacity:1\" cx=\"968.106\" cy=\"1301.76\" r=\"18\"/>\n",
       "<circle clip-path=\"url(#clip3302)\" style=\"fill:#009af9; stroke:none; fill-opacity:1\" cx=\"968.106\" cy=\"1301.76\" r=\"14\"/>\n",
       "<circle clip-path=\"url(#clip3302)\" style=\"fill:#000000; stroke:none; fill-opacity:1\" cx=\"988.608\" cy=\"1315.98\" r=\"18\"/>\n",
       "<circle clip-path=\"url(#clip3302)\" style=\"fill:#009af9; stroke:none; fill-opacity:1\" cx=\"988.608\" cy=\"1315.98\" r=\"14\"/>\n",
       "<circle clip-path=\"url(#clip3302)\" style=\"fill:#000000; stroke:none; fill-opacity:1\" cx=\"1009.11\" cy=\"1345.81\" r=\"18\"/>\n",
       "<circle clip-path=\"url(#clip3302)\" style=\"fill:#009af9; stroke:none; fill-opacity:1\" cx=\"1009.11\" cy=\"1345.81\" r=\"14\"/>\n",
       "<circle clip-path=\"url(#clip3302)\" style=\"fill:#000000; stroke:none; fill-opacity:1\" cx=\"1029.61\" cy=\"1347.52\" r=\"18\"/>\n",
       "<circle clip-path=\"url(#clip3302)\" style=\"fill:#009af9; stroke:none; fill-opacity:1\" cx=\"1029.61\" cy=\"1347.52\" r=\"14\"/>\n",
       "<circle clip-path=\"url(#clip3302)\" style=\"fill:#000000; stroke:none; fill-opacity:1\" cx=\"1050.12\" cy=\"1321.41\" r=\"18\"/>\n",
       "<circle clip-path=\"url(#clip3302)\" style=\"fill:#009af9; stroke:none; fill-opacity:1\" cx=\"1050.12\" cy=\"1321.41\" r=\"14\"/>\n",
       "<circle clip-path=\"url(#clip3302)\" style=\"fill:#000000; stroke:none; fill-opacity:1\" cx=\"1070.62\" cy=\"1327.96\" r=\"18\"/>\n",
       "<circle clip-path=\"url(#clip3302)\" style=\"fill:#009af9; stroke:none; fill-opacity:1\" cx=\"1070.62\" cy=\"1327.96\" r=\"14\"/>\n",
       "<circle clip-path=\"url(#clip3302)\" style=\"fill:#000000; stroke:none; fill-opacity:1\" cx=\"1091.12\" cy=\"1362.35\" r=\"18\"/>\n",
       "<circle clip-path=\"url(#clip3302)\" style=\"fill:#009af9; stroke:none; fill-opacity:1\" cx=\"1091.12\" cy=\"1362.35\" r=\"14\"/>\n",
       "<circle clip-path=\"url(#clip3302)\" style=\"fill:#000000; stroke:none; fill-opacity:1\" cx=\"1111.62\" cy=\"1360.25\" r=\"18\"/>\n",
       "<circle clip-path=\"url(#clip3302)\" style=\"fill:#009af9; stroke:none; fill-opacity:1\" cx=\"1111.62\" cy=\"1360.25\" r=\"14\"/>\n",
       "<circle clip-path=\"url(#clip3302)\" style=\"fill:#000000; stroke:none; fill-opacity:1\" cx=\"1132.12\" cy=\"1362\" r=\"18\"/>\n",
       "<circle clip-path=\"url(#clip3302)\" style=\"fill:#009af9; stroke:none; fill-opacity:1\" cx=\"1132.12\" cy=\"1362\" r=\"14\"/>\n",
       "<circle clip-path=\"url(#clip3302)\" style=\"fill:#000000; stroke:none; fill-opacity:1\" cx=\"1152.63\" cy=\"1362.04\" r=\"18\"/>\n",
       "<circle clip-path=\"url(#clip3302)\" style=\"fill:#009af9; stroke:none; fill-opacity:1\" cx=\"1152.63\" cy=\"1362.04\" r=\"14\"/>\n",
       "<circle clip-path=\"url(#clip3302)\" style=\"fill:#000000; stroke:none; fill-opacity:1\" cx=\"1173.13\" cy=\"1387.1\" r=\"18\"/>\n",
       "<circle clip-path=\"url(#clip3302)\" style=\"fill:#009af9; stroke:none; fill-opacity:1\" cx=\"1173.13\" cy=\"1387.1\" r=\"14\"/>\n",
       "<circle clip-path=\"url(#clip3302)\" style=\"fill:#000000; stroke:none; fill-opacity:1\" cx=\"1193.63\" cy=\"1397.63\" r=\"18\"/>\n",
       "<circle clip-path=\"url(#clip3302)\" style=\"fill:#009af9; stroke:none; fill-opacity:1\" cx=\"1193.63\" cy=\"1397.63\" r=\"14\"/>\n",
       "<circle clip-path=\"url(#clip3302)\" style=\"fill:#000000; stroke:none; fill-opacity:1\" cx=\"1214.13\" cy=\"1363.08\" r=\"18\"/>\n",
       "<circle clip-path=\"url(#clip3302)\" style=\"fill:#009af9; stroke:none; fill-opacity:1\" cx=\"1214.13\" cy=\"1363.08\" r=\"14\"/>\n",
       "<circle clip-path=\"url(#clip3302)\" style=\"fill:#000000; stroke:none; fill-opacity:1\" cx=\"1234.64\" cy=\"1366.06\" r=\"18\"/>\n",
       "<circle clip-path=\"url(#clip3302)\" style=\"fill:#009af9; stroke:none; fill-opacity:1\" cx=\"1234.64\" cy=\"1366.06\" r=\"14\"/>\n",
       "<circle clip-path=\"url(#clip3302)\" style=\"fill:#000000; stroke:none; fill-opacity:1\" cx=\"1255.14\" cy=\"1370.42\" r=\"18\"/>\n",
       "<circle clip-path=\"url(#clip3302)\" style=\"fill:#009af9; stroke:none; fill-opacity:1\" cx=\"1255.14\" cy=\"1370.42\" r=\"14\"/>\n",
       "<circle clip-path=\"url(#clip3302)\" style=\"fill:#000000; stroke:none; fill-opacity:1\" cx=\"1275.64\" cy=\"1382.03\" r=\"18\"/>\n",
       "<circle clip-path=\"url(#clip3302)\" style=\"fill:#009af9; stroke:none; fill-opacity:1\" cx=\"1275.64\" cy=\"1382.03\" r=\"14\"/>\n",
       "<circle clip-path=\"url(#clip3302)\" style=\"fill:#000000; stroke:none; fill-opacity:1\" cx=\"1296.14\" cy=\"1366.32\" r=\"18\"/>\n",
       "<circle clip-path=\"url(#clip3302)\" style=\"fill:#009af9; stroke:none; fill-opacity:1\" cx=\"1296.14\" cy=\"1366.32\" r=\"14\"/>\n",
       "<circle clip-path=\"url(#clip3302)\" style=\"fill:#000000; stroke:none; fill-opacity:1\" cx=\"1316.65\" cy=\"1377.47\" r=\"18\"/>\n",
       "<circle clip-path=\"url(#clip3302)\" style=\"fill:#009af9; stroke:none; fill-opacity:1\" cx=\"1316.65\" cy=\"1377.47\" r=\"14\"/>\n",
       "<circle clip-path=\"url(#clip3302)\" style=\"fill:#000000; stroke:none; fill-opacity:1\" cx=\"1337.15\" cy=\"1393.52\" r=\"18\"/>\n",
       "<circle clip-path=\"url(#clip3302)\" style=\"fill:#009af9; stroke:none; fill-opacity:1\" cx=\"1337.15\" cy=\"1393.52\" r=\"14\"/>\n",
       "<circle clip-path=\"url(#clip3302)\" style=\"fill:#000000; stroke:none; fill-opacity:1\" cx=\"1357.65\" cy=\"1391.84\" r=\"18\"/>\n",
       "<circle clip-path=\"url(#clip3302)\" style=\"fill:#009af9; stroke:none; fill-opacity:1\" cx=\"1357.65\" cy=\"1391.84\" r=\"14\"/>\n",
       "<circle clip-path=\"url(#clip3302)\" style=\"fill:#000000; stroke:none; fill-opacity:1\" cx=\"1378.15\" cy=\"1353.85\" r=\"18\"/>\n",
       "<circle clip-path=\"url(#clip3302)\" style=\"fill:#009af9; stroke:none; fill-opacity:1\" cx=\"1378.15\" cy=\"1353.85\" r=\"14\"/>\n",
       "<circle clip-path=\"url(#clip3302)\" style=\"fill:#000000; stroke:none; fill-opacity:1\" cx=\"1398.65\" cy=\"1389.61\" r=\"18\"/>\n",
       "<circle clip-path=\"url(#clip3302)\" style=\"fill:#009af9; stroke:none; fill-opacity:1\" cx=\"1398.65\" cy=\"1389.61\" r=\"14\"/>\n",
       "<circle clip-path=\"url(#clip3302)\" style=\"fill:#000000; stroke:none; fill-opacity:1\" cx=\"1419.16\" cy=\"1396.49\" r=\"18\"/>\n",
       "<circle clip-path=\"url(#clip3302)\" style=\"fill:#009af9; stroke:none; fill-opacity:1\" cx=\"1419.16\" cy=\"1396.49\" r=\"14\"/>\n",
       "<circle clip-path=\"url(#clip3302)\" style=\"fill:#000000; stroke:none; fill-opacity:1\" cx=\"1439.66\" cy=\"1417.17\" r=\"18\"/>\n",
       "<circle clip-path=\"url(#clip3302)\" style=\"fill:#009af9; stroke:none; fill-opacity:1\" cx=\"1439.66\" cy=\"1417.17\" r=\"14\"/>\n",
       "<circle clip-path=\"url(#clip3302)\" style=\"fill:#000000; stroke:none; fill-opacity:1\" cx=\"1460.16\" cy=\"1401.28\" r=\"18\"/>\n",
       "<circle clip-path=\"url(#clip3302)\" style=\"fill:#009af9; stroke:none; fill-opacity:1\" cx=\"1460.16\" cy=\"1401.28\" r=\"14\"/>\n",
       "<circle clip-path=\"url(#clip3302)\" style=\"fill:#000000; stroke:none; fill-opacity:1\" cx=\"1480.66\" cy=\"1400.12\" r=\"18\"/>\n",
       "<circle clip-path=\"url(#clip3302)\" style=\"fill:#009af9; stroke:none; fill-opacity:1\" cx=\"1480.66\" cy=\"1400.12\" r=\"14\"/>\n",
       "<circle clip-path=\"url(#clip3302)\" style=\"fill:#000000; stroke:none; fill-opacity:1\" cx=\"1501.17\" cy=\"1371.99\" r=\"18\"/>\n",
       "<circle clip-path=\"url(#clip3302)\" style=\"fill:#009af9; stroke:none; fill-opacity:1\" cx=\"1501.17\" cy=\"1371.99\" r=\"14\"/>\n",
       "<circle clip-path=\"url(#clip3302)\" style=\"fill:#000000; stroke:none; fill-opacity:1\" cx=\"1521.67\" cy=\"1387.1\" r=\"18\"/>\n",
       "<circle clip-path=\"url(#clip3302)\" style=\"fill:#009af9; stroke:none; fill-opacity:1\" cx=\"1521.67\" cy=\"1387.1\" r=\"14\"/>\n",
       "<circle clip-path=\"url(#clip3302)\" style=\"fill:#000000; stroke:none; fill-opacity:1\" cx=\"1542.17\" cy=\"1413.48\" r=\"18\"/>\n",
       "<circle clip-path=\"url(#clip3302)\" style=\"fill:#009af9; stroke:none; fill-opacity:1\" cx=\"1542.17\" cy=\"1413.48\" r=\"14\"/>\n",
       "<circle clip-path=\"url(#clip3302)\" style=\"fill:#000000; stroke:none; fill-opacity:1\" cx=\"1562.67\" cy=\"1414.94\" r=\"18\"/>\n",
       "<circle clip-path=\"url(#clip3302)\" style=\"fill:#009af9; stroke:none; fill-opacity:1\" cx=\"1562.67\" cy=\"1414.94\" r=\"14\"/>\n",
       "<circle clip-path=\"url(#clip3302)\" style=\"fill:#000000; stroke:none; fill-opacity:1\" cx=\"1583.18\" cy=\"1410.53\" r=\"18\"/>\n",
       "<circle clip-path=\"url(#clip3302)\" style=\"fill:#009af9; stroke:none; fill-opacity:1\" cx=\"1583.18\" cy=\"1410.53\" r=\"14\"/>\n",
       "<circle clip-path=\"url(#clip3302)\" style=\"fill:#000000; stroke:none; fill-opacity:1\" cx=\"1603.68\" cy=\"1397.83\" r=\"18\"/>\n",
       "<circle clip-path=\"url(#clip3302)\" style=\"fill:#009af9; stroke:none; fill-opacity:1\" cx=\"1603.68\" cy=\"1397.83\" r=\"14\"/>\n",
       "<circle clip-path=\"url(#clip3302)\" style=\"fill:#000000; stroke:none; fill-opacity:1\" cx=\"1624.18\" cy=\"1416.27\" r=\"18\"/>\n",
       "<circle clip-path=\"url(#clip3302)\" style=\"fill:#009af9; stroke:none; fill-opacity:1\" cx=\"1624.18\" cy=\"1416.27\" r=\"14\"/>\n",
       "<circle clip-path=\"url(#clip3302)\" style=\"fill:#000000; stroke:none; fill-opacity:1\" cx=\"1644.68\" cy=\"1402.66\" r=\"18\"/>\n",
       "<circle clip-path=\"url(#clip3302)\" style=\"fill:#009af9; stroke:none; fill-opacity:1\" cx=\"1644.68\" cy=\"1402.66\" r=\"14\"/>\n",
       "<circle clip-path=\"url(#clip3302)\" style=\"fill:#000000; stroke:none; fill-opacity:1\" cx=\"1665.19\" cy=\"1406.88\" r=\"18\"/>\n",
       "<circle clip-path=\"url(#clip3302)\" style=\"fill:#009af9; stroke:none; fill-opacity:1\" cx=\"1665.19\" cy=\"1406.88\" r=\"14\"/>\n",
       "<circle clip-path=\"url(#clip3302)\" style=\"fill:#000000; stroke:none; fill-opacity:1\" cx=\"1685.69\" cy=\"1377.84\" r=\"18\"/>\n",
       "<circle clip-path=\"url(#clip3302)\" style=\"fill:#009af9; stroke:none; fill-opacity:1\" cx=\"1685.69\" cy=\"1377.84\" r=\"14\"/>\n",
       "<circle clip-path=\"url(#clip3302)\" style=\"fill:#000000; stroke:none; fill-opacity:1\" cx=\"1706.19\" cy=\"1449.33\" r=\"18\"/>\n",
       "<circle clip-path=\"url(#clip3302)\" style=\"fill:#009af9; stroke:none; fill-opacity:1\" cx=\"1706.19\" cy=\"1449.33\" r=\"14\"/>\n",
       "<circle clip-path=\"url(#clip3302)\" style=\"fill:#000000; stroke:none; fill-opacity:1\" cx=\"1726.69\" cy=\"1433.43\" r=\"18\"/>\n",
       "<circle clip-path=\"url(#clip3302)\" style=\"fill:#009af9; stroke:none; fill-opacity:1\" cx=\"1726.69\" cy=\"1433.43\" r=\"14\"/>\n",
       "<circle clip-path=\"url(#clip3302)\" style=\"fill:#000000; stroke:none; fill-opacity:1\" cx=\"1747.19\" cy=\"1386.39\" r=\"18\"/>\n",
       "<circle clip-path=\"url(#clip3302)\" style=\"fill:#009af9; stroke:none; fill-opacity:1\" cx=\"1747.19\" cy=\"1386.39\" r=\"14\"/>\n",
       "<circle clip-path=\"url(#clip3302)\" style=\"fill:#000000; stroke:none; fill-opacity:1\" cx=\"1767.7\" cy=\"1408.49\" r=\"18\"/>\n",
       "<circle clip-path=\"url(#clip3302)\" style=\"fill:#009af9; stroke:none; fill-opacity:1\" cx=\"1767.7\" cy=\"1408.49\" r=\"14\"/>\n",
       "<circle clip-path=\"url(#clip3302)\" style=\"fill:#000000; stroke:none; fill-opacity:1\" cx=\"1788.2\" cy=\"1429.92\" r=\"18\"/>\n",
       "<circle clip-path=\"url(#clip3302)\" style=\"fill:#009af9; stroke:none; fill-opacity:1\" cx=\"1788.2\" cy=\"1429.92\" r=\"14\"/>\n",
       "<circle clip-path=\"url(#clip3302)\" style=\"fill:#000000; stroke:none; fill-opacity:1\" cx=\"1808.7\" cy=\"1392.33\" r=\"18\"/>\n",
       "<circle clip-path=\"url(#clip3302)\" style=\"fill:#009af9; stroke:none; fill-opacity:1\" cx=\"1808.7\" cy=\"1392.33\" r=\"14\"/>\n",
       "<circle clip-path=\"url(#clip3302)\" style=\"fill:#000000; stroke:none; fill-opacity:1\" cx=\"1829.2\" cy=\"1423.61\" r=\"18\"/>\n",
       "<circle clip-path=\"url(#clip3302)\" style=\"fill:#009af9; stroke:none; fill-opacity:1\" cx=\"1829.2\" cy=\"1423.61\" r=\"14\"/>\n",
       "<circle clip-path=\"url(#clip3302)\" style=\"fill:#000000; stroke:none; fill-opacity:1\" cx=\"1849.71\" cy=\"1439.57\" r=\"18\"/>\n",
       "<circle clip-path=\"url(#clip3302)\" style=\"fill:#009af9; stroke:none; fill-opacity:1\" cx=\"1849.71\" cy=\"1439.57\" r=\"14\"/>\n",
       "<circle clip-path=\"url(#clip3302)\" style=\"fill:#000000; stroke:none; fill-opacity:1\" cx=\"1870.21\" cy=\"1412.03\" r=\"18\"/>\n",
       "<circle clip-path=\"url(#clip3302)\" style=\"fill:#009af9; stroke:none; fill-opacity:1\" cx=\"1870.21\" cy=\"1412.03\" r=\"14\"/>\n",
       "<circle clip-path=\"url(#clip3302)\" style=\"fill:#000000; stroke:none; fill-opacity:1\" cx=\"1890.71\" cy=\"1401.3\" r=\"18\"/>\n",
       "<circle clip-path=\"url(#clip3302)\" style=\"fill:#009af9; stroke:none; fill-opacity:1\" cx=\"1890.71\" cy=\"1401.3\" r=\"14\"/>\n",
       "<circle clip-path=\"url(#clip3302)\" style=\"fill:#000000; stroke:none; fill-opacity:1\" cx=\"1911.21\" cy=\"1405.09\" r=\"18\"/>\n",
       "<circle clip-path=\"url(#clip3302)\" style=\"fill:#009af9; stroke:none; fill-opacity:1\" cx=\"1911.21\" cy=\"1405.09\" r=\"14\"/>\n",
       "<circle clip-path=\"url(#clip3302)\" style=\"fill:#000000; stroke:none; fill-opacity:1\" cx=\"1931.72\" cy=\"1442.4\" r=\"18\"/>\n",
       "<circle clip-path=\"url(#clip3302)\" style=\"fill:#009af9; stroke:none; fill-opacity:1\" cx=\"1931.72\" cy=\"1442.4\" r=\"14\"/>\n",
       "<circle clip-path=\"url(#clip3302)\" style=\"fill:#000000; stroke:none; fill-opacity:1\" cx=\"1952.22\" cy=\"1423.45\" r=\"18\"/>\n",
       "<circle clip-path=\"url(#clip3302)\" style=\"fill:#009af9; stroke:none; fill-opacity:1\" cx=\"1952.22\" cy=\"1423.45\" r=\"14\"/>\n",
       "<circle clip-path=\"url(#clip3302)\" style=\"fill:#000000; stroke:none; fill-opacity:1\" cx=\"1972.72\" cy=\"1432.4\" r=\"18\"/>\n",
       "<circle clip-path=\"url(#clip3302)\" style=\"fill:#009af9; stroke:none; fill-opacity:1\" cx=\"1972.72\" cy=\"1432.4\" r=\"14\"/>\n",
       "<circle clip-path=\"url(#clip3302)\" style=\"fill:#000000; stroke:none; fill-opacity:1\" cx=\"1993.22\" cy=\"1421.22\" r=\"18\"/>\n",
       "<circle clip-path=\"url(#clip3302)\" style=\"fill:#009af9; stroke:none; fill-opacity:1\" cx=\"1993.22\" cy=\"1421.22\" r=\"14\"/>\n",
       "<circle clip-path=\"url(#clip3302)\" style=\"fill:#000000; stroke:none; fill-opacity:1\" cx=\"2013.72\" cy=\"1438.49\" r=\"18\"/>\n",
       "<circle clip-path=\"url(#clip3302)\" style=\"fill:#009af9; stroke:none; fill-opacity:1\" cx=\"2013.72\" cy=\"1438.49\" r=\"14\"/>\n",
       "<circle clip-path=\"url(#clip3302)\" style=\"fill:#000000; stroke:none; fill-opacity:1\" cx=\"2034.23\" cy=\"1433.73\" r=\"18\"/>\n",
       "<circle clip-path=\"url(#clip3302)\" style=\"fill:#009af9; stroke:none; fill-opacity:1\" cx=\"2034.23\" cy=\"1433.73\" r=\"14\"/>\n",
       "<circle clip-path=\"url(#clip3302)\" style=\"fill:#000000; stroke:none; fill-opacity:1\" cx=\"2054.73\" cy=\"1430.67\" r=\"18\"/>\n",
       "<circle clip-path=\"url(#clip3302)\" style=\"fill:#009af9; stroke:none; fill-opacity:1\" cx=\"2054.73\" cy=\"1430.67\" r=\"14\"/>\n",
       "<circle clip-path=\"url(#clip3302)\" style=\"fill:#000000; stroke:none; fill-opacity:1\" cx=\"2075.23\" cy=\"1419.97\" r=\"18\"/>\n",
       "<circle clip-path=\"url(#clip3302)\" style=\"fill:#009af9; stroke:none; fill-opacity:1\" cx=\"2075.23\" cy=\"1419.97\" r=\"14\"/>\n",
       "<circle clip-path=\"url(#clip3302)\" style=\"fill:#000000; stroke:none; fill-opacity:1\" cx=\"2095.73\" cy=\"1454.64\" r=\"18\"/>\n",
       "<circle clip-path=\"url(#clip3302)\" style=\"fill:#009af9; stroke:none; fill-opacity:1\" cx=\"2095.73\" cy=\"1454.64\" r=\"14\"/>\n",
       "<circle clip-path=\"url(#clip3302)\" style=\"fill:#000000; stroke:none; fill-opacity:1\" cx=\"2116.24\" cy=\"1440.56\" r=\"18\"/>\n",
       "<circle clip-path=\"url(#clip3302)\" style=\"fill:#009af9; stroke:none; fill-opacity:1\" cx=\"2116.24\" cy=\"1440.56\" r=\"14\"/>\n",
       "<circle clip-path=\"url(#clip3302)\" style=\"fill:#000000; stroke:none; fill-opacity:1\" cx=\"2136.74\" cy=\"1438.33\" r=\"18\"/>\n",
       "<circle clip-path=\"url(#clip3302)\" style=\"fill:#009af9; stroke:none; fill-opacity:1\" cx=\"2136.74\" cy=\"1438.33\" r=\"14\"/>\n",
       "<circle clip-path=\"url(#clip3302)\" style=\"fill:#000000; stroke:none; fill-opacity:1\" cx=\"2157.24\" cy=\"1432.78\" r=\"18\"/>\n",
       "<circle clip-path=\"url(#clip3302)\" style=\"fill:#009af9; stroke:none; fill-opacity:1\" cx=\"2157.24\" cy=\"1432.78\" r=\"14\"/>\n",
       "<circle clip-path=\"url(#clip3302)\" style=\"fill:#000000; stroke:none; fill-opacity:1\" cx=\"2177.74\" cy=\"1405.2\" r=\"18\"/>\n",
       "<circle clip-path=\"url(#clip3302)\" style=\"fill:#009af9; stroke:none; fill-opacity:1\" cx=\"2177.74\" cy=\"1405.2\" r=\"14\"/>\n",
       "<circle clip-path=\"url(#clip3302)\" style=\"fill:#000000; stroke:none; fill-opacity:1\" cx=\"2198.25\" cy=\"1427.29\" r=\"18\"/>\n",
       "<circle clip-path=\"url(#clip3302)\" style=\"fill:#009af9; stroke:none; fill-opacity:1\" cx=\"2198.25\" cy=\"1427.29\" r=\"14\"/>\n",
       "<circle clip-path=\"url(#clip3302)\" style=\"fill:#000000; stroke:none; fill-opacity:1\" cx=\"2218.75\" cy=\"1423.96\" r=\"18\"/>\n",
       "<circle clip-path=\"url(#clip3302)\" style=\"fill:#009af9; stroke:none; fill-opacity:1\" cx=\"2218.75\" cy=\"1423.96\" r=\"14\"/>\n",
       "<circle clip-path=\"url(#clip3302)\" style=\"fill:#000000; stroke:none; fill-opacity:1\" cx=\"2239.25\" cy=\"1462.26\" r=\"18\"/>\n",
       "<circle clip-path=\"url(#clip3302)\" style=\"fill:#009af9; stroke:none; fill-opacity:1\" cx=\"2239.25\" cy=\"1462.26\" r=\"14\"/>\n",
       "<circle clip-path=\"url(#clip3302)\" style=\"fill:#000000; stroke:none; fill-opacity:1\" cx=\"2259.75\" cy=\"1426.88\" r=\"18\"/>\n",
       "<circle clip-path=\"url(#clip3302)\" style=\"fill:#009af9; stroke:none; fill-opacity:1\" cx=\"2259.75\" cy=\"1426.88\" r=\"14\"/>\n",
       "<polygon clip-path=\"url(#clip3300)\" points=\"\n",
       "1958.43,251.724 2249.26,251.724 2249.26,130.764 1958.43,130.764 \n",
       "  \" fill=\"#ffffff\" fill-rule=\"evenodd\" fill-opacity=\"1\"/>\n",
       "<polyline clip-path=\"url(#clip3300)\" style=\"stroke:#000000; stroke-width:4; stroke-opacity:1; fill:none\" points=\"\n",
       "  1958.43,251.724 2249.26,251.724 2249.26,130.764 1958.43,130.764 1958.43,251.724 \n",
       "  \"/>\n",
       "<circle clip-path=\"url(#clip3300)\" style=\"fill:#000000; stroke:none; fill-opacity:1\" cx=\"2066.43\" cy=\"191.244\" r=\"25\"/>\n",
       "<circle clip-path=\"url(#clip3300)\" style=\"fill:#009af9; stroke:none; fill-opacity:1\" cx=\"2066.43\" cy=\"191.244\" r=\"21\"/>\n",
       "<g clip-path=\"url(#clip3300)\">\n",
       "<text style=\"fill:#000000; fill-opacity:1; font-family:Arial,Helvetica Neue,Helvetica,sans-serif; font-size:48px; text-anchor:start;\" transform=\"rotate(0, 2150.43, 208.744)\" x=\"2150.43\" y=\"208.744\">y1</text>\n",
       "</g>\n",
       "</svg>\n"
      ]
     },
     "execution_count": 46,
     "metadata": {},
     "output_type": "execute_result"
    }
   ],
   "source": [
    "# for the last question\n",
    "# you only see the measurements\n",
    "measurements = eulersolve(fautocat, 10.0, (0.0, 10.0), (2.6, 0.07, 0.15))\n",
    "measurements .+= 0.1 * randn(length(measurements))\n",
    "\n",
    "scatter(tsteps, measurements)"
   ]
  },
  {
   "cell_type": "code",
   "execution_count": 47,
   "metadata": {
    "slideshow": {
     "slide_type": "subslide"
    }
   },
   "outputs": [
    {
     "data": {
      "text/plain": [
       "squared_error (generic function with 1 method)"
      ]
     },
     "execution_count": 47,
     "metadata": {},
     "output_type": "execute_result"
    }
   ],
   "source": [
    "# function that works with autograd\n",
    "function squared_error(θ; measurements=measurements, x0=10.0, α=0.1)\n",
    "    sq_error = 0.0\n",
    "    x = x0\n",
    "    for yi in measurements\n",
    "        sq_error += (yi - x)^2\n",
    "        x += α * fautocat(x, 0.0, θ)\n",
    "        \n",
    "    end\n",
    "    return sq_error\n",
    "end"
   ]
  },
  {
   "cell_type": "code",
   "execution_count": null,
   "metadata": {
    "slideshow": {
     "slide_type": "skip"
    }
   },
   "outputs": [],
   "source": []
  },
  {
   "cell_type": "code",
   "execution_count": null,
   "metadata": {
    "slideshow": {
     "slide_type": "skip"
    }
   },
   "outputs": [],
   "source": []
  },
  {
   "cell_type": "code",
   "execution_count": null,
   "metadata": {
    "slideshow": {
     "slide_type": "skip"
    }
   },
   "outputs": [],
   "source": []
  },
  {
   "cell_type": "markdown",
   "metadata": {
    "slideshow": {
     "slide_type": "slide"
    }
   },
   "source": [
    "## References\n",
    "\n",
    "- Gunes et. al. (2015) *Automatic differentiation in machine learning: a survey*"
   ]
  },
  {
   "cell_type": "code",
   "execution_count": null,
   "metadata": {},
   "outputs": [],
   "source": []
  }
 ],
 "metadata": {
  "@webio": {
   "lastCommId": null,
   "lastKernelId": null
  },
  "kernelspec": {
   "display_name": "Julia 1.1.0",
   "language": "julia",
   "name": "julia-1.1"
  },
  "language_info": {
   "file_extension": ".jl",
   "mimetype": "application/julia",
   "name": "julia",
   "version": "1.1.0"
  }
 },
 "nbformat": 4,
 "nbformat_minor": 2
}
