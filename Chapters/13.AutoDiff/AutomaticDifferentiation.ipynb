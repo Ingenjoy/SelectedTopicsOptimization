{
 "cells": [
  {
   "cell_type": "markdown",
   "metadata": {
    "slideshow": {
     "slide_type": "slide"
    }
   },
   "source": [
    "# Automatic differentiation\n",
    "\n",
    "*Selected Topics in Mathematical Optimization*\n",
    "\n",
    "**Michiel Stock** ([email](michiel.stock@ugent.be))\n",
    "\n",
    "![](Figures/logo.png)"
   ]
  },
  {
   "cell_type": "code",
   "execution_count": 10,
   "metadata": {
    "slideshow": {
     "slide_type": "skip"
    }
   },
   "outputs": [],
   "source": [
    "using Plots, BenchmarkTools"
   ]
  },
  {
   "cell_type": "code",
   "execution_count": 3,
   "metadata": {
    "slideshow": {
     "slide_type": "slide"
    }
   },
   "outputs": [
    {
     "data": {
      "text/plain": [
       "f (generic function with 1 method)"
      ]
     },
     "execution_count": 3,
     "metadata": {},
     "output_type": "execute_result"
    }
   ],
   "source": [
    "f(x) = log(x) + sin(x) / x"
   ]
  },
  {
   "cell_type": "markdown",
   "metadata": {
    "slideshow": {
     "slide_type": "slide"
    }
   },
   "source": [
    "## Symbolic differentiation\n",
    "\n",
    "Computing derivatives as you have seen in basic calculus courses. \n",
    "\n",
    "By hand or automatically:\n",
    "- Maple\n",
    "- Sympy (python)\n",
    "- Mathematica\n",
    "- Maxima"
   ]
  },
  {
   "cell_type": "markdown",
   "metadata": {
    "slideshow": {
     "slide_type": "fragment"
    }
   },
   "source": [
    "Differentiation is *easy* compared to *integration* or *sampling*."
   ]
  },
  {
   "cell_type": "markdown",
   "metadata": {
    "slideshow": {
     "slide_type": "subslide"
    }
   },
   "source": [
    "Advantages:\n",
    "- exact derivatives!\n",
    "- gives the formula\n",
    "- no hyperparameters or tweaking: just works!"
   ]
  },
  {
   "cell_type": "markdown",
   "metadata": {
    "slideshow": {
     "slide_type": "fragment"
    }
   },
   "source": [
    "Disadvantages:\n",
    "- some software not flexible enough (gradients, arrays, for-loops...)\n",
    "- sometimes explosion of terms: *expression swell*\n",
    "- not always numerically optimal!"
   ]
  },
  {
   "cell_type": "code",
   "execution_count": 4,
   "metadata": {
    "slideshow": {
     "slide_type": "subslide"
    }
   },
   "outputs": [],
   "source": [
    "using SymEngine"
   ]
  },
  {
   "cell_type": "code",
   "execution_count": 5,
   "metadata": {
    "slideshow": {
     "slide_type": "fragment"
    }
   },
   "outputs": [
    {
     "data": {
      "text/plain": [
       "(x,)"
      ]
     },
     "execution_count": 5,
     "metadata": {},
     "output_type": "execute_result"
    }
   ],
   "source": [
    "@vars x  # define variable"
   ]
  },
  {
   "cell_type": "code",
   "execution_count": 6,
   "metadata": {
    "slideshow": {
     "slide_type": "fragment"
    }
   },
   "outputs": [
    {
     "data": {
      "text/plain": [
       "-sin(x)/x^2 + cos(x)/x + x^(-1)"
      ]
     },
     "execution_count": 6,
     "metadata": {},
     "output_type": "execute_result"
    }
   ],
   "source": [
    "df = diff(f(x), x)"
   ]
  },
  {
   "cell_type": "code",
   "execution_count": 7,
   "metadata": {
    "slideshow": {
     "slide_type": "fragment"
    }
   },
   "outputs": [
    {
     "data": {
      "text/plain": [
       "0.0646022250200084"
      ]
     },
     "execution_count": 7,
     "metadata": {},
     "output_type": "execute_result"
    }
   ],
   "source": [
    "df(2.0)"
   ]
  },
  {
   "cell_type": "markdown",
   "metadata": {
    "slideshow": {
     "slide_type": "slide"
    }
   },
   "source": [
    "## Numerical differentiation\n",
    "\n",
    "Finite difference approximation of the derivative/gradient based on a number of function evaluations."
   ]
  },
  {
   "cell_type": "markdown",
   "metadata": {
    "slideshow": {
     "slide_type": "fragment"
    }
   },
   "source": [
    "Often based on the limit definition of a derivative. Theoretical analysis using Taylor approximation:\n",
    "\n",
    "$$\n",
    "f(x + h) = f(x) + \\frac{h}{1!} + \\frac{h^2}{2!}f''(x) + \\frac{h^3}{3!}f^{(3)}(x)+\\ldots\n",
    "$$"
   ]
  },
  {
   "cell_type": "markdown",
   "metadata": {
    "slideshow": {
     "slide_type": "subslide"
    }
   },
   "source": [
    "**Divided difference**\n",
    "\n",
    "$$\n",
    "f'(x)\\approx \\frac{f(x+h) - f(x)}{h}\n",
    "$$\n"
   ]
  },
  {
   "cell_type": "markdown",
   "metadata": {
    "slideshow": {
     "slide_type": "fragment"
    }
   },
   "source": [
    "**Center difference**\n",
    "\n",
    "$$\n",
    "f'(x)\\approx \\frac{f(x+h) - f(x-h)}{2h}\n",
    "$$\n"
   ]
  },
  {
   "cell_type": "markdown",
   "metadata": {
    "slideshow": {
     "slide_type": "fragment"
    }
   },
   "source": [
    "**Complex step method**\n",
    "\n",
    "$$\n",
    "f'(x)\\approx \\frac{Im (f(x +ih))}{h}\n",
    "$$"
   ]
  },
  {
   "cell_type": "markdown",
   "metadata": {
    "slideshow": {
     "slide_type": "subslide"
    }
   },
   "source": [
    "Some simple implementations:"
   ]
  },
  {
   "cell_type": "code",
   "execution_count": 8,
   "metadata": {
    "slideshow": {
     "slide_type": "fragment"
    }
   },
   "outputs": [
    {
     "data": {
      "text/plain": [
       "diff_complstep (generic function with 1 method)"
      ]
     },
     "execution_count": 8,
     "metadata": {},
     "output_type": "execute_result"
    }
   ],
   "source": [
    "diff_divdiff(f, x; h=1e-10) = (f(x + h) - f(x)) / h\n",
    "diff_centdiff(f, x; h=1e-10) = (f(x + h) - f(x - h)) / (2h)\n",
    "diff_complstep(f, x; h=1e-10) = imag(f(x + im * h)) / h"
   ]
  },
  {
   "cell_type": "code",
   "execution_count": 11,
   "metadata": {
    "slideshow": {
     "slide_type": "fragment"
    }
   },
   "outputs": [
    {
     "name": "stdout",
     "output_type": "stream",
     "text": [
      "  5.945 ns (0 allocations: 0 bytes)\n"
     ]
    },
    {
     "data": {
      "text/plain": [
       "0.06460165735688861"
      ]
     },
     "execution_count": 11,
     "metadata": {},
     "output_type": "execute_result"
    }
   ],
   "source": [
    "@btime diff_divdiff($f, 2.0)"
   ]
  },
  {
   "cell_type": "code",
   "execution_count": 12,
   "metadata": {
    "slideshow": {
     "slide_type": "fragment"
    }
   },
   "outputs": [
    {
     "name": "stdout",
     "output_type": "stream",
     "text": [
      "  6.001 ns (0 allocations: 0 bytes)\n"
     ]
    },
    {
     "data": {
      "text/plain": [
       "0.06460165735688861"
      ]
     },
     "execution_count": 12,
     "metadata": {},
     "output_type": "execute_result"
    }
   ],
   "source": [
    "@btime diff_centdiff($f, 2.0)"
   ]
  },
  {
   "cell_type": "code",
   "execution_count": 13,
   "metadata": {
    "slideshow": {
     "slide_type": "fragment"
    }
   },
   "outputs": [
    {
     "name": "stdout",
     "output_type": "stream",
     "text": [
      "  71.994 ns (0 allocations: 0 bytes)\n"
     ]
    },
    {
     "data": {
      "text/plain": [
       "0.06460222502000833"
      ]
     },
     "execution_count": 13,
     "metadata": {},
     "output_type": "execute_result"
    }
   ],
   "source": [
    "@btime diff_complstep($f, 2.0)"
   ]
  },
  {
   "cell_type": "code",
   "execution_count": 16,
   "metadata": {
    "slideshow": {
     "slide_type": "skip"
    }
   },
   "outputs": [],
   "source": [
    "error(diff, h; x=2.0) = max(abs(Float64(df(x)) - diff(f, x, h=h)), 1e-30);\n",
    "stepsizes = map(t->10.0^t, -20:0.5:-1);"
   ]
  },
  {
   "cell_type": "code",
   "execution_count": 17,
   "metadata": {
    "scrolled": true,
    "slideshow": {
     "slide_type": "subslide"
    }
   },
   "outputs": [
    {
     "data": {
      "image/svg+xml": [
       "<?xml version=\"1.0\" encoding=\"utf-8\"?>\n",
       "<svg xmlns=\"http://www.w3.org/2000/svg\" xmlns:xlink=\"http://www.w3.org/1999/xlink\" width=\"600\" height=\"400\" viewBox=\"0 0 2400 1600\">\n",
       "<defs>\n",
       "  <clipPath id=\"clip7700\">\n",
       "    <rect x=\"0\" y=\"0\" width=\"2400\" height=\"1600\"/>\n",
       "  </clipPath>\n",
       "</defs>\n",
       "<polygon clip-path=\"url(#clip7700)\" points=\"\n",
       "0,1600 2400,1600 2400,0 0,0 \n",
       "  \" fill=\"#ffffff\" fill-rule=\"evenodd\" fill-opacity=\"1\"/>\n",
       "<defs>\n",
       "  <clipPath id=\"clip7701\">\n",
       "    <rect x=\"480\" y=\"0\" width=\"1681\" height=\"1600\"/>\n",
       "  </clipPath>\n",
       "</defs>\n",
       "<polygon clip-path=\"url(#clip7700)\" points=\"\n",
       "315.214,1440.48 2321.26,1440.48 2321.26,47.2441 315.214,47.2441 \n",
       "  \" fill=\"#ffffff\" fill-rule=\"evenodd\" fill-opacity=\"1\"/>\n",
       "<defs>\n",
       "  <clipPath id=\"clip7702\">\n",
       "    <rect x=\"315\" y=\"47\" width=\"2007\" height=\"1394\"/>\n",
       "  </clipPath>\n",
       "</defs>\n",
       "<polyline clip-path=\"url(#clip7702)\" style=\"stroke:#000000; stroke-width:2; stroke-opacity:0.1; fill:none\" points=\"\n",
       "  371.989,1440.48 371.989,47.2441 \n",
       "  \"/>\n",
       "<polyline clip-path=\"url(#clip7702)\" style=\"stroke:#000000; stroke-width:2; stroke-opacity:0.1; fill:none\" points=\"\n",
       "  870.015,1440.48 870.015,47.2441 \n",
       "  \"/>\n",
       "<polyline clip-path=\"url(#clip7702)\" style=\"stroke:#000000; stroke-width:2; stroke-opacity:0.1; fill:none\" points=\"\n",
       "  1368.04,1440.48 1368.04,47.2441 \n",
       "  \"/>\n",
       "<polyline clip-path=\"url(#clip7702)\" style=\"stroke:#000000; stroke-width:2; stroke-opacity:0.1; fill:none\" points=\"\n",
       "  1866.06,1440.48 1866.06,47.2441 \n",
       "  \"/>\n",
       "<polyline clip-path=\"url(#clip7702)\" style=\"stroke:#000000; stroke-width:2; stroke-opacity:0.1; fill:none\" points=\"\n",
       "  315.214,1401.05 2321.26,1401.05 \n",
       "  \"/>\n",
       "<polyline clip-path=\"url(#clip7702)\" style=\"stroke:#000000; stroke-width:2; stroke-opacity:0.1; fill:none\" points=\"\n",
       "  315.214,1172.94 2321.26,1172.94 \n",
       "  \"/>\n",
       "<polyline clip-path=\"url(#clip7702)\" style=\"stroke:#000000; stroke-width:2; stroke-opacity:0.1; fill:none\" points=\"\n",
       "  315.214,944.833 2321.26,944.833 \n",
       "  \"/>\n",
       "<polyline clip-path=\"url(#clip7702)\" style=\"stroke:#000000; stroke-width:2; stroke-opacity:0.1; fill:none\" points=\"\n",
       "  315.214,716.724 2321.26,716.724 \n",
       "  \"/>\n",
       "<polyline clip-path=\"url(#clip7702)\" style=\"stroke:#000000; stroke-width:2; stroke-opacity:0.1; fill:none\" points=\"\n",
       "  315.214,488.615 2321.26,488.615 \n",
       "  \"/>\n",
       "<polyline clip-path=\"url(#clip7702)\" style=\"stroke:#000000; stroke-width:2; stroke-opacity:0.1; fill:none\" points=\"\n",
       "  315.214,260.506 2321.26,260.506 \n",
       "  \"/>\n",
       "<polyline clip-path=\"url(#clip7700)\" style=\"stroke:#000000; stroke-width:4; stroke-opacity:1; fill:none\" points=\"\n",
       "  315.214,1440.48 2321.26,1440.48 \n",
       "  \"/>\n",
       "<polyline clip-path=\"url(#clip7700)\" style=\"stroke:#000000; stroke-width:4; stroke-opacity:1; fill:none\" points=\"\n",
       "  315.214,1440.48 315.214,47.2441 \n",
       "  \"/>\n",
       "<polyline clip-path=\"url(#clip7700)\" style=\"stroke:#000000; stroke-width:4; stroke-opacity:1; fill:none\" points=\"\n",
       "  371.989,1440.48 371.989,1419.58 \n",
       "  \"/>\n",
       "<polyline clip-path=\"url(#clip7700)\" style=\"stroke:#000000; stroke-width:4; stroke-opacity:1; fill:none\" points=\"\n",
       "  870.015,1440.48 870.015,1419.58 \n",
       "  \"/>\n",
       "<polyline clip-path=\"url(#clip7700)\" style=\"stroke:#000000; stroke-width:4; stroke-opacity:1; fill:none\" points=\"\n",
       "  1368.04,1440.48 1368.04,1419.58 \n",
       "  \"/>\n",
       "<polyline clip-path=\"url(#clip7700)\" style=\"stroke:#000000; stroke-width:4; stroke-opacity:1; fill:none\" points=\"\n",
       "  1866.06,1440.48 1866.06,1419.58 \n",
       "  \"/>\n",
       "<polyline clip-path=\"url(#clip7700)\" style=\"stroke:#000000; stroke-width:4; stroke-opacity:1; fill:none\" points=\"\n",
       "  315.214,1401.05 345.305,1401.05 \n",
       "  \"/>\n",
       "<polyline clip-path=\"url(#clip7700)\" style=\"stroke:#000000; stroke-width:4; stroke-opacity:1; fill:none\" points=\"\n",
       "  315.214,1172.94 345.305,1172.94 \n",
       "  \"/>\n",
       "<polyline clip-path=\"url(#clip7700)\" style=\"stroke:#000000; stroke-width:4; stroke-opacity:1; fill:none\" points=\"\n",
       "  315.214,944.833 345.305,944.833 \n",
       "  \"/>\n",
       "<polyline clip-path=\"url(#clip7700)\" style=\"stroke:#000000; stroke-width:4; stroke-opacity:1; fill:none\" points=\"\n",
       "  315.214,716.724 345.305,716.724 \n",
       "  \"/>\n",
       "<polyline clip-path=\"url(#clip7700)\" style=\"stroke:#000000; stroke-width:4; stroke-opacity:1; fill:none\" points=\"\n",
       "  315.214,488.615 345.305,488.615 \n",
       "  \"/>\n",
       "<polyline clip-path=\"url(#clip7700)\" style=\"stroke:#000000; stroke-width:4; stroke-opacity:1; fill:none\" points=\"\n",
       "  315.214,260.506 345.305,260.506 \n",
       "  \"/>\n",
       "<g clip-path=\"url(#clip7700)\">\n",
       "<text style=\"fill:#000000; fill-opacity:1; font-family:Arial,Helvetica Neue,Helvetica,sans-serif; font-size:48px; text-anchor:start;\" transform=\"rotate(0, 306.627, 1515.49)\" x=\"306.627\" y=\"1515.49\">10</text>\n",
       "</g>\n",
       "<g clip-path=\"url(#clip7700)\">\n",
       "<text style=\"fill:#000000; fill-opacity:1; font-family:Arial,Helvetica Neue,Helvetica,sans-serif; font-size:38px; text-anchor:start;\" transform=\"rotate(0, 360.151, 1488.08)\" x=\"360.151\" y=\"1488.08\">-</text>\n",
       "</g>\n",
       "<g clip-path=\"url(#clip7700)\">\n",
       "<text style=\"fill:#000000; fill-opacity:1; font-family:Arial,Helvetica Neue,Helvetica,sans-serif; font-size:38px; text-anchor:start;\" transform=\"rotate(0, 382.991, 1488.08)\" x=\"382.991\" y=\"1488.08\">20 </text>\n",
       "</g>\n",
       "<g clip-path=\"url(#clip7700)\">\n",
       "<text style=\"fill:#000000; fill-opacity:1; font-family:Arial,Helvetica Neue,Helvetica,sans-serif; font-size:48px; text-anchor:start;\" transform=\"rotate(0, 804.652, 1515.49)\" x=\"804.652\" y=\"1515.49\">10</text>\n",
       "</g>\n",
       "<g clip-path=\"url(#clip7700)\">\n",
       "<text style=\"fill:#000000; fill-opacity:1; font-family:Arial,Helvetica Neue,Helvetica,sans-serif; font-size:38px; text-anchor:start;\" transform=\"rotate(0, 858.177, 1488.08)\" x=\"858.177\" y=\"1488.08\">-</text>\n",
       "</g>\n",
       "<g clip-path=\"url(#clip7700)\">\n",
       "<text style=\"fill:#000000; fill-opacity:1; font-family:Arial,Helvetica Neue,Helvetica,sans-serif; font-size:38px; text-anchor:start;\" transform=\"rotate(0, 881.016, 1488.08)\" x=\"881.016\" y=\"1488.08\">15 </text>\n",
       "</g>\n",
       "<g clip-path=\"url(#clip7700)\">\n",
       "<text style=\"fill:#000000; fill-opacity:1; font-family:Arial,Helvetica Neue,Helvetica,sans-serif; font-size:48px; text-anchor:start;\" transform=\"rotate(0, 1302.68, 1515.49)\" x=\"1302.68\" y=\"1515.49\">10</text>\n",
       "</g>\n",
       "<g clip-path=\"url(#clip7700)\">\n",
       "<text style=\"fill:#000000; fill-opacity:1; font-family:Arial,Helvetica Neue,Helvetica,sans-serif; font-size:38px; text-anchor:start;\" transform=\"rotate(0, 1356.2, 1488.08)\" x=\"1356.2\" y=\"1488.08\">-</text>\n",
       "</g>\n",
       "<g clip-path=\"url(#clip7700)\">\n",
       "<text style=\"fill:#000000; fill-opacity:1; font-family:Arial,Helvetica Neue,Helvetica,sans-serif; font-size:38px; text-anchor:start;\" transform=\"rotate(0, 1379.04, 1488.08)\" x=\"1379.04\" y=\"1488.08\">10 </text>\n",
       "</g>\n",
       "<g clip-path=\"url(#clip7700)\">\n",
       "<text style=\"fill:#000000; fill-opacity:1; font-family:Arial,Helvetica Neue,Helvetica,sans-serif; font-size:48px; text-anchor:start;\" transform=\"rotate(0, 1811.57, 1515.49)\" x=\"1811.57\" y=\"1515.49\">10</text>\n",
       "</g>\n",
       "<g clip-path=\"url(#clip7700)\">\n",
       "<text style=\"fill:#000000; fill-opacity:1; font-family:Arial,Helvetica Neue,Helvetica,sans-serif; font-size:38px; text-anchor:start;\" transform=\"rotate(0, 1865.1, 1488.08)\" x=\"1865.1\" y=\"1488.08\">-</text>\n",
       "</g>\n",
       "<g clip-path=\"url(#clip7700)\">\n",
       "<text style=\"fill:#000000; fill-opacity:1; font-family:Arial,Helvetica Neue,Helvetica,sans-serif; font-size:38px; text-anchor:start;\" transform=\"rotate(0, 1887.94, 1488.08)\" x=\"1887.94\" y=\"1488.08\">5 </text>\n",
       "</g>\n",
       "<g clip-path=\"url(#clip7700)\">\n",
       "<text style=\"fill:#000000; fill-opacity:1; font-family:Arial,Helvetica Neue,Helvetica,sans-serif; font-size:48px; text-anchor:start;\" transform=\"rotate(0, 160.489, 1424.78)\" x=\"160.489\" y=\"1424.78\">10</text>\n",
       "</g>\n",
       "<g clip-path=\"url(#clip7700)\">\n",
       "<text style=\"fill:#000000; fill-opacity:1; font-family:Arial,Helvetica Neue,Helvetica,sans-serif; font-size:38px; text-anchor:start;\" transform=\"rotate(0, 214.014, 1397.37)\" x=\"214.014\" y=\"1397.37\">-</text>\n",
       "</g>\n",
       "<g clip-path=\"url(#clip7700)\">\n",
       "<text style=\"fill:#000000; fill-opacity:1; font-family:Arial,Helvetica Neue,Helvetica,sans-serif; font-size:38px; text-anchor:start;\" transform=\"rotate(0, 236.853, 1397.37)\" x=\"236.853\" y=\"1397.37\">30 </text>\n",
       "</g>\n",
       "<g clip-path=\"url(#clip7700)\">\n",
       "<text style=\"fill:#000000; fill-opacity:1; font-family:Arial,Helvetica Neue,Helvetica,sans-serif; font-size:48px; text-anchor:start;\" transform=\"rotate(0, 160.489, 1196.67)\" x=\"160.489\" y=\"1196.67\">10</text>\n",
       "</g>\n",
       "<g clip-path=\"url(#clip7700)\">\n",
       "<text style=\"fill:#000000; fill-opacity:1; font-family:Arial,Helvetica Neue,Helvetica,sans-serif; font-size:38px; text-anchor:start;\" transform=\"rotate(0, 214.014, 1169.26)\" x=\"214.014\" y=\"1169.26\">-</text>\n",
       "</g>\n",
       "<g clip-path=\"url(#clip7700)\">\n",
       "<text style=\"fill:#000000; fill-opacity:1; font-family:Arial,Helvetica Neue,Helvetica,sans-serif; font-size:38px; text-anchor:start;\" transform=\"rotate(0, 236.853, 1169.26)\" x=\"236.853\" y=\"1169.26\">25 </text>\n",
       "</g>\n",
       "<g clip-path=\"url(#clip7700)\">\n",
       "<text style=\"fill:#000000; fill-opacity:1; font-family:Arial,Helvetica Neue,Helvetica,sans-serif; font-size:48px; text-anchor:start;\" transform=\"rotate(0, 160.489, 968.561)\" x=\"160.489\" y=\"968.561\">10</text>\n",
       "</g>\n",
       "<g clip-path=\"url(#clip7700)\">\n",
       "<text style=\"fill:#000000; fill-opacity:1; font-family:Arial,Helvetica Neue,Helvetica,sans-serif; font-size:38px; text-anchor:start;\" transform=\"rotate(0, 214.014, 941.15)\" x=\"214.014\" y=\"941.15\">-</text>\n",
       "</g>\n",
       "<g clip-path=\"url(#clip7700)\">\n",
       "<text style=\"fill:#000000; fill-opacity:1; font-family:Arial,Helvetica Neue,Helvetica,sans-serif; font-size:38px; text-anchor:start;\" transform=\"rotate(0, 236.853, 941.15)\" x=\"236.853\" y=\"941.15\">20 </text>\n",
       "</g>\n",
       "<g clip-path=\"url(#clip7700)\">\n",
       "<text style=\"fill:#000000; fill-opacity:1; font-family:Arial,Helvetica Neue,Helvetica,sans-serif; font-size:48px; text-anchor:start;\" transform=\"rotate(0, 160.489, 740.452)\" x=\"160.489\" y=\"740.452\">10</text>\n",
       "</g>\n",
       "<g clip-path=\"url(#clip7700)\">\n",
       "<text style=\"fill:#000000; fill-opacity:1; font-family:Arial,Helvetica Neue,Helvetica,sans-serif; font-size:38px; text-anchor:start;\" transform=\"rotate(0, 214.014, 713.041)\" x=\"214.014\" y=\"713.041\">-</text>\n",
       "</g>\n",
       "<g clip-path=\"url(#clip7700)\">\n",
       "<text style=\"fill:#000000; fill-opacity:1; font-family:Arial,Helvetica Neue,Helvetica,sans-serif; font-size:38px; text-anchor:start;\" transform=\"rotate(0, 236.853, 713.041)\" x=\"236.853\" y=\"713.041\">15 </text>\n",
       "</g>\n",
       "<g clip-path=\"url(#clip7700)\">\n",
       "<text style=\"fill:#000000; fill-opacity:1; font-family:Arial,Helvetica Neue,Helvetica,sans-serif; font-size:48px; text-anchor:start;\" transform=\"rotate(0, 160.489, 512.343)\" x=\"160.489\" y=\"512.343\">10</text>\n",
       "</g>\n",
       "<g clip-path=\"url(#clip7700)\">\n",
       "<text style=\"fill:#000000; fill-opacity:1; font-family:Arial,Helvetica Neue,Helvetica,sans-serif; font-size:38px; text-anchor:start;\" transform=\"rotate(0, 214.014, 484.932)\" x=\"214.014\" y=\"484.932\">-</text>\n",
       "</g>\n",
       "<g clip-path=\"url(#clip7700)\">\n",
       "<text style=\"fill:#000000; fill-opacity:1; font-family:Arial,Helvetica Neue,Helvetica,sans-serif; font-size:38px; text-anchor:start;\" transform=\"rotate(0, 236.853, 484.932)\" x=\"236.853\" y=\"484.932\">10 </text>\n",
       "</g>\n",
       "<g clip-path=\"url(#clip7700)\">\n",
       "<text style=\"fill:#000000; fill-opacity:1; font-family:Arial,Helvetica Neue,Helvetica,sans-serif; font-size:48px; text-anchor:start;\" transform=\"rotate(0, 182.234, 284.233)\" x=\"182.234\" y=\"284.233\">10</text>\n",
       "</g>\n",
       "<g clip-path=\"url(#clip7700)\">\n",
       "<text style=\"fill:#000000; fill-opacity:1; font-family:Arial,Helvetica Neue,Helvetica,sans-serif; font-size:38px; text-anchor:start;\" transform=\"rotate(0, 235.758, 256.823)\" x=\"235.758\" y=\"256.823\">-</text>\n",
       "</g>\n",
       "<g clip-path=\"url(#clip7700)\">\n",
       "<text style=\"fill:#000000; fill-opacity:1; font-family:Arial,Helvetica Neue,Helvetica,sans-serif; font-size:38px; text-anchor:start;\" transform=\"rotate(0, 258.598, 256.823)\" x=\"258.598\" y=\"256.823\">5 </text>\n",
       "</g>\n",
       "<g clip-path=\"url(#clip7700)\">\n",
       "<text style=\"fill:#000000; fill-opacity:1; font-family:Arial,Helvetica Neue,Helvetica,sans-serif; font-size:66px; text-anchor:middle;\" transform=\"rotate(0, 1318.24, 1590.4)\" x=\"1318.24\" y=\"1590.4\">stepsize h</text>\n",
       "</g>\n",
       "<g clip-path=\"url(#clip7700)\">\n",
       "<text style=\"fill:#000000; fill-opacity:1; font-family:Arial,Helvetica Neue,Helvetica,sans-serif; font-size:66px; text-anchor:middle;\" transform=\"rotate(-90, 192.814, 743.863)\" x=\"192.814\" y=\"743.863\">absolute error</text>\n",
       "</g>\n",
       "<polyline clip-path=\"url(#clip7702)\" style=\"stroke:#009af9; stroke-width:4; stroke-opacity:1; fill:none\" points=\"\n",
       "  371.989,86.6754 421.792,86.6754 471.594,86.6754 521.397,86.6754 571.199,86.6754 621.002,86.6754 670.804,86.6754 720.607,86.6754 770.409,86.6754 820.212,86.6754 \n",
       "  870.015,86.6754 919.817,135.077 969.62,155.418 1019.42,162.494 1069.22,200.251 1119.03,285.106 1168.83,255.684 1218.63,285.106 1268.43,261.628 1318.24,285.106 \n",
       "  1368.04,317.346 1417.84,356.039 1467.64,352.055 1517.45,396.757 1567.25,392.868 1617.05,419.379 1666.85,392.868 1716.66,368.979 1766.46,345.851 1816.26,323.048 \n",
       "  1866.06,300.237 1915.87,277.426 1965.67,254.616 2015.47,231.808 2065.27,209.005 2115.08,186.22 2164.88,163.491 2214.68,140.939 2264.48,118.956 \n",
       "  \"/>\n",
       "<polyline clip-path=\"url(#clip7702)\" style=\"stroke:#e26f46; stroke-width:4; stroke-opacity:1; fill:none\" points=\"\n",
       "  371.989,86.6754 421.792,86.6754 471.594,86.6754 521.397,86.6754 571.199,86.6754 621.002,86.6754 670.804,86.6754 720.607,86.6754 770.409,86.6754 820.212,86.6754 \n",
       "  870.015,86.6754 919.817,135.077 969.62,155.418 1019.42,162.494 1069.22,200.251 1119.03,285.106 1168.83,255.684 1218.63,285.106 1268.43,261.628 1318.24,285.106 \n",
       "  1368.04,317.346 1417.84,356.039 1467.64,352.055 1517.45,396.757 1567.25,392.868 1617.05,473.197 1666.85,464.417 1716.66,473.197 1766.46,544.072 1816.26,541.029 \n",
       "  1866.06,547.911 1915.87,492.833 1965.67,447.143 2015.47,401.508 2065.27,355.886 2115.08,310.264 2164.88,264.642 2214.68,219.019 2264.48,173.387 \n",
       "  \"/>\n",
       "<polyline clip-path=\"url(#clip7702)\" style=\"stroke:#3da44d; stroke-width:4; stroke-opacity:1; fill:none\" points=\"\n",
       "  371.989,787.741 421.792,1401.05 471.594,787.741 521.397,801.475 571.199,1401.05 621.002,1401.05 670.804,801.475 720.607,779.708 770.409,774.008 820.212,801.475 \n",
       "  870.015,1401.05 919.817,1401.05 969.62,779.708 1019.42,801.475 1069.22,779.708 1119.03,801.475 1168.83,801.475 1218.63,779.708 1268.43,787.741 1318.24,801.475 \n",
       "  1368.04,779.708 1417.84,1401.05 1467.64,801.475 1517.45,779.708 1567.25,801.475 1617.05,765.974 1666.85,719.703 1716.66,675.471 1766.46,629.6 1816.26,583.995 \n",
       "  1866.06,538.373 1915.87,492.751 1965.67,447.129 2015.47,401.508 2065.27,355.886 2115.08,310.264 2164.88,264.642 2214.68,219.022 2264.48,173.411 \n",
       "  \"/>\n",
       "<polygon clip-path=\"url(#clip7700)\" points=\"\n",
       "1632.04,372.684 2249.26,372.684 2249.26,130.764 1632.04,130.764 \n",
       "  \" fill=\"#ffffff\" fill-rule=\"evenodd\" fill-opacity=\"1\"/>\n",
       "<polyline clip-path=\"url(#clip7700)\" style=\"stroke:#000000; stroke-width:4; stroke-opacity:1; fill:none\" points=\"\n",
       "  1632.04,372.684 2249.26,372.684 2249.26,130.764 1632.04,130.764 1632.04,372.684 \n",
       "  \"/>\n",
       "<polyline clip-path=\"url(#clip7700)\" style=\"stroke:#009af9; stroke-width:4; stroke-opacity:1; fill:none\" points=\"\n",
       "  1656.04,191.244 1800.04,191.244 \n",
       "  \"/>\n",
       "<g clip-path=\"url(#clip7700)\">\n",
       "<text style=\"fill:#000000; fill-opacity:1; font-family:Arial,Helvetica Neue,Helvetica,sans-serif; font-size:48px; text-anchor:start;\" transform=\"rotate(0, 1824.04, 208.744)\" x=\"1824.04\" y=\"208.744\">divided difference</text>\n",
       "</g>\n",
       "<polyline clip-path=\"url(#clip7700)\" style=\"stroke:#e26f46; stroke-width:4; stroke-opacity:1; fill:none\" points=\"\n",
       "  1656.04,251.724 1800.04,251.724 \n",
       "  \"/>\n",
       "<g clip-path=\"url(#clip7700)\">\n",
       "<text style=\"fill:#000000; fill-opacity:1; font-family:Arial,Helvetica Neue,Helvetica,sans-serif; font-size:48px; text-anchor:start;\" transform=\"rotate(0, 1824.04, 269.224)\" x=\"1824.04\" y=\"269.224\">center difference</text>\n",
       "</g>\n",
       "<polyline clip-path=\"url(#clip7700)\" style=\"stroke:#3da44d; stroke-width:4; stroke-opacity:1; fill:none\" points=\"\n",
       "  1656.04,312.204 1800.04,312.204 \n",
       "  \"/>\n",
       "<g clip-path=\"url(#clip7700)\">\n",
       "<text style=\"fill:#000000; fill-opacity:1; font-family:Arial,Helvetica Neue,Helvetica,sans-serif; font-size:48px; text-anchor:start;\" transform=\"rotate(0, 1824.04, 329.704)\" x=\"1824.04\" y=\"329.704\">complex step</text>\n",
       "</g>\n",
       "</svg>\n"
      ]
     },
     "execution_count": 17,
     "metadata": {},
     "output_type": "execute_result"
    }
   ],
   "source": [
    "plot(stepsizes, error.(diff_divdiff, stepsizes), label=\"divided difference\",\n",
    "    xscale=:log10, yscale=:log10)\n",
    "plot!(stepsizes, error.(diff_centdiff, stepsizes), label=\"center difference\")\n",
    "plot!(stepsizes, error.(diff_complstep, stepsizes), label=\"complex step\")\n",
    "#xlims!(1e-15, 1e-1)\n",
    "xlabel!(\"stepsize h\")\n",
    "ylabel!(\"absolute error\")"
   ]
  },
  {
   "cell_type": "markdown",
   "metadata": {
    "slideshow": {
     "slide_type": "subslide"
    }
   },
   "source": [
    "Advantages of numerical differentiation:\n",
    "- easy to implement\n",
    "- general, no assumptions needed"
   ]
  },
  {
   "cell_type": "markdown",
   "metadata": {
    "slideshow": {
     "slide_type": "fragment"
    }
   },
   "source": [
    "Disadvantages:\n",
    "- not numerically stable (round-off errors)\n",
    "- not efficient for gradients ($\\mathcal{O}(n)$ evaluations for $n$-dimensional vectors)"
   ]
  },
  {
   "cell_type": "markdown",
   "metadata": {
    "slideshow": {
     "slide_type": "subslide"
    }
   },
   "source": [
    "**First sin of numerical analysis**:\n",
    "\n",
    "> *thou shalt not add small numbers to big numbers*"
   ]
  },
  {
   "cell_type": "markdown",
   "metadata": {
    "slideshow": {
     "slide_type": "fragment"
    }
   },
   "source": [
    "**second sin of numerical analysis**:\n",
    "\n",
    "> *thou shalt not subtract numbers which are approximately equal*"
   ]
  },
  {
   "cell_type": "markdown",
   "metadata": {
    "slideshow": {
     "slide_type": "subslide"
    }
   },
   "source": [
    "### Stein's lemma\n",
    "\n",
    "$$\n",
    "E_{X\\sim N(\\mu, \\sigma)}[f(X)(X-\\mu)] = \\sigma^2 E_{X\\sim N(\\mu, \\sigma)}[f'(X)]\n",
    "$$\n",
    "\n",
    "and thus, using $X = x + \\sigma\\epsilon$ with $\\epsilon\\sim N(0, 1)$:\n",
    "\n",
    "$$\n",
    "E_{\\epsilon\\sim N(0, 1)}[f'(x + \\sigma\\epsilon)] = \\frac{1}{\\sigma} E_{\\epsilon\\sim N(0, 1)}[f(x+\\sigma \\epsilon)\\epsilon]\n",
    "$$"
   ]
  },
  {
   "cell_type": "code",
   "execution_count": 99,
   "metadata": {
    "slideshow": {
     "slide_type": "fragment"
    }
   },
   "outputs": [
    {
     "data": {
      "text/plain": [
       "diff_stein (generic function with 1 method)"
      ]
     },
     "execution_count": 99,
     "metadata": {},
     "output_type": "execute_result"
    }
   ],
   "source": [
    "diff_stein(f, x; σ=1e-1, n=10_000) = 1 / σ * sum(map(e -> f(x + σ * e) * e, randn(n))) / n"
   ]
  },
  {
   "cell_type": "code",
   "execution_count": 101,
   "metadata": {
    "scrolled": false,
    "slideshow": {
     "slide_type": "fragment"
    }
   },
   "outputs": [
    {
     "data": {
      "text/plain": [
       "0.06730957292876388"
      ]
     },
     "execution_count": 101,
     "metadata": {},
     "output_type": "execute_result"
    }
   ],
   "source": [
    "diff_stein(f, 2.0)"
   ]
  },
  {
   "cell_type": "markdown",
   "metadata": {
    "slideshow": {
     "slide_type": "subslide"
    }
   },
   "source": [
    "### Approximations of multiplications with gradients\n",
    "\n",
    "**Gradient-vector approximation**\n",
    "\n",
    "$$\n",
    "\\nabla f(\\mathbf{x})^\\intercal \\mathbf{d} \\approx \\frac{f(\\mathbf{x}+h\\cdot\\mathbf{d}) - f(\\mathbf{x}-h\\cdot\\mathbf{d})}{2h}\n",
    "$$"
   ]
  },
  {
   "cell_type": "markdown",
   "metadata": {
    "slideshow": {
     "slide_type": "fragment"
    }
   },
   "source": [
    "**Hessian-vector approximation**\n",
    "\n",
    "$$\n",
    "\\nabla^2 f(\\mathbf{x}) \\mathbf{d} \\approx \\frac{\\nabla f(\\mathbf{x}+h\\cdot\\mathbf{d}) - \\nabla f(\\mathbf{x}-h\\cdot\\mathbf{d})}{2h}\n",
    "$$"
   ]
  },
  {
   "cell_type": "code",
   "execution_count": 25,
   "metadata": {
    "slideshow": {
     "slide_type": "fragment"
    }
   },
   "outputs": [
    {
     "data": {
      "text/plain": [
       "grad_vect (generic function with 1 method)"
      ]
     },
     "execution_count": 25,
     "metadata": {},
     "output_type": "execute_result"
    }
   ],
   "source": [
    "grad_vect(f, x, d; h=1e-10) = (f(x + h * d) - f(x - h * d)) / (2h)"
   ]
  },
  {
   "cell_type": "code",
   "execution_count": 26,
   "metadata": {
    "scrolled": true,
    "slideshow": {
     "slide_type": "subslide"
    }
   },
   "outputs": [
    {
     "data": {
      "text/plain": [
       "∇²g (generic function with 1 method)"
      ]
     },
     "execution_count": 26,
     "metadata": {},
     "output_type": "execute_result"
    }
   ],
   "source": [
    "dvect = randn(10) / 10\n",
    "xvect = 2rand(10)\n",
    "\n",
    "A = randn(10, 10)\n",
    "A = A * A' / 100\n",
    "\n",
    "#g(x) = exp(- x' * A * x)  # adjoint does not play with Zygote\n",
    "g(x) = exp(- sum(x .* (A * x)))\n",
    "\n",
    "∇g(x) = -2g(x) * A * x\n",
    "∇²g(x) = -2g(x) * A - 2A * x * ∇g(x)'"
   ]
  },
  {
   "cell_type": "code",
   "execution_count": 27,
   "metadata": {
    "slideshow": {
     "slide_type": "subslide"
    }
   },
   "outputs": [
    {
     "data": {
      "text/plain": [
       "0.37350022994849946"
      ]
     },
     "execution_count": 27,
     "metadata": {},
     "output_type": "execute_result"
    }
   ],
   "source": [
    "g(xvect)"
   ]
  },
  {
   "cell_type": "code",
   "execution_count": 28,
   "metadata": {
    "slideshow": {
     "slide_type": "fragment"
    }
   },
   "outputs": [
    {
     "data": {
      "text/plain": [
       "10-element Array{Float64,1}:\n",
       " -0.2057850440259106  \n",
       "  0.027457997637599128\n",
       " -0.06773790844531756 \n",
       " -0.012583957084079167\n",
       " -0.1448102785215536  \n",
       " -0.16783920785286385 \n",
       " -0.042820214761988704\n",
       " -0.05416688187572384 \n",
       "  0.11157218722170226 \n",
       "  0.10894114579306909 "
      ]
     },
     "execution_count": 28,
     "metadata": {},
     "output_type": "execute_result"
    }
   ],
   "source": [
    "∇g(xvect)"
   ]
  },
  {
   "cell_type": "code",
   "execution_count": 29,
   "metadata": {
    "slideshow": {
     "slide_type": "fragment"
    }
   },
   "outputs": [
    {
     "data": {
      "text/plain": [
       "0.052412939370748396"
      ]
     },
     "execution_count": 29,
     "metadata": {},
     "output_type": "execute_result"
    }
   ],
   "source": [
    "∇g(xvect)' * dvect"
   ]
  },
  {
   "cell_type": "code",
   "execution_count": 30,
   "metadata": {
    "slideshow": {
     "slide_type": "fragment"
    }
   },
   "outputs": [
    {
     "data": {
      "text/plain": [
       "0.05241418410406595"
      ]
     },
     "execution_count": 30,
     "metadata": {},
     "output_type": "execute_result"
    }
   ],
   "source": [
    "grad_vect(g, xvect, dvect)"
   ]
  },
  {
   "cell_type": "code",
   "execution_count": 31,
   "metadata": {
    "slideshow": {
     "slide_type": "subslide"
    }
   },
   "outputs": [
    {
     "data": {
      "text/plain": [
       "10-element Array{Float64,1}:\n",
       " -0.010628569566416947 \n",
       "  0.01323235463777969  \n",
       " -0.011107212257082655 \n",
       "  0.0026457562301251307\n",
       " -0.008467047960303422 \n",
       " -0.0057613106905093385\n",
       " -0.012628867883242969 \n",
       " -0.008036541134864654 \n",
       "  0.00149218161001998  \n",
       " -0.00916031018097086  "
      ]
     },
     "execution_count": 31,
     "metadata": {},
     "output_type": "execute_result"
    }
   ],
   "source": [
    "∇²g(xvect) * dvect"
   ]
  },
  {
   "cell_type": "code",
   "execution_count": 32,
   "metadata": {
    "scrolled": true,
    "slideshow": {
     "slide_type": "fragment"
    }
   },
   "outputs": [
    {
     "data": {
      "text/plain": [
       "10-element Array{Float64,1}:\n",
       " -0.010629414015639327 \n",
       "  0.013232453327516325 \n",
       " -0.011107434416679496 \n",
       "  0.002645661467681748 \n",
       " -0.00846753223093799  \n",
       " -0.0057620574978045624\n",
       " -0.012628995071928273 \n",
       " -0.00803673100291391  \n",
       "  0.0014924866897914058\n",
       " -0.009159617508913698 "
      ]
     },
     "execution_count": 32,
     "metadata": {},
     "output_type": "execute_result"
    }
   ],
   "source": [
    "h = 1e-10\n",
    "(∇g(xvect + h * dvect) - ∇g(xvect - h * dvect)) / (2h)"
   ]
  },
  {
   "cell_type": "markdown",
   "metadata": {
    "slideshow": {
     "slide_type": "slide"
    }
   },
   "source": [
    "## Forward differentiation\n",
    "\n",
    "Accumulation of the gradients along the *computational graph*. \n",
    "\n",
    "<img src=\"Figures/compgraph.png\" alt=\"drawing\" width=\"400\"/>"
   ]
  },
  {
   "cell_type": "markdown",
   "metadata": {
    "slideshow": {
     "slide_type": "fragment"
    }
   },
   "source": [
    "Forward differentiation computes the gradient from the inputs to the outputs."
   ]
  },
  {
   "cell_type": "markdown",
   "metadata": {
    "slideshow": {
     "slide_type": "subslide"
    }
   },
   "source": [
    "### Differentiation rules"
   ]
  },
  {
   "cell_type": "markdown",
   "metadata": {
    "slideshow": {
     "slide_type": "fragment"
    }
   },
   "source": [
    "**Sum rule**:\n",
    "\n",
    "$$\n",
    "\\frac{\\partial (f(x)+g(x))}{\\partial x} =  \\frac{\\partial f(x)}{\\partial x} + \\frac{\\partial f(x)}{\\partial x} \n",
    "$$"
   ]
  },
  {
   "cell_type": "markdown",
   "metadata": {
    "slideshow": {
     "slide_type": "fragment"
    }
   },
   "source": [
    "**Product rule**:\n",
    "\n",
    "$$\n",
    "\\frac{\\partial (f(x)g(x))}{\\partial x} =  f(x)\\frac{\\partial g(x)}{\\partial x} + g(x)\\frac{\\partial f(x)}{\\partial x} \n",
    "$$"
   ]
  },
  {
   "cell_type": "markdown",
   "metadata": {
    "slideshow": {
     "slide_type": "fragment"
    }
   },
   "source": [
    "**Chain rule**:\n",
    "\n",
    "$$\n",
    "\\frac{\\partial (g(g(x))}{\\partial x} =  \\frac{\\partial g(u)}{\\partial u}\\mid_{u=f(x)} \\frac{\\partial f(x)}{\\partial x} \n",
    "$$"
   ]
  },
  {
   "cell_type": "markdown",
   "metadata": {},
   "source": [
    "### Example of the forward differentiation\n",
    "\n",
    "<img src=\"Figures/forwarddiff.png\" alt=\"drawing\" width=\"600\"/>"
   ]
  },
  {
   "cell_type": "markdown",
   "metadata": {
    "slideshow": {
     "slide_type": "subslide"
    }
   },
   "source": [
    "### Dual numbers\n",
    "\n",
    "Forward differentiation can be viewed as evaluating function using *dual numbers*, which can be viewed as truncated Taylor series:\n",
    "\n",
    "$$\n",
    "v + \\dot{v}\\epsilon\\,,\n",
    "$$\n",
    "\n",
    "where $v,\\dot{v}\\in\\mathbb{R}$ and $\\epsilon$ a nilpotent number, i.e. $\\epsilon^2=0$. For example, we have\n",
    "\n",
    "$$\n",
    "(v + \\dot{v}\\epsilon) + (u + \\dot{u}\\epsilon) = (v+u) + (\\dot{v} +\\dot{u})\\epsilon\n",
    "$$\n",
    "\n",
    "\n",
    "$$\n",
    "(v + \\dot{v}\\epsilon)(u + \\dot{u}\\epsilon) = (vu) + (v\\dot{u} +\\dot{v}u)\\epsilon\\,.\n",
    "$$\n",
    "\n"
   ]
  },
  {
   "cell_type": "markdown",
   "metadata": {
    "slideshow": {
     "slide_type": "fragment"
    }
   },
   "source": [
    "These dual numbers can be used as\n",
    "\n",
    "$$\n",
    "f(v+\\dot{v}) = f(v) + f'(v)\\dot{v}\\epsilon\\,.\n",
    "$$"
   ]
  },
  {
   "cell_type": "code",
   "execution_count": 33,
   "metadata": {
    "slideshow": {
     "slide_type": "subslide"
    }
   },
   "outputs": [],
   "source": [
    "struct Dual\n",
    "    v\n",
    "    v̇\n",
    "end"
   ]
  },
  {
   "cell_type": "code",
   "execution_count": 43,
   "metadata": {
    "slideshow": {
     "slide_type": "fragment"
    }
   },
   "outputs": [],
   "source": [
    "Base.:+(a::Dual, b::Dual) = Dual(a.v + b.v, a.v̇ + b.v̇)\n",
    "Base.:*(a::Dual, b::Dual) = Dual(a.v * b.v, a.v * b.v̇ + b.v * a.v̇)\n",
    "Base.:*(v::Real, b::Dual) = Dual(v, 0.0) * b\n",
    "Base.:sin(a::Dual) = Dual(sin(a.v), cos(a.v) * a.v̇)\n",
    "Base.:log(a::Dual) = Dual(log(a.v), 1.0 / a.v * a.v̇)\n",
    "Base.:/(a::Dual, b::Dual) = Dual(a.v / b.v, (a.v̇ * b.v - a.v * b.v̇) / b.v^2)"
   ]
  },
  {
   "cell_type": "code",
   "execution_count": 36,
   "metadata": {
    "scrolled": false,
    "slideshow": {
     "slide_type": "fragment"
    }
   },
   "outputs": [
    {
     "name": "stdout",
     "output_type": "stream",
     "text": [
      "  56.400 ns (6 allocations: 144 bytes)\n"
     ]
    },
    {
     "data": {
      "text/plain": [
       "Dual(1.1477958939727861, 0.06460222502000834)"
      ]
     },
     "execution_count": 36,
     "metadata": {},
     "output_type": "execute_result"
    }
   ],
   "source": [
    "@btime f(Dual(2.0, 1.0))"
   ]
  },
  {
   "cell_type": "code",
   "execution_count": 70,
   "metadata": {
    "slideshow": {
     "slide_type": "fragment"
    }
   },
   "outputs": [
    {
     "name": "stdout",
     "output_type": "stream",
     "text": [
      "  59.146 ns (6 allocations: 144 bytes)\n"
     ]
    },
    {
     "data": {
      "text/plain": [
       "0.06460222502000834"
      ]
     },
     "execution_count": 70,
     "metadata": {},
     "output_type": "execute_result"
    }
   ],
   "source": [
    "myforwarddiff(f, x) = f(Dual(x, 1.0)).v̇\n",
    "\n",
    "@btime myforwarddiff($f, 2.0)"
   ]
  },
  {
   "cell_type": "markdown",
   "metadata": {
    "slideshow": {
     "slide_type": "subslide"
    }
   },
   "source": [
    "This directly works for vectors!"
   ]
  },
  {
   "cell_type": "code",
   "execution_count": 53,
   "metadata": {
    "slideshow": {
     "slide_type": "fragment"
    }
   },
   "outputs": [
    {
     "data": {
      "text/plain": [
       "q (generic function with 1 method)"
      ]
     },
     "execution_count": 53,
     "metadata": {},
     "output_type": "execute_result"
    }
   ],
   "source": [
    "q(x) = 10.0 * x[1] * x[2] + x[1] * x[1] + sin(x[1]) / x[2]"
   ]
  },
  {
   "cell_type": "code",
   "execution_count": 52,
   "metadata": {
    "scrolled": true,
    "slideshow": {
     "slide_type": "fragment"
    }
   },
   "outputs": [
    {
     "data": {
      "text/plain": [
       "21.42073549240395"
      ]
     },
     "execution_count": 52,
     "metadata": {},
     "output_type": "execute_result"
    }
   ],
   "source": [
    "q([1, 2])"
   ]
  },
  {
   "cell_type": "code",
   "execution_count": 61,
   "metadata": {
    "slideshow": {
     "slide_type": "fragment"
    }
   },
   "outputs": [
    {
     "data": {
      "text/plain": [
       "Dual(21.42073549240395, 22.27015115293407)"
      ]
     },
     "execution_count": 61,
     "metadata": {},
     "output_type": "execute_result"
    }
   ],
   "source": [
    "q(Dual.([1, 2], [1, 0]))  # partial wrt x1"
   ]
  },
  {
   "cell_type": "code",
   "execution_count": 62,
   "metadata": {
    "slideshow": {
     "slide_type": "fragment"
    }
   },
   "outputs": [
    {
     "data": {
      "text/plain": [
       "Dual(21.42073549240395, 9.789632253798025)"
      ]
     },
     "execution_count": 62,
     "metadata": {},
     "output_type": "execute_result"
    }
   ],
   "source": [
    "q(Dual.([1, 2], [0, 1]))  # partial wrt x2"
   ]
  },
  {
   "cell_type": "code",
   "execution_count": 63,
   "metadata": {
    "slideshow": {
     "slide_type": "subslide"
    }
   },
   "outputs": [],
   "source": [
    "using ForwardDiff"
   ]
  },
  {
   "cell_type": "code",
   "execution_count": 68,
   "metadata": {
    "slideshow": {
     "slide_type": "fragment"
    }
   },
   "outputs": [
    {
     "name": "stdout",
     "output_type": "stream",
     "text": [
      "  2.665 ns (0 allocations: 0 bytes)\n"
     ]
    },
    {
     "data": {
      "text/plain": [
       "0.06460222502000834"
      ]
     },
     "execution_count": 68,
     "metadata": {},
     "output_type": "execute_result"
    }
   ],
   "source": [
    "@btime ForwardDiff.derivative($f, 2.0)"
   ]
  },
  {
   "cell_type": "code",
   "execution_count": 69,
   "metadata": {
    "slideshow": {
     "slide_type": "fragment"
    }
   },
   "outputs": [
    {
     "name": "stdout",
     "output_type": "stream",
     "text": [
      "  2.340 μs (10 allocations: 4.23 KiB)\n"
     ]
    },
    {
     "data": {
      "text/plain": [
       "10-element Array{Float64,1}:\n",
       " -0.20578504402591058 \n",
       "  0.027457997637599124\n",
       " -0.06773790844531753 \n",
       " -0.012583957084079186\n",
       " -0.14481027852155356 \n",
       " -0.16783920785286385 \n",
       " -0.0428202147619887  \n",
       " -0.05416688187572384 \n",
       "  0.11157218722170223 \n",
       "  0.1089411457930691  "
      ]
     },
     "execution_count": 69,
     "metadata": {},
     "output_type": "execute_result"
    }
   ],
   "source": [
    "@btime ForwardDiff.gradient($g, $xvect)"
   ]
  },
  {
   "cell_type": "code",
   "execution_count": 66,
   "metadata": {
    "scrolled": true,
    "slideshow": {
     "slide_type": "fragment"
    }
   },
   "outputs": [
    {
     "data": {
      "text/plain": [
       "2-element Array{Float64,1}:\n",
       " 22.27015115293407 \n",
       "  9.789632253798025"
      ]
     },
     "execution_count": 66,
     "metadata": {},
     "output_type": "execute_result"
    }
   ],
   "source": [
    "ForwardDiff.gradient(q, [1, 2])"
   ]
  },
  {
   "cell_type": "markdown",
   "metadata": {
    "slideshow": {
     "slide_type": "subslide"
    }
   },
   "source": [
    "Forward differentiation:\n",
    "\n",
    "- exact gradients!\n",
    "- computational complexity scales with **number of inputs**\n",
    "- used when you have more outputs than inputs"
   ]
  },
  {
   "cell_type": "markdown",
   "metadata": {
    "slideshow": {
     "slide_type": "slide"
    }
   },
   "source": [
    "## Reverse differentiation\n",
    "\n",
    "Compute the gradient from the output toward the inputs using the chain rule.\n",
    "\n",
    "<img src=\"Figures/reversediff.png\" alt=\"drawing\" width=\"600\"/>"
   ]
  },
  {
   "cell_type": "markdown",
   "metadata": {
    "slideshow": {
     "slide_type": "subslide"
    }
   },
   "source": [
    "Reverse differentiation:\n",
    "\n",
    "- also exact!\n",
    "- main workhorse for training artificial neural networks!\n",
    "- efficient when more inputs than outputs (machine learning: thousands of parameters vs. one loss)"
   ]
  },
  {
   "cell_type": "code",
   "execution_count": 72,
   "metadata": {
    "slideshow": {
     "slide_type": "subslide"
    }
   },
   "outputs": [],
   "source": [
    "using Zygote"
   ]
  },
  {
   "cell_type": "code",
   "execution_count": 73,
   "metadata": {
    "slideshow": {
     "slide_type": "fragment"
    }
   },
   "outputs": [
    {
     "name": "stdout",
     "output_type": "stream",
     "text": [
      "  2.667 ns (0 allocations: 0 bytes)\n"
     ]
    },
    {
     "data": {
      "text/plain": [
       "0.06460222502000834"
      ]
     },
     "execution_count": 73,
     "metadata": {},
     "output_type": "execute_result"
    }
   ],
   "source": [
    "@btime f'(2.0)"
   ]
  },
  {
   "cell_type": "code",
   "execution_count": 74,
   "metadata": {
    "scrolled": true,
    "slideshow": {
     "slide_type": "fragment"
    }
   },
   "outputs": [
    {
     "name": "stdout",
     "output_type": "stream",
     "text": [
      "  5.957 μs (46 allocations: 3.52 KiB)\n"
     ]
    },
    {
     "data": {
      "text/plain": [
       "10-element Array{Float64,1}:\n",
       " -0.20578504402591058 \n",
       "  0.027457997637599124\n",
       " -0.06773790844531755 \n",
       " -0.012583957084079195\n",
       " -0.1448102785215536  \n",
       " -0.16783920785286388 \n",
       " -0.042820214761988704\n",
       " -0.05416688187572384 \n",
       "  0.11157218722170226 \n",
       "  0.10894114579306913 "
      ]
     },
     "execution_count": 74,
     "metadata": {},
     "output_type": "execute_result"
    }
   ],
   "source": [
    "@btime g'(xvect)"
   ]
  },
  {
   "cell_type": "markdown",
   "metadata": {
    "slideshow": {
     "slide_type": "slide"
    }
   },
   "source": [
    "## Exercise: logistic regression\n",
    "\n",
    "Recall logistic regression on a training set $S=\\{(\\mathbf{x}_i, y_i)\\mid i=1,\\ldots,n\\}$ with $y\\in\\{0,1\\}$.\n",
    "\n",
    "Prediction:\n",
    "\n",
    "$$\n",
    "f(\\mathbf{x}) = \\sigma(\\mathbf{w}^\\intercal\\mathbf{x})\\,,\n",
    "$$\n",
    "\n",
    "with $\\sigma(t) = 1 /(1+exp(t))$.\n",
    "\n",
    "To find the parameter vector $\\mathbf{w}$, we minimize the cross-entropy:\n",
    "\n",
    "$$\n",
    "L(\\mathbf{w};S)= \\sum_{i=1}^n = - y_i \\log(f(\\mathbf{x})) - (1-y_i)\\log(1-f(\\mathbf{x}))\\,.\n",
    "$$"
   ]
  },
  {
   "cell_type": "code",
   "execution_count": 136,
   "metadata": {
    "slideshow": {
     "slide_type": "subslide"
    }
   },
   "outputs": [
    {
     "data": {
      "image/svg+xml": [
       "<?xml version=\"1.0\" encoding=\"utf-8\"?>\n",
       "<svg xmlns=\"http://www.w3.org/2000/svg\" xmlns:xlink=\"http://www.w3.org/1999/xlink\" width=\"600\" height=\"400\" viewBox=\"0 0 2400 1600\">\n",
       "<defs>\n",
       "  <clipPath id=\"clip0100\">\n",
       "    <rect x=\"0\" y=\"0\" width=\"2400\" height=\"1600\"/>\n",
       "  </clipPath>\n",
       "</defs>\n",
       "<polygon clip-path=\"url(#clip0100)\" points=\"\n",
       "0,1600 2400,1600 2400,0 0,0 \n",
       "  \" fill=\"#ffffff\" fill-rule=\"evenodd\" fill-opacity=\"1\"/>\n",
       "<defs>\n",
       "  <clipPath id=\"clip0101\">\n",
       "    <rect x=\"480\" y=\"0\" width=\"1681\" height=\"1600\"/>\n",
       "  </clipPath>\n",
       "</defs>\n",
       "<polygon clip-path=\"url(#clip0100)\" points=\"\n",
       "149.361,1503.47 2321.26,1503.47 2321.26,47.2441 149.361,47.2441 \n",
       "  \" fill=\"#ffffff\" fill-rule=\"evenodd\" fill-opacity=\"1\"/>\n",
       "<defs>\n",
       "  <clipPath id=\"clip0102\">\n",
       "    <rect x=\"149\" y=\"47\" width=\"2173\" height=\"1457\"/>\n",
       "  </clipPath>\n",
       "</defs>\n",
       "<polyline clip-path=\"url(#clip0102)\" style=\"stroke:#000000; stroke-width:2; stroke-opacity:0.1; fill:none\" points=\"\n",
       "  459.13,1503.47 459.13,47.2441 \n",
       "  \"/>\n",
       "<polyline clip-path=\"url(#clip0102)\" style=\"stroke:#000000; stroke-width:2; stroke-opacity:0.1; fill:none\" points=\"\n",
       "  786.847,1503.47 786.847,47.2441 \n",
       "  \"/>\n",
       "<polyline clip-path=\"url(#clip0102)\" style=\"stroke:#000000; stroke-width:2; stroke-opacity:0.1; fill:none\" points=\"\n",
       "  1114.56,1503.47 1114.56,47.2441 \n",
       "  \"/>\n",
       "<polyline clip-path=\"url(#clip0102)\" style=\"stroke:#000000; stroke-width:2; stroke-opacity:0.1; fill:none\" points=\"\n",
       "  1442.28,1503.47 1442.28,47.2441 \n",
       "  \"/>\n",
       "<polyline clip-path=\"url(#clip0102)\" style=\"stroke:#000000; stroke-width:2; stroke-opacity:0.1; fill:none\" points=\"\n",
       "  1770,1503.47 1770,47.2441 \n",
       "  \"/>\n",
       "<polyline clip-path=\"url(#clip0102)\" style=\"stroke:#000000; stroke-width:2; stroke-opacity:0.1; fill:none\" points=\"\n",
       "  2097.72,1503.47 2097.72,47.2441 \n",
       "  \"/>\n",
       "<polyline clip-path=\"url(#clip0102)\" style=\"stroke:#000000; stroke-width:2; stroke-opacity:0.1; fill:none\" points=\"\n",
       "  149.361,1431.76 2321.26,1431.76 \n",
       "  \"/>\n",
       "<polyline clip-path=\"url(#clip0102)\" style=\"stroke:#000000; stroke-width:2; stroke-opacity:0.1; fill:none\" points=\"\n",
       "  149.361,1227.65 2321.26,1227.65 \n",
       "  \"/>\n",
       "<polyline clip-path=\"url(#clip0102)\" style=\"stroke:#000000; stroke-width:2; stroke-opacity:0.1; fill:none\" points=\"\n",
       "  149.361,1023.54 2321.26,1023.54 \n",
       "  \"/>\n",
       "<polyline clip-path=\"url(#clip0102)\" style=\"stroke:#000000; stroke-width:2; stroke-opacity:0.1; fill:none\" points=\"\n",
       "  149.361,819.424 2321.26,819.424 \n",
       "  \"/>\n",
       "<polyline clip-path=\"url(#clip0102)\" style=\"stroke:#000000; stroke-width:2; stroke-opacity:0.1; fill:none\" points=\"\n",
       "  149.361,615.313 2321.26,615.313 \n",
       "  \"/>\n",
       "<polyline clip-path=\"url(#clip0102)\" style=\"stroke:#000000; stroke-width:2; stroke-opacity:0.1; fill:none\" points=\"\n",
       "  149.361,411.202 2321.26,411.202 \n",
       "  \"/>\n",
       "<polyline clip-path=\"url(#clip0102)\" style=\"stroke:#000000; stroke-width:2; stroke-opacity:0.1; fill:none\" points=\"\n",
       "  149.361,207.091 2321.26,207.091 \n",
       "  \"/>\n",
       "<polyline clip-path=\"url(#clip0100)\" style=\"stroke:#000000; stroke-width:4; stroke-opacity:1; fill:none\" points=\"\n",
       "  149.361,1503.47 2321.26,1503.47 \n",
       "  \"/>\n",
       "<polyline clip-path=\"url(#clip0100)\" style=\"stroke:#000000; stroke-width:4; stroke-opacity:1; fill:none\" points=\"\n",
       "  149.361,1503.47 149.361,47.2441 \n",
       "  \"/>\n",
       "<polyline clip-path=\"url(#clip0100)\" style=\"stroke:#000000; stroke-width:4; stroke-opacity:1; fill:none\" points=\"\n",
       "  459.13,1503.47 459.13,1481.63 \n",
       "  \"/>\n",
       "<polyline clip-path=\"url(#clip0100)\" style=\"stroke:#000000; stroke-width:4; stroke-opacity:1; fill:none\" points=\"\n",
       "  786.847,1503.47 786.847,1481.63 \n",
       "  \"/>\n",
       "<polyline clip-path=\"url(#clip0100)\" style=\"stroke:#000000; stroke-width:4; stroke-opacity:1; fill:none\" points=\"\n",
       "  1114.56,1503.47 1114.56,1481.63 \n",
       "  \"/>\n",
       "<polyline clip-path=\"url(#clip0100)\" style=\"stroke:#000000; stroke-width:4; stroke-opacity:1; fill:none\" points=\"\n",
       "  1442.28,1503.47 1442.28,1481.63 \n",
       "  \"/>\n",
       "<polyline clip-path=\"url(#clip0100)\" style=\"stroke:#000000; stroke-width:4; stroke-opacity:1; fill:none\" points=\"\n",
       "  1770,1503.47 1770,1481.63 \n",
       "  \"/>\n",
       "<polyline clip-path=\"url(#clip0100)\" style=\"stroke:#000000; stroke-width:4; stroke-opacity:1; fill:none\" points=\"\n",
       "  2097.72,1503.47 2097.72,1481.63 \n",
       "  \"/>\n",
       "<polyline clip-path=\"url(#clip0100)\" style=\"stroke:#000000; stroke-width:4; stroke-opacity:1; fill:none\" points=\"\n",
       "  149.361,1431.76 181.939,1431.76 \n",
       "  \"/>\n",
       "<polyline clip-path=\"url(#clip0100)\" style=\"stroke:#000000; stroke-width:4; stroke-opacity:1; fill:none\" points=\"\n",
       "  149.361,1227.65 181.939,1227.65 \n",
       "  \"/>\n",
       "<polyline clip-path=\"url(#clip0100)\" style=\"stroke:#000000; stroke-width:4; stroke-opacity:1; fill:none\" points=\"\n",
       "  149.361,1023.54 181.939,1023.54 \n",
       "  \"/>\n",
       "<polyline clip-path=\"url(#clip0100)\" style=\"stroke:#000000; stroke-width:4; stroke-opacity:1; fill:none\" points=\"\n",
       "  149.361,819.424 181.939,819.424 \n",
       "  \"/>\n",
       "<polyline clip-path=\"url(#clip0100)\" style=\"stroke:#000000; stroke-width:4; stroke-opacity:1; fill:none\" points=\"\n",
       "  149.361,615.313 181.939,615.313 \n",
       "  \"/>\n",
       "<polyline clip-path=\"url(#clip0100)\" style=\"stroke:#000000; stroke-width:4; stroke-opacity:1; fill:none\" points=\"\n",
       "  149.361,411.202 181.939,411.202 \n",
       "  \"/>\n",
       "<polyline clip-path=\"url(#clip0100)\" style=\"stroke:#000000; stroke-width:4; stroke-opacity:1; fill:none\" points=\"\n",
       "  149.361,207.091 181.939,207.091 \n",
       "  \"/>\n",
       "<g clip-path=\"url(#clip0100)\">\n",
       "<text style=\"fill:#000000; fill-opacity:1; font-family:Arial,Helvetica Neue,Helvetica,sans-serif; font-size:48px; text-anchor:middle;\" transform=\"rotate(0, 459.13, 1557.47)\" x=\"459.13\" y=\"1557.47\">-3</text>\n",
       "</g>\n",
       "<g clip-path=\"url(#clip0100)\">\n",
       "<text style=\"fill:#000000; fill-opacity:1; font-family:Arial,Helvetica Neue,Helvetica,sans-serif; font-size:48px; text-anchor:middle;\" transform=\"rotate(0, 786.847, 1557.47)\" x=\"786.847\" y=\"1557.47\">-2</text>\n",
       "</g>\n",
       "<g clip-path=\"url(#clip0100)\">\n",
       "<text style=\"fill:#000000; fill-opacity:1; font-family:Arial,Helvetica Neue,Helvetica,sans-serif; font-size:48px; text-anchor:middle;\" transform=\"rotate(0, 1114.56, 1557.47)\" x=\"1114.56\" y=\"1557.47\">-1</text>\n",
       "</g>\n",
       "<g clip-path=\"url(#clip0100)\">\n",
       "<text style=\"fill:#000000; fill-opacity:1; font-family:Arial,Helvetica Neue,Helvetica,sans-serif; font-size:48px; text-anchor:middle;\" transform=\"rotate(0, 1442.28, 1557.47)\" x=\"1442.28\" y=\"1557.47\">0</text>\n",
       "</g>\n",
       "<g clip-path=\"url(#clip0100)\">\n",
       "<text style=\"fill:#000000; fill-opacity:1; font-family:Arial,Helvetica Neue,Helvetica,sans-serif; font-size:48px; text-anchor:middle;\" transform=\"rotate(0, 1770, 1557.47)\" x=\"1770\" y=\"1557.47\">1</text>\n",
       "</g>\n",
       "<g clip-path=\"url(#clip0100)\">\n",
       "<text style=\"fill:#000000; fill-opacity:1; font-family:Arial,Helvetica Neue,Helvetica,sans-serif; font-size:48px; text-anchor:middle;\" transform=\"rotate(0, 2097.72, 1557.47)\" x=\"2097.72\" y=\"1557.47\">2</text>\n",
       "</g>\n",
       "<g clip-path=\"url(#clip0100)\">\n",
       "<text style=\"fill:#000000; fill-opacity:1; font-family:Arial,Helvetica Neue,Helvetica,sans-serif; font-size:48px; text-anchor:end;\" transform=\"rotate(0, 125.361, 1449.26)\" x=\"125.361\" y=\"1449.26\">-2</text>\n",
       "</g>\n",
       "<g clip-path=\"url(#clip0100)\">\n",
       "<text style=\"fill:#000000; fill-opacity:1; font-family:Arial,Helvetica Neue,Helvetica,sans-serif; font-size:48px; text-anchor:end;\" transform=\"rotate(0, 125.361, 1245.15)\" x=\"125.361\" y=\"1245.15\">-1</text>\n",
       "</g>\n",
       "<g clip-path=\"url(#clip0100)\">\n",
       "<text style=\"fill:#000000; fill-opacity:1; font-family:Arial,Helvetica Neue,Helvetica,sans-serif; font-size:48px; text-anchor:end;\" transform=\"rotate(0, 125.361, 1041.04)\" x=\"125.361\" y=\"1041.04\">0</text>\n",
       "</g>\n",
       "<g clip-path=\"url(#clip0100)\">\n",
       "<text style=\"fill:#000000; fill-opacity:1; font-family:Arial,Helvetica Neue,Helvetica,sans-serif; font-size:48px; text-anchor:end;\" transform=\"rotate(0, 125.361, 836.924)\" x=\"125.361\" y=\"836.924\">1</text>\n",
       "</g>\n",
       "<g clip-path=\"url(#clip0100)\">\n",
       "<text style=\"fill:#000000; fill-opacity:1; font-family:Arial,Helvetica Neue,Helvetica,sans-serif; font-size:48px; text-anchor:end;\" transform=\"rotate(0, 125.361, 632.813)\" x=\"125.361\" y=\"632.813\">2</text>\n",
       "</g>\n",
       "<g clip-path=\"url(#clip0100)\">\n",
       "<text style=\"fill:#000000; fill-opacity:1; font-family:Arial,Helvetica Neue,Helvetica,sans-serif; font-size:48px; text-anchor:end;\" transform=\"rotate(0, 125.361, 428.702)\" x=\"125.361\" y=\"428.702\">3</text>\n",
       "</g>\n",
       "<g clip-path=\"url(#clip0100)\">\n",
       "<text style=\"fill:#000000; fill-opacity:1; font-family:Arial,Helvetica Neue,Helvetica,sans-serif; font-size:48px; text-anchor:end;\" transform=\"rotate(0, 125.361, 224.591)\" x=\"125.361\" y=\"224.591\">4</text>\n",
       "</g>\n",
       "<circle clip-path=\"url(#clip0102)\" style=\"fill:#000000; stroke:none; fill-opacity:1\" cx=\"1381.13\" cy=\"1174.1\" r=\"18\"/>\n",
       "<circle clip-path=\"url(#clip0102)\" style=\"fill:#d968a2; stroke:none; fill-opacity:1\" cx=\"1381.13\" cy=\"1174.1\" r=\"14\"/>\n",
       "<circle clip-path=\"url(#clip0102)\" style=\"fill:#000000; stroke:none; fill-opacity:1\" cx=\"1199.26\" cy=\"920.854\" r=\"18\"/>\n",
       "<circle clip-path=\"url(#clip0102)\" style=\"fill:#d968a2; stroke:none; fill-opacity:1\" cx=\"1199.26\" cy=\"920.854\" r=\"14\"/>\n",
       "<circle clip-path=\"url(#clip0102)\" style=\"fill:#000000; stroke:none; fill-opacity:1\" cx=\"2168.07\" cy=\"955.984\" r=\"18\"/>\n",
       "<circle clip-path=\"url(#clip0102)\" style=\"fill:#d968a2; stroke:none; fill-opacity:1\" cx=\"2168.07\" cy=\"955.984\" r=\"14\"/>\n",
       "<circle clip-path=\"url(#clip0102)\" style=\"fill:#000000; stroke:none; fill-opacity:1\" cx=\"1551.18\" cy=\"940.854\" r=\"18\"/>\n",
       "<circle clip-path=\"url(#clip0102)\" style=\"fill:#d968a2; stroke:none; fill-opacity:1\" cx=\"1551.18\" cy=\"940.854\" r=\"14\"/>\n",
       "<circle clip-path=\"url(#clip0102)\" style=\"fill:#000000; stroke:none; fill-opacity:1\" cx=\"1158.5\" cy=\"609.824\" r=\"18\"/>\n",
       "<circle clip-path=\"url(#clip0102)\" style=\"fill:#d968a2; stroke:none; fill-opacity:1\" cx=\"1158.5\" cy=\"609.824\" r=\"14\"/>\n",
       "<circle clip-path=\"url(#clip0102)\" style=\"fill:#000000; stroke:none; fill-opacity:1\" cx=\"753.073\" cy=\"794.015\" r=\"18\"/>\n",
       "<circle clip-path=\"url(#clip0102)\" style=\"fill:#d968a2; stroke:none; fill-opacity:1\" cx=\"753.073\" cy=\"794.015\" r=\"14\"/>\n",
       "<circle clip-path=\"url(#clip0102)\" style=\"fill:#000000; stroke:none; fill-opacity:1\" cx=\"1453.8\" cy=\"984.113\" r=\"18\"/>\n",
       "<circle clip-path=\"url(#clip0102)\" style=\"fill:#d968a2; stroke:none; fill-opacity:1\" cx=\"1453.8\" cy=\"984.113\" r=\"14\"/>\n",
       "<circle clip-path=\"url(#clip0102)\" style=\"fill:#000000; stroke:none; fill-opacity:1\" cx=\"1700.63\" cy=\"1077.32\" r=\"18\"/>\n",
       "<circle clip-path=\"url(#clip0102)\" style=\"fill:#d968a2; stroke:none; fill-opacity:1\" cx=\"1700.63\" cy=\"1077.32\" r=\"14\"/>\n",
       "<circle clip-path=\"url(#clip0102)\" style=\"fill:#000000; stroke:none; fill-opacity:1\" cx=\"2259.79\" cy=\"816.61\" r=\"18\"/>\n",
       "<circle clip-path=\"url(#clip0102)\" style=\"fill:#d968a2; stroke:none; fill-opacity:1\" cx=\"2259.79\" cy=\"816.61\" r=\"14\"/>\n",
       "<circle clip-path=\"url(#clip0102)\" style=\"fill:#000000; stroke:none; fill-opacity:1\" cx=\"1467.84\" cy=\"956.546\" r=\"18\"/>\n",
       "<circle clip-path=\"url(#clip0102)\" style=\"fill:#d968a2; stroke:none; fill-opacity:1\" cx=\"1467.84\" cy=\"956.546\" r=\"14\"/>\n",
       "<circle clip-path=\"url(#clip0102)\" style=\"fill:#000000; stroke:none; fill-opacity:1\" cx=\"1227.03\" cy=\"1271.95\" r=\"18\"/>\n",
       "<circle clip-path=\"url(#clip0102)\" style=\"fill:#d968a2; stroke:none; fill-opacity:1\" cx=\"1227.03\" cy=\"1271.95\" r=\"14\"/>\n",
       "<circle clip-path=\"url(#clip0102)\" style=\"fill:#000000; stroke:none; fill-opacity:1\" cx=\"1449.5\" cy=\"686.759\" r=\"18\"/>\n",
       "<circle clip-path=\"url(#clip0102)\" style=\"fill:#d968a2; stroke:none; fill-opacity:1\" cx=\"1449.5\" cy=\"686.759\" r=\"14\"/>\n",
       "<circle clip-path=\"url(#clip0102)\" style=\"fill:#000000; stroke:none; fill-opacity:1\" cx=\"1441.25\" cy=\"1332.88\" r=\"18\"/>\n",
       "<circle clip-path=\"url(#clip0102)\" style=\"fill:#d968a2; stroke:none; fill-opacity:1\" cx=\"1441.25\" cy=\"1332.88\" r=\"14\"/>\n",
       "<circle clip-path=\"url(#clip0102)\" style=\"fill:#000000; stroke:none; fill-opacity:1\" cx=\"1567.75\" cy=\"877.811\" r=\"18\"/>\n",
       "<circle clip-path=\"url(#clip0102)\" style=\"fill:#d968a2; stroke:none; fill-opacity:1\" cx=\"1567.75\" cy=\"877.811\" r=\"14\"/>\n",
       "<circle clip-path=\"url(#clip0102)\" style=\"fill:#000000; stroke:none; fill-opacity:1\" cx=\"1866.01\" cy=\"1310.6\" r=\"18\"/>\n",
       "<circle clip-path=\"url(#clip0102)\" style=\"fill:#d968a2; stroke:none; fill-opacity:1\" cx=\"1866.01\" cy=\"1310.6\" r=\"14\"/>\n",
       "<circle clip-path=\"url(#clip0102)\" style=\"fill:#000000; stroke:none; fill-opacity:1\" cx=\"1379.03\" cy=\"1024.17\" r=\"18\"/>\n",
       "<circle clip-path=\"url(#clip0102)\" style=\"fill:#d968a2; stroke:none; fill-opacity:1\" cx=\"1379.03\" cy=\"1024.17\" r=\"14\"/>\n",
       "<circle clip-path=\"url(#clip0102)\" style=\"fill:#000000; stroke:none; fill-opacity:1\" cx=\"2091.5\" cy=\"1102.27\" r=\"18\"/>\n",
       "<circle clip-path=\"url(#clip0102)\" style=\"fill:#d968a2; stroke:none; fill-opacity:1\" cx=\"2091.5\" cy=\"1102.27\" r=\"14\"/>\n",
       "<circle clip-path=\"url(#clip0102)\" style=\"fill:#000000; stroke:none; fill-opacity:1\" cx=\"1527.24\" cy=\"895.629\" r=\"18\"/>\n",
       "<circle clip-path=\"url(#clip0102)\" style=\"fill:#d968a2; stroke:none; fill-opacity:1\" cx=\"1527.24\" cy=\"895.629\" r=\"14\"/>\n",
       "<circle clip-path=\"url(#clip0102)\" style=\"fill:#000000; stroke:none; fill-opacity:1\" cx=\"1484.79\" cy=\"1104.44\" r=\"18\"/>\n",
       "<circle clip-path=\"url(#clip0102)\" style=\"fill:#d968a2; stroke:none; fill-opacity:1\" cx=\"1484.79\" cy=\"1104.44\" r=\"14\"/>\n",
       "<circle clip-path=\"url(#clip0102)\" style=\"fill:#000000; stroke:none; fill-opacity:1\" cx=\"1358.39\" cy=\"1104.94\" r=\"18\"/>\n",
       "<circle clip-path=\"url(#clip0102)\" style=\"fill:#d968a2; stroke:none; fill-opacity:1\" cx=\"1358.39\" cy=\"1104.94\" r=\"14\"/>\n",
       "<circle clip-path=\"url(#clip0102)\" style=\"fill:#000000; stroke:none; fill-opacity:1\" cx=\"1686.01\" cy=\"971.556\" r=\"18\"/>\n",
       "<circle clip-path=\"url(#clip0102)\" style=\"fill:#d968a2; stroke:none; fill-opacity:1\" cx=\"1686.01\" cy=\"971.556\" r=\"14\"/>\n",
       "<circle clip-path=\"url(#clip0102)\" style=\"fill:#000000; stroke:none; fill-opacity:1\" cx=\"949.538\" cy=\"1462.26\" r=\"18\"/>\n",
       "<circle clip-path=\"url(#clip0102)\" style=\"fill:#d968a2; stroke:none; fill-opacity:1\" cx=\"949.538\" cy=\"1462.26\" r=\"14\"/>\n",
       "<circle clip-path=\"url(#clip0102)\" style=\"fill:#000000; stroke:none; fill-opacity:1\" cx=\"1649.88\" cy=\"1162.07\" r=\"18\"/>\n",
       "<circle clip-path=\"url(#clip0102)\" style=\"fill:#d968a2; stroke:none; fill-opacity:1\" cx=\"1649.88\" cy=\"1162.07\" r=\"14\"/>\n",
       "<circle clip-path=\"url(#clip0102)\" style=\"fill:#000000; stroke:none; fill-opacity:1\" cx=\"1517.51\" cy=\"1002.54\" r=\"18\"/>\n",
       "<circle clip-path=\"url(#clip0102)\" style=\"fill:#d968a2; stroke:none; fill-opacity:1\" cx=\"1517.51\" cy=\"1002.54\" r=\"14\"/>\n",
       "<circle clip-path=\"url(#clip0102)\" style=\"fill:#000000; stroke:none; fill-opacity:1\" cx=\"1662\" cy=\"772.749\" r=\"18\"/>\n",
       "<circle clip-path=\"url(#clip0102)\" style=\"fill:#d968a2; stroke:none; fill-opacity:1\" cx=\"1662\" cy=\"772.749\" r=\"14\"/>\n",
       "<circle clip-path=\"url(#clip0102)\" style=\"fill:#000000; stroke:none; fill-opacity:1\" cx=\"1097.49\" cy=\"1119.14\" r=\"18\"/>\n",
       "<circle clip-path=\"url(#clip0102)\" style=\"fill:#d968a2; stroke:none; fill-opacity:1\" cx=\"1097.49\" cy=\"1119.14\" r=\"14\"/>\n",
       "<circle clip-path=\"url(#clip0102)\" style=\"fill:#000000; stroke:none; fill-opacity:1\" cx=\"1421.55\" cy=\"861.271\" r=\"18\"/>\n",
       "<circle clip-path=\"url(#clip0102)\" style=\"fill:#d968a2; stroke:none; fill-opacity:1\" cx=\"1421.55\" cy=\"861.271\" r=\"14\"/>\n",
       "<circle clip-path=\"url(#clip0102)\" style=\"fill:#000000; stroke:none; fill-opacity:1\" cx=\"1646.6\" cy=\"710.091\" r=\"18\"/>\n",
       "<circle clip-path=\"url(#clip0102)\" style=\"fill:#d968a2; stroke:none; fill-opacity:1\" cx=\"1646.6\" cy=\"710.091\" r=\"14\"/>\n",
       "<circle clip-path=\"url(#clip0102)\" style=\"fill:#000000; stroke:none; fill-opacity:1\" cx=\"1085.15\" cy=\"843.039\" r=\"18\"/>\n",
       "<circle clip-path=\"url(#clip0102)\" style=\"fill:#d968a2; stroke:none; fill-opacity:1\" cx=\"1085.15\" cy=\"843.039\" r=\"14\"/>\n",
       "<circle clip-path=\"url(#clip0102)\" style=\"fill:#000000; stroke:none; fill-opacity:1\" cx=\"1384.69\" cy=\"1205.19\" r=\"18\"/>\n",
       "<circle clip-path=\"url(#clip0102)\" style=\"fill:#d968a2; stroke:none; fill-opacity:1\" cx=\"1384.69\" cy=\"1205.19\" r=\"14\"/>\n",
       "<circle clip-path=\"url(#clip0102)\" style=\"fill:#000000; stroke:none; fill-opacity:1\" cx=\"1866.21\" cy=\"812.724\" r=\"18\"/>\n",
       "<circle clip-path=\"url(#clip0102)\" style=\"fill:#d968a2; stroke:none; fill-opacity:1\" cx=\"1866.21\" cy=\"812.724\" r=\"14\"/>\n",
       "<circle clip-path=\"url(#clip0102)\" style=\"fill:#000000; stroke:none; fill-opacity:1\" cx=\"1274.25\" cy=\"1280\" r=\"18\"/>\n",
       "<circle clip-path=\"url(#clip0102)\" style=\"fill:#d968a2; stroke:none; fill-opacity:1\" cx=\"1274.25\" cy=\"1280\" r=\"14\"/>\n",
       "<circle clip-path=\"url(#clip0102)\" style=\"fill:#000000; stroke:none; fill-opacity:1\" cx=\"1769.63\" cy=\"835.651\" r=\"18\"/>\n",
       "<circle clip-path=\"url(#clip0102)\" style=\"fill:#d968a2; stroke:none; fill-opacity:1\" cx=\"1769.63\" cy=\"835.651\" r=\"14\"/>\n",
       "<circle clip-path=\"url(#clip0102)\" style=\"fill:#000000; stroke:none; fill-opacity:1\" cx=\"1638.49\" cy=\"1076.25\" r=\"18\"/>\n",
       "<circle clip-path=\"url(#clip0102)\" style=\"fill:#d968a2; stroke:none; fill-opacity:1\" cx=\"1638.49\" cy=\"1076.25\" r=\"14\"/>\n",
       "<circle clip-path=\"url(#clip0102)\" style=\"fill:#000000; stroke:none; fill-opacity:1\" cx=\"1009.57\" cy=\"1047.64\" r=\"18\"/>\n",
       "<circle clip-path=\"url(#clip0102)\" style=\"fill:#d968a2; stroke:none; fill-opacity:1\" cx=\"1009.57\" cy=\"1047.64\" r=\"14\"/>\n",
       "<circle clip-path=\"url(#clip0102)\" style=\"fill:#000000; stroke:none; fill-opacity:1\" cx=\"1475.73\" cy=\"1101.2\" r=\"18\"/>\n",
       "<circle clip-path=\"url(#clip0102)\" style=\"fill:#d968a2; stroke:none; fill-opacity:1\" cx=\"1475.73\" cy=\"1101.2\" r=\"14\"/>\n",
       "<circle clip-path=\"url(#clip0102)\" style=\"fill:#000000; stroke:none; fill-opacity:1\" cx=\"1285.32\" cy=\"858.626\" r=\"18\"/>\n",
       "<circle clip-path=\"url(#clip0102)\" style=\"fill:#d968a2; stroke:none; fill-opacity:1\" cx=\"1285.32\" cy=\"858.626\" r=\"14\"/>\n",
       "<circle clip-path=\"url(#clip0102)\" style=\"fill:#000000; stroke:none; fill-opacity:1\" cx=\"1858.35\" cy=\"992.762\" r=\"18\"/>\n",
       "<circle clip-path=\"url(#clip0102)\" style=\"fill:#d968a2; stroke:none; fill-opacity:1\" cx=\"1858.35\" cy=\"992.762\" r=\"14\"/>\n",
       "<circle clip-path=\"url(#clip0102)\" style=\"fill:#000000; stroke:none; fill-opacity:1\" cx=\"1826.69\" cy=\"831.262\" r=\"18\"/>\n",
       "<circle clip-path=\"url(#clip0102)\" style=\"fill:#d968a2; stroke:none; fill-opacity:1\" cx=\"1826.69\" cy=\"831.262\" r=\"14\"/>\n",
       "<circle clip-path=\"url(#clip0102)\" style=\"fill:#000000; stroke:none; fill-opacity:1\" cx=\"1128.75\" cy=\"967.789\" r=\"18\"/>\n",
       "<circle clip-path=\"url(#clip0102)\" style=\"fill:#d968a2; stroke:none; fill-opacity:1\" cx=\"1128.75\" cy=\"967.789\" r=\"14\"/>\n",
       "<circle clip-path=\"url(#clip0102)\" style=\"fill:#000000; stroke:none; fill-opacity:1\" cx=\"1548.36\" cy=\"852.168\" r=\"18\"/>\n",
       "<circle clip-path=\"url(#clip0102)\" style=\"fill:#d968a2; stroke:none; fill-opacity:1\" cx=\"1548.36\" cy=\"852.168\" r=\"14\"/>\n",
       "<circle clip-path=\"url(#clip0102)\" style=\"fill:#000000; stroke:none; fill-opacity:1\" cx=\"1107.41\" cy=\"1399.03\" r=\"18\"/>\n",
       "<circle clip-path=\"url(#clip0102)\" style=\"fill:#d968a2; stroke:none; fill-opacity:1\" cx=\"1107.41\" cy=\"1399.03\" r=\"14\"/>\n",
       "<circle clip-path=\"url(#clip0102)\" style=\"fill:#000000; stroke:none; fill-opacity:1\" cx=\"1983.27\" cy=\"1196.36\" r=\"18\"/>\n",
       "<circle clip-path=\"url(#clip0102)\" style=\"fill:#d968a2; stroke:none; fill-opacity:1\" cx=\"1983.27\" cy=\"1196.36\" r=\"14\"/>\n",
       "<circle clip-path=\"url(#clip0102)\" style=\"fill:#000000; stroke:none; fill-opacity:1\" cx=\"1929.65\" cy=\"1105.76\" r=\"18\"/>\n",
       "<circle clip-path=\"url(#clip0102)\" style=\"fill:#d968a2; stroke:none; fill-opacity:1\" cx=\"1929.65\" cy=\"1105.76\" r=\"14\"/>\n",
       "<circle clip-path=\"url(#clip0102)\" style=\"fill:#000000; stroke:none; fill-opacity:1\" cx=\"1284.44\" cy=\"1061.64\" r=\"18\"/>\n",
       "<circle clip-path=\"url(#clip0102)\" style=\"fill:#d968a2; stroke:none; fill-opacity:1\" cx=\"1284.44\" cy=\"1061.64\" r=\"14\"/>\n",
       "<circle clip-path=\"url(#clip0102)\" style=\"fill:#000000; stroke:none; fill-opacity:1\" cx=\"1703.45\" cy=\"959.961\" r=\"18\"/>\n",
       "<circle clip-path=\"url(#clip0102)\" style=\"fill:#d968a2; stroke:none; fill-opacity:1\" cx=\"1703.45\" cy=\"959.961\" r=\"14\"/>\n",
       "<circle clip-path=\"url(#clip0102)\" style=\"fill:#000000; stroke:none; fill-opacity:1\" cx=\"941.193\" cy=\"866.501\" r=\"18\"/>\n",
       "<circle clip-path=\"url(#clip0102)\" style=\"fill:#d968a2; stroke:none; fill-opacity:1\" cx=\"941.193\" cy=\"866.501\" r=\"14\"/>\n",
       "<circle clip-path=\"url(#clip0102)\" style=\"fill:#000000; stroke:none; fill-opacity:1\" cx=\"997.761\" cy=\"1193.05\" r=\"18\"/>\n",
       "<circle clip-path=\"url(#clip0102)\" style=\"fill:#d968a2; stroke:none; fill-opacity:1\" cx=\"997.761\" cy=\"1193.05\" r=\"14\"/>\n",
       "<circle clip-path=\"url(#clip0102)\" style=\"fill:#000000; stroke:none; fill-opacity:1\" cx=\"1178.16\" cy=\"719.92\" r=\"18\"/>\n",
       "<circle clip-path=\"url(#clip0102)\" style=\"fill:#d968a2; stroke:none; fill-opacity:1\" cx=\"1178.16\" cy=\"719.92\" r=\"14\"/>\n",
       "<circle clip-path=\"url(#clip0102)\" style=\"fill:#000000; stroke:none; fill-opacity:1\" cx=\"1422.48\" cy=\"1153.04\" r=\"18\"/>\n",
       "<circle clip-path=\"url(#clip0102)\" style=\"fill:#d968a2; stroke:none; fill-opacity:1\" cx=\"1422.48\" cy=\"1153.04\" r=\"14\"/>\n",
       "<circle clip-path=\"url(#clip0102)\" style=\"fill:#000000; stroke:none; fill-opacity:1\" cx=\"1364.31\" cy=\"406.055\" r=\"18\"/>\n",
       "<circle clip-path=\"url(#clip0102)\" style=\"fill:#009af9; stroke:none; fill-opacity:1\" cx=\"1364.31\" cy=\"406.055\" r=\"14\"/>\n",
       "<circle clip-path=\"url(#clip0102)\" style=\"fill:#000000; stroke:none; fill-opacity:1\" cx=\"1096.32\" cy=\"444.794\" r=\"18\"/>\n",
       "<circle clip-path=\"url(#clip0102)\" style=\"fill:#009af9; stroke:none; fill-opacity:1\" cx=\"1096.32\" cy=\"444.794\" r=\"14\"/>\n",
       "<circle clip-path=\"url(#clip0102)\" style=\"fill:#000000; stroke:none; fill-opacity:1\" cx=\"1617.8\" cy=\"558.67\" r=\"18\"/>\n",
       "<circle clip-path=\"url(#clip0102)\" style=\"fill:#009af9; stroke:none; fill-opacity:1\" cx=\"1617.8\" cy=\"558.67\" r=\"14\"/>\n",
       "<circle clip-path=\"url(#clip0102)\" style=\"fill:#000000; stroke:none; fill-opacity:1\" cx=\"1200.99\" cy=\"719.488\" r=\"18\"/>\n",
       "<circle clip-path=\"url(#clip0102)\" style=\"fill:#009af9; stroke:none; fill-opacity:1\" cx=\"1200.99\" cy=\"719.488\" r=\"14\"/>\n",
       "<circle clip-path=\"url(#clip0102)\" style=\"fill:#000000; stroke:none; fill-opacity:1\" cx=\"1535.69\" cy=\"503.57\" r=\"18\"/>\n",
       "<circle clip-path=\"url(#clip0102)\" style=\"fill:#009af9; stroke:none; fill-opacity:1\" cx=\"1535.69\" cy=\"503.57\" r=\"14\"/>\n",
       "<circle clip-path=\"url(#clip0102)\" style=\"fill:#000000; stroke:none; fill-opacity:1\" cx=\"1245.5\" cy=\"780.803\" r=\"18\"/>\n",
       "<circle clip-path=\"url(#clip0102)\" style=\"fill:#009af9; stroke:none; fill-opacity:1\" cx=\"1245.5\" cy=\"780.803\" r=\"14\"/>\n",
       "<circle clip-path=\"url(#clip0102)\" style=\"fill:#000000; stroke:none; fill-opacity:1\" cx=\"1628.1\" cy=\"490.799\" r=\"18\"/>\n",
       "<circle clip-path=\"url(#clip0102)\" style=\"fill:#009af9; stroke:none; fill-opacity:1\" cx=\"1628.1\" cy=\"490.799\" r=\"14\"/>\n",
       "<circle clip-path=\"url(#clip0102)\" style=\"fill:#000000; stroke:none; fill-opacity:1\" cx=\"931.929\" cy=\"921.893\" r=\"18\"/>\n",
       "<circle clip-path=\"url(#clip0102)\" style=\"fill:#009af9; stroke:none; fill-opacity:1\" cx=\"931.929\" cy=\"921.893\" r=\"14\"/>\n",
       "<circle clip-path=\"url(#clip0102)\" style=\"fill:#000000; stroke:none; fill-opacity:1\" cx=\"1522.89\" cy=\"745.195\" r=\"18\"/>\n",
       "<circle clip-path=\"url(#clip0102)\" style=\"fill:#009af9; stroke:none; fill-opacity:1\" cx=\"1522.89\" cy=\"745.195\" r=\"14\"/>\n",
       "<circle clip-path=\"url(#clip0102)\" style=\"fill:#000000; stroke:none; fill-opacity:1\" cx=\"1326.79\" cy=\"501.093\" r=\"18\"/>\n",
       "<circle clip-path=\"url(#clip0102)\" style=\"fill:#009af9; stroke:none; fill-opacity:1\" cx=\"1326.79\" cy=\"501.093\" r=\"14\"/>\n",
       "<circle clip-path=\"url(#clip0102)\" style=\"fill:#000000; stroke:none; fill-opacity:1\" cx=\"210.829\" cy=\"376.404\" r=\"18\"/>\n",
       "<circle clip-path=\"url(#clip0102)\" style=\"fill:#009af9; stroke:none; fill-opacity:1\" cx=\"210.829\" cy=\"376.404\" r=\"14\"/>\n",
       "<circle clip-path=\"url(#clip0102)\" style=\"fill:#000000; stroke:none; fill-opacity:1\" cx=\"981.031\" cy=\"385.496\" r=\"18\"/>\n",
       "<circle clip-path=\"url(#clip0102)\" style=\"fill:#009af9; stroke:none; fill-opacity:1\" cx=\"981.031\" cy=\"385.496\" r=\"14\"/>\n",
       "<circle clip-path=\"url(#clip0102)\" style=\"fill:#000000; stroke:none; fill-opacity:1\" cx=\"1083.88\" cy=\"380.021\" r=\"18\"/>\n",
       "<circle clip-path=\"url(#clip0102)\" style=\"fill:#009af9; stroke:none; fill-opacity:1\" cx=\"1083.88\" cy=\"380.021\" r=\"14\"/>\n",
       "<circle clip-path=\"url(#clip0102)\" style=\"fill:#000000; stroke:none; fill-opacity:1\" cx=\"1741.15\" cy=\"726.266\" r=\"18\"/>\n",
       "<circle clip-path=\"url(#clip0102)\" style=\"fill:#009af9; stroke:none; fill-opacity:1\" cx=\"1741.15\" cy=\"726.266\" r=\"14\"/>\n",
       "<circle clip-path=\"url(#clip0102)\" style=\"fill:#000000; stroke:none; fill-opacity:1\" cx=\"1285.23\" cy=\"458.375\" r=\"18\"/>\n",
       "<circle clip-path=\"url(#clip0102)\" style=\"fill:#009af9; stroke:none; fill-opacity:1\" cx=\"1285.23\" cy=\"458.375\" r=\"14\"/>\n",
       "<circle clip-path=\"url(#clip0102)\" style=\"fill:#000000; stroke:none; fill-opacity:1\" cx=\"1189.28\" cy=\"630.605\" r=\"18\"/>\n",
       "<circle clip-path=\"url(#clip0102)\" style=\"fill:#009af9; stroke:none; fill-opacity:1\" cx=\"1189.28\" cy=\"630.605\" r=\"14\"/>\n",
       "<circle clip-path=\"url(#clip0102)\" style=\"fill:#000000; stroke:none; fill-opacity:1\" cx=\"977.513\" cy=\"671.421\" r=\"18\"/>\n",
       "<circle clip-path=\"url(#clip0102)\" style=\"fill:#009af9; stroke:none; fill-opacity:1\" cx=\"977.513\" cy=\"671.421\" r=\"14\"/>\n",
       "<circle clip-path=\"url(#clip0102)\" style=\"fill:#000000; stroke:none; fill-opacity:1\" cx=\"1523.66\" cy=\"687.786\" r=\"18\"/>\n",
       "<circle clip-path=\"url(#clip0102)\" style=\"fill:#009af9; stroke:none; fill-opacity:1\" cx=\"1523.66\" cy=\"687.786\" r=\"14\"/>\n",
       "<circle clip-path=\"url(#clip0102)\" style=\"fill:#000000; stroke:none; fill-opacity:1\" cx=\"1187.2\" cy=\"182.382\" r=\"18\"/>\n",
       "<circle clip-path=\"url(#clip0102)\" style=\"fill:#009af9; stroke:none; fill-opacity:1\" cx=\"1187.2\" cy=\"182.382\" r=\"14\"/>\n",
       "<circle clip-path=\"url(#clip0102)\" style=\"fill:#000000; stroke:none; fill-opacity:1\" cx=\"973.4\" cy=\"770.838\" r=\"18\"/>\n",
       "<circle clip-path=\"url(#clip0102)\" style=\"fill:#009af9; stroke:none; fill-opacity:1\" cx=\"973.4\" cy=\"770.838\" r=\"14\"/>\n",
       "<circle clip-path=\"url(#clip0102)\" style=\"fill:#000000; stroke:none; fill-opacity:1\" cx=\"1516.35\" cy=\"510.968\" r=\"18\"/>\n",
       "<circle clip-path=\"url(#clip0102)\" style=\"fill:#009af9; stroke:none; fill-opacity:1\" cx=\"1516.35\" cy=\"510.968\" r=\"14\"/>\n",
       "<circle clip-path=\"url(#clip0102)\" style=\"fill:#000000; stroke:none; fill-opacity:1\" cx=\"984.773\" cy=\"723.56\" r=\"18\"/>\n",
       "<circle clip-path=\"url(#clip0102)\" style=\"fill:#009af9; stroke:none; fill-opacity:1\" cx=\"984.773\" cy=\"723.56\" r=\"14\"/>\n",
       "<circle clip-path=\"url(#clip0102)\" style=\"fill:#000000; stroke:none; fill-opacity:1\" cx=\"1088.71\" cy=\"586.185\" r=\"18\"/>\n",
       "<circle clip-path=\"url(#clip0102)\" style=\"fill:#009af9; stroke:none; fill-opacity:1\" cx=\"1088.71\" cy=\"586.185\" r=\"14\"/>\n",
       "<circle clip-path=\"url(#clip0102)\" style=\"fill:#000000; stroke:none; fill-opacity:1\" cx=\"1411.13\" cy=\"534.118\" r=\"18\"/>\n",
       "<circle clip-path=\"url(#clip0102)\" style=\"fill:#009af9; stroke:none; fill-opacity:1\" cx=\"1411.13\" cy=\"534.118\" r=\"14\"/>\n",
       "<circle clip-path=\"url(#clip0102)\" style=\"fill:#000000; stroke:none; fill-opacity:1\" cx=\"812.026\" cy=\"492.453\" r=\"18\"/>\n",
       "<circle clip-path=\"url(#clip0102)\" style=\"fill:#009af9; stroke:none; fill-opacity:1\" cx=\"812.026\" cy=\"492.453\" r=\"14\"/>\n",
       "<circle clip-path=\"url(#clip0102)\" style=\"fill:#000000; stroke:none; fill-opacity:1\" cx=\"1014.68\" cy=\"424.615\" r=\"18\"/>\n",
       "<circle clip-path=\"url(#clip0102)\" style=\"fill:#009af9; stroke:none; fill-opacity:1\" cx=\"1014.68\" cy=\"424.615\" r=\"14\"/>\n",
       "<circle clip-path=\"url(#clip0102)\" style=\"fill:#000000; stroke:none; fill-opacity:1\" cx=\"1241.79\" cy=\"375.031\" r=\"18\"/>\n",
       "<circle clip-path=\"url(#clip0102)\" style=\"fill:#009af9; stroke:none; fill-opacity:1\" cx=\"1241.79\" cy=\"375.031\" r=\"14\"/>\n",
       "<circle clip-path=\"url(#clip0102)\" style=\"fill:#000000; stroke:none; fill-opacity:1\" cx=\"1031.32\" cy=\"334.597\" r=\"18\"/>\n",
       "<circle clip-path=\"url(#clip0102)\" style=\"fill:#009af9; stroke:none; fill-opacity:1\" cx=\"1031.32\" cy=\"334.597\" r=\"14\"/>\n",
       "<circle clip-path=\"url(#clip0102)\" style=\"fill:#000000; stroke:none; fill-opacity:1\" cx=\"1090.3\" cy=\"903.866\" r=\"18\"/>\n",
       "<circle clip-path=\"url(#clip0102)\" style=\"fill:#009af9; stroke:none; fill-opacity:1\" cx=\"1090.3\" cy=\"903.866\" r=\"14\"/>\n",
       "<circle clip-path=\"url(#clip0102)\" style=\"fill:#000000; stroke:none; fill-opacity:1\" cx=\"314.282\" cy=\"877.457\" r=\"18\"/>\n",
       "<circle clip-path=\"url(#clip0102)\" style=\"fill:#009af9; stroke:none; fill-opacity:1\" cx=\"314.282\" cy=\"877.457\" r=\"14\"/>\n",
       "<circle clip-path=\"url(#clip0102)\" style=\"fill:#000000; stroke:none; fill-opacity:1\" cx=\"1731.83\" cy=\"336.509\" r=\"18\"/>\n",
       "<circle clip-path=\"url(#clip0102)\" style=\"fill:#009af9; stroke:none; fill-opacity:1\" cx=\"1731.83\" cy=\"336.509\" r=\"14\"/>\n",
       "<circle clip-path=\"url(#clip0102)\" style=\"fill:#000000; stroke:none; fill-opacity:1\" cx=\"607.668\" cy=\"442.069\" r=\"18\"/>\n",
       "<circle clip-path=\"url(#clip0102)\" style=\"fill:#009af9; stroke:none; fill-opacity:1\" cx=\"607.668\" cy=\"442.069\" r=\"14\"/>\n",
       "<circle clip-path=\"url(#clip0102)\" style=\"fill:#000000; stroke:none; fill-opacity:1\" cx=\"872.606\" cy=\"442.287\" r=\"18\"/>\n",
       "<circle clip-path=\"url(#clip0102)\" style=\"fill:#009af9; stroke:none; fill-opacity:1\" cx=\"872.606\" cy=\"442.287\" r=\"14\"/>\n",
       "<circle clip-path=\"url(#clip0102)\" style=\"fill:#000000; stroke:none; fill-opacity:1\" cx=\"1065.57\" cy=\"622.287\" r=\"18\"/>\n",
       "<circle clip-path=\"url(#clip0102)\" style=\"fill:#009af9; stroke:none; fill-opacity:1\" cx=\"1065.57\" cy=\"622.287\" r=\"14\"/>\n",
       "<circle clip-path=\"url(#clip0102)\" style=\"fill:#000000; stroke:none; fill-opacity:1\" cx=\"628.037\" cy=\"620.759\" r=\"18\"/>\n",
       "<circle clip-path=\"url(#clip0102)\" style=\"fill:#009af9; stroke:none; fill-opacity:1\" cx=\"628.037\" cy=\"620.759\" r=\"14\"/>\n",
       "<circle clip-path=\"url(#clip0102)\" style=\"fill:#000000; stroke:none; fill-opacity:1\" cx=\"1500.77\" cy=\"615.146\" r=\"18\"/>\n",
       "<circle clip-path=\"url(#clip0102)\" style=\"fill:#009af9; stroke:none; fill-opacity:1\" cx=\"1500.77\" cy=\"615.146\" r=\"14\"/>\n",
       "<circle clip-path=\"url(#clip0102)\" style=\"fill:#000000; stroke:none; fill-opacity:1\" cx=\"590.63\" cy=\"564.486\" r=\"18\"/>\n",
       "<circle clip-path=\"url(#clip0102)\" style=\"fill:#009af9; stroke:none; fill-opacity:1\" cx=\"590.63\" cy=\"564.486\" r=\"14\"/>\n",
       "<circle clip-path=\"url(#clip0102)\" style=\"fill:#000000; stroke:none; fill-opacity:1\" cx=\"1281.59\" cy=\"436.621\" r=\"18\"/>\n",
       "<circle clip-path=\"url(#clip0102)\" style=\"fill:#009af9; stroke:none; fill-opacity:1\" cx=\"1281.59\" cy=\"436.621\" r=\"14\"/>\n",
       "<circle clip-path=\"url(#clip0102)\" style=\"fill:#000000; stroke:none; fill-opacity:1\" cx=\"858.473\" cy=\"658.079\" r=\"18\"/>\n",
       "<circle clip-path=\"url(#clip0102)\" style=\"fill:#009af9; stroke:none; fill-opacity:1\" cx=\"858.473\" cy=\"658.079\" r=\"14\"/>\n",
       "<circle clip-path=\"url(#clip0102)\" style=\"fill:#000000; stroke:none; fill-opacity:1\" cx=\"1247.44\" cy=\"466.721\" r=\"18\"/>\n",
       "<circle clip-path=\"url(#clip0102)\" style=\"fill:#009af9; stroke:none; fill-opacity:1\" cx=\"1247.44\" cy=\"466.721\" r=\"14\"/>\n",
       "<circle clip-path=\"url(#clip0102)\" style=\"fill:#000000; stroke:none; fill-opacity:1\" cx=\"1432.29\" cy=\"88.4582\" r=\"18\"/>\n",
       "<circle clip-path=\"url(#clip0102)\" style=\"fill:#009af9; stroke:none; fill-opacity:1\" cx=\"1432.29\" cy=\"88.4582\" r=\"14\"/>\n",
       "<circle clip-path=\"url(#clip0102)\" style=\"fill:#000000; stroke:none; fill-opacity:1\" cx=\"648.844\" cy=\"209.485\" r=\"18\"/>\n",
       "<circle clip-path=\"url(#clip0102)\" style=\"fill:#009af9; stroke:none; fill-opacity:1\" cx=\"648.844\" cy=\"209.485\" r=\"14\"/>\n",
       "<circle clip-path=\"url(#clip0102)\" style=\"fill:#000000; stroke:none; fill-opacity:1\" cx=\"906.436\" cy=\"803.372\" r=\"18\"/>\n",
       "<circle clip-path=\"url(#clip0102)\" style=\"fill:#009af9; stroke:none; fill-opacity:1\" cx=\"906.436\" cy=\"803.372\" r=\"14\"/>\n",
       "<circle clip-path=\"url(#clip0102)\" style=\"fill:#000000; stroke:none; fill-opacity:1\" cx=\"692.327\" cy=\"832.8\" r=\"18\"/>\n",
       "<circle clip-path=\"url(#clip0102)\" style=\"fill:#009af9; stroke:none; fill-opacity:1\" cx=\"692.327\" cy=\"832.8\" r=\"14\"/>\n",
       "<circle clip-path=\"url(#clip0102)\" style=\"fill:#000000; stroke:none; fill-opacity:1\" cx=\"1175.62\" cy=\"437.927\" r=\"18\"/>\n",
       "<circle clip-path=\"url(#clip0102)\" style=\"fill:#009af9; stroke:none; fill-opacity:1\" cx=\"1175.62\" cy=\"437.927\" r=\"14\"/>\n",
       "<circle clip-path=\"url(#clip0102)\" style=\"fill:#000000; stroke:none; fill-opacity:1\" cx=\"1130.87\" cy=\"440.39\" r=\"18\"/>\n",
       "<circle clip-path=\"url(#clip0102)\" style=\"fill:#009af9; stroke:none; fill-opacity:1\" cx=\"1130.87\" cy=\"440.39\" r=\"14\"/>\n",
       "<circle clip-path=\"url(#clip0102)\" style=\"fill:#000000; stroke:none; fill-opacity:1\" cx=\"1330.94\" cy=\"560.224\" r=\"18\"/>\n",
       "<circle clip-path=\"url(#clip0102)\" style=\"fill:#009af9; stroke:none; fill-opacity:1\" cx=\"1330.94\" cy=\"560.224\" r=\"14\"/>\n",
       "<circle clip-path=\"url(#clip0102)\" style=\"fill:#000000; stroke:none; fill-opacity:1\" cx=\"689.272\" cy=\"406.318\" r=\"18\"/>\n",
       "<circle clip-path=\"url(#clip0102)\" style=\"fill:#009af9; stroke:none; fill-opacity:1\" cx=\"689.272\" cy=\"406.318\" r=\"14\"/>\n",
       "<circle clip-path=\"url(#clip0102)\" style=\"fill:#000000; stroke:none; fill-opacity:1\" cx=\"1215.56\" cy=\"597.279\" r=\"18\"/>\n",
       "<circle clip-path=\"url(#clip0102)\" style=\"fill:#009af9; stroke:none; fill-opacity:1\" cx=\"1215.56\" cy=\"597.279\" r=\"14\"/>\n",
       "<circle clip-path=\"url(#clip0102)\" style=\"fill:#000000; stroke:none; fill-opacity:1\" cx=\"1041.56\" cy=\"283.348\" r=\"18\"/>\n",
       "<circle clip-path=\"url(#clip0102)\" style=\"fill:#009af9; stroke:none; fill-opacity:1\" cx=\"1041.56\" cy=\"283.348\" r=\"14\"/>\n",
       "<polygon clip-path=\"url(#clip0100)\" points=\"\n",
       "1958.43,251.724 2249.26,251.724 2249.26,130.764 1958.43,130.764 \n",
       "  \" fill=\"#ffffff\" fill-rule=\"evenodd\" fill-opacity=\"1\"/>\n",
       "<polyline clip-path=\"url(#clip0100)\" style=\"stroke:#000000; stroke-width:4; stroke-opacity:1; fill:none\" points=\"\n",
       "  1958.43,251.724 2249.26,251.724 2249.26,130.764 1958.43,130.764 1958.43,251.724 \n",
       "  \"/>\n",
       "<circle clip-path=\"url(#clip0100)\" style=\"fill:#000000; stroke:none; fill-opacity:1\" cx=\"2066.43\" cy=\"191.244\" r=\"25\"/>\n",
       "<circle clip-path=\"url(#clip0100)\" style=\"fill:#d968a2; stroke:none; fill-opacity:1\" cx=\"2066.43\" cy=\"191.244\" r=\"21\"/>\n",
       "<g clip-path=\"url(#clip0100)\">\n",
       "<text style=\"fill:#000000; fill-opacity:1; font-family:Arial,Helvetica Neue,Helvetica,sans-serif; font-size:48px; text-anchor:start;\" transform=\"rotate(0, 2150.43, 208.744)\" x=\"2150.43\" y=\"208.744\">y1</text>\n",
       "</g>\n",
       "</svg>\n"
      ]
     },
     "execution_count": 136,
     "metadata": {},
     "output_type": "execute_result"
    }
   ],
   "source": [
    "# artificial data\n",
    "X = [randn(50, 2); randn(50, 2) .+ [-1.0 2.4]];\n",
    "y = [i <= 50 ? 0 : 1 for i in 1:100];\n",
    "n = length(y);\n",
    "\n",
    "scatter(X[:,1], X[:,2], color=y)"
   ]
  },
  {
   "cell_type": "code",
   "execution_count": 147,
   "metadata": {
    "slideshow": {
     "slide_type": "subslide"
    }
   },
   "outputs": [
    {
     "data": {
      "text/plain": [
       "Ls (generic function with 1 method)"
      ]
     },
     "execution_count": 147,
     "metadata": {},
     "output_type": "execute_result"
    }
   ],
   "source": [
    "σ(t) = 1.0 / (1.0 + exp(t))\n",
    "f(x, w) = σ(sum(x .* w))\n",
    "L(w; X=X, y=y) = sum(- y .* log.(σ.(X * w)) - (1.0 .- y) .* log.(σ.(1. .- X * w)))"
   ]
  },
  {
   "cell_type": "code",
   "execution_count": 151,
   "metadata": {
    "slideshow": {
     "slide_type": "fragment"
    }
   },
   "outputs": [
    {
     "data": {
      "text/plain": [
       "103.43560302829401"
      ]
     },
     "execution_count": 151,
     "metadata": {},
     "output_type": "execute_result"
    }
   ],
   "source": [
    "w = [0.1, 0.1]\n",
    "L(w)"
   ]
  },
  {
   "cell_type": "markdown",
   "metadata": {
    "slideshow": {
     "slide_type": "fragment"
    }
   },
   "source": [
    "**Assignments**\n",
    "\n",
    "1. Compute the gradient of $L$ wrt. $\\mathbf{w}$ using\n",
    "    - numerical method\n",
    "    - forward differentiation\n",
    "    - backward differentiation\n",
    "2. (optional) Implement a simple gradient descent to find  $\\mathbf{w}^\\star$"
   ]
  },
  {
   "cell_type": "markdown",
   "metadata": {},
   "source": [
    "## Differentiating ODE"
   ]
  },
  {
   "cell_type": "code",
   "execution_count": 169,
   "metadata": {},
   "outputs": [
    {
     "data": {
      "text/plain": [
       "eulersolve (generic function with 2 methods)"
      ]
     },
     "execution_count": 169,
     "metadata": {},
     "output_type": "execute_result"
    }
   ],
   "source": [
    "function eulersolve(fun, u0, (t0, tend), p, stepsize=0.1)\n",
    "    u = copy(u0)\n",
    "    du = similar(u)\n",
    "    for t in t0:stepsize:tend\n",
    "        fun(du, u, p, t)\n",
    "        u .+= stepsize * du\n",
    "    end\n",
    "    return u\n",
    "end"
   ]
  },
  {
   "cell_type": "code",
   "execution_count": null,
   "metadata": {},
   "outputs": [],
   "source": []
  }
 ],
 "metadata": {
  "@webio": {
   "lastCommId": null,
   "lastKernelId": null
  },
  "celltoolbar": "Slideshow",
  "kernelspec": {
   "display_name": "Julia 1.1.0",
   "language": "julia",
   "name": "julia-1.1"
  },
  "language_info": {
   "file_extension": ".jl",
   "mimetype": "application/julia",
   "name": "julia",
   "version": "1.1.0"
  }
 },
 "nbformat": 4,
 "nbformat_minor": 2
}
